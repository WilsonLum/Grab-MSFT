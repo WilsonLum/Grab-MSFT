{
 "cells": [
  {
   "cell_type": "markdown",
   "metadata": {},
   "source": [
    "# Grab-Microsoft Challenge \n",
    "## Traffic Management\n",
    "\n",
    "- geohash6: geohash is a public domain geocoding system which encodes a geographic location into a short string of letters and digits with arbitrary precision. You are free to use any geohash library to encode/decode the geohashes into latitude and longitude or vice versa.(Examples:https://github.com/hkwi/python-geohash)\n",
    "- day: the value indicates the sequential order and not a particular day of the month\n",
    "- timestamp: start time of 15-minute intervals in the following format: <hour>:<minute>, where hour ranges from 0 to 23 and minute is either one of (0, 15, 30, 45)\n",
    "- demand: aggregated demand normalised to be in the range [0,1]\n",
    "    \n",
    "## Problem Statements:\n",
    "- Which areas have high / low traffic demand?\n",
    "- How does regional traffic demand change according to day / time?\n",
    "- Forecast the travel demand for next 15min / 1hour and predict areas with high travel demand"
   ]
  },
  {
   "cell_type": "markdown",
   "metadata": {},
   "source": [
    "### This is train LSTM model "
   ]
  },
  {
   "cell_type": "markdown",
   "metadata": {},
   "source": [
    "#### Import python library"
   ]
  },
  {
   "cell_type": "code",
   "execution_count": 1,
   "metadata": {},
   "outputs": [],
   "source": [
    "import numpy as np\n",
    "from numpy import array\n",
    "import pandas as pd\n",
    "import matplotlib.pyplot as plt\n",
    "\n",
    "# plot matplotlib graph\n",
    "%matplotlib inline\n",
    "\n",
    "#Import models from scikit learn module:\n",
    "from sklearn.metrics import mean_squared_error\n",
    "from tensorflow.keras.models import Sequential, load_model\n",
    "from tensorflow.keras.layers import Dense, Flatten, LSTM, BatchNormalization\n",
    "from tensorflow.keras import regularizers\n",
    "from sklearn.model_selection import train_test_split\n",
    "\n",
    "import h5py\n",
    "import sklearn.metrics as metrics\n",
    "from tensorflow.keras.callbacks import ModelCheckpoint,CSVLogger\n",
    "from tensorflow.keras.models import Model\n",
    "from tensorflow.keras.layers import Input\n",
    "from tensorflow.keras.layers import LSTM\n",
    "from tensorflow.keras.utils import plot_model \n",
    "\n",
    "import pickle\n",
    "import joblib\n"
   ]
  },
  {
   "cell_type": "code",
   "execution_count": 2,
   "metadata": {},
   "outputs": [],
   "source": [
    "import os \n",
    "os.environ[\"CUDA_VISIBLE_DEVICES\"]=\"0\""
   ]
  },
  {
   "cell_type": "markdown",
   "metadata": {},
   "source": [
    "### Define Variables"
   ]
  },
  {
   "cell_type": "code",
   "execution_count": 3,
   "metadata": {},
   "outputs": [],
   "source": [
    "seed = 7\n",
    "np.random.seed(seed)\n",
    "modelname   = 'LSTM2-3in3out_sorted'\n",
    "batch_size  = 8192\n",
    "no_of_epoch = 20\n",
    "no_of_train = 0.8\n",
    "\n",
    "# choose a number of time steps\n",
    "n_steps_in, predict_next_no_of_output = 3, 3"
   ]
  },
  {
   "cell_type": "markdown",
   "metadata": {},
   "source": [
    "### Define Function"
   ]
  },
  {
   "cell_type": "code",
   "execution_count": 4,
   "metadata": {},
   "outputs": [],
   "source": [
    "def createModel(): \n",
    "    inputs  = Input(shape=(X_train.shape[1],X_train.shape[2]))\n",
    "    y = LSTM(units=64, return_sequences=True, dropout=0.2, recurrent_dropout=0.2)(inputs)\n",
    "    y = BatchNormalization()(y)\n",
    "    y = LSTM(128, return_sequences=True, dropout=0.3, recurrent_dropout=0.3)(y)\n",
    "    y = BatchNormalization()(y)\n",
    "    y = LSTM(64, return_sequences=True, dropout=0.4,recurrent_dropout=0.4)(y)\n",
    "    y = BatchNormalization()(y)\n",
    "    y = LSTM(32, dropout=0.5,recurrent_dropout=0.5)(y)\n",
    "    y = BatchNormalization()(y)\n",
    "    y = Dense(predict_next_no_of_output, activation='sigmoid')(y)\n",
    "  \n",
    "    model = Model(inputs=inputs,outputs=y)\n",
    "    model.compile(loss='mse',optimizer='adam', metrics=['mse', 'mae'])\n",
    "    return model\n",
    "\n",
    "# split a multivariate sequence into samples\n",
    "def split_sequences(sequences, n_steps_in, n_steps_out):\n",
    "    X, y = list(), list()\n",
    "    for i in range(len(sequences)):\n",
    "        # find the end of this pattern\n",
    "        end_ix = i + n_steps_in\n",
    "        out_end_ix = end_ix + n_steps_out-1\n",
    "        # check if we are beyond the dataset\n",
    "        if out_end_ix > len(sequences):\n",
    "            break\n",
    "        # gather input and output parts of the pattern\n",
    "        seq_x, seq_y = sequences[i:end_ix, :-1], sequences[end_ix-1:out_end_ix, -1]\n",
    "        X.append(seq_x)\n",
    "        y.append(seq_y)\n",
    "    return array(X), array(y)"
   ]
  },
  {
   "cell_type": "markdown",
   "metadata": {},
   "source": [
    "#### Reading from Preprocessed dataset"
   ]
  },
  {
   "cell_type": "code",
   "execution_count": 5,
   "metadata": {},
   "outputs": [
    {
     "data": {
      "text/html": [
       "<div>\n",
       "<style scoped>\n",
       "    .dataframe tbody tr th:only-of-type {\n",
       "        vertical-align: middle;\n",
       "    }\n",
       "\n",
       "    .dataframe tbody tr th {\n",
       "        vertical-align: top;\n",
       "    }\n",
       "\n",
       "    .dataframe thead th {\n",
       "        text-align: right;\n",
       "    }\n",
       "</style>\n",
       "<table border=\"1\" class=\"dataframe\">\n",
       "  <thead>\n",
       "    <tr style=\"text-align: right;\">\n",
       "      <th></th>\n",
       "      <th>day</th>\n",
       "      <th>hour</th>\n",
       "      <th>min</th>\n",
       "      <th>lat</th>\n",
       "      <th>long</th>\n",
       "      <th>demand</th>\n",
       "    </tr>\n",
       "  </thead>\n",
       "  <tbody>\n",
       "    <tr>\n",
       "      <th>0</th>\n",
       "      <td>0.0</td>\n",
       "      <td>0.0</td>\n",
       "      <td>0.0</td>\n",
       "      <td>0.666667</td>\n",
       "      <td>0.828571</td>\n",
       "      <td>0.021212</td>\n",
       "    </tr>\n",
       "    <tr>\n",
       "      <th>1</th>\n",
       "      <td>0.0</td>\n",
       "      <td>0.0</td>\n",
       "      <td>0.0</td>\n",
       "      <td>0.933333</td>\n",
       "      <td>0.857143</td>\n",
       "      <td>0.013217</td>\n",
       "    </tr>\n",
       "    <tr>\n",
       "      <th>2</th>\n",
       "      <td>0.0</td>\n",
       "      <td>0.0</td>\n",
       "      <td>0.0</td>\n",
       "      <td>0.577778</td>\n",
       "      <td>0.200000</td>\n",
       "      <td>0.157956</td>\n",
       "    </tr>\n",
       "    <tr>\n",
       "      <th>3</th>\n",
       "      <td>0.0</td>\n",
       "      <td>0.0</td>\n",
       "      <td>0.0</td>\n",
       "      <td>0.822222</td>\n",
       "      <td>0.371429</td>\n",
       "      <td>0.001262</td>\n",
       "    </tr>\n",
       "    <tr>\n",
       "      <th>4</th>\n",
       "      <td>0.0</td>\n",
       "      <td>0.0</td>\n",
       "      <td>0.0</td>\n",
       "      <td>0.644444</td>\n",
       "      <td>0.085714</td>\n",
       "      <td>0.032721</td>\n",
       "    </tr>\n",
       "    <tr>\n",
       "      <th>...</th>\n",
       "      <td>...</td>\n",
       "      <td>...</td>\n",
       "      <td>...</td>\n",
       "      <td>...</td>\n",
       "      <td>...</td>\n",
       "      <td>...</td>\n",
       "    </tr>\n",
       "    <tr>\n",
       "      <th>1048570</th>\n",
       "      <td>1.0</td>\n",
       "      <td>1.0</td>\n",
       "      <td>1.0</td>\n",
       "      <td>0.533333</td>\n",
       "      <td>0.200000</td>\n",
       "      <td>0.041818</td>\n",
       "    </tr>\n",
       "    <tr>\n",
       "      <th>1048571</th>\n",
       "      <td>1.0</td>\n",
       "      <td>1.0</td>\n",
       "      <td>1.0</td>\n",
       "      <td>0.488889</td>\n",
       "      <td>0.485714</td>\n",
       "      <td>0.061371</td>\n",
       "    </tr>\n",
       "    <tr>\n",
       "      <th>1048572</th>\n",
       "      <td>1.0</td>\n",
       "      <td>1.0</td>\n",
       "      <td>1.0</td>\n",
       "      <td>0.644444</td>\n",
       "      <td>0.485714</td>\n",
       "      <td>0.005397</td>\n",
       "    </tr>\n",
       "    <tr>\n",
       "      <th>1048573</th>\n",
       "      <td>1.0</td>\n",
       "      <td>1.0</td>\n",
       "      <td>1.0</td>\n",
       "      <td>0.222222</td>\n",
       "      <td>0.542857</td>\n",
       "      <td>0.001453</td>\n",
       "    </tr>\n",
       "    <tr>\n",
       "      <th>1048574</th>\n",
       "      <td>1.0</td>\n",
       "      <td>1.0</td>\n",
       "      <td>1.0</td>\n",
       "      <td>0.444444</td>\n",
       "      <td>0.742857</td>\n",
       "      <td>0.141996</td>\n",
       "    </tr>\n",
       "  </tbody>\n",
       "</table>\n",
       "<p>1048575 rows × 6 columns</p>\n",
       "</div>"
      ],
      "text/plain": [
       "         day  hour  min       lat      long    demand\n",
       "0        0.0   0.0  0.0  0.666667  0.828571  0.021212\n",
       "1        0.0   0.0  0.0  0.933333  0.857143  0.013217\n",
       "2        0.0   0.0  0.0  0.577778  0.200000  0.157956\n",
       "3        0.0   0.0  0.0  0.822222  0.371429  0.001262\n",
       "4        0.0   0.0  0.0  0.644444  0.085714  0.032721\n",
       "...      ...   ...  ...       ...       ...       ...\n",
       "1048570  1.0   1.0  1.0  0.533333  0.200000  0.041818\n",
       "1048571  1.0   1.0  1.0  0.488889  0.485714  0.061371\n",
       "1048572  1.0   1.0  1.0  0.644444  0.485714  0.005397\n",
       "1048573  1.0   1.0  1.0  0.222222  0.542857  0.001453\n",
       "1048574  1.0   1.0  1.0  0.444444  0.742857  0.141996\n",
       "\n",
       "[1048575 rows x 6 columns]"
      ]
     },
     "execution_count": 5,
     "metadata": {},
     "output_type": "execute_result"
    }
   ],
   "source": [
    "xls  = pd.ExcelFile('data/Dataset_feature_sorted.xlsx')\n",
    "data = pd.read_excel(xls, 'TrafficMgmt')\n",
    "data"
   ]
  },
  {
   "cell_type": "code",
   "execution_count": 6,
   "metadata": {},
   "outputs": [],
   "source": [
    "predictor_var = ['day', 'hour', 'min', 'lat', 'long']\n",
    "outcome_var   = 'demand'\n",
    "no_of_features = len(predictor_var)"
   ]
  },
  {
   "cell_type": "code",
   "execution_count": 7,
   "metadata": {},
   "outputs": [
    {
     "data": {
      "text/html": [
       "<div>\n",
       "<style scoped>\n",
       "    .dataframe tbody tr th:only-of-type {\n",
       "        vertical-align: middle;\n",
       "    }\n",
       "\n",
       "    .dataframe tbody tr th {\n",
       "        vertical-align: top;\n",
       "    }\n",
       "\n",
       "    .dataframe thead th {\n",
       "        text-align: right;\n",
       "    }\n",
       "</style>\n",
       "<table border=\"1\" class=\"dataframe\">\n",
       "  <thead>\n",
       "    <tr style=\"text-align: right;\">\n",
       "      <th></th>\n",
       "      <th>day</th>\n",
       "      <th>hour</th>\n",
       "      <th>min</th>\n",
       "      <th>lat</th>\n",
       "      <th>long</th>\n",
       "      <th>demand</th>\n",
       "    </tr>\n",
       "  </thead>\n",
       "  <tbody>\n",
       "    <tr>\n",
       "      <th>0</th>\n",
       "      <td>0.0</td>\n",
       "      <td>0.0</td>\n",
       "      <td>0.0</td>\n",
       "      <td>0.666667</td>\n",
       "      <td>0.828571</td>\n",
       "      <td>0.021212</td>\n",
       "    </tr>\n",
       "    <tr>\n",
       "      <th>1</th>\n",
       "      <td>0.0</td>\n",
       "      <td>0.0</td>\n",
       "      <td>0.0</td>\n",
       "      <td>0.933333</td>\n",
       "      <td>0.857143</td>\n",
       "      <td>0.013217</td>\n",
       "    </tr>\n",
       "    <tr>\n",
       "      <th>2</th>\n",
       "      <td>0.0</td>\n",
       "      <td>0.0</td>\n",
       "      <td>0.0</td>\n",
       "      <td>0.577778</td>\n",
       "      <td>0.200000</td>\n",
       "      <td>0.157956</td>\n",
       "    </tr>\n",
       "    <tr>\n",
       "      <th>3</th>\n",
       "      <td>0.0</td>\n",
       "      <td>0.0</td>\n",
       "      <td>0.0</td>\n",
       "      <td>0.822222</td>\n",
       "      <td>0.371429</td>\n",
       "      <td>0.001262</td>\n",
       "    </tr>\n",
       "    <tr>\n",
       "      <th>4</th>\n",
       "      <td>0.0</td>\n",
       "      <td>0.0</td>\n",
       "      <td>0.0</td>\n",
       "      <td>0.644444</td>\n",
       "      <td>0.085714</td>\n",
       "      <td>0.032721</td>\n",
       "    </tr>\n",
       "    <tr>\n",
       "      <th>...</th>\n",
       "      <td>...</td>\n",
       "      <td>...</td>\n",
       "      <td>...</td>\n",
       "      <td>...</td>\n",
       "      <td>...</td>\n",
       "      <td>...</td>\n",
       "    </tr>\n",
       "    <tr>\n",
       "      <th>1048570</th>\n",
       "      <td>1.0</td>\n",
       "      <td>1.0</td>\n",
       "      <td>1.0</td>\n",
       "      <td>0.533333</td>\n",
       "      <td>0.200000</td>\n",
       "      <td>0.041818</td>\n",
       "    </tr>\n",
       "    <tr>\n",
       "      <th>1048571</th>\n",
       "      <td>1.0</td>\n",
       "      <td>1.0</td>\n",
       "      <td>1.0</td>\n",
       "      <td>0.488889</td>\n",
       "      <td>0.485714</td>\n",
       "      <td>0.061371</td>\n",
       "    </tr>\n",
       "    <tr>\n",
       "      <th>1048572</th>\n",
       "      <td>1.0</td>\n",
       "      <td>1.0</td>\n",
       "      <td>1.0</td>\n",
       "      <td>0.644444</td>\n",
       "      <td>0.485714</td>\n",
       "      <td>0.005397</td>\n",
       "    </tr>\n",
       "    <tr>\n",
       "      <th>1048573</th>\n",
       "      <td>1.0</td>\n",
       "      <td>1.0</td>\n",
       "      <td>1.0</td>\n",
       "      <td>0.222222</td>\n",
       "      <td>0.542857</td>\n",
       "      <td>0.001453</td>\n",
       "    </tr>\n",
       "    <tr>\n",
       "      <th>1048574</th>\n",
       "      <td>1.0</td>\n",
       "      <td>1.0</td>\n",
       "      <td>1.0</td>\n",
       "      <td>0.444444</td>\n",
       "      <td>0.742857</td>\n",
       "      <td>0.141996</td>\n",
       "    </tr>\n",
       "  </tbody>\n",
       "</table>\n",
       "<p>1048575 rows × 6 columns</p>\n",
       "</div>"
      ],
      "text/plain": [
       "         day  hour  min       lat      long    demand\n",
       "0        0.0   0.0  0.0  0.666667  0.828571  0.021212\n",
       "1        0.0   0.0  0.0  0.933333  0.857143  0.013217\n",
       "2        0.0   0.0  0.0  0.577778  0.200000  0.157956\n",
       "3        0.0   0.0  0.0  0.822222  0.371429  0.001262\n",
       "4        0.0   0.0  0.0  0.644444  0.085714  0.032721\n",
       "...      ...   ...  ...       ...       ...       ...\n",
       "1048570  1.0   1.0  1.0  0.533333  0.200000  0.041818\n",
       "1048571  1.0   1.0  1.0  0.488889  0.485714  0.061371\n",
       "1048572  1.0   1.0  1.0  0.644444  0.485714  0.005397\n",
       "1048573  1.0   1.0  1.0  0.222222  0.542857  0.001453\n",
       "1048574  1.0   1.0  1.0  0.444444  0.742857  0.141996\n",
       "\n",
       "[1048575 rows x 6 columns]"
      ]
     },
     "execution_count": 7,
     "metadata": {},
     "output_type": "execute_result"
    }
   ],
   "source": [
    "data = data[['day', 'hour', 'min', 'lat', 'long','demand']]\n",
    "data"
   ]
  },
  {
   "cell_type": "markdown",
   "metadata": {},
   "source": [
    "#### Prepare training & test data\n",
    "- Since this is a time series dataset, we can try using LSTM "
   ]
  },
  {
   "cell_type": "code",
   "execution_count": 8,
   "metadata": {},
   "outputs": [
    {
     "data": {
      "text/plain": [
       "array([[0.        , 0.        , 0.        , 0.66666667, 0.82857143,\n",
       "        0.02121241],\n",
       "       [0.        , 0.        , 0.        , 0.93333333, 0.85714286,\n",
       "        0.01321673],\n",
       "       [0.        , 0.        , 0.        , 0.57777778, 0.2       ,\n",
       "        0.15795641],\n",
       "       ...,\n",
       "       [1.        , 1.        , 1.        , 0.64444444, 0.48571429,\n",
       "        0.00539677],\n",
       "       [1.        , 1.        , 1.        , 0.22222222, 0.54285714,\n",
       "        0.00145314],\n",
       "       [1.        , 1.        , 1.        , 0.44444444, 0.74285714,\n",
       "        0.14199572]])"
      ]
     },
     "execution_count": 8,
     "metadata": {},
     "output_type": "execute_result"
    }
   ],
   "source": [
    "dataset = data.to_numpy()\n",
    "dataset"
   ]
  },
  {
   "cell_type": "code",
   "execution_count": 9,
   "metadata": {},
   "outputs": [
    {
     "name": "stdout",
     "output_type": "stream",
     "text": [
      "(1048571, 3, 5) (1048571, 3)\n"
     ]
    }
   ],
   "source": [
    "# covert into input/output\n",
    "X, y = split_sequences(dataset, n_steps_in, predict_next_no_of_output)\n",
    "print(X.shape, y.shape)"
   ]
  },
  {
   "cell_type": "code",
   "execution_count": 10,
   "metadata": {},
   "outputs": [
    {
     "name": "stdout",
     "output_type": "stream",
     "text": [
      "[[0.         0.         0.         0.66666667 0.82857143]\n",
      " [0.         0.         0.         0.93333333 0.85714286]\n",
      " [0.         0.         0.         0.57777778 0.2       ]] [0.15795641 0.00126166 0.03272106]\n",
      "[[0.         0.         0.         0.93333333 0.85714286]\n",
      " [0.         0.         0.         0.57777778 0.2       ]\n",
      " [0.         0.         0.         0.82222222 0.37142857]] [0.00126166 0.03272106 0.03925688]\n",
      "[[0.         0.         0.         0.57777778 0.2       ]\n",
      " [0.         0.         0.         0.82222222 0.37142857]\n",
      " [0.         0.         0.         0.64444444 0.08571429]] [0.03272106 0.03925688 0.00311161]\n"
     ]
    }
   ],
   "source": [
    "# summarize the data\n",
    "for i in range(3):\n",
    "    print(X[i], y[i])"
   ]
  },
  {
   "cell_type": "markdown",
   "metadata": {},
   "source": [
    "#### Train-test-val dataset split"
   ]
  },
  {
   "cell_type": "code",
   "execution_count": 11,
   "metadata": {},
   "outputs": [],
   "source": [
    "X_train1 = X[:int(no_of_train*len(X))]\n",
    "y_train1 = y[:int(no_of_train*len(X))]\n",
    "X_test  = X[int(no_of_train*len(X)):]\n",
    "y_test  = y[int(no_of_train*len(X)):]\n",
    "\n",
    "X_train = X_train1[:int(no_of_train*len(X_train1))]\n",
    "y_train = y_train1[:int(no_of_train*len(X_train1))]\n",
    "X_val   = X_train1[int(no_of_train*len(X_train1)):]\n",
    "y_val   = y_train1[int(no_of_train*len(X_train1)):]"
   ]
  },
  {
   "cell_type": "code",
   "execution_count": 12,
   "metadata": {},
   "outputs": [
    {
     "name": "stdout",
     "output_type": "stream",
     "text": [
      "(671084, 3, 5) (671084, 3) (209715, 3, 5) (209715, 3) (167772, 3, 5) (167772, 3)\n"
     ]
    }
   ],
   "source": [
    "print(X_train.shape, y_train.shape,X_test.shape, y_test.shape,X_val.shape, y_val.shape)"
   ]
  },
  {
   "cell_type": "markdown",
   "metadata": {},
   "source": [
    "<h2><center>Create Model and test</center><h2>"
   ]
  },
  {
   "cell_type": "markdown",
   "metadata": {},
   "source": [
    "<h3>LSTM<h3>"
   ]
  },
  {
   "cell_type": "code",
   "execution_count": 13,
   "metadata": {},
   "outputs": [
    {
     "name": "stdout",
     "output_type": "stream",
     "text": [
      "Model: \"model\"\n",
      "_________________________________________________________________\n",
      "Layer (type)                 Output Shape              Param #   \n",
      "=================================================================\n",
      "input_1 (InputLayer)         [(None, 3, 5)]            0         \n",
      "_________________________________________________________________\n",
      "lstm (LSTM)                  (None, 3, 64)             17920     \n",
      "_________________________________________________________________\n",
      "batch_normalization (BatchNo (None, 3, 64)             256       \n",
      "_________________________________________________________________\n",
      "lstm_1 (LSTM)                (None, 3, 128)            98816     \n",
      "_________________________________________________________________\n",
      "batch_normalization_1 (Batch (None, 3, 128)            512       \n",
      "_________________________________________________________________\n",
      "lstm_2 (LSTM)                (None, 3, 64)             49408     \n",
      "_________________________________________________________________\n",
      "batch_normalization_2 (Batch (None, 3, 64)             256       \n",
      "_________________________________________________________________\n",
      "lstm_3 (LSTM)                (None, 32)                12416     \n",
      "_________________________________________________________________\n",
      "batch_normalization_3 (Batch (None, 32)                128       \n",
      "_________________________________________________________________\n",
      "dense (Dense)                (None, 3)                 99        \n",
      "=================================================================\n",
      "Total params: 179,811\n",
      "Trainable params: 179,235\n",
      "Non-trainable params: 576\n",
      "_________________________________________________________________\n"
     ]
    }
   ],
   "source": [
    "model = createModel()\n",
    "model.summary()"
   ]
  },
  {
   "cell_type": "code",
   "execution_count": 14,
   "metadata": {},
   "outputs": [],
   "source": [
    "model.compile(loss='mse',optimizer='adam', metrics=['mse', 'mae'])"
   ]
  },
  {
   "cell_type": "code",
   "execution_count": 15,
   "metadata": {},
   "outputs": [],
   "source": [
    "# Create checkpoints to save model during training and save training data into csv\n",
    "# ‘monitor’ can be ‘val_acc’ or ‘val_loss’\n",
    "# When set to ‘val_acc’, ‘mode’ must be ‘max’; when set to ‘val_loss’, ‘mode’ must be ‘min’\n",
    "\n",
    "filepath       = modelname + \".hdf5\"\n",
    "checkpoint     = ModelCheckpoint(filepath, monitor='val_loss',verbose=0,save_best_only=True,mode='min') \n",
    "csv_logger     = CSVLogger(modelname + '.csv')\n",
    "callbacks_list = [checkpoint,csv_logger]"
   ]
  },
  {
   "cell_type": "code",
   "execution_count": 16,
   "metadata": {},
   "outputs": [
    {
     "name": "stdout",
     "output_type": "stream",
     "text": [
      "Train on 671084 samples, validate on 167772 samples\n",
      "Epoch 1/20\n",
      "671084/671084 [==============================] - 12s 18us/sample - loss: 0.1666 - mse: 0.1666 - mae: 0.3750 - val_loss: 0.1029 - val_mse: 0.1029 - val_mae: 0.3070\n",
      "Epoch 2/20\n",
      "671084/671084 [==============================] - 4s 5us/sample - loss: 0.0665 - mse: 0.0665 - mae: 0.2323 - val_loss: 0.0357 - val_mse: 0.0357 - val_mae: 0.1591\n",
      "Epoch 3/20\n",
      "671084/671084 [==============================] - 4s 6us/sample - loss: 0.0297 - mse: 0.0297 - mae: 0.1332 - val_loss: 0.0256 - val_mse: 0.0256 - val_mae: 0.1094\n",
      "Epoch 4/20\n",
      "671084/671084 [==============================] - 4s 6us/sample - loss: 0.0251 - mse: 0.0251 - mae: 0.1068 - val_loss: 0.0247 - val_mse: 0.0247 - val_mae: 0.0978\n",
      "Epoch 5/20\n",
      "671084/671084 [==============================] - 4s 5us/sample - loss: 0.0245 - mse: 0.0245 - mae: 0.0992 - val_loss: 0.0246 - val_mse: 0.0246 - val_mae: 0.0952\n",
      "Epoch 6/20\n",
      "671084/671084 [==============================] - 4s 5us/sample - loss: 0.0244 - mse: 0.0244 - mae: 0.0966 - val_loss: 0.0246 - val_mse: 0.0246 - val_mae: 0.0943\n",
      "Epoch 7/20\n",
      "671084/671084 [==============================] - 4s 5us/sample - loss: 0.0243 - mse: 0.0243 - mae: 0.0956 - val_loss: 0.0246 - val_mse: 0.0246 - val_mae: 0.0944\n",
      "Epoch 8/20\n",
      "671084/671084 [==============================] - 4s 6us/sample - loss: 0.0243 - mse: 0.0243 - mae: 0.0952 - val_loss: 0.0245 - val_mse: 0.0245 - val_mae: 0.0941\n",
      "Epoch 9/20\n",
      "671084/671084 [==============================] - 4s 6us/sample - loss: 0.0243 - mse: 0.0243 - mae: 0.0950 - val_loss: 0.0245 - val_mse: 0.0245 - val_mae: 0.0939\n",
      "Epoch 10/20\n",
      "671084/671084 [==============================] - 4s 6us/sample - loss: 0.0243 - mse: 0.0243 - mae: 0.0950 - val_loss: 0.0245 - val_mse: 0.0245 - val_mae: 0.0940\n",
      "Epoch 11/20\n",
      "671084/671084 [==============================] - 4s 6us/sample - loss: 0.0243 - mse: 0.0243 - mae: 0.0949 - val_loss: 0.0245 - val_mse: 0.0245 - val_mae: 0.0936\n",
      "Epoch 12/20\n",
      "671084/671084 [==============================] - 4s 6us/sample - loss: 0.0243 - mse: 0.0243 - mae: 0.0949 - val_loss: 0.0244 - val_mse: 0.0244 - val_mae: 0.0936\n",
      "Epoch 13/20\n",
      "671084/671084 [==============================] - 4s 5us/sample - loss: 0.0243 - mse: 0.0243 - mae: 0.0949 - val_loss: 0.0244 - val_mse: 0.0244 - val_mae: 0.0939\n",
      "Epoch 14/20\n",
      "671084/671084 [==============================] - 4s 5us/sample - loss: 0.0242 - mse: 0.0242 - mae: 0.0949 - val_loss: 0.0243 - val_mse: 0.0243 - val_mae: 0.0940\n",
      "Epoch 15/20\n",
      "671084/671084 [==============================] - 4s 5us/sample - loss: 0.0242 - mse: 0.0242 - mae: 0.0948 - val_loss: 0.0243 - val_mse: 0.0243 - val_mae: 0.0936\n",
      "Epoch 16/20\n",
      "671084/671084 [==============================] - 4s 5us/sample - loss: 0.0242 - mse: 0.0242 - mae: 0.0948 - val_loss: 0.0243 - val_mse: 0.0243 - val_mae: 0.0928\n",
      "Epoch 17/20\n",
      "671084/671084 [==============================] - 4s 6us/sample - loss: 0.0242 - mse: 0.0242 - mae: 0.0948 - val_loss: 0.0243 - val_mse: 0.0243 - val_mae: 0.0930\n",
      "Epoch 18/20\n",
      "671084/671084 [==============================] - 4s 6us/sample - loss: 0.0242 - mse: 0.0242 - mae: 0.0948 - val_loss: 0.0243 - val_mse: 0.0243 - val_mae: 0.0931\n",
      "Epoch 19/20\n",
      "671084/671084 [==============================] - 4s 5us/sample - loss: 0.0242 - mse: 0.0242 - mae: 0.0948 - val_loss: 0.0242 - val_mse: 0.0242 - val_mae: 0.0933\n",
      "Epoch 20/20\n",
      "671084/671084 [==============================] - 4s 6us/sample - loss: 0.0242 - mse: 0.0242 - mae: 0.0948 - val_loss: 0.0242 - val_mse: 0.0242 - val_mae: 0.0934\n"
     ]
    }
   ],
   "source": [
    "# The line for training\n",
    "history = model.fit(X_train, \n",
    "                     y_train, \n",
    "                     validation_data=(X_val, y_val), \n",
    "                     epochs=no_of_epoch, \n",
    "                     batch_size=batch_size,\n",
    "                     shuffle=False,\n",
    "                     callbacks=callbacks_list) "
   ]
  },
  {
   "cell_type": "markdown",
   "metadata": {},
   "source": [
    "### Test dataset test result"
   ]
  },
  {
   "cell_type": "code",
   "execution_count": 17,
   "metadata": {},
   "outputs": [
    {
     "name": "stdout",
     "output_type": "stream",
     "text": [
      "0.028422518679757872\n"
     ]
    }
   ],
   "source": [
    "predicted_value = model.predict(X_test)\n",
    "print(mean_squared_error(y_test,predicted_value))"
   ]
  },
  {
   "cell_type": "code",
   "execution_count": 18,
   "metadata": {},
   "outputs": [
    {
     "data": {
      "image/png": "[encoded data removed]",
      "text/plain": [
       "<Figure size 1080x720 with 1 Axes>"
      ]
     },
     "metadata": {
      "needs_background": "light"
     },
     "output_type": "display_data"
    }
   ],
   "source": [
    "records     = pd.read_csv(modelname +'.csv')\n",
    "plt.figure(figsize=(15,10))\n",
    "\n",
    "ax          = plt.gca()\n",
    "ax.set_xticklabels([])\n",
    "\n",
    "plt.plot(records['val_mae'],label=\"val_mae\")\n",
    "plt.plot(records['val_loss'],label=\"val_loss\")\n",
    "plt.plot(records['loss'],label=\"loss\")\n",
    "plt.title('MAE',fontsize=12)\n",
    "plt.legend(loc=\"upper left\",fontsize=15)\n",
    "\n",
    "plt.show()"
   ]
  },
  {
   "cell_type": "markdown",
   "metadata": {},
   "source": [
    "### Load saved trained model and scalar"
   ]
  },
  {
   "cell_type": "code",
   "execution_count": 19,
   "metadata": {},
   "outputs": [],
   "source": [
    "# Load your own trained model & scaler\n",
    "model           = load_model(filepath, compile = False)\n",
    "scaler_filename = \"grab_msft_sorted_scaler.save\"\n",
    "scaler          = joblib.load(scaler_filename) "
   ]
  },
  {
   "cell_type": "markdown",
   "metadata": {},
   "source": [
    "### Sample Testing "
   ]
  },
  {
   "cell_type": "code",
   "execution_count": 20,
   "metadata": {},
   "outputs": [],
   "source": [
    "xls  = pd.ExcelFile('data/test_sample_sorted_8000.xlsx')\n",
    "test_sample = pd.read_excel(xls, 'TrafficMgmt')\n",
    "\n",
    "# Apply Standardscalar to sample test data\n",
    "test_sample[predictor_var] = scaler.fit_transform(test_sample[predictor_var])"
   ]
  },
  {
   "cell_type": "code",
   "execution_count": 21,
   "metadata": {},
   "outputs": [
    {
     "name": "stdout",
     "output_type": "stream",
     "text": [
      "(17, 3, 5) (17, 3)\n"
     ]
    }
   ],
   "source": [
    "# covert into input/output\n",
    "test_sample_array = test_sample.to_numpy()\n",
    "X_sample, y_sample = split_sequences(test_sample_array, n_steps_in, predict_next_no_of_output)\n",
    "print(X_sample.shape, y_sample.shape)"
   ]
  },
  {
   "cell_type": "code",
   "execution_count": 22,
   "metadata": {},
   "outputs": [
    {
     "name": "stdout",
     "output_type": "stream",
     "text": [
      "Predicted value : [[0.10732915 0.10720421 0.10914242]\n",
      " [0.10505337 0.10657544 0.10704609]\n",
      " [0.10770055 0.10854396 0.10718515]\n",
      " [0.1097222  0.11005168 0.10813633]\n",
      " [0.10728615 0.11218088 0.116126  ]\n",
      " [0.11053967 0.11261921 0.11384901]\n",
      " [0.10963052 0.11151304 0.11290011]\n",
      " [0.10781797 0.11103457 0.10858811]\n",
      " [0.10814963 0.11152817 0.10889557]\n",
      " [0.10774732 0.11106254 0.10840724]\n",
      " [0.10958791 0.11116307 0.11285884]\n",
      " [0.10770851 0.11105797 0.10808186]\n",
      " [0.10992327 0.11003473 0.10830354]\n",
      " [0.10976274 0.10984436 0.10786687]\n",
      " [0.10608816 0.1115239  0.11610442]\n",
      " [0.11013112 0.11018828 0.10818969]\n",
      " [0.10739608 0.11028637 0.1086365 ]] \n",
      " Actual Value    : [[0.01799946 0.0531276  0.10812558]\n",
      " [0.0531276  0.10812558 0.03172353]\n",
      " [0.10812558 0.03172353 0.08252318]\n",
      " [0.03172353 0.08252318 0.64191406]\n",
      " [0.08252318 0.64191406 0.13738873]\n",
      " [0.64191406 0.13738873 0.20788158]\n",
      " [0.13738873 0.20788158 0.23219486]\n",
      " [0.20788158 0.23219486 0.00794347]\n",
      " [0.23219486 0.00794347 0.00706648]\n",
      " [0.00794347 0.00706648 0.28443333]\n",
      " [0.00706648 0.28443333 0.67788291]\n",
      " [0.28443333 0.67788291 0.15390443]\n",
      " [0.67788291 0.15390443 0.01326358]\n",
      " [0.15390443 0.01326358 0.06040241]\n",
      " [0.01326358 0.06040241 0.03081827]\n",
      " [0.06040241 0.03081827 0.04285664]\n",
      " [0.03081827 0.04285664 1.        ]]\n"
     ]
    }
   ],
   "source": [
    "predicted_value = model.predict(X_sample)\n",
    "print('Predicted value : {} \\n Actual Value    : {}' .format(predicted_value,y_sample))"
   ]
  },
  {
   "cell_type": "code",
   "execution_count": 23,
   "metadata": {},
   "outputs": [
    {
     "name": "stdout",
     "output_type": "stream",
     "text": [
      "0.05757565241733378\n"
     ]
    }
   ],
   "source": [
    "print(mean_squared_error(y_sample,predicted_value))"
   ]
  },
  {
   "cell_type": "markdown",
   "metadata": {},
   "source": [
    "### Testing using 1 row of inference data"
   ]
  },
  {
   "cell_type": "code",
   "execution_count": 24,
   "metadata": {
    "scrolled": true
   },
   "outputs": [],
   "source": [
    "# Data input sequence format :\n",
    "test_data1  = [[0.14285714, 0.43478261, 0.66666667, 0.97435897,0.92307692],\n",
    "               [0.40816327, 0.04347826, 0.33333333, 0.76923077,0.46153846],\n",
    "               [0.06122449, 0.91304348, 0.66666667, 0.35897436,0.65384615]]\n",
    "test_data2  = [[0.40816327, 0.04347826, 0.33333333, 0.76923077,0.46153846],\n",
    "               [0.06122449, 0.91304348, 0.66666667, 0.35897436,0.65384615],\n",
    "               [0.97959184, 0.30434783, 0.33333333, 0.        ,0.07692308]]\n",
    "test_data3  = [[0.06122449, 0.91304348, 0.66666667, 0.35897436,0.65384615],\n",
    "               [0.97959184, 0.30434783, 0.33333333, 0.        ,0.07692308],\n",
    "               [0.6122449 , 0.34782609, 0.33333333, 0.46153846,0.23076923]]\n",
    "test_data4  = [[0.97959184, 0.30434783, 0.33333333, 0.        ,0.07692308],\n",
    "               [0.6122449 , 0.34782609, 0.33333333, 0.46153846,0.23076923],\n",
    "               [0.6122449 , 0.13043478, 0.        , 0.46153846,0.5       ]]\n",
    "test_data5  = [[0.6122449 , 0.34782609, 0.33333333, 0.46153846,0.23076923],\n",
    "               [0.6122449 , 0.13043478, 0.        , 0.46153846,0.5       ],\n",
    "               [0.71428571, 0.95652174, 0.66666667, 0.92307692,0.80769231]]\n",
    "test_data6  = [[0.6122449 , 0.13043478, 0.        , 0.46153846,0.5       ],\n",
    "               [0.71428571, 0.95652174, 0.66666667, 0.92307692,0.80769231],\n",
    "               [0.2244898 , 0.30434783, 0.        , 0.12820513,0.15384615]]\n",
    "test_data7  = [[0.71428571, 0.95652174, 0.66666667, 0.92307692,0.80769231],\n",
    "               [0.2244898 , 0.30434783, 0.        , 0.12820513,0.15384615],\n",
    "               [0.34693878, 0.30434783, 0.        , 0.79487179,1.        ]]\n",
    "test_data8  = [[0.2244898 , 0.30434783, 0.        , 0.12820513,0.15384615],\n",
    "               [0.34693878, 0.30434783, 0.        , 0.79487179,1.        ],\n",
    "               [0.32653061, 0.08695652, 0.        , 0.82051282,1.        ]]\n",
    "test_data9  = [[0.34693878, 0.30434783, 0.        , 0.79487179,1.        ],\n",
    "               [0.32653061, 0.08695652, 0.        , 0.82051282,1.        ],\n",
    "               [0.73469388, 0.30434783, 1.        , 0.28205128,0.73076923]]\n",
    "test_data10 = [[0.32653061, 0.08695652, 0.        , 0.82051282,1.        ],\n",
    "               [0.73469388, 0.30434783, 1.        , 0.28205128,0.73076923],\n",
    "               [0.6122449 , 0.        , 0.        , 0.28205128,0.        ]]\n",
    "\n",
    "test_data1  = np.expand_dims(test_data1, axis=0)\n",
    "test_data2  = np.expand_dims(test_data2, axis=0)\n",
    "test_data3  = np.expand_dims(test_data3, axis=0)\n",
    "test_data4  = np.expand_dims(test_data4, axis=0)\n",
    "test_data5  = np.expand_dims(test_data5, axis=0)\n",
    "test_data6  = np.expand_dims(test_data6, axis=0)\n",
    "test_data7  = np.expand_dims(test_data7, axis=0)\n",
    "test_data8  = np.expand_dims(test_data8, axis=0)\n",
    "test_data9  = np.expand_dims(test_data9, axis=0)\n",
    "test_data10 = np.expand_dims(test_data10, axis=0)\n",
    "\n",
    "test_target1  = [0.04113812, 0.06282991, 0.15961478]\n",
    "test_target2  = [0.06282991, 0.15961478, 0.90994164]\n",
    "test_target3  = [0.15961478, 0.90994163, 0.00090106]\n",
    "test_target4  = [0.90994163, 0.00090106, 0.13262154]\n",
    "test_target5  = [0.00090106, 0.13262155, 0.19313787]\n",
    "test_target6  = [0.13262155, 0.19313787, 0.04086969]\n",
    "test_target7  = [0.19313787, 0.04086969, 0.02042785]\n",
    "test_target8  = [0.04086969, 0.02042785, 0.06948841]\n",
    "test_target9  = [0.02042785, 0.06948841, 0.04174341]\n",
    "test_target10 = [0.06948841, 0.04174341, 0.19069707]"
   ]
  },
  {
   "cell_type": "markdown",
   "metadata": {},
   "source": [
    "#### First set of testdata"
   ]
  },
  {
   "cell_type": "code",
   "execution_count": 25,
   "metadata": {},
   "outputs": [
    {
     "name": "stdout",
     "output_type": "stream",
     "text": [
      "Predicted value : [[0.11761473 0.11417777 0.10925698]]\n",
      "Actual Value    : [0.04113812, 0.06282991, 0.15961478]\n"
     ]
    }
   ],
   "source": [
    "predicted_value = model.predict(test_data1)\n",
    "print('Predicted value : {}\\nActual Value    : {}' .format(predicted_value,test_target1))"
   ]
  },
  {
   "cell_type": "code",
   "execution_count": 26,
   "metadata": {},
   "outputs": [
    {
     "name": "stdout",
     "output_type": "stream",
     "text": [
      "Predicted value : [[0.10997797 0.10945474 0.11020645]]\n",
      "Actual Value    : [0.06282991, 0.15961478, 0.90994164]\n"
     ]
    }
   ],
   "source": [
    "predicted_value = model.predict(test_data2)\n",
    "print('Predicted value : {}\\nActual Value    : {}' .format(predicted_value,test_target2))"
   ]
  },
  {
   "cell_type": "code",
   "execution_count": 27,
   "metadata": {},
   "outputs": [
    {
     "name": "stdout",
     "output_type": "stream",
     "text": [
      "Predicted value : [[0.10348113 0.10500275 0.10439575]]\n",
      "Actual Value    : [0.15961478, 0.90994163, 0.00090106]\n"
     ]
    }
   ],
   "source": [
    "predicted_value = model.predict(test_data3)\n",
    "print('Predicted value : {}\\nActual Value    : {}' .format(predicted_value,test_target3))"
   ]
  },
  {
   "cell_type": "code",
   "execution_count": 28,
   "metadata": {},
   "outputs": [
    {
     "name": "stdout",
     "output_type": "stream",
     "text": [
      "Predicted value : [[0.10813911 0.10850981 0.10759515]]\n",
      "Actual Value    : [0.90994163, 0.00090106, 0.13262154]\n"
     ]
    }
   ],
   "source": [
    "predicted_value = model.predict(test_data4)\n",
    "print('Predicted value : {}\\nActual Value    : {}' .format(predicted_value,test_target4))"
   ]
  },
  {
   "cell_type": "code",
   "execution_count": 29,
   "metadata": {},
   "outputs": [
    {
     "name": "stdout",
     "output_type": "stream",
     "text": [
      "Predicted value : [[0.1116057  0.10946657 0.11298504]]\n",
      "Actual Value    : [0.00090106, 0.13262155, 0.19313787]\n"
     ]
    }
   ],
   "source": [
    "predicted_value = model.predict(test_data5)\n",
    "print('Predicted value : {}\\nActual Value    : {}' .format(predicted_value,test_target5))"
   ]
  },
  {
   "cell_type": "code",
   "execution_count": 30,
   "metadata": {},
   "outputs": [
    {
     "name": "stdout",
     "output_type": "stream",
     "text": [
      "Predicted value : [[0.11032507 0.10888609 0.11046049]]\n",
      "Actual Value    : [0.13262155, 0.19313787, 0.04086969]\n"
     ]
    }
   ],
   "source": [
    "predicted_value = model.predict(test_data6)\n",
    "print('Predicted value : {}\\nActual Value    : {}' .format(predicted_value,test_target6))"
   ]
  },
  {
   "cell_type": "code",
   "execution_count": 31,
   "metadata": {},
   "outputs": [
    {
     "name": "stdout",
     "output_type": "stream",
     "text": [
      "Predicted value : [[0.09500255 0.09469156 0.09847318]]\n",
      "Actual Value    : [0.19313787, 0.04086969, 0.02042785]\n"
     ]
    }
   ],
   "source": [
    "predicted_value = model.predict(test_data7)\n",
    "print('Predicted value : {}\\nActual Value    : {}' .format(predicted_value,test_target7))"
   ]
  },
  {
   "cell_type": "code",
   "execution_count": 32,
   "metadata": {},
   "outputs": [
    {
     "name": "stdout",
     "output_type": "stream",
     "text": [
      "Predicted value : [[0.11316521 0.11384126 0.11475087]]\n",
      "Actual Value    : [0.04086969, 0.02042785, 0.06948841]\n"
     ]
    }
   ],
   "source": [
    "predicted_value = model.predict(test_data8)\n",
    "print('Predicted value : {}\\nActual Value    : {}' .format(predicted_value,test_target8))"
   ]
  },
  {
   "cell_type": "code",
   "execution_count": 33,
   "metadata": {},
   "outputs": [
    {
     "name": "stdout",
     "output_type": "stream",
     "text": [
      "Predicted value : [[0.11151967 0.11042335 0.11089218]]\n",
      "Actual Value    : [0.02042785, 0.06948841, 0.04174341]\n"
     ]
    }
   ],
   "source": [
    "predicted_value = model.predict(test_data9)\n",
    "print('Predicted value : {}\\nActual Value    : {}' .format(predicted_value,test_target9))"
   ]
  },
  {
   "cell_type": "code",
   "execution_count": 34,
   "metadata": {},
   "outputs": [
    {
     "name": "stdout",
     "output_type": "stream",
     "text": [
      "Predicted value : [[0.1089151  0.10840411 0.10986742]]\n",
      "Actual Value    : [0.06948841, 0.04174341, 0.19069707]\n"
     ]
    }
   ],
   "source": [
    "predicted_value = model.predict(test_data10)\n",
    "print('Predicted value : {}\\nActual Value    : {}' .format(predicted_value,test_target10))"
   ]
  }
 ],
 "metadata": {
  "kernelspec": {
   "display_name": "Python 3",
   "language": "python",
   "name": "python3"
  },
  "language_info": {
   "codemirror_mode": {
    "name": "ipython",
    "version": 3
   },
   "file_extension": ".py",
   "mimetype": "text/x-python",
   "name": "python",
   "nbconvert_exporter": "python",
   "pygments_lexer": "ipython3",
   "version": "3.6.10"
  }
 },
 "nbformat": 4,
 "nbformat_minor": 4
}
