{
 "cells": [
  {
   "cell_type": "markdown",
   "metadata": {},
   "source": [
    "# Grab-Microsoft Challenge \n",
    "## Traffic Management\n",
    "\n",
    "- geohash6: geohash is a public domain geocoding system which encodes a geographic location into a short string of letters and digits with arbitrary precision. You are free to use any geohash library to encode/decode the geohashes into latitude and longitude or vice versa.(Examples:https://github.com/hkwi/python-geohash)\n",
    "- day: the value indicates the sequential order and not a particular day of the month\n",
    "- timestamp: start time of 15-minute intervals in the following format: <hour>:<minute>, where hour ranges from 0 to 23 and minute is either one of (0, 15, 30, 45)\n",
    "- demand: aggregated demand normalised to be in the range [0,1]\n",
    "    \n",
    "## Problem Statements:\n",
    "- Which areas have high / low traffic demand?\n",
    "- How does regional traffic demand change according to day / time?\n",
    "- Forecast the travel demand for next 15min / 1hour and predict areas with high travel demand"
   ]
  },
  {
   "cell_type": "markdown",
   "metadata": {},
   "source": [
    "### This is train LSTM model "
   ]
  },
  {
   "cell_type": "markdown",
   "metadata": {},
   "source": [
    "#### Import python library"
   ]
  },
  {
   "cell_type": "code",
   "execution_count": 34,
   "metadata": {},
   "outputs": [],
   "source": [
    "import numpy as np\n",
    "from numpy import array\n",
    "import pandas as pd\n",
    "import matplotlib.pyplot as plt\n",
    "\n",
    "# plot matplotlib graph\n",
    "%matplotlib inline\n",
    "\n",
    "#Import models from scikit learn module:\n",
    "from sklearn.metrics import mean_squared_error\n",
    "from tensorflow.keras.models import Sequential, load_model\n",
    "from tensorflow.keras.layers import Dense, Flatten, LSTM, BatchNormalization, Bidirectional\n",
    "from tensorflow.keras import regularizers\n",
    "from sklearn.model_selection import train_test_split\n",
    "\n",
    "import h5py\n",
    "import sklearn.metrics as metrics\n",
    "from tensorflow.keras.callbacks import ModelCheckpoint,CSVLogger\n",
    "from tensorflow.keras.models import Model\n",
    "from tensorflow.keras.layers import Input\n",
    "from tensorflow.keras.layers import LSTM\n",
    "from tensorflow.keras.utils import plot_model \n",
    "\n",
    "import pickle\n",
    "import joblib\n"
   ]
  },
  {
   "cell_type": "code",
   "execution_count": 35,
   "metadata": {},
   "outputs": [],
   "source": [
    "import os \n",
    "os.environ[\"CUDA_VISIBLE_DEVICES\"]=\"0\""
   ]
  },
  {
   "cell_type": "markdown",
   "metadata": {},
   "source": [
    "### Define Variables"
   ]
  },
  {
   "cell_type": "code",
   "execution_count": 88,
   "metadata": {},
   "outputs": [],
   "source": [
    "seed = 7\n",
    "np.random.seed(seed)\n",
    "modelname   = 'Bi-LSTM1-3in3out_sorted_resuffled_testing'\n",
    "batch_size  = 32768\n",
    "no_of_epoch = 20\n",
    "no_of_train = 0.8\n",
    "\n",
    "# choose a number of time steps\n",
    "n_steps_in, predict_next_no_of_output = 3, 3"
   ]
  },
  {
   "cell_type": "markdown",
   "metadata": {},
   "source": [
    "### Define Function"
   ]
  },
  {
   "cell_type": "code",
   "execution_count": 140,
   "metadata": {},
   "outputs": [],
   "source": [
    "def createModel(): \n",
    "    inputs  = Input(shape=(X_train.shape[1],X_train.shape[2]))\n",
    "    y = Bidirectional(LSTM(units=256, dropout=0.3, recurrent_dropout=0.3))(inputs)\n",
    "    y = BatchNormalization()(y)\n",
    "    #y = Bidirectional(LSTM(units=64, return_sequences=True,dropout=0.4, recurrent_dropout=0.4))(y)\n",
    "    #y = BatchNormalization()(y)\n",
    "    y = Dense(predict_next_no_of_output, activation='sigmoid')(y)\n",
    "  \n",
    "    model = Model(inputs=inputs,outputs=y)\n",
    "    model.compile(loss='mse',optimizer='adam', metrics=['mse', 'mae'])\n",
    "    return model\n",
    "\n",
    "# split a multivariate sequence into samples\n",
    "def split_sequences(sequences, n_steps_in, n_steps_out):\n",
    "    X, y = list(), list()\n",
    "    for i in range(len(sequences)):\n",
    "        # find the end of this pattern\n",
    "        end_ix = i + n_steps_in\n",
    "        out_end_ix = end_ix + n_steps_out-1\n",
    "        # check if we are beyond the dataset\n",
    "        if out_end_ix > len(sequences):\n",
    "            break\n",
    "        # gather input and output parts of the pattern\n",
    "        seq_x, seq_y = sequences[i:end_ix, :-1], sequences[end_ix-1:out_end_ix, -1]\n",
    "        X.append(seq_x)\n",
    "        y.append(seq_y)\n",
    "    return array(X), array(y)"
   ]
  },
  {
   "cell_type": "markdown",
   "metadata": {},
   "source": [
    "#### Reading from Preprocessed"
   ]
  },
  {
   "cell_type": "code",
   "execution_count": 38,
   "metadata": {},
   "outputs": [],
   "source": [
    "xls  = pd.ExcelFile('data/Dataset_feature_sorted.xlsx')\n",
    "data = pd.read_excel(xls, 'TrafficMgmt')"
   ]
  },
  {
   "cell_type": "code",
   "execution_count": 39,
   "metadata": {},
   "outputs": [],
   "source": [
    "predictor_var  = ['day', 'hour', 'min', 'lat', 'long']\n",
    "outcome_var    = 'demand'\n",
    "no_of_features = len(predictor_var)"
   ]
  },
  {
   "cell_type": "markdown",
   "metadata": {},
   "source": [
    "#### Prepare training & test data\n",
    "- Since this is a time series dataset, we can try using LSTM "
   ]
  },
  {
   "cell_type": "code",
   "execution_count": 40,
   "metadata": {},
   "outputs": [],
   "source": [
    "dataset = data.to_numpy()"
   ]
  },
  {
   "cell_type": "code",
   "execution_count": 41,
   "metadata": {},
   "outputs": [
    {
     "name": "stdout",
     "output_type": "stream",
     "text": [
      "(1048571, 3, 5) (1048571, 3)\n"
     ]
    }
   ],
   "source": [
    "# covert into input/output\n",
    "X, y = split_sequences(dataset, n_steps_in, predict_next_no_of_output)\n",
    "print(X.shape, y.shape)"
   ]
  },
  {
   "cell_type": "markdown",
   "metadata": {},
   "source": [
    "#### Train-test-val dataset split"
   ]
  },
  {
   "cell_type": "code",
   "execution_count": 42,
   "metadata": {},
   "outputs": [],
   "source": [
    "X_train, X_test, y_train, y_test = train_test_split(X, y, test_size=0.2, random_state=42,shuffle=True)\n",
    "\n",
    "X_train, X_val, y_train, y_val = train_test_split(X_train, y_train, test_size=0.2, random_state=42,shuffle=True)"
   ]
  },
  {
   "cell_type": "code",
   "execution_count": 43,
   "metadata": {},
   "outputs": [
    {
     "name": "stdout",
     "output_type": "stream",
     "text": [
      "(671084, 3, 5) (671084, 3) (209715, 3, 5) (209715, 3) (167772, 3, 5) (167772, 3)\n"
     ]
    }
   ],
   "source": [
    "print(X_train.shape, y_train.shape,X_test.shape, y_test.shape,X_val.shape, y_val.shape)"
   ]
  },
  {
   "cell_type": "markdown",
   "metadata": {},
   "source": [
    "<h2><center>Create Model and test</center><h2>"
   ]
  },
  {
   "cell_type": "markdown",
   "metadata": {},
   "source": [
    "<h3>LSTM<h3>"
   ]
  },
  {
   "cell_type": "code",
   "execution_count": 141,
   "metadata": {},
   "outputs": [
    {
     "name": "stdout",
     "output_type": "stream",
     "text": [
      "Model: \"model_6\"\n",
      "_________________________________________________________________\n",
      "Layer (type)                 Output Shape              Param #   \n",
      "=================================================================\n",
      "input_7 (InputLayer)         [(None, 3, 5)]            0         \n",
      "_________________________________________________________________\n",
      "bidirectional_9 (Bidirection (None, 512)               536576    \n",
      "_________________________________________________________________\n",
      "batch_normalization_9 (Batch (None, 512)               2048      \n",
      "_________________________________________________________________\n",
      "dense_6 (Dense)              (None, 3)                 1539      \n",
      "=================================================================\n",
      "Total params: 540,163\n",
      "Trainable params: 539,139\n",
      "Non-trainable params: 1,024\n",
      "_________________________________________________________________\n"
     ]
    }
   ],
   "source": [
    "model = createModel()\n",
    "model.summary()"
   ]
  },
  {
   "cell_type": "code",
   "execution_count": 142,
   "metadata": {},
   "outputs": [],
   "source": [
    "model.compile(loss='mse',optimizer='adam', metrics=['mse', 'mae'])"
   ]
  },
  {
   "cell_type": "code",
   "execution_count": 143,
   "metadata": {},
   "outputs": [],
   "source": [
    "# Create checkpoints to save model during training and save training data into csv\n",
    "# ‘monitor’ can be ‘val_acc’ or ‘val_loss’\n",
    "# When set to ‘val_acc’, ‘mode’ must be ‘max’; when set to ‘val_loss’, ‘mode’ must be ‘min’\n",
    "\n",
    "filepath       = modelname + \".hdf5\"\n",
    "checkpoint     = ModelCheckpoint(filepath, monitor='val_loss',verbose=0,save_best_only=True,mode='min') \n",
    "csv_logger     = CSVLogger(modelname + '.csv')\n",
    "callbacks_list = [checkpoint,csv_logger]"
   ]
  },
  {
   "cell_type": "code",
   "execution_count": 144,
   "metadata": {
    "scrolled": true
   },
   "outputs": [
    {
     "name": "stdout",
     "output_type": "stream",
     "text": [
      "Train on 671084 samples, validate on 167772 samples\n",
      "Epoch 1/20\n",
      "671084/671084 [==============================] - 8s 11us/sample - loss: 0.1602 - mse: 0.1602 - mae: 0.3797 - val_loss: 0.1195 - val_mse: 0.1195 - val_mae: 0.3328\n",
      "Epoch 2/20\n",
      "671084/671084 [==============================] - 4s 6us/sample - loss: 0.0893 - mse: 0.0893 - mae: 0.2814 - val_loss: 0.0568 - val_mse: 0.0568 - val_mae: 0.2193\n",
      "Epoch 3/20\n",
      "671084/671084 [==============================] - 4s 6us/sample - loss: 0.0398 - mse: 0.0398 - mae: 0.1703 - val_loss: 0.0295 - val_mse: 0.0295 - val_mae: 0.1331\n",
      "Epoch 4/20\n",
      "671084/671084 [==============================] - 4s 6us/sample - loss: 0.0265 - mse: 0.0265 - mae: 0.1148 - val_loss: 0.0257 - val_mse: 0.0257 - val_mae: 0.1065\n",
      "Epoch 5/20\n",
      "671084/671084 [==============================] - 4s 6us/sample - loss: 0.0250 - mse: 0.0250 - mae: 0.1003 - val_loss: 0.0253 - val_mse: 0.0253 - val_mae: 0.1007\n",
      "Epoch 6/20\n",
      "671084/671084 [==============================] - 4s 6us/sample - loss: 0.0249 - mse: 0.0249 - mae: 0.0970 - val_loss: 0.0252 - val_mse: 0.0252 - val_mae: 0.0994\n",
      "Epoch 7/20\n",
      "671084/671084 [==============================] - 4s 6us/sample - loss: 0.0248 - mse: 0.0248 - mae: 0.0963 - val_loss: 0.0252 - val_mse: 0.0252 - val_mae: 0.0992\n",
      "Epoch 8/20\n",
      "671084/671084 [==============================] - 4s 6us/sample - loss: 0.0248 - mse: 0.0248 - mae: 0.0961 - val_loss: 0.0252 - val_mse: 0.0252 - val_mae: 0.0989\n",
      "Epoch 9/20\n",
      "671084/671084 [==============================] - 4s 6us/sample - loss: 0.0248 - mse: 0.0248 - mae: 0.0960 - val_loss: 0.0252 - val_mse: 0.0252 - val_mae: 0.0987\n",
      "Epoch 10/20\n",
      "671084/671084 [==============================] - 4s 6us/sample - loss: 0.0248 - mse: 0.0248 - mae: 0.0959 - val_loss: 0.0252 - val_mse: 0.0252 - val_mae: 0.0984\n",
      "Epoch 11/20\n",
      "671084/671084 [==============================] - 4s 6us/sample - loss: 0.0248 - mse: 0.0248 - mae: 0.0958 - val_loss: 0.0252 - val_mse: 0.0252 - val_mae: 0.0983\n",
      "Epoch 12/20\n",
      "671084/671084 [==============================] - 4s 6us/sample - loss: 0.0248 - mse: 0.0248 - mae: 0.0957 - val_loss: 0.0252 - val_mse: 0.0252 - val_mae: 0.0983\n",
      "Epoch 13/20\n",
      "671084/671084 [==============================] - 4s 6us/sample - loss: 0.0248 - mse: 0.0248 - mae: 0.0957 - val_loss: 0.0251 - val_mse: 0.0251 - val_mae: 0.0983\n",
      "Epoch 14/20\n",
      "671084/671084 [==============================] - 4s 6us/sample - loss: 0.0248 - mse: 0.0248 - mae: 0.0957 - val_loss: 0.0251 - val_mse: 0.0251 - val_mae: 0.0984\n",
      "Epoch 15/20\n",
      "671084/671084 [==============================] - 4s 6us/sample - loss: 0.0248 - mse: 0.0248 - mae: 0.0956 - val_loss: 0.0251 - val_mse: 0.0251 - val_mae: 0.0983\n",
      "Epoch 16/20\n",
      "671084/671084 [==============================] - 4s 6us/sample - loss: 0.0248 - mse: 0.0248 - mae: 0.0956 - val_loss: 0.0251 - val_mse: 0.0251 - val_mae: 0.0989\n",
      "Epoch 17/20\n",
      "671084/671084 [==============================] - 4s 6us/sample - loss: 0.0248 - mse: 0.0248 - mae: 0.0956 - val_loss: 0.0251 - val_mse: 0.0251 - val_mae: 0.0987\n",
      "Epoch 18/20\n",
      "671084/671084 [==============================] - 4s 6us/sample - loss: 0.0248 - mse: 0.0248 - mae: 0.0956 - val_loss: 0.0251 - val_mse: 0.0251 - val_mae: 0.0987\n",
      "Epoch 19/20\n",
      "671084/671084 [==============================] - 4s 6us/sample - loss: 0.0247 - mse: 0.0247 - mae: 0.0956 - val_loss: 0.0251 - val_mse: 0.0251 - val_mae: 0.0991\n",
      "Epoch 20/20\n",
      "671084/671084 [==============================] - 4s 6us/sample - loss: 0.0248 - mse: 0.0248 - mae: 0.0956 - val_loss: 0.0251 - val_mse: 0.0251 - val_mae: 0.1005\n"
     ]
    }
   ],
   "source": [
    "# The line for training\n",
    "history = model.fit(X_train, \n",
    "                     y_train, \n",
    "                     validation_data=(X_val, y_val), \n",
    "                     epochs=no_of_epoch, \n",
    "                     batch_size=batch_size,\n",
    "                     shuffle=True,\n",
    "                     callbacks=callbacks_list) "
   ]
  },
  {
   "cell_type": "markdown",
   "metadata": {},
   "source": [
    "### Test dataset test result"
   ]
  },
  {
   "cell_type": "code",
   "execution_count": 74,
   "metadata": {},
   "outputs": [
    {
     "name": "stdout",
     "output_type": "stream",
     "text": [
      "0.02503176653887715\n"
     ]
    }
   ],
   "source": [
    "predicted_value = model.predict(X_test)\n",
    "print(mean_squared_error(y_test,predicted_value))"
   ]
  },
  {
   "cell_type": "code",
   "execution_count": 75,
   "metadata": {},
   "outputs": [
    {
     "data": {
      "image/png": "[encoded data removed]",
      "text/plain": [
       "<Figure size 1080x720 with 1 Axes>"
      ]
     },
     "metadata": {
      "needs_background": "light"
     },
     "output_type": "display_data"
    }
   ],
   "source": [
    "records     = pd.read_csv(modelname +'.csv')\n",
    "plt.figure(figsize=(15,10))\n",
    "\n",
    "ax          = plt.gca()\n",
    "ax.set_xticklabels([])\n",
    "\n",
    "plt.plot(records['val_mae'],label=\"val_mae\")\n",
    "plt.plot(records['val_loss'],label=\"val_loss\")\n",
    "plt.plot(records['loss'],label=\"loss\")\n",
    "plt.title('MAE',fontsize=12)\n",
    "plt.legend(loc=\"upper left\",fontsize=15)\n",
    "\n",
    "plt.show()\n",
    "\n"
   ]
  },
  {
   "cell_type": "markdown",
   "metadata": {},
   "source": [
    "### Load save LSTM model"
   ]
  },
  {
   "cell_type": "code",
   "execution_count": 145,
   "metadata": {},
   "outputs": [],
   "source": [
    "# Load your own trained model\n",
    "model = load_model(filepath, compile = False)"
   ]
  },
  {
   "cell_type": "markdown",
   "metadata": {},
   "source": [
    "### Sample Testing "
   ]
  },
  {
   "cell_type": "code",
   "execution_count": 51,
   "metadata": {},
   "outputs": [],
   "source": [
    "scaler_filename = \"grab_msft_sorted_scaler.save\"\n",
    "scaler          = joblib.load(scaler_filename) "
   ]
  },
  {
   "cell_type": "markdown",
   "metadata": {},
   "source": [
    "#### First set of testdata"
   ]
  },
  {
   "cell_type": "code",
   "execution_count": 52,
   "metadata": {},
   "outputs": [],
   "source": [
    "xls  = pd.ExcelFile('data/test_sample_sorted_8000.xlsx')\n",
    "test_sample = pd.read_excel(xls, 'TrafficMgmt')\n",
    "\n",
    "# Apply Standardscalar to sample test data\n",
    "test_sample[predictor_var] = scaler.fit_transform(test_sample[predictor_var])"
   ]
  },
  {
   "cell_type": "code",
   "execution_count": 53,
   "metadata": {},
   "outputs": [
    {
     "name": "stdout",
     "output_type": "stream",
     "text": [
      "(17, 3, 5) (17, 3)\n"
     ]
    }
   ],
   "source": [
    "# covert into input/output\n",
    "test_sample_array = test_sample.to_numpy()\n",
    "X_sample, y_sample = split_sequences(test_sample_array, n_steps_in, predict_next_no_of_output)\n",
    "print(X_sample.shape, y_sample.shape)"
   ]
  },
  {
   "cell_type": "code",
   "execution_count": 146,
   "metadata": {},
   "outputs": [
    {
     "name": "stdout",
     "output_type": "stream",
     "text": [
      "Predicted value : [[0.11044493 0.10360997 0.10518572]\n",
      " [0.11055662 0.1044455  0.10354976]\n",
      " [0.11472054 0.10418293 0.10395712]\n",
      " [0.11432774 0.10362288 0.10380931]\n",
      " [0.11350408 0.10231386 0.10330753]\n",
      " [0.1139465  0.10258633 0.10354349]\n",
      " [0.11319578 0.10202902 0.10339209]\n",
      " [0.11132836 0.10218684 0.10352729]\n",
      " [0.11289911 0.10279399 0.10367389]\n",
      " [0.11407656 0.10252143 0.10353814]\n",
      " [0.11049999 0.10292394 0.10361243]\n",
      " [0.11293343 0.10257753 0.10326597]\n",
      " [0.11557984 0.10353438 0.10371707]\n",
      " [0.11259975 0.10218708 0.10301416]\n",
      " [0.11335704 0.10139517 0.10283824]\n",
      " [0.11255863 0.10173532 0.10319259]\n",
      " [0.11222591 0.10091409 0.10285376]] \n",
      " Actual Value    : [[0.01799946 0.0531276  0.10812558]\n",
      " [0.0531276  0.10812558 0.03172353]\n",
      " [0.10812558 0.03172353 0.08252318]\n",
      " [0.03172353 0.08252318 0.64191406]\n",
      " [0.08252318 0.64191406 0.13738873]\n",
      " [0.64191406 0.13738873 0.20788158]\n",
      " [0.13738873 0.20788158 0.23219486]\n",
      " [0.20788158 0.23219486 0.00794347]\n",
      " [0.23219486 0.00794347 0.00706648]\n",
      " [0.00794347 0.00706648 0.28443333]\n",
      " [0.00706648 0.28443333 0.67788291]\n",
      " [0.28443333 0.67788291 0.15390443]\n",
      " [0.67788291 0.15390443 0.01326358]\n",
      " [0.15390443 0.01326358 0.06040241]\n",
      " [0.01326358 0.06040241 0.03081827]\n",
      " [0.06040241 0.03081827 0.04285664]\n",
      " [0.03081827 0.04285664 1.        ]]\n"
     ]
    }
   ],
   "source": [
    "predicted_value = model.predict(X_sample)\n",
    "print('Predicted value : {} \\n Actual Value    : {}' .format(predicted_value,y_sample))"
   ]
  },
  {
   "cell_type": "code",
   "execution_count": 129,
   "metadata": {},
   "outputs": [
    {
     "name": "stdout",
     "output_type": "stream",
     "text": [
      "0.05750190572218872\n"
     ]
    }
   ],
   "source": [
    "print(mean_squared_error(y_sample,predicted_value))"
   ]
  },
  {
   "cell_type": "markdown",
   "metadata": {},
   "source": [
    "### single sample test"
   ]
  },
  {
   "cell_type": "code",
   "execution_count": 56,
   "metadata": {},
   "outputs": [],
   "source": [
    "# Data input sequence format :\n",
    "test_data1  = [[0.14285714, 0.43478261, 0.66666667, 0.97435897,0.92307692],\n",
    "               [0.40816327, 0.04347826, 0.33333333, 0.76923077,0.46153846],\n",
    "               [0.06122449, 0.91304348, 0.66666667, 0.35897436,0.65384615]]\n",
    "test_data2  = [[0.40816327, 0.04347826, 0.33333333, 0.76923077,0.46153846],\n",
    "               [0.06122449, 0.91304348, 0.66666667, 0.35897436,0.65384615],\n",
    "               [0.97959184, 0.30434783, 0.33333333, 0.        ,0.07692308]]\n",
    "test_data3  = [[0.06122449, 0.91304348, 0.66666667, 0.35897436,0.65384615],\n",
    "               [0.97959184, 0.30434783, 0.33333333, 0.        ,0.07692308],\n",
    "               [0.6122449 , 0.34782609, 0.33333333, 0.46153846,0.23076923]]\n",
    "test_data4  = [[0.97959184, 0.30434783, 0.33333333, 0.        ,0.07692308],\n",
    "               [0.6122449 , 0.34782609, 0.33333333, 0.46153846,0.23076923],\n",
    "               [0.6122449 , 0.13043478, 0.        , 0.46153846,0.5       ]]\n",
    "test_data5  = [[0.6122449 , 0.34782609, 0.33333333, 0.46153846,0.23076923],\n",
    "               [0.6122449 , 0.13043478, 0.        , 0.46153846,0.5       ],\n",
    "               [0.71428571, 0.95652174, 0.66666667, 0.92307692,0.80769231]]\n",
    "test_data6  = [[0.6122449 , 0.13043478, 0.        , 0.46153846,0.5       ],\n",
    "               [0.71428571, 0.95652174, 0.66666667, 0.92307692,0.80769231],\n",
    "               [0.2244898 , 0.30434783, 0.        , 0.12820513,0.15384615]]\n",
    "test_data7  = [[0.71428571, 0.95652174, 0.66666667, 0.92307692,0.80769231],\n",
    "               [0.2244898 , 0.30434783, 0.        , 0.12820513,0.15384615],\n",
    "               [0.34693878, 0.30434783, 0.        , 0.79487179,1.        ]]\n",
    "test_data8  = [[0.2244898 , 0.30434783, 0.        , 0.12820513,0.15384615],\n",
    "               [0.34693878, 0.30434783, 0.        , 0.79487179,1.        ],\n",
    "               [0.32653061, 0.08695652, 0.        , 0.82051282,1.        ]]\n",
    "test_data9  = [[0.34693878, 0.30434783, 0.        , 0.79487179,1.        ],\n",
    "               [0.32653061, 0.08695652, 0.        , 0.82051282,1.        ],\n",
    "               [0.73469388, 0.30434783, 1.        , 0.28205128,0.73076923]]\n",
    "test_data10 = [[0.32653061, 0.08695652, 0.        , 0.82051282,1.        ],\n",
    "               [0.73469388, 0.30434783, 1.        , 0.28205128,0.73076923],\n",
    "               [0.6122449 , 0.        , 0.        , 0.28205128,0.        ]]\n",
    "\n",
    "test_data1  = np.expand_dims(test_data1, axis=0)\n",
    "test_data2  = np.expand_dims(test_data2, axis=0)\n",
    "test_data3  = np.expand_dims(test_data3, axis=0)\n",
    "test_data4  = np.expand_dims(test_data4, axis=0)\n",
    "test_data5  = np.expand_dims(test_data5, axis=0)\n",
    "test_data6  = np.expand_dims(test_data6, axis=0)\n",
    "test_data7  = np.expand_dims(test_data7, axis=0)\n",
    "test_data8  = np.expand_dims(test_data8, axis=0)\n",
    "test_data9  = np.expand_dims(test_data9, axis=0)\n",
    "test_data10 = np.expand_dims(test_data10, axis=0)\n",
    "\n",
    "test_target1  = [0.04113812, 0.06282991, 0.15961478]\n",
    "test_target2  = [0.06282991, 0.15961478, 0.90994164]\n",
    "test_target3  = [0.15961478, 0.90994163, 0.00090106]\n",
    "test_target4  = [0.90994163, 0.00090106, 0.13262154]\n",
    "test_target5  = [0.00090106, 0.13262155, 0.19313787]\n",
    "test_target6  = [0.13262155, 0.19313787, 0.04086969]\n",
    "test_target7  = [0.19313787, 0.04086969, 0.02042785]\n",
    "test_target8  = [0.04086969, 0.02042785, 0.06948841]\n",
    "test_target9  = [0.02042785, 0.06948841, 0.04174341]\n",
    "test_target10 = [0.06948841, 0.04174341, 0.19069707]"
   ]
  },
  {
   "cell_type": "code",
   "execution_count": 147,
   "metadata": {},
   "outputs": [
    {
     "name": "stdout",
     "output_type": "stream",
     "text": [
      "Predicted value : [[0.12053616 0.11061346 0.1099771 ]]\n",
      "Actual Value    : [0.04113812, 0.06282991, 0.15961478]\n"
     ]
    }
   ],
   "source": [
    "predicted_value = model.predict(test_data1)\n",
    "print('Predicted value : {}\\nActual Value    : {}' .format(predicted_value,test_target1))"
   ]
  },
  {
   "cell_type": "code",
   "execution_count": 148,
   "metadata": {},
   "outputs": [
    {
     "name": "stdout",
     "output_type": "stream",
     "text": [
      "Predicted value : [[0.11899399 0.10802948 0.10830419]]\n",
      "Actual Value    : [0.06282991, 0.15961478, 0.90994164]\n"
     ]
    }
   ],
   "source": [
    "predicted_value = model.predict(test_data2)\n",
    "print('Predicted value : {}\\nActual Value    : {}' .format(predicted_value,test_target2))"
   ]
  },
  {
   "cell_type": "code",
   "execution_count": 149,
   "metadata": {},
   "outputs": [
    {
     "name": "stdout",
     "output_type": "stream",
     "text": [
      "Predicted value : [[0.11836074 0.10899979 0.11004964]]\n",
      "Actual Value    : [0.15961478, 0.90994163, 0.00090106]\n"
     ]
    }
   ],
   "source": [
    "predicted_value = model.predict(test_data3)\n",
    "print('Predicted value : {}\\nActual Value    : {}' .format(predicted_value,test_target3))"
   ]
  },
  {
   "cell_type": "code",
   "execution_count": 150,
   "metadata": {},
   "outputs": [
    {
     "name": "stdout",
     "output_type": "stream",
     "text": [
      "Predicted value : [[0.11595219 0.10928918 0.11103426]]\n",
      "Actual Value    : [0.90994163, 0.00090106, 0.13262154]\n"
     ]
    }
   ],
   "source": [
    "predicted_value = model.predict(test_data4)\n",
    "print('Predicted value : {}\\nActual Value    : {}' .format(predicted_value,test_target4))"
   ]
  },
  {
   "cell_type": "code",
   "execution_count": 151,
   "metadata": {},
   "outputs": [
    {
     "name": "stdout",
     "output_type": "stream",
     "text": [
      "Predicted value : [[0.11815644 0.11065783 0.11065467]]\n",
      "Actual Value    : [0.00090106, 0.13262155, 0.19313787]\n"
     ]
    }
   ],
   "source": [
    "predicted_value = model.predict(test_data5)\n",
    "print('Predicted value : {}\\nActual Value    : {}' .format(predicted_value,test_target5))"
   ]
  },
  {
   "cell_type": "code",
   "execution_count": 152,
   "metadata": {},
   "outputs": [
    {
     "name": "stdout",
     "output_type": "stream",
     "text": [
      "Predicted value : [[0.11845493 0.10944539 0.1093784 ]]\n",
      "Actual Value    : [0.13262155, 0.19313787, 0.04086969]\n"
     ]
    }
   ],
   "source": [
    "predicted_value = model.predict(test_data6)\n",
    "print('Predicted value : {}\\nActual Value    : {}' .format(predicted_value,test_target6))"
   ]
  },
  {
   "cell_type": "code",
   "execution_count": 153,
   "metadata": {},
   "outputs": [
    {
     "name": "stdout",
     "output_type": "stream",
     "text": [
      "Predicted value : [[0.11531131 0.11159196 0.11124306]]\n",
      "Actual Value    : [0.19313787, 0.04086969, 0.02042785]\n"
     ]
    }
   ],
   "source": [
    "predicted_value = model.predict(test_data7)\n",
    "print('Predicted value : {}\\nActual Value    : {}' .format(predicted_value,test_target7))"
   ]
  },
  {
   "cell_type": "code",
   "execution_count": 154,
   "metadata": {},
   "outputs": [
    {
     "name": "stdout",
     "output_type": "stream",
     "text": [
      "Predicted value : [[0.11294595 0.11102217 0.11132692]]\n",
      "Actual Value    : [0.04086969, 0.02042785, 0.06948841]\n"
     ]
    }
   ],
   "source": [
    "predicted_value = model.predict(test_data8)\n",
    "print('Predicted value : {}\\nActual Value    : {}' .format(predicted_value,test_target8))"
   ]
  },
  {
   "cell_type": "code",
   "execution_count": 155,
   "metadata": {},
   "outputs": [
    {
     "name": "stdout",
     "output_type": "stream",
     "text": [
      "Predicted value : [[0.1196174  0.11253083 0.11038554]]\n",
      "Actual Value    : [0.02042785, 0.06948841, 0.04174341]\n"
     ]
    }
   ],
   "source": [
    "predicted_value = model.predict(test_data9)\n",
    "print('Predicted value : {}\\nActual Value    : {}' .format(predicted_value,test_target9))"
   ]
  },
  {
   "cell_type": "code",
   "execution_count": 156,
   "metadata": {},
   "outputs": [
    {
     "name": "stdout",
     "output_type": "stream",
     "text": [
      "Predicted value : [[0.11984672 0.10866443 0.10971389]]\n",
      "Actual Value    : [0.06948841, 0.04174341, 0.19069707]\n"
     ]
    }
   ],
   "source": [
    "predicted_value = model.predict(test_data10)\n",
    "print('Predicted value : {}\\nActual Value    : {}' .format(predicted_value,test_target10))"
   ]
  },
  {
   "cell_type": "code",
   "execution_count": null,
   "metadata": {},
   "outputs": [],
   "source": []
  }
 ],
 "metadata": {
  "kernelspec": {
   "display_name": "Python 3",
   "language": "python",
   "name": "python3"
  },
  "language_info": {
   "codemirror_mode": {
    "name": "ipython",
    "version": 3
   },
   "file_extension": ".py",
   "mimetype": "text/x-python",
   "name": "python",
   "nbconvert_exporter": "python",
   "pygments_lexer": "ipython3",
   "version": "3.6.10"
  }
 },
 "nbformat": 4,
 "nbformat_minor": 4
}
