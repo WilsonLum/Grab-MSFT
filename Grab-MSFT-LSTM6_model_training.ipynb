{
 "cells": [
  {
   "cell_type": "markdown",
   "metadata": {},
   "source": [
    "# Grab-Microsoft Challenge \n",
    "## Traffic Management\n",
    "\n",
    "- geohash6: geohash is a public domain geocoding system which encodes a geographic location into a short string of letters and digits with arbitrary precision. You are free to use any geohash library to encode/decode the geohashes into latitude and longitude or vice versa.(Examples:https://github.com/hkwi/python-geohash)\n",
    "- day: the value indicates the sequential order and not a particular day of the month\n",
    "- timestamp: start time of 15-minute intervals in the following format: <hour>:<minute>, where hour ranges from 0 to 23 and minute is either one of (0, 15, 30, 45)\n",
    "- demand: aggregated demand normalised to be in the range [0,1]\n",
    "    \n",
    "## Problem Statements:\n",
    "- Which areas have high / low traffic demand?\n",
    "- How does regional traffic demand change according to day / time?\n",
    "- Forecast the travel demand for next 15min / 1hour and predict areas with high travel demand"
   ]
  },
  {
   "cell_type": "markdown",
   "metadata": {},
   "source": [
    "### This is train LSTM model "
   ]
  },
  {
   "cell_type": "markdown",
   "metadata": {},
   "source": [
    "#### Import python library"
   ]
  },
  {
   "cell_type": "code",
   "execution_count": 1,
   "metadata": {},
   "outputs": [],
   "source": [
    "import numpy as np\n",
    "from numpy import array\n",
    "import pandas as pd\n",
    "import matplotlib.pyplot as plt\n",
    "\n",
    "# plot matplotlib graph\n",
    "%matplotlib inline\n",
    "\n",
    "#Import models from scikit learn module:\n",
    "from sklearn.metrics import mean_squared_error\n",
    "from tensorflow.keras.models import Sequential, load_model\n",
    "from tensorflow.keras.layers import Dense, Flatten, LSTM, BatchNormalization\n",
    "from tensorflow.keras import regularizers\n",
    "from sklearn.model_selection import train_test_split\n",
    "\n",
    "import h5py\n",
    "import sklearn.metrics as metrics\n",
    "from tensorflow.keras.callbacks import ModelCheckpoint,CSVLogger\n",
    "from tensorflow.keras.models import Model\n",
    "from tensorflow.keras.layers import Input\n",
    "from tensorflow.keras.layers import LSTM\n",
    "from tensorflow.keras.utils import plot_model \n",
    "\n",
    "import pickle\n",
    "import joblib\n"
   ]
  },
  {
   "cell_type": "code",
   "execution_count": 2,
   "metadata": {},
   "outputs": [],
   "source": [
    "import os \n",
    "os.environ[\"CUDA_VISIBLE_DEVICES\"]=\"0\""
   ]
  },
  {
   "cell_type": "markdown",
   "metadata": {},
   "source": [
    "### Define Variables"
   ]
  },
  {
   "cell_type": "code",
   "execution_count": 2,
   "metadata": {},
   "outputs": [],
   "source": [
    "seed = 7\n",
    "np.random.seed(seed)\n",
    "modelname   = 'LSTM6-3in2out'\n",
    "batch_size  = 8192\n",
    "no_of_epoch = 10\n",
    "time_shift  = 5\n",
    "\n",
    "# choose a number of time steps\n",
    "n_steps_in, predict_next_no_of_output = 3, 2"
   ]
  },
  {
   "cell_type": "markdown",
   "metadata": {},
   "source": [
    "### Define Function"
   ]
  },
  {
   "cell_type": "code",
   "execution_count": 4,
   "metadata": {},
   "outputs": [],
   "source": [
    "def createModel(): \n",
    "    inputs  = Input(shape=(X_train1.shape[1],X_train1.shape[2]))\n",
    "    y = LSTM(units=64, return_sequences=True, dropout=0.5, recurrent_dropout=0.2)(inputs)\n",
    "    y = BatchNormalization()(y)\n",
    "    y = LSTM(64, return_sequences=True, dropout=0.5,recurrent_dropout=0.5)(y)\n",
    "    y = BatchNormalization()(y)\n",
    "    y = LSTM(32, dropout=0.5,recurrent_dropout=0.5)(y)\n",
    "    y = BatchNormalization()(y)\n",
    "    y = Dense(predict_next_no_of_output, activation='sigmoid')(y)\n",
    "  \n",
    "    model = Model(inputs=inputs,outputs=y)\n",
    "    model.compile(loss='mse',optimizer='adam', metrics=['mse', 'mae'])\n",
    "    return model\n",
    "\n",
    "# split a multivariate sequence into samples\n",
    "def split_sequences(sequences, n_steps_in, n_steps_out):\n",
    "    X, y = list(), list()\n",
    "    for i in range(len(sequences)):\n",
    "        # find the end of this pattern\n",
    "        end_ix = i + n_steps_in\n",
    "        out_end_ix = end_ix + n_steps_out-1\n",
    "        # check if we are beyond the dataset\n",
    "        if out_end_ix > len(sequences):\n",
    "            break\n",
    "        # gather input and output parts of the pattern\n",
    "        seq_x, seq_y = sequences[i:end_ix, :-1], sequences[end_ix-1:out_end_ix, -1]\n",
    "        X.append(seq_x)\n",
    "        y.append(seq_y)\n",
    "    return array(X), array(y)"
   ]
  },
  {
   "cell_type": "markdown",
   "metadata": {},
   "source": [
    "#### Reading from Preprocessed & Test sample dataset"
   ]
  },
  {
   "cell_type": "code",
   "execution_count": 51,
   "metadata": {
    "scrolled": true
   },
   "outputs": [
    {
     "data": {
      "text/html": [
       "<div>\n",
       "<style scoped>\n",
       "    .dataframe tbody tr th:only-of-type {\n",
       "        vertical-align: middle;\n",
       "    }\n",
       "\n",
       "    .dataframe tbody tr th {\n",
       "        vertical-align: top;\n",
       "    }\n",
       "\n",
       "    .dataframe thead th {\n",
       "        text-align: right;\n",
       "    }\n",
       "</style>\n",
       "<table border=\"1\" class=\"dataframe\">\n",
       "  <thead>\n",
       "    <tr style=\"text-align: right;\">\n",
       "      <th></th>\n",
       "      <th>day</th>\n",
       "      <th>hour</th>\n",
       "      <th>min</th>\n",
       "      <th>dow</th>\n",
       "      <th>lat</th>\n",
       "      <th>long</th>\n",
       "      <th>demand</th>\n",
       "    </tr>\n",
       "  </thead>\n",
       "  <tbody>\n",
       "    <tr>\n",
       "      <th>0</th>\n",
       "      <td>0.400000</td>\n",
       "      <td>0.608696</td>\n",
       "      <td>0.000000</td>\n",
       "      <td>0.666667</td>\n",
       "      <td>0.466667</td>\n",
       "      <td>0.200000</td>\n",
       "      <td>0.079452</td>\n",
       "    </tr>\n",
       "    <tr>\n",
       "      <th>1</th>\n",
       "      <td>0.350000</td>\n",
       "      <td>0.217391</td>\n",
       "      <td>0.666667</td>\n",
       "      <td>0.166667</td>\n",
       "      <td>0.711111</td>\n",
       "      <td>0.885714</td>\n",
       "      <td>0.077979</td>\n",
       "    </tr>\n",
       "    <tr>\n",
       "      <th>2</th>\n",
       "      <td>0.516667</td>\n",
       "      <td>0.043478</td>\n",
       "      <td>1.000000</td>\n",
       "      <td>0.666667</td>\n",
       "      <td>0.133333</td>\n",
       "      <td>0.285714</td>\n",
       "      <td>0.301448</td>\n",
       "    </tr>\n",
       "    <tr>\n",
       "      <th>3</th>\n",
       "      <td>0.016667</td>\n",
       "      <td>0.652174</td>\n",
       "      <td>0.666667</td>\n",
       "      <td>0.333333</td>\n",
       "      <td>0.200000</td>\n",
       "      <td>0.542857</td>\n",
       "      <td>0.012222</td>\n",
       "    </tr>\n",
       "    <tr>\n",
       "      <th>4</th>\n",
       "      <td>0.533333</td>\n",
       "      <td>0.043478</td>\n",
       "      <td>0.333333</td>\n",
       "      <td>0.833333</td>\n",
       "      <td>0.600000</td>\n",
       "      <td>0.228571</td>\n",
       "      <td>0.341291</td>\n",
       "    </tr>\n",
       "    <tr>\n",
       "      <th>5</th>\n",
       "      <td>0.666667</td>\n",
       "      <td>0.173913</td>\n",
       "      <td>0.666667</td>\n",
       "      <td>1.000000</td>\n",
       "      <td>0.600000</td>\n",
       "      <td>0.685714</td>\n",
       "      <td>0.363646</td>\n",
       "    </tr>\n",
       "    <tr>\n",
       "      <th>6</th>\n",
       "      <td>0.633333</td>\n",
       "      <td>0.391304</td>\n",
       "      <td>0.666667</td>\n",
       "      <td>0.666667</td>\n",
       "      <td>0.533333</td>\n",
       "      <td>0.885714</td>\n",
       "      <td>0.003396</td>\n",
       "    </tr>\n",
       "    <tr>\n",
       "      <th>7</th>\n",
       "      <td>0.616667</td>\n",
       "      <td>0.130435</td>\n",
       "      <td>0.333333</td>\n",
       "      <td>0.500000</td>\n",
       "      <td>0.577778</td>\n",
       "      <td>0.485714</td>\n",
       "      <td>0.175918</td>\n",
       "    </tr>\n",
       "    <tr>\n",
       "      <th>8</th>\n",
       "      <td>0.966667</td>\n",
       "      <td>0.043478</td>\n",
       "      <td>0.333333</td>\n",
       "      <td>0.500000</td>\n",
       "      <td>0.466667</td>\n",
       "      <td>0.342857</td>\n",
       "      <td>0.227344</td>\n",
       "    </tr>\n",
       "    <tr>\n",
       "      <th>9</th>\n",
       "      <td>0.650000</td>\n",
       "      <td>0.130435</td>\n",
       "      <td>0.333333</td>\n",
       "      <td>0.833333</td>\n",
       "      <td>0.822222</td>\n",
       "      <td>0.200000</td>\n",
       "      <td>0.032137</td>\n",
       "    </tr>\n",
       "    <tr>\n",
       "      <th>10</th>\n",
       "      <td>0.000000</td>\n",
       "      <td>0.739130</td>\n",
       "      <td>0.000000</td>\n",
       "      <td>0.166667</td>\n",
       "      <td>0.733333</td>\n",
       "      <td>0.257143</td>\n",
       "      <td>0.014844</td>\n",
       "    </tr>\n",
       "    <tr>\n",
       "      <th>11</th>\n",
       "      <td>0.666667</td>\n",
       "      <td>0.304348</td>\n",
       "      <td>0.666667</td>\n",
       "      <td>1.000000</td>\n",
       "      <td>0.711111</td>\n",
       "      <td>0.657143</td>\n",
       "      <td>0.100477</td>\n",
       "    </tr>\n",
       "    <tr>\n",
       "      <th>12</th>\n",
       "      <td>0.316667</td>\n",
       "      <td>0.173913</td>\n",
       "      <td>0.333333</td>\n",
       "      <td>1.000000</td>\n",
       "      <td>0.155556</td>\n",
       "      <td>0.657143</td>\n",
       "      <td>0.214785</td>\n",
       "    </tr>\n",
       "    <tr>\n",
       "      <th>13</th>\n",
       "      <td>0.233333</td>\n",
       "      <td>1.000000</td>\n",
       "      <td>0.000000</td>\n",
       "      <td>0.166667</td>\n",
       "      <td>0.977778</td>\n",
       "      <td>0.914286</td>\n",
       "      <td>0.009046</td>\n",
       "    </tr>\n",
       "    <tr>\n",
       "      <th>14</th>\n",
       "      <td>0.400000</td>\n",
       "      <td>0.173913</td>\n",
       "      <td>0.666667</td>\n",
       "      <td>0.666667</td>\n",
       "      <td>0.511111</td>\n",
       "      <td>0.200000</td>\n",
       "      <td>0.035133</td>\n",
       "    </tr>\n",
       "    <tr>\n",
       "      <th>15</th>\n",
       "      <td>0.650000</td>\n",
       "      <td>0.000000</td>\n",
       "      <td>0.000000</td>\n",
       "      <td>0.833333</td>\n",
       "      <td>0.222222</td>\n",
       "      <td>0.771429</td>\n",
       "      <td>0.006201</td>\n",
       "    </tr>\n",
       "    <tr>\n",
       "      <th>16</th>\n",
       "      <td>0.650000</td>\n",
       "      <td>0.260870</td>\n",
       "      <td>0.333333</td>\n",
       "      <td>0.833333</td>\n",
       "      <td>0.333333</td>\n",
       "      <td>0.028571</td>\n",
       "      <td>0.039776</td>\n",
       "    </tr>\n",
       "    <tr>\n",
       "      <th>17</th>\n",
       "      <td>0.900000</td>\n",
       "      <td>0.565217</td>\n",
       "      <td>0.333333</td>\n",
       "      <td>1.000000</td>\n",
       "      <td>0.288889</td>\n",
       "      <td>0.371429</td>\n",
       "      <td>0.030861</td>\n",
       "    </tr>\n",
       "    <tr>\n",
       "      <th>18</th>\n",
       "      <td>0.583333</td>\n",
       "      <td>0.652174</td>\n",
       "      <td>0.333333</td>\n",
       "      <td>0.166667</td>\n",
       "      <td>0.355556</td>\n",
       "      <td>0.742857</td>\n",
       "      <td>0.021839</td>\n",
       "    </tr>\n",
       "    <tr>\n",
       "      <th>19</th>\n",
       "      <td>0.216667</td>\n",
       "      <td>0.782609</td>\n",
       "      <td>1.000000</td>\n",
       "      <td>0.000000</td>\n",
       "      <td>0.755556</td>\n",
       "      <td>0.514286</td>\n",
       "      <td>0.011377</td>\n",
       "    </tr>\n",
       "    <tr>\n",
       "      <th>20</th>\n",
       "      <td>0.483333</td>\n",
       "      <td>0.086957</td>\n",
       "      <td>1.000000</td>\n",
       "      <td>0.333333</td>\n",
       "      <td>0.555556</td>\n",
       "      <td>0.714286</td>\n",
       "      <td>0.178687</td>\n",
       "    </tr>\n",
       "  </tbody>\n",
       "</table>\n",
       "</div>"
      ],
      "text/plain": [
       "         day      hour       min       dow       lat      long    demand\n",
       "0   0.400000  0.608696  0.000000  0.666667  0.466667  0.200000  0.079452\n",
       "1   0.350000  0.217391  0.666667  0.166667  0.711111  0.885714  0.077979\n",
       "2   0.516667  0.043478  1.000000  0.666667  0.133333  0.285714  0.301448\n",
       "3   0.016667  0.652174  0.666667  0.333333  0.200000  0.542857  0.012222\n",
       "4   0.533333  0.043478  0.333333  0.833333  0.600000  0.228571  0.341291\n",
       "5   0.666667  0.173913  0.666667  1.000000  0.600000  0.685714  0.363646\n",
       "6   0.633333  0.391304  0.666667  0.666667  0.533333  0.885714  0.003396\n",
       "7   0.616667  0.130435  0.333333  0.500000  0.577778  0.485714  0.175918\n",
       "8   0.966667  0.043478  0.333333  0.500000  0.466667  0.342857  0.227344\n",
       "9   0.650000  0.130435  0.333333  0.833333  0.822222  0.200000  0.032137\n",
       "10  0.000000  0.739130  0.000000  0.166667  0.733333  0.257143  0.014844\n",
       "11  0.666667  0.304348  0.666667  1.000000  0.711111  0.657143  0.100477\n",
       "12  0.316667  0.173913  0.333333  1.000000  0.155556  0.657143  0.214785\n",
       "13  0.233333  1.000000  0.000000  0.166667  0.977778  0.914286  0.009046\n",
       "14  0.400000  0.173913  0.666667  0.666667  0.511111  0.200000  0.035133\n",
       "15  0.650000  0.000000  0.000000  0.833333  0.222222  0.771429  0.006201\n",
       "16  0.650000  0.260870  0.333333  0.833333  0.333333  0.028571  0.039776\n",
       "17  0.900000  0.565217  0.333333  1.000000  0.288889  0.371429  0.030861\n",
       "18  0.583333  0.652174  0.333333  0.166667  0.355556  0.742857  0.021839\n",
       "19  0.216667  0.782609  1.000000  0.000000  0.755556  0.514286  0.011377\n",
       "20  0.483333  0.086957  1.000000  0.333333  0.555556  0.714286  0.178687"
      ]
     },
     "execution_count": 51,
     "metadata": {},
     "output_type": "execute_result"
    }
   ],
   "source": [
    "xls  = pd.ExcelFile('data/test_sample.xlsx')\n",
    "test_sample = pd.read_excel(xls, 'TrafficMgmt')\n",
    "test_sample"
   ]
  },
  {
   "cell_type": "code",
   "execution_count": 5,
   "metadata": {},
   "outputs": [
    {
     "data": {
      "text/html": [
       "<div>\n",
       "<style scoped>\n",
       "    .dataframe tbody tr th:only-of-type {\n",
       "        vertical-align: middle;\n",
       "    }\n",
       "\n",
       "    .dataframe tbody tr th {\n",
       "        vertical-align: top;\n",
       "    }\n",
       "\n",
       "    .dataframe thead th {\n",
       "        text-align: right;\n",
       "    }\n",
       "</style>\n",
       "<table border=\"1\" class=\"dataframe\">\n",
       "  <thead>\n",
       "    <tr style=\"text-align: right;\">\n",
       "      <th></th>\n",
       "      <th>day</th>\n",
       "      <th>hour</th>\n",
       "      <th>min</th>\n",
       "      <th>dow</th>\n",
       "      <th>lat</th>\n",
       "      <th>long</th>\n",
       "      <th>demand</th>\n",
       "    </tr>\n",
       "  </thead>\n",
       "  <tbody>\n",
       "    <tr>\n",
       "      <th>0</th>\n",
       "      <td>0.283333</td>\n",
       "      <td>0.869565</td>\n",
       "      <td>0.000000</td>\n",
       "      <td>0.666667</td>\n",
       "      <td>0.533333</td>\n",
       "      <td>0.171429</td>\n",
       "      <td>0.020072</td>\n",
       "    </tr>\n",
       "    <tr>\n",
       "      <th>1</th>\n",
       "      <td>0.150000</td>\n",
       "      <td>0.608696</td>\n",
       "      <td>0.666667</td>\n",
       "      <td>0.500000</td>\n",
       "      <td>0.288889</td>\n",
       "      <td>0.200000</td>\n",
       "      <td>0.024721</td>\n",
       "    </tr>\n",
       "    <tr>\n",
       "      <th>2</th>\n",
       "      <td>0.133333</td>\n",
       "      <td>0.260870</td>\n",
       "      <td>0.333333</td>\n",
       "      <td>0.333333</td>\n",
       "      <td>0.644444</td>\n",
       "      <td>0.828571</td>\n",
       "      <td>0.102821</td>\n",
       "    </tr>\n",
       "    <tr>\n",
       "      <th>3</th>\n",
       "      <td>0.516667</td>\n",
       "      <td>0.217391</td>\n",
       "      <td>0.000000</td>\n",
       "      <td>0.666667</td>\n",
       "      <td>0.533333</td>\n",
       "      <td>0.428571</td>\n",
       "      <td>0.088755</td>\n",
       "    </tr>\n",
       "    <tr>\n",
       "      <th>4</th>\n",
       "      <td>0.233333</td>\n",
       "      <td>0.173913</td>\n",
       "      <td>0.000000</td>\n",
       "      <td>0.166667</td>\n",
       "      <td>0.288889</td>\n",
       "      <td>0.342857</td>\n",
       "      <td>0.074468</td>\n",
       "    </tr>\n",
       "    <tr>\n",
       "      <th>...</th>\n",
       "      <td>...</td>\n",
       "      <td>...</td>\n",
       "      <td>...</td>\n",
       "      <td>...</td>\n",
       "      <td>...</td>\n",
       "      <td>...</td>\n",
       "      <td>...</td>\n",
       "    </tr>\n",
       "    <tr>\n",
       "      <th>1048570</th>\n",
       "      <td>0.083333</td>\n",
       "      <td>0.347826</td>\n",
       "      <td>0.666667</td>\n",
       "      <td>1.000000</td>\n",
       "      <td>0.911111</td>\n",
       "      <td>0.771429</td>\n",
       "      <td>0.024022</td>\n",
       "    </tr>\n",
       "    <tr>\n",
       "      <th>1048571</th>\n",
       "      <td>0.366667</td>\n",
       "      <td>0.652174</td>\n",
       "      <td>0.666667</td>\n",
       "      <td>0.333333</td>\n",
       "      <td>0.111111</td>\n",
       "      <td>0.400000</td>\n",
       "      <td>0.005703</td>\n",
       "    </tr>\n",
       "    <tr>\n",
       "      <th>1048572</th>\n",
       "      <td>0.683333</td>\n",
       "      <td>0.652174</td>\n",
       "      <td>1.000000</td>\n",
       "      <td>0.000000</td>\n",
       "      <td>0.533333</td>\n",
       "      <td>0.200000</td>\n",
       "      <td>0.067131</td>\n",
       "    </tr>\n",
       "    <tr>\n",
       "      <th>1048573</th>\n",
       "      <td>0.016667</td>\n",
       "      <td>0.260870</td>\n",
       "      <td>0.666667</td>\n",
       "      <td>0.333333</td>\n",
       "      <td>0.711111</td>\n",
       "      <td>0.600000</td>\n",
       "      <td>0.151323</td>\n",
       "    </tr>\n",
       "    <tr>\n",
       "      <th>1048574</th>\n",
       "      <td>0.066667</td>\n",
       "      <td>0.434783</td>\n",
       "      <td>1.000000</td>\n",
       "      <td>0.833333</td>\n",
       "      <td>0.688889</td>\n",
       "      <td>0.800000</td>\n",
       "      <td>0.026007</td>\n",
       "    </tr>\n",
       "  </tbody>\n",
       "</table>\n",
       "<p>1048575 rows × 7 columns</p>\n",
       "</div>"
      ],
      "text/plain": [
       "              day      hour       min       dow       lat      long    demand\n",
       "0        0.283333  0.869565  0.000000  0.666667  0.533333  0.171429  0.020072\n",
       "1        0.150000  0.608696  0.666667  0.500000  0.288889  0.200000  0.024721\n",
       "2        0.133333  0.260870  0.333333  0.333333  0.644444  0.828571  0.102821\n",
       "3        0.516667  0.217391  0.000000  0.666667  0.533333  0.428571  0.088755\n",
       "4        0.233333  0.173913  0.000000  0.166667  0.288889  0.342857  0.074468\n",
       "...           ...       ...       ...       ...       ...       ...       ...\n",
       "1048570  0.083333  0.347826  0.666667  1.000000  0.911111  0.771429  0.024022\n",
       "1048571  0.366667  0.652174  0.666667  0.333333  0.111111  0.400000  0.005703\n",
       "1048572  0.683333  0.652174  1.000000  0.000000  0.533333  0.200000  0.067131\n",
       "1048573  0.016667  0.260870  0.666667  0.333333  0.711111  0.600000  0.151323\n",
       "1048574  0.066667  0.434783  1.000000  0.833333  0.688889  0.800000  0.026007\n",
       "\n",
       "[1048575 rows x 7 columns]"
      ]
     },
     "execution_count": 5,
     "metadata": {},
     "output_type": "execute_result"
    }
   ],
   "source": [
    "xls  = pd.ExcelFile('data/Dataset_feature.xlsx')\n",
    "data = pd.read_excel(xls, 'TrafficMgmt')\n",
    "data"
   ]
  },
  {
   "cell_type": "code",
   "execution_count": 6,
   "metadata": {},
   "outputs": [],
   "source": [
    "predictor_var = ['day', 'hour', 'min', 'dow', 'lat', 'long']\n",
    "outcome_var   = 'demand'"
   ]
  },
  {
   "cell_type": "markdown",
   "metadata": {},
   "source": [
    "#### Prepare training & test data\n",
    "- Since this is a time series dataset, we can try using LSTM \n",
    "- and create a time series of say 20"
   ]
  },
  {
   "cell_type": "code",
   "execution_count": 7,
   "metadata": {},
   "outputs": [
    {
     "data": {
      "text/plain": [
       "array([[0.28333333, 0.86956522, 0.        , ..., 0.53333333, 0.17142857,\n",
       "        0.02007179],\n",
       "       [0.15      , 0.60869565, 0.66666667, ..., 0.28888889, 0.2       ,\n",
       "        0.02472097],\n",
       "       [0.13333333, 0.26086957, 0.33333333, ..., 0.64444444, 0.82857143,\n",
       "        0.10282096],\n",
       "       ...,\n",
       "       [0.68333333, 0.65217391, 1.        , ..., 0.53333333, 0.2       ,\n",
       "        0.06713131],\n",
       "       [0.01666667, 0.26086957, 0.66666667, ..., 0.71111111, 0.6       ,\n",
       "        0.15132309],\n",
       "       [0.06666667, 0.43478261, 1.        , ..., 0.68888889, 0.8       ,\n",
       "        0.02600688]])"
      ]
     },
     "execution_count": 7,
     "metadata": {},
     "output_type": "execute_result"
    }
   ],
   "source": [
    "dataset = data.to_numpy()\n",
    "dataset"
   ]
  },
  {
   "cell_type": "code",
   "execution_count": 8,
   "metadata": {},
   "outputs": [
    {
     "name": "stdout",
     "output_type": "stream",
     "text": [
      "(1048572, 3, 6) (1048572, 2)\n"
     ]
    }
   ],
   "source": [
    "# covert into input/output\n",
    "X, y = split_sequences(dataset, n_steps_in, predict_next_no_of_output)\n",
    "print(X.shape, y.shape)"
   ]
  },
  {
   "cell_type": "markdown",
   "metadata": {},
   "source": [
    "#### Train-test-val dataset split"
   ]
  },
  {
   "cell_type": "code",
   "execution_count": 9,
   "metadata": {},
   "outputs": [],
   "source": [
    "X_train, X_test, y_train, y_test = train_test_split(X, y, test_size=0.2, random_state=42,shuffle=False)\n",
    "\n",
    "X_train, X_val, y_train, y_val = train_test_split(X_train, y_train, test_size=0.2, random_state=42,shuffle=False)"
   ]
  },
  {
   "cell_type": "code",
   "execution_count": 10,
   "metadata": {},
   "outputs": [
    {
     "data": {
      "text/plain": [
       "3"
      ]
     },
     "execution_count": 10,
     "metadata": {},
     "output_type": "execute_result"
    }
   ],
   "source": [
    "X_train.shape[1]"
   ]
  },
  {
   "cell_type": "code",
   "execution_count": 11,
   "metadata": {},
   "outputs": [
    {
     "data": {
      "text/plain": [
       "6"
      ]
     },
     "execution_count": 11,
     "metadata": {},
     "output_type": "execute_result"
    }
   ],
   "source": [
    "X_train.shape[2]"
   ]
  },
  {
   "cell_type": "code",
   "execution_count": 12,
   "metadata": {},
   "outputs": [
    {
     "data": {
      "text/plain": [
       "(209715, 3, 6)"
      ]
     },
     "execution_count": 12,
     "metadata": {},
     "output_type": "execute_result"
    }
   ],
   "source": [
    "X_test.shape"
   ]
  },
  {
   "cell_type": "code",
   "execution_count": 13,
   "metadata": {
    "scrolled": true
   },
   "outputs": [],
   "source": [
    "X_train1 = np.asarray(X_train)\n",
    "y_train1 = np.asarray(y_train)\n",
    "X_test1  = np.asarray(X_test)\n",
    "y_test1  = np.asarray(y_test)\n",
    "X_val1   = np.asarray(X_val)\n",
    "y_val1   = np.asarray(y_val)"
   ]
  },
  {
   "cell_type": "code",
   "execution_count": 14,
   "metadata": {},
   "outputs": [
    {
     "data": {
      "text/plain": [
       "(167772, 3, 6)"
      ]
     },
     "execution_count": 14,
     "metadata": {},
     "output_type": "execute_result"
    }
   ],
   "source": [
    "X_val1.shape"
   ]
  },
  {
   "cell_type": "code",
   "execution_count": 15,
   "metadata": {},
   "outputs": [
    {
     "data": {
      "text/plain": [
       "(167772, 2)"
      ]
     },
     "execution_count": 15,
     "metadata": {},
     "output_type": "execute_result"
    }
   ],
   "source": [
    "y_val1.shape"
   ]
  },
  {
   "cell_type": "markdown",
   "metadata": {},
   "source": [
    "<h2><center>Create Model and test</center><h2>"
   ]
  },
  {
   "cell_type": "markdown",
   "metadata": {},
   "source": [
    "<h3>LSTM<h3>"
   ]
  },
  {
   "cell_type": "code",
   "execution_count": 16,
   "metadata": {},
   "outputs": [
    {
     "name": "stdout",
     "output_type": "stream",
     "text": [
      "Model: \"model\"\n",
      "_________________________________________________________________\n",
      "Layer (type)                 Output Shape              Param #   \n",
      "=================================================================\n",
      "input_1 (InputLayer)         [(None, 3, 6)]            0         \n",
      "_________________________________________________________________\n",
      "lstm (LSTM)                  (None, 3, 64)             18176     \n",
      "_________________________________________________________________\n",
      "batch_normalization (BatchNo (None, 3, 64)             256       \n",
      "_________________________________________________________________\n",
      "lstm_1 (LSTM)                (None, 3, 64)             33024     \n",
      "_________________________________________________________________\n",
      "batch_normalization_1 (Batch (None, 3, 64)             256       \n",
      "_________________________________________________________________\n",
      "lstm_2 (LSTM)                (None, 32)                12416     \n",
      "_________________________________________________________________\n",
      "batch_normalization_2 (Batch (None, 32)                128       \n",
      "_________________________________________________________________\n",
      "dense (Dense)                (None, 2)                 66        \n",
      "=================================================================\n",
      "Total params: 64,322\n",
      "Trainable params: 64,002\n",
      "Non-trainable params: 320\n",
      "_________________________________________________________________\n"
     ]
    }
   ],
   "source": [
    "model = createModel()\n",
    "model.summary()"
   ]
  },
  {
   "cell_type": "code",
   "execution_count": 17,
   "metadata": {},
   "outputs": [],
   "source": [
    "model.compile(loss='mse',optimizer='adam', metrics=['mse', 'mae'])"
   ]
  },
  {
   "cell_type": "code",
   "execution_count": 18,
   "metadata": {},
   "outputs": [],
   "source": [
    "# Create checkpoints to save model during training and save training data into csv\n",
    "# ‘monitor’ can be ‘val_acc’ or ‘val_loss’\n",
    "# When set to ‘val_acc’, ‘mode’ must be ‘max’; when set to ‘val_loss’, ‘mode’ must be ‘min’\n",
    "\n",
    "filepath       = modelname + \".hdf5\"\n",
    "checkpoint     = ModelCheckpoint(filepath, monitor='val_loss',verbose=0,save_best_only=True,mode='min') \n",
    "csv_logger     = CSVLogger(modelname + '.csv')\n",
    "callbacks_list = [checkpoint,csv_logger]"
   ]
  },
  {
   "cell_type": "code",
   "execution_count": 19,
   "metadata": {},
   "outputs": [
    {
     "name": "stdout",
     "output_type": "stream",
     "text": [
      "Train on 671085 samples, validate on 167772 samples\n",
      "Epoch 1/10\n",
      "671085/671085 [==============================] - 9s 13us/sample - loss: 0.1695 - mse: 0.1695 - mae: 0.3666 - val_loss: 0.0882 - val_mse: 0.0882 - val_mae: 0.2820\n",
      "Epoch 2/10\n",
      "671085/671085 [==============================] - 2s 4us/sample - loss: 0.0652 - mse: 0.0652 - mae: 0.2222 - val_loss: 0.0312 - val_mse: 0.0312 - val_mae: 0.1415\n",
      "Epoch 3/10\n",
      "671085/671085 [==============================] - 2s 3us/sample - loss: 0.0301 - mse: 0.0301 - mae: 0.1298 - val_loss: 0.0256 - val_mse: 0.0256 - val_mae: 0.1069\n",
      "Epoch 4/10\n",
      "671085/671085 [==============================] - 2s 3us/sample - loss: 0.0261 - mse: 0.0261 - mae: 0.1065 - val_loss: 0.0252 - val_mse: 0.0252 - val_mae: 0.0995\n",
      "Epoch 5/10\n",
      "671085/671085 [==============================] - 2s 3us/sample - loss: 0.0256 - mse: 0.0256 - mae: 0.1001 - val_loss: 0.0252 - val_mse: 0.0252 - val_mae: 0.0976\n",
      "Epoch 6/10\n",
      "671085/671085 [==============================] - 2s 3us/sample - loss: 0.0255 - mse: 0.0255 - mae: 0.0980 - val_loss: 0.0252 - val_mse: 0.0252 - val_mae: 0.0961\n",
      "Epoch 7/10\n",
      "671085/671085 [==============================] - 2s 3us/sample - loss: 0.0254 - mse: 0.0254 - mae: 0.0973 - val_loss: 0.0252 - val_mse: 0.0252 - val_mae: 0.0963\n",
      "Epoch 8/10\n",
      "671085/671085 [==============================] - 2s 3us/sample - loss: 0.0254 - mse: 0.0254 - mae: 0.0971 - val_loss: 0.0252 - val_mse: 0.0252 - val_mae: 0.0963\n",
      "Epoch 9/10\n",
      "671085/671085 [==============================] - 2s 3us/sample - loss: 0.0254 - mse: 0.0254 - mae: 0.0971 - val_loss: 0.0252 - val_mse: 0.0252 - val_mae: 0.0960\n",
      "Epoch 10/10\n",
      "671085/671085 [==============================] - 2s 3us/sample - loss: 0.0254 - mse: 0.0254 - mae: 0.0971 - val_loss: 0.0252 - val_mse: 0.0252 - val_mae: 0.0962\n"
     ]
    }
   ],
   "source": [
    "# The line for training\n",
    "hisgtory = model.fit(X_train1, \n",
    "                     y_train1, \n",
    "                     validation_data=(X_val1, y_val1), \n",
    "                     epochs=no_of_epoch, \n",
    "                     batch_size=batch_size,\n",
    "                     shuffle=False,\n",
    "                     callbacks=callbacks_list) "
   ]
  },
  {
   "cell_type": "markdown",
   "metadata": {},
   "source": [
    "### Test dataset test result"
   ]
  },
  {
   "cell_type": "code",
   "execution_count": 21,
   "metadata": {},
   "outputs": [
    {
     "name": "stdout",
     "output_type": "stream",
     "text": [
      "0.025289033841066164\n"
     ]
    }
   ],
   "source": [
    "predicted_value = model.predict(X_test1)\n",
    "print(mean_squared_error(y_test1,predicted_value))"
   ]
  },
  {
   "cell_type": "code",
   "execution_count": 3,
   "metadata": {},
   "outputs": [
    {
     "data": {
      "image/png": "[encoded data removed]",
      "text/plain": [
       "<Figure size 1080x720 with 1 Axes>"
      ]
     },
     "metadata": {
      "needs_background": "light"
     },
     "output_type": "display_data"
    }
   ],
   "source": [
    "records     = pd.read_csv(modelname +'.csv')\n",
    "plt.figure(figsize=(15,10))\n",
    "\n",
    "ax          = plt.gca()\n",
    "ax.set_xticklabels([])\n",
    "\n",
    "plt.plot(records['val_mae'],label=\"val_mae\")\n",
    "plt.plot(records['val_loss'],label=\"val_loss\")\n",
    "plt.plot(records['loss'],label=\"loss\")\n",
    "plt.title('MAE',fontsize=12)\n",
    "plt.legend(loc=\"upper left\",fontsize=15)\n",
    "\n",
    "plt.show()\n",
    "\n"
   ]
  },
  {
   "cell_type": "code",
   "execution_count": 23,
   "metadata": {},
   "outputs": [],
   "source": [
    "# Load your own trained model\n",
    "model = load_model(filepath, compile = False)"
   ]
  },
  {
   "cell_type": "markdown",
   "metadata": {},
   "source": [
    "### Sample Testing "
   ]
  },
  {
   "cell_type": "code",
   "execution_count": 26,
   "metadata": {},
   "outputs": [],
   "source": [
    "scaler_filename = \"grab_msft_scaler.save\"\n",
    "scaler          = joblib.load(scaler_filename) "
   ]
  },
  {
   "cell_type": "markdown",
   "metadata": {},
   "source": [
    "#### First set of testdata"
   ]
  },
  {
   "cell_type": "code",
   "execution_count": 68,
   "metadata": {},
   "outputs": [],
   "source": [
    "# Apply Standardscalar to sample test data\n",
    "test_sample[predictor_var] = scaler.fit_transform(test_sample[predictor_var])"
   ]
  },
  {
   "cell_type": "code",
   "execution_count": 69,
   "metadata": {},
   "outputs": [
    {
     "name": "stdout",
     "output_type": "stream",
     "text": [
      "(18, 3, 6) (18, 2)\n"
     ]
    }
   ],
   "source": [
    "# covert into input/output\n",
    "test_sample_array = test_sample.to_numpy()\n",
    "X_sample, y_sample = split_sequences(test_sample_array, n_steps_in, predict_next_no_of_output)\n",
    "print(X_sample.shape, y_sample.shape)"
   ]
  },
  {
   "cell_type": "code",
   "execution_count": 63,
   "metadata": {},
   "outputs": [
    {
     "data": {
      "text/plain": [
       "(18, 3, 6)"
      ]
     },
     "execution_count": 63,
     "metadata": {},
     "output_type": "execute_result"
    }
   ],
   "source": [
    "X_sample1 = np.asarray(X_sample)\n",
    "y_sample1 = np.asarray(y_sample)\n",
    "X_sample1.shape"
   ]
  },
  {
   "cell_type": "code",
   "execution_count": 66,
   "metadata": {},
   "outputs": [
    {
     "name": "stdout",
     "output_type": "stream",
     "text": [
      "Predicted value : [[0.106701   0.1066863 ]\n",
      " [0.10530251 0.10749331]\n",
      " [0.09554179 0.10477715]\n",
      " [0.10759439 0.10602061]\n",
      " [0.10633717 0.10533115]\n",
      " [0.10285458 0.10423035]\n",
      " [0.10089549 0.102951  ]\n",
      " [0.10006124 0.10260079]\n",
      " [0.09990132 0.1043356 ]\n",
      " [0.10211486 0.10527955]\n",
      " [0.10334561 0.10461196]\n",
      " [0.10482468 0.10793282]\n",
      " [0.10657437 0.10517225]\n",
      " [0.10218664 0.10585361]\n",
      " [0.10349477 0.1044281 ]\n",
      " [0.10088232 0.10581814]\n",
      " [0.10039009 0.10468581]\n",
      " [0.10005248 0.10474109]] \n",
      " Actual Value    : [[0.30144827 0.01222179]\n",
      " [0.01222179 0.3412908 ]\n",
      " [0.3412908  0.36364563]\n",
      " [0.36364563 0.00339634]\n",
      " [0.00339634 0.17591761]\n",
      " [0.17591761 0.22734446]\n",
      " [0.22734446 0.03213684]\n",
      " [0.03213684 0.0148439 ]\n",
      " [0.0148439  0.10047717]\n",
      " [0.10047717 0.21478451]\n",
      " [0.21478451 0.00904605]\n",
      " [0.00904605 0.03513281]\n",
      " [0.03513281 0.00620095]\n",
      " [0.00620095 0.03977563]\n",
      " [0.03977563 0.03086107]\n",
      " [0.03086107 0.02183922]\n",
      " [0.02183922 0.01137701]\n",
      " [0.01137701 0.17868729]]\n"
     ]
    }
   ],
   "source": [
    "predicted_value = model.predict(X_sample1)\n",
    "print('Predicted value : {} \\n Actual Value    : {}' .format(predicted_value,y_sample1))"
   ]
  },
  {
   "cell_type": "code",
   "execution_count": 67,
   "metadata": {},
   "outputs": [
    {
     "name": "stdout",
     "output_type": "stream",
     "text": [
      "0.01434587288650733\n"
     ]
    }
   ],
   "source": [
    "print(mean_squared_error(y_sample1,predicted_value))"
   ]
  },
  {
   "cell_type": "markdown",
   "metadata": {},
   "source": [
    "### single sample test"
   ]
  },
  {
   "cell_type": "code",
   "execution_count": null,
   "metadata": {},
   "outputs": [],
   "source": [
    "# Data input sequence format :\n",
    "test_data1  = [[18,20, 0, 4, -5.353088, 90.653687],\n",
    "               [10,14,30, 3, -5.413513, 90.664673],\n",
    "               [ 9, 6,15, 2, -5.325623, 90.906372]]\n",
    "test_data2  = [[32, 5, 0, 4, -5.353088, 90.752563],\n",
    "               [15, 4, 0, 1, -5.413513, 90.719604],\n",
    "               [ 1,12,15, 1, -5.336609, 90.609741]]\n",
    "test_data3  = [[25, 3,30, 4, -5.391541, 90.818481],\n",
    "               [51,20,45, 2, -5.408020, 90.631714],\n",
    "               [48, 6,15, 6, -5.364075, 90.763550]]\n",
    "test_data4  = [[ 4,22,15, 4, -5.402527, 90.675659],\n",
    "               [45, 9,15, 3, -5.402527, 90.917358],\n",
    "               [52,11,45, 3, -5.364075, 90.664673]]\n",
    "test_data5  = [[46,12,15, 4, -5.353088, 90.642700],\n",
    "               [34,14,45, 6, -5.375061, 90.807495],\n",
    "               [40, 2,30, 5, -5.424500, 90.785522]]\n",
    "test_data6  = [[14,14,45, 0, -5.391541, 90.598755],\n",
    "               [27, 3,30, 6, -5.320129, 90.785522],\n",
    "               [ 6,23,45, 6, -5.358582, 90.752563]]\n",
    "test_data7  = [[48,11,30, 6, -5.391541, 90.609741],\n",
    "                [17,23,45, 3, -5.292664, 90.829468],\n",
    "                [56,10, 0, 0, -5.413513, 90.774536]]\n",
    "\n",
    "test_target1 = [[0.102821],[0.088755]]\n",
    "test_target2 = [[0.023843],[0.007460]]\n",
    "test_target3 = [[0.054170],[0.123463]]\n",
    "test_target4 = [[0.359406],[0.514136]]\n",
    "test_target5 = [[0.026409],[0.013998]]\n",
    "test_target6 = [[0.029400],[0.057255]]\n",
    "test_target7 = [[0.008772],[0.119240]]"
   ]
  },
  {
   "cell_type": "code",
   "execution_count": 28,
   "metadata": {},
   "outputs": [
    {
     "name": "stdout",
     "output_type": "stream",
     "text": [
      "Predicted value : [[0.10555367 0.10338729]]\n",
      "Actual Value    : [[0.023843], [0.00746]]\n"
     ]
    }
   ],
   "source": [
    "Data_scaled = scaler.transform(test_data2)\n",
    "Data_scaled = Data_scaled.reshape(1,n_steps_in,6)\n",
    "predicted_value = model.predict(Data_scaled)\n",
    "print('Predicted value : {}\\nActual Value    : {}' .format(predicted_value,test_target2))"
   ]
  },
  {
   "cell_type": "code",
   "execution_count": 29,
   "metadata": {},
   "outputs": [
    {
     "name": "stdout",
     "output_type": "stream",
     "text": [
      "Predicted value : [[0.09916046 0.10220674]]\n",
      "Actual Value    : [[0.05417], [0.123463]]\n"
     ]
    }
   ],
   "source": [
    "Data_scaled = scaler.transform(test_data3)\n",
    "Data_scaled = Data_scaled.reshape(1,n_steps_in,6)\n",
    "predicted_value = model.predict(Data_scaled)\n",
    "print('Predicted value : {}\\nActual Value    : {}' .format(predicted_value,test_target3))"
   ]
  },
  {
   "cell_type": "code",
   "execution_count": 30,
   "metadata": {},
   "outputs": [
    {
     "name": "stdout",
     "output_type": "stream",
     "text": [
      "Predicted value : [[0.10783877 0.10635397]]\n",
      "Actual Value    : [[0.359406], [0.514136]]\n"
     ]
    }
   ],
   "source": [
    "Data_scaled = scaler.transform(test_data4)\n",
    "Data_scaled = Data_scaled.reshape(1,n_steps_in,6)\n",
    "predicted_value = model.predict(Data_scaled)\n",
    "print('Predicted value : {}\\nActual Value    : {}' .format(predicted_value,test_target4))"
   ]
  },
  {
   "cell_type": "code",
   "execution_count": 31,
   "metadata": {},
   "outputs": [
    {
     "name": "stdout",
     "output_type": "stream",
     "text": [
      "Predicted value : [[0.09641825 0.10164828]]\n",
      "Actual Value    : [[0.026409], [0.013998]]\n"
     ]
    }
   ],
   "source": [
    "Data_scaled = scaler.transform(test_data5)\n",
    "Data_scaled = Data_scaled.reshape(1,n_steps_in,6)\n",
    "predicted_value = model.predict(Data_scaled)\n",
    "print('Predicted value : {}\\nActual Value    : {}' .format(predicted_value,test_target5))"
   ]
  },
  {
   "cell_type": "code",
   "execution_count": 32,
   "metadata": {},
   "outputs": [
    {
     "name": "stdout",
     "output_type": "stream",
     "text": [
      "Predicted value : [[0.10775322 0.10225873]]\n",
      "Actual Value    : [[0.0294], [0.057255]]\n"
     ]
    }
   ],
   "source": [
    "Data_scaled = scaler.transform(test_data6)\n",
    "Data_scaled = Data_scaled.reshape(1,n_steps_in,6)\n",
    "predicted_value = model.predict(Data_scaled)\n",
    "print('Predicted value : {}\\nActual Value    : {}' .format(predicted_value,test_target6))"
   ]
  }
 ],
 "metadata": {
  "kernelspec": {
   "display_name": "Python 3",
   "language": "python",
   "name": "python3"
  },
  "language_info": {
   "codemirror_mode": {
    "name": "ipython",
    "version": 3
   },
   "file_extension": ".py",
   "mimetype": "text/x-python",
   "name": "python",
   "nbconvert_exporter": "python",
   "pygments_lexer": "ipython3",
   "version": "3.6.10"
  }
 },
 "nbformat": 4,
 "nbformat_minor": 4
}
