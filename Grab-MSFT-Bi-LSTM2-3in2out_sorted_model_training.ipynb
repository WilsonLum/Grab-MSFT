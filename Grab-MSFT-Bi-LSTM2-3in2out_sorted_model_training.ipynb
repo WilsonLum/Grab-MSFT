{
 "cells": [
  {
   "cell_type": "markdown",
   "metadata": {},
   "source": [
    "# Grab-Microsoft Challenge \n",
    "## Traffic Management\n",
    "\n",
    "- geohash6: geohash is a public domain geocoding system which encodes a geographic location into a short string of letters and digits with arbitrary precision. You are free to use any geohash library to encode/decode the geohashes into latitude and longitude or vice versa.(Examples:https://github.com/hkwi/python-geohash)\n",
    "- day: the value indicates the sequential order and not a particular day of the month\n",
    "- timestamp: start time of 15-minute intervals in the following format: <hour>:<minute>, where hour ranges from 0 to 23 and minute is either one of (0, 15, 30, 45)\n",
    "- demand: aggregated demand normalised to be in the range [0,1]\n",
    "    \n",
    "## Problem Statements:\n",
    "- Which areas have high / low traffic demand?\n",
    "- How does regional traffic demand change according to day / time?\n",
    "- Forecast the travel demand for next 15min / 1hour and predict areas with high travel demand"
   ]
  },
  {
   "cell_type": "markdown",
   "metadata": {},
   "source": [
    "### This is train LSTM model "
   ]
  },
  {
   "cell_type": "markdown",
   "metadata": {},
   "source": [
    "#### Import python library"
   ]
  },
  {
   "cell_type": "code",
   "execution_count": 1,
   "metadata": {},
   "outputs": [],
   "source": [
    "import numpy as np\n",
    "from numpy import array\n",
    "import pandas as pd\n",
    "import matplotlib.pyplot as plt\n",
    "\n",
    "# plot matplotlib graph\n",
    "%matplotlib inline\n",
    "\n",
    "#Import models from scikit learn module:\n",
    "from sklearn.metrics import mean_squared_error\n",
    "from tensorflow.keras.models import Sequential, load_model\n",
    "from tensorflow.keras.layers import Dense, Flatten, LSTM, BatchNormalization, Bidirectional\n",
    "from tensorflow.keras import regularizers\n",
    "from sklearn.model_selection import train_test_split\n",
    "\n",
    "import h5py\n",
    "import sklearn.metrics as metrics\n",
    "from tensorflow.keras.callbacks import ModelCheckpoint,CSVLogger\n",
    "from tensorflow.keras.models import Model\n",
    "from tensorflow.keras.layers import Input\n",
    "from tensorflow.keras.layers import LSTM\n",
    "from tensorflow.keras.utils import plot_model \n",
    "\n",
    "import pickle\n",
    "import joblib\n"
   ]
  },
  {
   "cell_type": "code",
   "execution_count": 2,
   "metadata": {},
   "outputs": [],
   "source": [
    "import os \n",
    "os.environ[\"CUDA_VISIBLE_DEVICES\"]=\"0\""
   ]
  },
  {
   "cell_type": "markdown",
   "metadata": {},
   "source": [
    "### Define Variables"
   ]
  },
  {
   "cell_type": "code",
   "execution_count": 3,
   "metadata": {},
   "outputs": [],
   "source": [
    "seed = 7\n",
    "np.random.seed(seed)\n",
    "modelname   = 'Bi-LSTM2-3in2out_sorted'\n",
    "batch_size  = 8192\n",
    "no_of_epoch = 20\n",
    "no_of_train = 0.8\n",
    "\n",
    "# choose a number of time steps\n",
    "n_steps_in, predict_next_no_of_output = 3, 2"
   ]
  },
  {
   "cell_type": "markdown",
   "metadata": {},
   "source": [
    "### Define Function"
   ]
  },
  {
   "cell_type": "code",
   "execution_count": 5,
   "metadata": {},
   "outputs": [],
   "source": [
    "def createModel(): \n",
    "    inputs  = Input(shape=(X_train.shape[1],X_train.shape[2]))\n",
    "    y = Bidirectional(LSTM(units=64, return_sequences=True, dropout=0.2, recurrent_dropout=0.2))(inputs)\n",
    "    y = BatchNormalization()(y)\n",
    "    y = Bidirectional(LSTM(units=128, return_sequences=True, dropout=0.3, recurrent_dropout=0.3))(y)\n",
    "    y = BatchNormalization()(y)\n",
    "    y = Bidirectional(LSTM(units=128, return_sequences=True, dropout=0.4, recurrent_dropout=0.4))(y)\n",
    "    y = BatchNormalization()(y)\n",
    "    y = Bidirectional(LSTM(units=64, dropout=0.5, recurrent_dropout=0.5))(y)\n",
    "    y = BatchNormalization()(y)\n",
    "    y = Dense(predict_next_no_of_output, activation='sigmoid')(y)\n",
    "  \n",
    "    model = Model(inputs=inputs,outputs=y)\n",
    "    model.compile(loss='mse',optimizer='adam', metrics=['mse', 'mae'])\n",
    "    return model\n",
    "\n",
    "# split a multivariate sequence into samples\n",
    "def split_sequences(sequences, n_steps_in, n_steps_out):\n",
    "    X, y = list(), list()\n",
    "    for i in range(len(sequences)):\n",
    "        # find the end of this pattern\n",
    "        end_ix = i + n_steps_in\n",
    "        out_end_ix = end_ix + n_steps_out-1\n",
    "        # check if we are beyond the dataset\n",
    "        if out_end_ix > len(sequences):\n",
    "            break\n",
    "        # gather input and output parts of the pattern\n",
    "        seq_x, seq_y = sequences[i:end_ix, :-1], sequences[end_ix-1:out_end_ix, -1]\n",
    "        X.append(seq_x)\n",
    "        y.append(seq_y)\n",
    "    return array(X), array(y)"
   ]
  },
  {
   "cell_type": "markdown",
   "metadata": {},
   "source": [
    "#### Reading from Preprocessed"
   ]
  },
  {
   "cell_type": "code",
   "execution_count": 6,
   "metadata": {},
   "outputs": [],
   "source": [
    "xls  = pd.ExcelFile('data/Dataset_feature_sorted.xlsx')\n",
    "data = pd.read_excel(xls, 'TrafficMgmt')"
   ]
  },
  {
   "cell_type": "code",
   "execution_count": 7,
   "metadata": {},
   "outputs": [],
   "source": [
    "predictor_var  = ['day', 'hour', 'min', 'lat', 'long']\n",
    "outcome_var    = 'demand'\n",
    "no_of_features = len(predictor_var)"
   ]
  },
  {
   "cell_type": "markdown",
   "metadata": {},
   "source": [
    "#### Prepare training & test data\n",
    "- Since this is a time series dataset, we can try using LSTM "
   ]
  },
  {
   "cell_type": "code",
   "execution_count": 8,
   "metadata": {},
   "outputs": [],
   "source": [
    "dataset = data.to_numpy()"
   ]
  },
  {
   "cell_type": "code",
   "execution_count": 9,
   "metadata": {},
   "outputs": [
    {
     "name": "stdout",
     "output_type": "stream",
     "text": [
      "(1048572, 3, 5) (1048572, 2)\n"
     ]
    }
   ],
   "source": [
    "# covert into input/output\n",
    "X, y = split_sequences(dataset, n_steps_in, predict_next_no_of_output)\n",
    "print(X.shape, y.shape)"
   ]
  },
  {
   "cell_type": "markdown",
   "metadata": {},
   "source": [
    "#### Train-test-val dataset split"
   ]
  },
  {
   "cell_type": "code",
   "execution_count": 10,
   "metadata": {},
   "outputs": [],
   "source": [
    "X_train1 = X[:int(no_of_train*len(X))]\n",
    "y_train1 = y[:int(no_of_train*len(X))]\n",
    "X_test  = X[int(no_of_train*len(X)):]\n",
    "y_test  = y[int(no_of_train*len(X)):]\n",
    "\n",
    "X_train = X_train1[:int(no_of_train*len(X_train1))]\n",
    "y_train = y_train1[:int(no_of_train*len(X_train1))]\n",
    "X_val   = X_train1[int(no_of_train*len(X_train1)):]\n",
    "y_val   = y_train1[int(no_of_train*len(X_train1)):]"
   ]
  },
  {
   "cell_type": "code",
   "execution_count": 11,
   "metadata": {},
   "outputs": [
    {
     "name": "stdout",
     "output_type": "stream",
     "text": [
      "(671085, 3, 5) (671085, 2) (209715, 3, 5) (209715, 2) (167772, 3, 5) (167772, 2)\n"
     ]
    }
   ],
   "source": [
    "print(X_train.shape, y_train.shape,X_test.shape, y_test.shape,X_val.shape, y_val.shape)"
   ]
  },
  {
   "cell_type": "markdown",
   "metadata": {},
   "source": [
    "<h2><center>Create Model and test</center><h2>"
   ]
  },
  {
   "cell_type": "markdown",
   "metadata": {},
   "source": [
    "<h3>LSTM<h3>"
   ]
  },
  {
   "cell_type": "code",
   "execution_count": 12,
   "metadata": {},
   "outputs": [
    {
     "name": "stdout",
     "output_type": "stream",
     "text": [
      "Model: \"model\"\n",
      "_________________________________________________________________\n",
      "Layer (type)                 Output Shape              Param #   \n",
      "=================================================================\n",
      "input_1 (InputLayer)         [(None, 3, 5)]            0         \n",
      "_________________________________________________________________\n",
      "bidirectional (Bidirectional (None, 3, 128)            35840     \n",
      "_________________________________________________________________\n",
      "batch_normalization (BatchNo (None, 3, 128)            512       \n",
      "_________________________________________________________________\n",
      "bidirectional_1 (Bidirection (None, 3, 256)            263168    \n",
      "_________________________________________________________________\n",
      "batch_normalization_1 (Batch (None, 3, 256)            1024      \n",
      "_________________________________________________________________\n",
      "bidirectional_2 (Bidirection (None, 3, 256)            394240    \n",
      "_________________________________________________________________\n",
      "batch_normalization_2 (Batch (None, 3, 256)            1024      \n",
      "_________________________________________________________________\n",
      "bidirectional_3 (Bidirection (None, 128)               164352    \n",
      "_________________________________________________________________\n",
      "batch_normalization_3 (Batch (None, 128)               512       \n",
      "_________________________________________________________________\n",
      "dense (Dense)                (None, 2)                 258       \n",
      "=================================================================\n",
      "Total params: 860,930\n",
      "Trainable params: 859,394\n",
      "Non-trainable params: 1,536\n",
      "_________________________________________________________________\n"
     ]
    }
   ],
   "source": [
    "model = createModel()\n",
    "model.summary()"
   ]
  },
  {
   "cell_type": "code",
   "execution_count": 13,
   "metadata": {},
   "outputs": [],
   "source": [
    "model.compile(loss='mse',optimizer='adam', metrics=['mse', 'mae'])"
   ]
  },
  {
   "cell_type": "code",
   "execution_count": 14,
   "metadata": {},
   "outputs": [],
   "source": [
    "# Create checkpoints to save model during training and save training data into csv\n",
    "# ‘monitor’ can be ‘val_acc’ or ‘val_loss’\n",
    "# When set to ‘val_acc’, ‘mode’ must be ‘max’; when set to ‘val_loss’, ‘mode’ must be ‘min’\n",
    "\n",
    "filepath       = modelname + \".hdf5\"\n",
    "checkpoint     = ModelCheckpoint(filepath, monitor='val_loss',verbose=0,save_best_only=True,mode='min') \n",
    "csv_logger     = CSVLogger(modelname + '.csv')\n",
    "callbacks_list = [checkpoint,csv_logger]"
   ]
  },
  {
   "cell_type": "code",
   "execution_count": 15,
   "metadata": {},
   "outputs": [
    {
     "name": "stdout",
     "output_type": "stream",
     "text": [
      "Train on 671085 samples, validate on 167772 samples\n",
      "Epoch 1/20\n",
      "671085/671085 [==============================] - 27s 40us/sample - loss: 0.1296 - mse: 0.1296 - mae: 0.3155 - val_loss: 0.0400 - val_mse: 0.0400 - val_mae: 0.1746\n",
      "Epoch 2/20\n",
      "671085/671085 [==============================] - 11s 16us/sample - loss: 0.0282 - mse: 0.0282 - mae: 0.1229 - val_loss: 0.0248 - val_mse: 0.0248 - val_mae: 0.0993\n",
      "Epoch 3/20\n",
      "671085/671085 [==============================] - 11s 16us/sample - loss: 0.0244 - mse: 0.0244 - mae: 0.0972 - val_loss: 0.0249 - val_mse: 0.0249 - val_mae: 0.0930\n",
      "Epoch 4/20\n",
      "671085/671085 [==============================] - 11s 16us/sample - loss: 0.0243 - mse: 0.0243 - mae: 0.0950 - val_loss: 0.0246 - val_mse: 0.0246 - val_mae: 0.0953\n",
      "Epoch 5/20\n",
      "671085/671085 [==============================] - 11s 16us/sample - loss: 0.0243 - mse: 0.0243 - mae: 0.0948 - val_loss: 0.0246 - val_mse: 0.0246 - val_mae: 0.0968\n",
      "Epoch 6/20\n",
      "671085/671085 [==============================] - 11s 16us/sample - loss: 0.0242 - mse: 0.0242 - mae: 0.0948 - val_loss: 0.0253 - val_mse: 0.0253 - val_mae: 0.0950\n",
      "Epoch 7/20\n",
      "671085/671085 [==============================] - 11s 16us/sample - loss: 0.0242 - mse: 0.0242 - mae: 0.0948 - val_loss: 0.0247 - val_mse: 0.0247 - val_mae: 0.0952\n",
      "Epoch 8/20\n",
      "671085/671085 [==============================] - 11s 16us/sample - loss: 0.0242 - mse: 0.0242 - mae: 0.0947 - val_loss: 0.0245 - val_mse: 0.0245 - val_mae: 0.0947\n",
      "Epoch 9/20\n",
      "671085/671085 [==============================] - 11s 16us/sample - loss: 0.0242 - mse: 0.0242 - mae: 0.0947 - val_loss: 0.0244 - val_mse: 0.0244 - val_mae: 0.0945\n",
      "Epoch 10/20\n",
      "671085/671085 [==============================] - 11s 16us/sample - loss: 0.0242 - mse: 0.0242 - mae: 0.0947 - val_loss: 0.0243 - val_mse: 0.0243 - val_mae: 0.0940\n",
      "Epoch 11/20\n",
      "671085/671085 [==============================] - 11s 16us/sample - loss: 0.0241 - mse: 0.0241 - mae: 0.0946 - val_loss: 0.0243 - val_mse: 0.0243 - val_mae: 0.0933\n",
      "Epoch 12/20\n",
      "671085/671085 [==============================] - 11s 16us/sample - loss: 0.0241 - mse: 0.0241 - mae: 0.0945 - val_loss: 0.0242 - val_mse: 0.0242 - val_mae: 0.0933\n",
      "Epoch 13/20\n",
      "671085/671085 [==============================] - 11s 16us/sample - loss: 0.0240 - mse: 0.0240 - mae: 0.0942 - val_loss: 0.0242 - val_mse: 0.0242 - val_mae: 0.0921\n",
      "Epoch 14/20\n",
      "671085/671085 [==============================] - 11s 16us/sample - loss: 0.0239 - mse: 0.0239 - mae: 0.0939 - val_loss: 0.0244 - val_mse: 0.0244 - val_mae: 0.0921\n",
      "Epoch 15/20\n",
      "671085/671085 [==============================] - 11s 16us/sample - loss: 0.0238 - mse: 0.0238 - mae: 0.0937 - val_loss: 0.0245 - val_mse: 0.0245 - val_mae: 0.0932\n",
      "Epoch 16/20\n",
      "671085/671085 [==============================] - 11s 16us/sample - loss: 0.0237 - mse: 0.0237 - mae: 0.0936 - val_loss: 0.0245 - val_mse: 0.0245 - val_mae: 0.0934\n",
      "Epoch 17/20\n",
      "671085/671085 [==============================] - 11s 16us/sample - loss: 0.0236 - mse: 0.0236 - mae: 0.0934 - val_loss: 0.0245 - val_mse: 0.0245 - val_mae: 0.0950\n",
      "Epoch 18/20\n",
      "671085/671085 [==============================] - 11s 16us/sample - loss: 0.0235 - mse: 0.0235 - mae: 0.0932 - val_loss: 0.0243 - val_mse: 0.0243 - val_mae: 0.0947\n",
      "Epoch 19/20\n",
      "671085/671085 [==============================] - 11s 16us/sample - loss: 0.0234 - mse: 0.0234 - mae: 0.0928 - val_loss: 0.0246 - val_mse: 0.0246 - val_mae: 0.0950\n",
      "Epoch 20/20\n",
      "671085/671085 [==============================] - 11s 16us/sample - loss: 0.0233 - mse: 0.0233 - mae: 0.0925 - val_loss: 0.0247 - val_mse: 0.0247 - val_mae: 0.0954\n"
     ]
    }
   ],
   "source": [
    "# The line for training\n",
    "history = model.fit(X_train, \n",
    "                     y_train, \n",
    "                     validation_data=(X_val, y_val), \n",
    "                     epochs=no_of_epoch, \n",
    "                     batch_size=batch_size,\n",
    "                     shuffle=False,\n",
    "                     callbacks=callbacks_list) "
   ]
  },
  {
   "cell_type": "markdown",
   "metadata": {},
   "source": [
    "### Test dataset test result"
   ]
  },
  {
   "cell_type": "code",
   "execution_count": 16,
   "metadata": {},
   "outputs": [
    {
     "name": "stdout",
     "output_type": "stream",
     "text": [
      "0.028882545701709172\n"
     ]
    }
   ],
   "source": [
    "predicted_value = model.predict(X_test)\n",
    "print(mean_squared_error(y_test,predicted_value))"
   ]
  },
  {
   "cell_type": "code",
   "execution_count": 17,
   "metadata": {},
   "outputs": [
    {
     "data": {
      "image/png": "[encoded data removed]",
      "text/plain": [
       "<Figure size 1080x720 with 1 Axes>"
      ]
     },
     "metadata": {
      "needs_background": "light"
     },
     "output_type": "display_data"
    }
   ],
   "source": [
    "records     = pd.read_csv(modelname +'.csv')\n",
    "plt.figure(figsize=(15,10))\n",
    "\n",
    "ax          = plt.gca()\n",
    "ax.set_xticklabels([])\n",
    "\n",
    "plt.plot(records['val_mae'],label=\"val_mae\")\n",
    "plt.plot(records['val_loss'],label=\"val_loss\")\n",
    "plt.plot(records['loss'],label=\"loss\")\n",
    "plt.title('MAE',fontsize=12)\n",
    "plt.legend(loc=\"upper left\",fontsize=15)\n",
    "\n",
    "plt.show()\n",
    "\n"
   ]
  },
  {
   "cell_type": "markdown",
   "metadata": {},
   "source": [
    "### Load save LSTM model"
   ]
  },
  {
   "cell_type": "code",
   "execution_count": 17,
   "metadata": {},
   "outputs": [],
   "source": [
    "# Load your own trained model\n",
    "model = load_model(filepath, compile = False)"
   ]
  },
  {
   "cell_type": "markdown",
   "metadata": {},
   "source": [
    "### Sample Testing "
   ]
  },
  {
   "cell_type": "code",
   "execution_count": 18,
   "metadata": {},
   "outputs": [],
   "source": [
    "scaler_filename = \"grab_msft_sorted_scaler.save\"\n",
    "scaler          = joblib.load(scaler_filename) "
   ]
  },
  {
   "cell_type": "markdown",
   "metadata": {},
   "source": [
    "#### First set of testdata"
   ]
  },
  {
   "cell_type": "code",
   "execution_count": 19,
   "metadata": {},
   "outputs": [],
   "source": [
    "xls  = pd.ExcelFile('data/test_sample_sorted_8000.xlsx')\n",
    "test_sample = pd.read_excel(xls, 'TrafficMgmt')\n",
    "\n",
    "# Apply Standardscalar to sample test data\n",
    "test_sample[predictor_var] = scaler.fit_transform(test_sample[predictor_var])"
   ]
  },
  {
   "cell_type": "code",
   "execution_count": 20,
   "metadata": {},
   "outputs": [
    {
     "name": "stdout",
     "output_type": "stream",
     "text": [
      "(18, 3, 5) (18, 2)\n"
     ]
    }
   ],
   "source": [
    "# covert into input/output\n",
    "test_sample_array = test_sample.to_numpy()\n",
    "X_sample, y_sample = split_sequences(test_sample_array, n_steps_in, predict_next_no_of_output)\n",
    "print(X_sample.shape, y_sample.shape)"
   ]
  },
  {
   "cell_type": "code",
   "execution_count": 21,
   "metadata": {},
   "outputs": [
    {
     "name": "stdout",
     "output_type": "stream",
     "text": [
      "Predicted value : [[0.08873813 0.096988  ]\n",
      " [0.07852309 0.09841301]\n",
      " [0.07304928 0.08479992]\n",
      " [0.11137966 0.11537404]\n",
      " [0.11141694 0.11530766]\n",
      " [0.11092079 0.11503605]\n",
      " [0.11061891 0.11480431]\n",
      " [0.10878351 0.11393149]\n",
      " [0.11106181 0.11500227]\n",
      " [0.10989517 0.11447485]\n",
      " [0.11059706 0.11484364]\n",
      " [0.11155581 0.1153897 ]\n",
      " [0.111559   0.11548064]\n",
      " [0.11149152 0.11542676]\n",
      " [0.11142264 0.11532829]\n",
      " [0.11121043 0.11520886]\n",
      " [0.11066271 0.11481221]\n",
      " [0.11101231 0.11506629]] \n",
      " Actual Value    : [[0.01799946 0.0531276 ]\n",
      " [0.0531276  0.10812558]\n",
      " [0.10812558 0.03172353]\n",
      " [0.03172353 0.08252318]\n",
      " [0.08252318 0.64191406]\n",
      " [0.64191406 0.13738873]\n",
      " [0.13738873 0.20788158]\n",
      " [0.20788158 0.23219486]\n",
      " [0.23219486 0.00794347]\n",
      " [0.00794347 0.00706648]\n",
      " [0.00706648 0.28443333]\n",
      " [0.28443333 0.67788291]\n",
      " [0.67788291 0.15390443]\n",
      " [0.15390443 0.01326358]\n",
      " [0.01326358 0.06040241]\n",
      " [0.06040241 0.03081827]\n",
      " [0.03081827 0.04285664]\n",
      " [0.04285664 1.        ]]\n"
     ]
    }
   ],
   "source": [
    "predicted_value = model.predict(X_sample)\n",
    "print('Predicted value : {} \\n Actual Value    : {}' .format(predicted_value,y_sample))"
   ]
  },
  {
   "cell_type": "code",
   "execution_count": 22,
   "metadata": {},
   "outputs": [
    {
     "name": "stdout",
     "output_type": "stream",
     "text": [
      "0.06119039453891618\n"
     ]
    }
   ],
   "source": [
    "print(mean_squared_error(y_sample,predicted_value))"
   ]
  },
  {
   "cell_type": "markdown",
   "metadata": {},
   "source": [
    "### single sample test"
   ]
  },
  {
   "cell_type": "code",
   "execution_count": 26,
   "metadata": {},
   "outputs": [],
   "source": [
    "# Data input sequence format :\n",
    "test_data1  = [[18,20, 0, -5.353088, 90.653687],\n",
    "               [10,14,30, -5.413513, 90.664673],\n",
    "               [ 9, 6,15, -5.325623, 90.906372]]\n",
    "test_data2  = [[32, 5, 0, -5.353088, 90.752563],\n",
    "               [15, 4, 0, -5.413513, 90.719604],\n",
    "               [ 1,12,15, -5.336609, 90.609741]]\n",
    "test_data3  = [[25, 3,30, -5.391541, 90.818481],\n",
    "               [51,20,45, -5.408020, 90.631714],\n",
    "               [48, 6,15, -5.364075, 90.763550]]\n",
    "test_data4  = [[ 4,22,15, -5.402527, 90.675659],\n",
    "               [45, 9,15, -5.402527, 90.917358],\n",
    "               [52,11,45, -5.364075, 90.664673]]\n",
    "test_data5  = [[46,12,15, -5.353088, 90.642700],\n",
    "               [34,14,45, -5.375061, 90.807495],\n",
    "               [40, 2,30, -5.424500, 90.785522]]\n",
    "test_data6  = [[14,14,45, -5.391541, 90.598755],\n",
    "               [27, 3,30, -5.320129, 90.785522],\n",
    "               [ 6,23,45, -5.358582, 90.752563]]\n",
    "\n",
    "test_target1 = [[0.102821],[0.088755]]\n",
    "test_target2 = [[0.023843],[0.007460]]\n",
    "test_target3 = [[0.054170],[0.123463]]\n",
    "test_target4 = [[0.359406],[0.514136]]\n",
    "test_target5 = [[0.026409],[0.013998]]\n",
    "test_target6 = [[0.029400],[0.057255]]"
   ]
  },
  {
   "cell_type": "code",
   "execution_count": 27,
   "metadata": {},
   "outputs": [
    {
     "name": "stdout",
     "output_type": "stream",
     "text": [
      "Predicted value : [[0.08682834 0.07390559]]\n",
      "Actual Value    : [[0.102821], [0.088755]]\n"
     ]
    }
   ],
   "source": [
    "Data_scaled = scaler.transform(test_data1)\n",
    "Data_scaled = Data_scaled.reshape(1,n_steps_in,no_of_features)\n",
    "predicted_value = model.predict(Data_scaled)\n",
    "print('Predicted value : {}\\nActual Value    : {}' .format(predicted_value,test_target1))"
   ]
  },
  {
   "cell_type": "code",
   "execution_count": 28,
   "metadata": {},
   "outputs": [
    {
     "name": "stdout",
     "output_type": "stream",
     "text": [
      "Predicted value : [[0.07394043 0.09193013]]\n",
      "Actual Value    : [[0.023843], [0.00746]]\n"
     ]
    }
   ],
   "source": [
    "Data_scaled = scaler.transform(test_data2)\n",
    "Data_scaled = Data_scaled.reshape(1,n_steps_in,no_of_features)\n",
    "predicted_value = model.predict(Data_scaled)\n",
    "print('Predicted value : {}\\nActual Value    : {}' .format(predicted_value,test_target2))"
   ]
  },
  {
   "cell_type": "code",
   "execution_count": 29,
   "metadata": {},
   "outputs": [
    {
     "name": "stdout",
     "output_type": "stream",
     "text": [
      "Predicted value : [[0.10712944 0.10583973]]\n",
      "Actual Value    : [[0.05417], [0.123463]]\n"
     ]
    }
   ],
   "source": [
    "Data_scaled = scaler.transform(test_data3)\n",
    "Data_scaled = Data_scaled.reshape(1,n_steps_in,no_of_features)\n",
    "predicted_value = model.predict(Data_scaled)\n",
    "print('Predicted value : {}\\nActual Value    : {}' .format(predicted_value,test_target3))"
   ]
  },
  {
   "cell_type": "code",
   "execution_count": 30,
   "metadata": {},
   "outputs": [
    {
     "name": "stdout",
     "output_type": "stream",
     "text": [
      "Predicted value : [[0.09370971 0.08981293]]\n",
      "Actual Value    : [[0.359406], [0.514136]]\n"
     ]
    }
   ],
   "source": [
    "Data_scaled = scaler.transform(test_data4)\n",
    "Data_scaled = Data_scaled.reshape(1,n_steps_in,no_of_features)\n",
    "predicted_value = model.predict(Data_scaled)\n",
    "print('Predicted value : {}\\nActual Value    : {}' .format(predicted_value,test_target4))"
   ]
  },
  {
   "cell_type": "code",
   "execution_count": 31,
   "metadata": {},
   "outputs": [
    {
     "name": "stdout",
     "output_type": "stream",
     "text": [
      "Predicted value : [[0.09519069 0.09759231]]\n",
      "Actual Value    : [[0.026409], [0.013998]]\n"
     ]
    }
   ],
   "source": [
    "Data_scaled = scaler.transform(test_data5)\n",
    "Data_scaled = Data_scaled.reshape(1,n_steps_in,no_of_features)\n",
    "predicted_value = model.predict(Data_scaled)\n",
    "print('Predicted value : {}\\nActual Value    : {}' .format(predicted_value,test_target5))"
   ]
  },
  {
   "cell_type": "code",
   "execution_count": 32,
   "metadata": {},
   "outputs": [
    {
     "name": "stdout",
     "output_type": "stream",
     "text": [
      "Predicted value : [[0.05561906 0.07776728]]\n",
      "Actual Value    : [[0.0294], [0.057255]]\n"
     ]
    }
   ],
   "source": [
    "Data_scaled = scaler.transform(test_data6)\n",
    "Data_scaled = Data_scaled.reshape(1,n_steps_in,no_of_features)\n",
    "predicted_value = model.predict(Data_scaled)\n",
    "print('Predicted value : {}\\nActual Value    : {}' .format(predicted_value,test_target6))"
   ]
  }
 ],
 "metadata": {
  "kernelspec": {
   "display_name": "Python 3",
   "language": "python",
   "name": "python3"
  },
  "language_info": {
   "codemirror_mode": {
    "name": "ipython",
    "version": 3
   },
   "file_extension": ".py",
   "mimetype": "text/x-python",
   "name": "python",
   "nbconvert_exporter": "python",
   "pygments_lexer": "ipython3",
   "version": "3.6.10"
  }
 },
 "nbformat": 4,
 "nbformat_minor": 4
}
