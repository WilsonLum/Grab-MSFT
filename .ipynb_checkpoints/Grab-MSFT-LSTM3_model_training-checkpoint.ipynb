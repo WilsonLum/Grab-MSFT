{
 "cells": [
  {
   "cell_type": "markdown",
   "metadata": {},
   "source": [
    "# Grab-Microsoft Challenge \n",
    "## Traffic Management\n",
    "\n",
    "- geohash6: geohash is a public domain geocoding system which encodes a geographic location into a short string of letters and digits with arbitrary precision. You are free to use any geohash library to encode/decode the geohashes into latitude and longitude or vice versa.(Examples:https://github.com/hkwi/python-geohash)\n",
    "- day: the value indicates the sequential order and not a particular day of the month\n",
    "- timestamp: start time of 15-minute intervals in the following format: <hour>:<minute>, where hour ranges from 0 to 23 and minute is either one of (0, 15, 30, 45)\n",
    "- demand: aggregated demand normalised to be in the range [0,1]"
   ]
  },
  {
   "cell_type": "markdown",
   "metadata": {},
   "source": [
    "### This is train LSTM model "
   ]
  },
  {
   "cell_type": "markdown",
   "metadata": {},
   "source": [
    "#### Import python library"
   ]
  },
  {
   "cell_type": "code",
   "execution_count": 2,
   "metadata": {},
   "outputs": [],
   "source": [
    "import numpy as np\n",
    "import pandas as pd\n",
    "import matplotlib.pyplot as plt\n",
    "\n",
    "# plot matplotlib graph\n",
    "%matplotlib inline\n",
    "\n",
    "#Import models from scikit learn module:\n",
    "from sklearn.metrics import mean_squared_error\n",
    "from tensorflow.keras.models import Sequential, load_model\n",
    "from tensorflow.keras.layers import Dense, Flatten, LSTM, BatchNormalization\n",
    "from tensorflow.keras import regularizers\n",
    "from sklearn.model_selection import train_test_split\n",
    "\n",
    "import h5py\n",
    "import sklearn.metrics as metrics\n",
    "from tensorflow.keras.callbacks import ModelCheckpoint,CSVLogger\n",
    "from tensorflow.keras.models import Model\n",
    "from tensorflow.keras.layers import Input\n",
    "from tensorflow.keras.layers import LSTM\n",
    "from tensorflow.keras.utils import plot_model \n",
    "\n",
    "import pickle\n",
    "import joblib\n"
   ]
  },
  {
   "cell_type": "code",
   "execution_count": 3,
   "metadata": {},
   "outputs": [],
   "source": [
    "import os \n",
    "os.environ[\"CUDA_VISIBLE_DEVICES\"]=\"0\""
   ]
  },
  {
   "cell_type": "markdown",
   "metadata": {},
   "source": [
    "### Define Variables"
   ]
  },
  {
   "cell_type": "code",
   "execution_count": 39,
   "metadata": {},
   "outputs": [],
   "source": [
    "seed = 7\n",
    "np.random.seed(seed)\n",
    "modelname   = 'LSTM3'\n",
    "batch_size  = 8192\n",
    "no_of_epoch = 10\n",
    "time_shift  = 5\n"
   ]
  },
  {
   "cell_type": "markdown",
   "metadata": {},
   "source": [
    "### Define Function"
   ]
  },
  {
   "cell_type": "code",
   "execution_count": 5,
   "metadata": {},
   "outputs": [],
   "source": [
    "def createModel(): \n",
    "    inputs  = Input(shape=(X_train1.shape[1],X_train1.shape[2]))\n",
    "    y = LSTM(units=64, return_sequences=True, dropout=0.5, recurrent_dropout=0.2)(inputs)\n",
    "    y = BatchNormalization()(y)\n",
    "    y = LSTM(128, return_sequences=True, dropout=0.5, recurrent_dropout=0.2)(y)\n",
    "    y = BatchNormalization()(y)\n",
    "    y = LSTM(256, return_sequences=True, dropout=0.5, recurrent_dropout=0.3)(y)\n",
    "    y = BatchNormalization()(y)\n",
    "    y = LSTM(128, return_sequences=True, dropout=0.5, recurrent_dropout=0.4)(y)\n",
    "    y = BatchNormalization()(y)\n",
    "    y = LSTM(64, return_sequences=True, dropout=0.5,recurrent_dropout=0.5)(y)\n",
    "    y = BatchNormalization()(y)\n",
    "    y = LSTM(32, dropout=0.5,recurrent_dropout=0.5)(y)\n",
    "    y = BatchNormalization()(y)\n",
    "    y = Dense(1, activation='sigmoid')(y)\n",
    "  \n",
    "    model = Model(inputs=inputs,outputs=y)\n",
    "    model.compile(loss='mse',optimizer='adam', metrics=['mse', 'mae'])\n",
    "    return model"
   ]
  },
  {
   "cell_type": "markdown",
   "metadata": {},
   "source": [
    "#### Reading from Preprocessed dataset"
   ]
  },
  {
   "cell_type": "code",
   "execution_count": 6,
   "metadata": {},
   "outputs": [
    {
     "data": {
      "text/html": [
       "<div>\n",
       "<style scoped>\n",
       "    .dataframe tbody tr th:only-of-type {\n",
       "        vertical-align: middle;\n",
       "    }\n",
       "\n",
       "    .dataframe tbody tr th {\n",
       "        vertical-align: top;\n",
       "    }\n",
       "\n",
       "    .dataframe thead th {\n",
       "        text-align: right;\n",
       "    }\n",
       "</style>\n",
       "<table border=\"1\" class=\"dataframe\">\n",
       "  <thead>\n",
       "    <tr style=\"text-align: right;\">\n",
       "      <th></th>\n",
       "      <th>day</th>\n",
       "      <th>demand</th>\n",
       "      <th>hour</th>\n",
       "      <th>min</th>\n",
       "      <th>dow</th>\n",
       "      <th>lat</th>\n",
       "      <th>long</th>\n",
       "      <th>geo_labelencoded</th>\n",
       "    </tr>\n",
       "  </thead>\n",
       "  <tbody>\n",
       "    <tr>\n",
       "      <th>0</th>\n",
       "      <td>0.283333</td>\n",
       "      <td>0.020072</td>\n",
       "      <td>0.869565</td>\n",
       "      <td>0.000000</td>\n",
       "      <td>0.666667</td>\n",
       "      <td>0.533333</td>\n",
       "      <td>0.171429</td>\n",
       "      <td>0.161462</td>\n",
       "    </tr>\n",
       "    <tr>\n",
       "      <th>1</th>\n",
       "      <td>0.150000</td>\n",
       "      <td>0.024721</td>\n",
       "      <td>0.608696</td>\n",
       "      <td>0.666667</td>\n",
       "      <td>0.500000</td>\n",
       "      <td>0.288889</td>\n",
       "      <td>0.200000</td>\n",
       "      <td>0.071592</td>\n",
       "    </tr>\n",
       "    <tr>\n",
       "      <th>2</th>\n",
       "      <td>0.133333</td>\n",
       "      <td>0.102821</td>\n",
       "      <td>0.260870</td>\n",
       "      <td>0.333333</td>\n",
       "      <td>0.333333</td>\n",
       "      <td>0.644444</td>\n",
       "      <td>0.828571</td>\n",
       "      <td>0.795887</td>\n",
       "    </tr>\n",
       "    <tr>\n",
       "      <th>3</th>\n",
       "      <td>0.516667</td>\n",
       "      <td>0.088755</td>\n",
       "      <td>0.217391</td>\n",
       "      <td>0.000000</td>\n",
       "      <td>0.666667</td>\n",
       "      <td>0.533333</td>\n",
       "      <td>0.428571</td>\n",
       "      <td>0.530845</td>\n",
       "    </tr>\n",
       "    <tr>\n",
       "      <th>4</th>\n",
       "      <td>0.233333</td>\n",
       "      <td>0.074468</td>\n",
       "      <td>0.173913</td>\n",
       "      <td>0.000000</td>\n",
       "      <td>0.166667</td>\n",
       "      <td>0.288889</td>\n",
       "      <td>0.342857</td>\n",
       "      <td>0.348819</td>\n",
       "    </tr>\n",
       "    <tr>\n",
       "      <th>...</th>\n",
       "      <td>...</td>\n",
       "      <td>...</td>\n",
       "      <td>...</td>\n",
       "      <td>...</td>\n",
       "      <td>...</td>\n",
       "      <td>...</td>\n",
       "      <td>...</td>\n",
       "      <td>...</td>\n",
       "    </tr>\n",
       "    <tr>\n",
       "      <th>1048570</th>\n",
       "      <td>0.083333</td>\n",
       "      <td>0.024022</td>\n",
       "      <td>0.347826</td>\n",
       "      <td>0.666667</td>\n",
       "      <td>1.000000</td>\n",
       "      <td>0.911111</td>\n",
       "      <td>0.771429</td>\n",
       "      <td>0.956588</td>\n",
       "    </tr>\n",
       "    <tr>\n",
       "      <th>1048571</th>\n",
       "      <td>0.366667</td>\n",
       "      <td>0.005703</td>\n",
       "      <td>0.652174</td>\n",
       "      <td>0.666667</td>\n",
       "      <td>0.333333</td>\n",
       "      <td>0.111111</td>\n",
       "      <td>0.400000</td>\n",
       "      <td>0.297030</td>\n",
       "    </tr>\n",
       "    <tr>\n",
       "      <th>1048572</th>\n",
       "      <td>0.683333</td>\n",
       "      <td>0.067131</td>\n",
       "      <td>0.652174</td>\n",
       "      <td>1.000000</td>\n",
       "      <td>0.000000</td>\n",
       "      <td>0.533333</td>\n",
       "      <td>0.200000</td>\n",
       "      <td>0.178218</td>\n",
       "    </tr>\n",
       "    <tr>\n",
       "      <th>1048573</th>\n",
       "      <td>0.016667</td>\n",
       "      <td>0.151323</td>\n",
       "      <td>0.260870</td>\n",
       "      <td>0.666667</td>\n",
       "      <td>0.333333</td>\n",
       "      <td>0.711111</td>\n",
       "      <td>0.600000</td>\n",
       "      <td>0.648134</td>\n",
       "    </tr>\n",
       "    <tr>\n",
       "      <th>1048574</th>\n",
       "      <td>0.066667</td>\n",
       "      <td>0.026007</td>\n",
       "      <td>0.434783</td>\n",
       "      <td>1.000000</td>\n",
       "      <td>0.833333</td>\n",
       "      <td>0.688889</td>\n",
       "      <td>0.800000</td>\n",
       "      <td>0.821021</td>\n",
       "    </tr>\n",
       "  </tbody>\n",
       "</table>\n",
       "<p>1048575 rows × 8 columns</p>\n",
       "</div>"
      ],
      "text/plain": [
       "              day    demand      hour       min       dow       lat      long  \\\n",
       "0        0.283333  0.020072  0.869565  0.000000  0.666667  0.533333  0.171429   \n",
       "1        0.150000  0.024721  0.608696  0.666667  0.500000  0.288889  0.200000   \n",
       "2        0.133333  0.102821  0.260870  0.333333  0.333333  0.644444  0.828571   \n",
       "3        0.516667  0.088755  0.217391  0.000000  0.666667  0.533333  0.428571   \n",
       "4        0.233333  0.074468  0.173913  0.000000  0.166667  0.288889  0.342857   \n",
       "...           ...       ...       ...       ...       ...       ...       ...   \n",
       "1048570  0.083333  0.024022  0.347826  0.666667  1.000000  0.911111  0.771429   \n",
       "1048571  0.366667  0.005703  0.652174  0.666667  0.333333  0.111111  0.400000   \n",
       "1048572  0.683333  0.067131  0.652174  1.000000  0.000000  0.533333  0.200000   \n",
       "1048573  0.016667  0.151323  0.260870  0.666667  0.333333  0.711111  0.600000   \n",
       "1048574  0.066667  0.026007  0.434783  1.000000  0.833333  0.688889  0.800000   \n",
       "\n",
       "         geo_labelencoded  \n",
       "0                0.161462  \n",
       "1                0.071592  \n",
       "2                0.795887  \n",
       "3                0.530845  \n",
       "4                0.348819  \n",
       "...                   ...  \n",
       "1048570          0.956588  \n",
       "1048571          0.297030  \n",
       "1048572          0.178218  \n",
       "1048573          0.648134  \n",
       "1048574          0.821021  \n",
       "\n",
       "[1048575 rows x 8 columns]"
      ]
     },
     "execution_count": 6,
     "metadata": {},
     "output_type": "execute_result"
    }
   ],
   "source": [
    "xls  = pd.ExcelFile('data/Dataset_feature1.xlsx')\n",
    "data = pd.read_excel(xls, 'TrafficMgmt')\n",
    "data"
   ]
  },
  {
   "cell_type": "code",
   "execution_count": 10,
   "metadata": {},
   "outputs": [],
   "source": [
    "predictor_var = ['day', 'hour', 'min', 'dow', 'lat', 'long','geo_labelencoded']\n",
    "outcome_var   = 'demand'"
   ]
  },
  {
   "cell_type": "markdown",
   "metadata": {},
   "source": [
    "#### Prepare training & test data\n",
    "- Since this is a time series dataset, we can try using LSTM \n",
    "- and create a time series of say 20"
   ]
  },
  {
   "cell_type": "code",
   "execution_count": 11,
   "metadata": {},
   "outputs": [],
   "source": [
    "data_X = data.drop(outcome_var,axis=1)\n",
    "y      = data.drop(predictor_var,axis=1)"
   ]
  },
  {
   "cell_type": "code",
   "execution_count": 12,
   "metadata": {},
   "outputs": [
    {
     "data": {
      "text/plain": [
       "(1048575, 5, 7)"
      ]
     },
     "execution_count": 12,
     "metadata": {},
     "output_type": "execute_result"
    }
   ],
   "source": [
    "X = []\n",
    "for i in range(time_shift):\n",
    "    X.append(data_X.shift(-1-i).fillna(-1).values)\n",
    "X = np.array(X)\n",
    "\n",
    "X = X.reshape(X.shape[1],X.shape[0],X.shape[2])\n",
    "X.shape"
   ]
  },
  {
   "cell_type": "code",
   "execution_count": 13,
   "metadata": {
    "scrolled": true
   },
   "outputs": [
    {
     "data": {
      "text/plain": [
       "array([[[ 0.15      ,  0.60869565,  0.66666667, ...,  0.28888889,\n",
       "          0.2       ,  0.07159177],\n",
       "        [ 0.13333333,  0.26086957,  0.33333333, ...,  0.64444444,\n",
       "          0.82857143,  0.79588728],\n",
       "        [ 0.51666667,  0.2173913 ,  0.        , ...,  0.53333333,\n",
       "          0.42857143,  0.53084539],\n",
       "        [ 0.23333333,  0.17391304,  0.        , ...,  0.28888889,\n",
       "          0.34285714,  0.3488195 ],\n",
       "        [ 0.        ,  0.52173913,  0.33333333, ...,  0.6       ,\n",
       "          0.05714286,  0.14318355]],\n",
       "\n",
       "       [[ 0.4       ,  0.13043478,  0.66666667, ...,  0.37777778,\n",
       "          0.6       ,  0.47067784],\n",
       "        [ 0.83333333,  0.86956522,  1.        , ...,  0.31111111,\n",
       "          0.11428571,  0.05331302],\n",
       "        [ 0.78333333,  0.26086957,  0.33333333, ...,  0.48888889,\n",
       "          0.45714286,  0.40670221],\n",
       "        [ 0.05      ,  0.95652174,  0.33333333, ...,  0.33333333,\n",
       "          0.22857143,  0.10662605],\n",
       "        [ 0.73333333,  0.39130435,  0.33333333, ...,  0.33333333,\n",
       "          0.85714286,  0.73191165]],\n",
       "\n",
       "       [[ 0.85      ,  0.47826087,  1.        , ...,  0.48888889,\n",
       "          0.2       ,  0.12109673],\n",
       "        [ 0.75      ,  0.52173913,  0.33333333, ...,  0.53333333,\n",
       "          0.14285714,  0.15993907],\n",
       "        [ 0.55      ,  0.60869565,  1.        , ...,  0.44444444,\n",
       "          0.57142857,  0.47600914],\n",
       "        [ 0.65      ,  0.08695652,  0.66666667, ...,  0.24444444,\n",
       "          0.51428571,  0.36633663],\n",
       "        [ 0.21666667,  0.60869565,  1.        , ...,  0.37777778,\n",
       "          0.02857143,  0.0365575 ]],\n",
       "\n",
       "       ...,\n",
       "\n",
       "       [[ 0.56666667,  0.43478261,  0.33333333, ...,  0.42222222,\n",
       "          0.02857143,  0.04265042],\n",
       "        [ 0.91666667,  0.08695652,  0.33333333, ...,  0.28888889,\n",
       "          0.91428571,  0.71667936],\n",
       "        [ 0.18333333,  0.        ,  0.66666667, ...,  0.75555556,\n",
       "          0.82857143,  0.82939832],\n",
       "        [ 0.        ,  0.        ,  0.33333333, ...,  0.64444444,\n",
       "          0.11428571,  0.16984006],\n",
       "        [ 0.8       ,  0.08695652,  0.        , ...,  0.17777778,\n",
       "          0.71428571,  0.44402133]],\n",
       "\n",
       "       [[ 0.08333333,  0.34782609,  0.66666667, ...,  0.91111111,\n",
       "          0.77142857,  0.95658797],\n",
       "        [ 0.36666667,  0.65217391,  0.66666667, ...,  0.11111111,\n",
       "          0.4       ,  0.2970297 ],\n",
       "        [ 0.68333333,  0.65217391,  1.        , ...,  0.53333333,\n",
       "          0.2       ,  0.17821782],\n",
       "        [ 0.01666667,  0.26086957,  0.66666667, ...,  0.71111111,\n",
       "          0.6       ,  0.64813404],\n",
       "        [ 0.06666667,  0.43478261,  1.        , ...,  0.68888889,\n",
       "          0.8       ,  0.82102056]],\n",
       "\n",
       "       [[-1.        , -1.        , -1.        , ..., -1.        ,\n",
       "         -1.        , -1.        ],\n",
       "        [-1.        , -1.        , -1.        , ..., -1.        ,\n",
       "         -1.        , -1.        ],\n",
       "        [-1.        , -1.        , -1.        , ..., -1.        ,\n",
       "         -1.        , -1.        ],\n",
       "        [-1.        , -1.        , -1.        , ..., -1.        ,\n",
       "         -1.        , -1.        ],\n",
       "        [-1.        , -1.        , -1.        , ..., -1.        ,\n",
       "         -1.        , -1.        ]]])"
      ]
     },
     "execution_count": 13,
     "metadata": {},
     "output_type": "execute_result"
    }
   ],
   "source": [
    "X"
   ]
  },
  {
   "cell_type": "code",
   "execution_count": 14,
   "metadata": {},
   "outputs": [
    {
     "data": {
      "text/plain": [
       "(1048575, 1)"
      ]
     },
     "execution_count": 14,
     "metadata": {},
     "output_type": "execute_result"
    }
   ],
   "source": [
    "y.shape"
   ]
  },
  {
   "cell_type": "code",
   "execution_count": 15,
   "metadata": {},
   "outputs": [
    {
     "data": {
      "text/plain": [
       "(1048575, 5, 7)"
      ]
     },
     "execution_count": 15,
     "metadata": {},
     "output_type": "execute_result"
    }
   ],
   "source": [
    "X.shape"
   ]
  },
  {
   "cell_type": "markdown",
   "metadata": {},
   "source": [
    "#### Train-test-val dataset split"
   ]
  },
  {
   "cell_type": "code",
   "execution_count": 27,
   "metadata": {},
   "outputs": [],
   "source": [
    "X_train, X_test, y_train, y_test = train_test_split(X, y, test_size=0.2, random_state=42,shuffle=False)\n",
    "\n",
    "X_train, X_val, y_train, y_val = train_test_split(X_train, y_train, test_size=0.2, random_state=42,shuffle=False)"
   ]
  },
  {
   "cell_type": "code",
   "execution_count": 28,
   "metadata": {},
   "outputs": [
    {
     "data": {
      "text/plain": [
       "5"
      ]
     },
     "execution_count": 28,
     "metadata": {},
     "output_type": "execute_result"
    }
   ],
   "source": [
    "X_train.shape[1]"
   ]
  },
  {
   "cell_type": "code",
   "execution_count": 29,
   "metadata": {},
   "outputs": [
    {
     "data": {
      "text/plain": [
       "7"
      ]
     },
     "execution_count": 29,
     "metadata": {},
     "output_type": "execute_result"
    }
   ],
   "source": [
    "X_train.shape[2]"
   ]
  },
  {
   "cell_type": "code",
   "execution_count": 30,
   "metadata": {},
   "outputs": [
    {
     "data": {
      "text/plain": [
       "(209715, 5, 7)"
      ]
     },
     "execution_count": 30,
     "metadata": {},
     "output_type": "execute_result"
    }
   ],
   "source": [
    "X_test.shape"
   ]
  },
  {
   "cell_type": "code",
   "execution_count": 31,
   "metadata": {
    "scrolled": true
   },
   "outputs": [
    {
     "data": {
      "text/plain": [
       "array([[[ 0.        ,  0.52173913,  0.33333333, ...,  0.6       ,\n",
       "          0.05714286,  0.14318355],\n",
       "        [ 0.4       ,  0.13043478,  0.66666667, ...,  0.37777778,\n",
       "          0.6       ,  0.47067784],\n",
       "        [ 0.83333333,  0.86956522,  1.        , ...,  0.31111111,\n",
       "          0.11428571,  0.05331302],\n",
       "        [ 0.78333333,  0.26086957,  0.33333333, ...,  0.48888889,\n",
       "          0.45714286,  0.40670221],\n",
       "        [ 0.05      ,  0.95652174,  0.33333333, ...,  0.33333333,\n",
       "          0.22857143,  0.10662605]],\n",
       "\n",
       "       [[ 0.73333333,  0.39130435,  0.33333333, ...,  0.33333333,\n",
       "          0.85714286,  0.73191165],\n",
       "        [ 0.85      ,  0.47826087,  1.        , ...,  0.48888889,\n",
       "          0.2       ,  0.12109673],\n",
       "        [ 0.75      ,  0.52173913,  0.33333333, ...,  0.53333333,\n",
       "          0.14285714,  0.15993907],\n",
       "        [ 0.55      ,  0.60869565,  1.        , ...,  0.44444444,\n",
       "          0.57142857,  0.47600914],\n",
       "        [ 0.65      ,  0.08695652,  0.66666667, ...,  0.24444444,\n",
       "          0.51428571,  0.36633663]],\n",
       "\n",
       "       [[ 0.21666667,  0.60869565,  1.        , ...,  0.37777778,\n",
       "          0.02857143,  0.0365575 ],\n",
       "        [ 0.43333333,  0.13043478,  0.66666667, ...,  0.66666667,\n",
       "          0.51428571,  0.55369383],\n",
       "        [ 0.08333333,  1.        ,  1.        , ...,  0.51111111,\n",
       "          0.42857143,  0.53008378],\n",
       "        [ 0.78333333,  0.47826087,  0.66666667, ...,  0.37777778,\n",
       "          0.05714286,  0.03808073],\n",
       "        [ 0.26666667,  1.        ,  1.        , ...,  0.77777778,\n",
       "          0.62857143,  0.65955826]],\n",
       "\n",
       "       ...,\n",
       "\n",
       "       [[ 0.56666667,  0.43478261,  0.33333333, ...,  0.42222222,\n",
       "          0.02857143,  0.04265042],\n",
       "        [ 0.91666667,  0.08695652,  0.33333333, ...,  0.28888889,\n",
       "          0.91428571,  0.71667936],\n",
       "        [ 0.18333333,  0.        ,  0.66666667, ...,  0.75555556,\n",
       "          0.82857143,  0.82939832],\n",
       "        [ 0.        ,  0.        ,  0.33333333, ...,  0.64444444,\n",
       "          0.11428571,  0.16984006],\n",
       "        [ 0.8       ,  0.08695652,  0.        , ...,  0.17777778,\n",
       "          0.71428571,  0.44402133]],\n",
       "\n",
       "       [[ 0.08333333,  0.34782609,  0.66666667, ...,  0.91111111,\n",
       "          0.77142857,  0.95658797],\n",
       "        [ 0.36666667,  0.65217391,  0.66666667, ...,  0.11111111,\n",
       "          0.4       ,  0.2970297 ],\n",
       "        [ 0.68333333,  0.65217391,  1.        , ...,  0.53333333,\n",
       "          0.2       ,  0.17821782],\n",
       "        [ 0.01666667,  0.26086957,  0.66666667, ...,  0.71111111,\n",
       "          0.6       ,  0.64813404],\n",
       "        [ 0.06666667,  0.43478261,  1.        , ...,  0.68888889,\n",
       "          0.8       ,  0.82102056]],\n",
       "\n",
       "       [[-1.        , -1.        , -1.        , ..., -1.        ,\n",
       "         -1.        , -1.        ],\n",
       "        [-1.        , -1.        , -1.        , ..., -1.        ,\n",
       "         -1.        , -1.        ],\n",
       "        [-1.        , -1.        , -1.        , ..., -1.        ,\n",
       "         -1.        , -1.        ],\n",
       "        [-1.        , -1.        , -1.        , ..., -1.        ,\n",
       "         -1.        , -1.        ],\n",
       "        [-1.        , -1.        , -1.        , ..., -1.        ,\n",
       "         -1.        , -1.        ]]])"
      ]
     },
     "execution_count": 31,
     "metadata": {},
     "output_type": "execute_result"
    }
   ],
   "source": [
    "X_test"
   ]
  },
  {
   "cell_type": "code",
   "execution_count": 32,
   "metadata": {
    "scrolled": true
   },
   "outputs": [],
   "source": [
    "X_train1 = np.asarray(X_train)\n",
    "y_train1 = np.asarray(y_train)\n",
    "X_test1  = np.asarray(X_test)\n",
    "y_test1  = np.asarray(y_test)\n",
    "X_val1   = np.asarray(X_val)\n",
    "y_val1   = np.asarray(y_val)"
   ]
  },
  {
   "cell_type": "code",
   "execution_count": 33,
   "metadata": {},
   "outputs": [
    {
     "data": {
      "text/plain": [
       "(167772, 5, 7)"
      ]
     },
     "execution_count": 33,
     "metadata": {},
     "output_type": "execute_result"
    }
   ],
   "source": [
    "X_val1.shape"
   ]
  },
  {
   "cell_type": "code",
   "execution_count": 34,
   "metadata": {},
   "outputs": [
    {
     "data": {
      "text/plain": [
       "(167772, 1)"
      ]
     },
     "execution_count": 34,
     "metadata": {},
     "output_type": "execute_result"
    }
   ],
   "source": [
    "y_val1.shape"
   ]
  },
  {
   "cell_type": "markdown",
   "metadata": {},
   "source": [
    "<h2><center>Create Model and test</center><h2>"
   ]
  },
  {
   "cell_type": "markdown",
   "metadata": {},
   "source": [
    "<h3>LSTM<h3>"
   ]
  },
  {
   "cell_type": "code",
   "execution_count": 35,
   "metadata": {},
   "outputs": [
    {
     "name": "stdout",
     "output_type": "stream",
     "text": [
      "Model: \"model_1\"\n",
      "_________________________________________________________________\n",
      "Layer (type)                 Output Shape              Param #   \n",
      "=================================================================\n",
      "input_2 (InputLayer)         [(None, 5, 7)]            0         \n",
      "_________________________________________________________________\n",
      "lstm_6 (LSTM)                (None, 5, 64)             18432     \n",
      "_________________________________________________________________\n",
      "batch_normalization_6 (Batch (None, 5, 64)             256       \n",
      "_________________________________________________________________\n",
      "lstm_7 (LSTM)                (None, 5, 128)            98816     \n",
      "_________________________________________________________________\n",
      "batch_normalization_7 (Batch (None, 5, 128)            512       \n",
      "_________________________________________________________________\n",
      "lstm_8 (LSTM)                (None, 5, 256)            394240    \n",
      "_________________________________________________________________\n",
      "batch_normalization_8 (Batch (None, 5, 256)            1024      \n",
      "_________________________________________________________________\n",
      "lstm_9 (LSTM)                (None, 5, 128)            197120    \n",
      "_________________________________________________________________\n",
      "batch_normalization_9 (Batch (None, 5, 128)            512       \n",
      "_________________________________________________________________\n",
      "lstm_10 (LSTM)               (None, 5, 64)             49408     \n",
      "_________________________________________________________________\n",
      "batch_normalization_10 (Batc (None, 5, 64)             256       \n",
      "_________________________________________________________________\n",
      "lstm_11 (LSTM)               (None, 32)                12416     \n",
      "_________________________________________________________________\n",
      "batch_normalization_11 (Batc (None, 32)                128       \n",
      "_________________________________________________________________\n",
      "dense_1 (Dense)              (None, 1)                 33        \n",
      "=================================================================\n",
      "Total params: 773,153\n",
      "Trainable params: 771,809\n",
      "Non-trainable params: 1,344\n",
      "_________________________________________________________________\n"
     ]
    }
   ],
   "source": [
    "model = createModel()\n",
    "model.summary()"
   ]
  },
  {
   "cell_type": "code",
   "execution_count": 36,
   "metadata": {},
   "outputs": [],
   "source": [
    "model.compile(loss='mse',optimizer='adam', metrics=['mse', 'mae'])"
   ]
  },
  {
   "cell_type": "code",
   "execution_count": 46,
   "metadata": {},
   "outputs": [],
   "source": [
    "# Create checkpoints to save model during training and save training data into csv\n",
    "# ‘monitor’ can be ‘val_acc’ or ‘val_loss’\n",
    "# When set to ‘val_acc’, ‘mode’ must be ‘max’; when set to ‘val_loss’, ‘mode’ must be ‘min’\n",
    "\n",
    "filepath       = modelname + \".hdf5\"\n",
    "checkpoint     = ModelCheckpoint(filepath, monitor='val_loss',verbose=0,save_best_only=True,mode='min') \n",
    "csv_logger     = CSVLogger(modelname + '.csv')\n",
    "callbacks_list = [checkpoint,csv_logger]"
   ]
  },
  {
   "cell_type": "code",
   "execution_count": 47,
   "metadata": {},
   "outputs": [
    {
     "name": "stdout",
     "output_type": "stream",
     "text": [
      "Train on 671088 samples, validate on 167772 samples\n",
      "Epoch 1/10\n",
      "671088/671088 [==============================] - 13s 20us/sample - loss: 0.0253 - mse: 0.0253 - mae: 0.0972 - val_loss: 0.0252 - val_mse: 0.0252 - val_mae: 0.0964\n",
      "Epoch 2/10\n",
      "671088/671088 [==============================] - 13s 19us/sample - loss: 0.0253 - mse: 0.0253 - mae: 0.0972 - val_loss: 0.0252 - val_mse: 0.0252 - val_mae: 0.0971\n",
      "Epoch 3/10\n",
      "671088/671088 [==============================] - 13s 19us/sample - loss: 0.0253 - mse: 0.0253 - mae: 0.0972 - val_loss: 0.0252 - val_mse: 0.0252 - val_mae: 0.0966\n",
      "Epoch 4/10\n",
      "671088/671088 [==============================] - 13s 20us/sample - loss: 0.0253 - mse: 0.0253 - mae: 0.0972 - val_loss: 0.0252 - val_mse: 0.0252 - val_mae: 0.0968\n",
      "Epoch 5/10\n",
      "671088/671088 [==============================] - 13s 19us/sample - loss: 0.0253 - mse: 0.0253 - mae: 0.0972 - val_loss: 0.0252 - val_mse: 0.0252 - val_mae: 0.0972\n",
      "Epoch 6/10\n",
      "671088/671088 [==============================] - 13s 20us/sample - loss: 0.0253 - mse: 0.0253 - mae: 0.0972 - val_loss: 0.0252 - val_mse: 0.0252 - val_mae: 0.0983\n",
      "Epoch 7/10\n",
      "671088/671088 [==============================] - 13s 19us/sample - loss: 0.0253 - mse: 0.0253 - mae: 0.0972 - val_loss: 0.0252 - val_mse: 0.0252 - val_mae: 0.0966\n",
      "Epoch 8/10\n",
      "671088/671088 [==============================] - 13s 20us/sample - loss: 0.0253 - mse: 0.0253 - mae: 0.0972 - val_loss: 0.0252 - val_mse: 0.0252 - val_mae: 0.0978\n",
      "Epoch 9/10\n",
      "671088/671088 [==============================] - 13s 20us/sample - loss: 0.0253 - mse: 0.0253 - mae: 0.0972 - val_loss: 0.0252 - val_mse: 0.0252 - val_mae: 0.0974\n",
      "Epoch 10/10\n",
      "671088/671088 [==============================] - 13s 20us/sample - loss: 0.0253 - mse: 0.0253 - mae: 0.0972 - val_loss: 0.0252 - val_mse: 0.0252 - val_mae: 0.0966\n"
     ]
    }
   ],
   "source": [
    "# The line for training\n",
    "hisgtory = model.fit(X_train1, \n",
    "                     y_train1, \n",
    "                     validation_data=(X_val1, y_val1), \n",
    "                     epochs=no_of_epoch, \n",
    "                     batch_size=batch_size,\n",
    "                     shuffle=False,\n",
    "                     callbacks=callbacks_list) "
   ]
  },
  {
   "cell_type": "markdown",
   "metadata": {},
   "source": [
    "### validation dataset test result"
   ]
  },
  {
   "cell_type": "code",
   "execution_count": 49,
   "metadata": {},
   "outputs": [
    {
     "name": "stdout",
     "output_type": "stream",
     "text": [
      "0.02516270612747896\n"
     ]
    }
   ],
   "source": [
    "predicts = model.predict(X_val1)\n",
    "print(mean_squared_error(y_val1,predicts))"
   ]
  },
  {
   "cell_type": "markdown",
   "metadata": {},
   "source": [
    "### Test dataset test result"
   ]
  },
  {
   "cell_type": "code",
   "execution_count": 50,
   "metadata": {},
   "outputs": [
    {
     "name": "stdout",
     "output_type": "stream",
     "text": [
      "0.025283774157333214\n"
     ]
    }
   ],
   "source": [
    "predicted_value = model.predict(X_test1)\n",
    "print(mean_squared_error(y_test1,predicted_value))"
   ]
  },
  {
   "cell_type": "code",
   "execution_count": 51,
   "metadata": {},
   "outputs": [
    {
     "data": {
      "image/png": "[encoded data removed]",
      "text/plain": [
       "<Figure size 1080x720 with 2 Axes>"
      ]
     },
     "metadata": {
      "needs_background": "light"
     },
     "output_type": "display_data"
    }
   ],
   "source": [
    "records     = pd.read_csv(modelname +'.csv')\n",
    "plt.figure(figsize=(15,10))\n",
    "plt.subplot(211)\n",
    "plt.plot(records['val_mse'],label=\"val_mse\")\n",
    "plt.plot(records['val_loss'],label=\"val_loss\")\n",
    "plt.plot(records['loss'],label=\"loss\")\n",
    "plt.title('MSE',fontsize=12)\n",
    "plt.legend(loc=\"upper left\",fontsize=15)\n",
    "\n",
    "ax          = plt.gca()\n",
    "ax.set_xticklabels([])\n",
    "\n",
    "plt.subplot(212)\n",
    "plt.plot(records['val_mae'],label=\"val_mae\")\n",
    "plt.plot(records['val_loss'],label=\"val_loss\")\n",
    "plt.plot(records['loss'],label=\"loss\")\n",
    "plt.title('MAE',fontsize=12)\n",
    "plt.legend(loc=\"upper left\",fontsize=15)\n",
    "\n",
    "plt.show()\n",
    "\n"
   ]
  },
  {
   "cell_type": "code",
   "execution_count": 52,
   "metadata": {},
   "outputs": [],
   "source": [
    "# Load your own trained model\n",
    "model = load_model(filepath, compile = False)"
   ]
  },
  {
   "cell_type": "code",
   "execution_count": 53,
   "metadata": {
    "scrolled": true
   },
   "outputs": [
    {
     "data": {
      "text/html": [
       "<div>\n",
       "<style scoped>\n",
       "    .dataframe tbody tr th:only-of-type {\n",
       "        vertical-align: middle;\n",
       "    }\n",
       "\n",
       "    .dataframe tbody tr th {\n",
       "        vertical-align: top;\n",
       "    }\n",
       "\n",
       "    .dataframe thead th {\n",
       "        text-align: right;\n",
       "    }\n",
       "</style>\n",
       "<table border=\"1\" class=\"dataframe\">\n",
       "  <thead>\n",
       "    <tr style=\"text-align: right;\">\n",
       "      <th></th>\n",
       "      <th>day</th>\n",
       "      <th>hour</th>\n",
       "      <th>min</th>\n",
       "      <th>dow</th>\n",
       "      <th>lat</th>\n",
       "      <th>long</th>\n",
       "      <th>geo_labelencoded</th>\n",
       "    </tr>\n",
       "  </thead>\n",
       "  <tbody>\n",
       "    <tr>\n",
       "      <th>0</th>\n",
       "      <td>18</td>\n",
       "      <td>20</td>\n",
       "      <td>0</td>\n",
       "      <td>4</td>\n",
       "      <td>-5.353088</td>\n",
       "      <td>90.653687</td>\n",
       "      <td>212</td>\n",
       "    </tr>\n",
       "    <tr>\n",
       "      <th>1</th>\n",
       "      <td>18</td>\n",
       "      <td>20</td>\n",
       "      <td>0</td>\n",
       "      <td>4</td>\n",
       "      <td>-5.353088</td>\n",
       "      <td>90.653687</td>\n",
       "      <td>212</td>\n",
       "    </tr>\n",
       "    <tr>\n",
       "      <th>2</th>\n",
       "      <td>10</td>\n",
       "      <td>14</td>\n",
       "      <td>30</td>\n",
       "      <td>3</td>\n",
       "      <td>-5.413513</td>\n",
       "      <td>90.664673</td>\n",
       "      <td>94</td>\n",
       "    </tr>\n",
       "    <tr>\n",
       "      <th>3</th>\n",
       "      <td>9</td>\n",
       "      <td>6</td>\n",
       "      <td>15</td>\n",
       "      <td>2</td>\n",
       "      <td>-5.325623</td>\n",
       "      <td>90.906372</td>\n",
       "      <td>1045</td>\n",
       "    </tr>\n",
       "    <tr>\n",
       "      <th>4</th>\n",
       "      <td>32</td>\n",
       "      <td>5</td>\n",
       "      <td>0</td>\n",
       "      <td>4</td>\n",
       "      <td>-5.353088</td>\n",
       "      <td>90.752563</td>\n",
       "      <td>697</td>\n",
       "    </tr>\n",
       "    <tr>\n",
       "      <th>5</th>\n",
       "      <td>15</td>\n",
       "      <td>4</td>\n",
       "      <td>0</td>\n",
       "      <td>1</td>\n",
       "      <td>-5.413513</td>\n",
       "      <td>90.719604</td>\n",
       "      <td>458</td>\n",
       "    </tr>\n",
       "    <tr>\n",
       "      <th>6</th>\n",
       "      <td>1</td>\n",
       "      <td>12</td>\n",
       "      <td>15</td>\n",
       "      <td>1</td>\n",
       "      <td>-5.336609</td>\n",
       "      <td>90.609741</td>\n",
       "      <td>188</td>\n",
       "    </tr>\n",
       "    <tr>\n",
       "      <th>7</th>\n",
       "      <td>25</td>\n",
       "      <td>3</td>\n",
       "      <td>30</td>\n",
       "      <td>4</td>\n",
       "      <td>-5.391541</td>\n",
       "      <td>90.818481</td>\n",
       "      <td>618</td>\n",
       "    </tr>\n",
       "    <tr>\n",
       "      <th>8</th>\n",
       "      <td>51</td>\n",
       "      <td>20</td>\n",
       "      <td>45</td>\n",
       "      <td>2</td>\n",
       "      <td>-5.408020</td>\n",
       "      <td>90.631714</td>\n",
       "      <td>70</td>\n",
       "    </tr>\n",
       "    <tr>\n",
       "      <th>9</th>\n",
       "      <td>48</td>\n",
       "      <td>6</td>\n",
       "      <td>15</td>\n",
       "      <td>6</td>\n",
       "      <td>-5.364075</td>\n",
       "      <td>90.763550</td>\n",
       "      <td>53</td>\n",
       "    </tr>\n",
       "    <tr>\n",
       "      <th>10</th>\n",
       "      <td>4</td>\n",
       "      <td>22</td>\n",
       "      <td>15</td>\n",
       "      <td>4</td>\n",
       "      <td>-5.402527</td>\n",
       "      <td>90.675659</td>\n",
       "      <td>140</td>\n",
       "    </tr>\n",
       "    <tr>\n",
       "      <th>11</th>\n",
       "      <td>45</td>\n",
       "      <td>9</td>\n",
       "      <td>15</td>\n",
       "      <td>3</td>\n",
       "      <td>-5.402527</td>\n",
       "      <td>90.917358</td>\n",
       "      <td>961</td>\n",
       "    </tr>\n",
       "    <tr>\n",
       "      <th>12</th>\n",
       "      <td>52</td>\n",
       "      <td>11</td>\n",
       "      <td>45</td>\n",
       "      <td>3</td>\n",
       "      <td>-5.364075</td>\n",
       "      <td>90.664673</td>\n",
       "      <td>159</td>\n",
       "    </tr>\n",
       "    <tr>\n",
       "      <th>13</th>\n",
       "      <td>46</td>\n",
       "      <td>12</td>\n",
       "      <td>15</td>\n",
       "      <td>4</td>\n",
       "      <td>-5.353088</td>\n",
       "      <td>90.642700</td>\n",
       "      <td>210</td>\n",
       "    </tr>\n",
       "    <tr>\n",
       "      <th>14</th>\n",
       "      <td>34</td>\n",
       "      <td>14</td>\n",
       "      <td>45</td>\n",
       "      <td>6</td>\n",
       "      <td>-5.375061</td>\n",
       "      <td>90.807495</td>\n",
       "      <td>625</td>\n",
       "    </tr>\n",
       "    <tr>\n",
       "      <th>15</th>\n",
       "      <td>40</td>\n",
       "      <td>2</td>\n",
       "      <td>30</td>\n",
       "      <td>5</td>\n",
       "      <td>-5.424500</td>\n",
       "      <td>90.785522</td>\n",
       "      <td>481</td>\n",
       "    </tr>\n",
       "    <tr>\n",
       "      <th>16</th>\n",
       "      <td>14</td>\n",
       "      <td>14</td>\n",
       "      <td>45</td>\n",
       "      <td>0</td>\n",
       "      <td>-5.391541</td>\n",
       "      <td>90.598755</td>\n",
       "      <td>48</td>\n",
       "    </tr>\n",
       "    <tr>\n",
       "      <th>17</th>\n",
       "      <td>27</td>\n",
       "      <td>3</td>\n",
       "      <td>30</td>\n",
       "      <td>6</td>\n",
       "      <td>-5.320129</td>\n",
       "      <td>90.785522</td>\n",
       "      <td>727</td>\n",
       "    </tr>\n",
       "    <tr>\n",
       "      <th>18</th>\n",
       "      <td>6</td>\n",
       "      <td>23</td>\n",
       "      <td>45</td>\n",
       "      <td>6</td>\n",
       "      <td>-5.358582</td>\n",
       "      <td>90.752563</td>\n",
       "      <td>69</td>\n",
       "    </tr>\n",
       "    <tr>\n",
       "      <th>19</th>\n",
       "      <td>48</td>\n",
       "      <td>11</td>\n",
       "      <td>30</td>\n",
       "      <td>6</td>\n",
       "      <td>-5.391541</td>\n",
       "      <td>90.609741</td>\n",
       "      <td>50</td>\n",
       "    </tr>\n",
       "  </tbody>\n",
       "</table>\n",
       "</div>"
      ],
      "text/plain": [
       "    day  hour  min  dow       lat       long  geo_labelencoded\n",
       "0    18    20    0    4 -5.353088  90.653687               212\n",
       "1    18    20    0    4 -5.353088  90.653687               212\n",
       "2    10    14   30    3 -5.413513  90.664673                94\n",
       "3     9     6   15    2 -5.325623  90.906372              1045\n",
       "4    32     5    0    4 -5.353088  90.752563               697\n",
       "5    15     4    0    1 -5.413513  90.719604               458\n",
       "6     1    12   15    1 -5.336609  90.609741               188\n",
       "7    25     3   30    4 -5.391541  90.818481               618\n",
       "8    51    20   45    2 -5.408020  90.631714                70\n",
       "9    48     6   15    6 -5.364075  90.763550                53\n",
       "10    4    22   15    4 -5.402527  90.675659               140\n",
       "11   45     9   15    3 -5.402527  90.917358               961\n",
       "12   52    11   45    3 -5.364075  90.664673               159\n",
       "13   46    12   15    4 -5.353088  90.642700               210\n",
       "14   34    14   45    6 -5.375061  90.807495               625\n",
       "15   40     2   30    5 -5.424500  90.785522               481\n",
       "16   14    14   45    0 -5.391541  90.598755                48\n",
       "17   27     3   30    6 -5.320129  90.785522               727\n",
       "18    6    23   45    6 -5.358582  90.752563                69\n",
       "19   48    11   30    6 -5.391541  90.609741                50"
      ]
     },
     "execution_count": 53,
     "metadata": {},
     "output_type": "execute_result"
    }
   ],
   "source": [
    "# Data input sequence format :\n",
    "\n",
    "test_data   = [[18, 20, 0, 4, -5.353088, 90.653687, 212]]\n",
    "test_data   = pd.DataFrame(test_data, columns = predictor_var)\n",
    "test_target = [[0.020072]]\n",
    "\n",
    "test_data1  = [[18,20, 0, 4, -5.353088, 90.653687, 212],\n",
    "               [18,20, 0, 4, -5.353088, 90.653687, 212],\n",
    "               [10,14,30, 3, -5.413513, 90.664673,  94],\n",
    "               [ 9, 6,15, 2, -5.325623, 90.906372,1045],\n",
    "               [32, 5, 0, 4, -5.353088, 90.752563, 697],\n",
    "               [15, 4, 0, 1, -5.413513, 90.719604, 458],\n",
    "               [ 1,12,15, 1, -5.336609, 90.609741, 188],\n",
    "               [25, 3,30, 4, -5.391541, 90.818481, 618],\n",
    "               [51,20,45, 2, -5.408020, 90.631714,  70],\n",
    "               [48, 6,15, 6, -5.364075, 90.763550,  53],\n",
    "               [ 4,22,15, 4, -5.402527, 90.675659, 140],\n",
    "               [45, 9,15, 3, -5.402527, 90.917358, 961],\n",
    "               [52,11,45, 3, -5.364075, 90.664673, 159],\n",
    "               [46,12,15, 4, -5.353088, 90.642700, 210],\n",
    "               [34,14,45, 6, -5.375061, 90.807495, 625],\n",
    "               [40, 2,30, 5, -5.424500, 90.785522, 481],\n",
    "               [14,14,45, 0, -5.391541, 90.598755,  48],\n",
    "               [27, 3,30, 6, -5.320129, 90.785522, 727],\n",
    "               [ 6,23,45, 6, -5.358582, 90.752563,  69],\n",
    "               [48,11,30, 6, -5.391541, 90.609741,  50]]\n",
    "\n",
    "test_data1   = pd.DataFrame(test_data1, columns = predictor_var)\n",
    "test_target1 = [[0.020072],[0.020072],[0.024721],[0.102821],[0.088755],[0.074468],[0.023843],[0.007460],\n",
    "                [0.000293],[0.054170],[0.123463],[0.026177],[0.359406],[0.514136],[0.059740], \n",
    "                [0.026409],[0.013998],[0.008414],[0.029400],[0.057255]]\n",
    "test_data1"
   ]
  },
  {
   "cell_type": "markdown",
   "metadata": {},
   "source": [
    "### Testing using 1 row of inference data"
   ]
  },
  {
   "cell_type": "code",
   "execution_count": 54,
   "metadata": {},
   "outputs": [
    {
     "data": {
      "text/plain": [
       "(1, 7)"
      ]
     },
     "execution_count": 54,
     "metadata": {},
     "output_type": "execute_result"
    }
   ],
   "source": [
    "test_data.shape"
   ]
  },
  {
   "cell_type": "code",
   "execution_count": 55,
   "metadata": {},
   "outputs": [
    {
     "name": "stderr",
     "output_type": "stream",
     "text": [
      "C:\\ProgramData\\Anaconda3\\envs\\deep\\lib\\site-packages\\sklearn\\base.py:334: UserWarning: Trying to unpickle estimator MinMaxScaler from version 0.22.1 when using version 0.23.1. This might lead to breaking code or invalid results. Use at your own risk.\n",
      "  UserWarning)\n"
     ]
    }
   ],
   "source": [
    "scaler_filename = \"grab_msft_scaler.save\"\n",
    "scaler          = joblib.load(scaler_filename) \n",
    "Data_scaled = scaler.transform(test_data)"
   ]
  },
  {
   "cell_type": "code",
   "execution_count": 56,
   "metadata": {},
   "outputs": [
    {
     "data": {
      "text/plain": [
       "array([[ 2.83333333e-01,  8.69565217e-01,  0.00000000e+00,\n",
       "         6.66666667e-01, -4.07699010e-03,  3.88922224e+02,\n",
       "         3.15748889e+02]])"
      ]
     },
     "execution_count": 56,
     "metadata": {},
     "output_type": "execute_result"
    }
   ],
   "source": [
    "Data_scaled"
   ]
  },
  {
   "cell_type": "code",
   "execution_count": 57,
   "metadata": {},
   "outputs": [],
   "source": [
    "Data_scaled = Data_scaled.reshape(1,1,7)"
   ]
  },
  {
   "cell_type": "code",
   "execution_count": 58,
   "metadata": {},
   "outputs": [
    {
     "data": {
      "text/plain": [
       "array([[[ 2.83333333e-01,  8.69565217e-01,  0.00000000e+00,\n",
       "          6.66666667e-01, -4.07699010e-03,  3.88922224e+02,\n",
       "          3.15748889e+02]]])"
      ]
     },
     "execution_count": 58,
     "metadata": {},
     "output_type": "execute_result"
    }
   ],
   "source": [
    "Data_scaled"
   ]
  },
  {
   "cell_type": "code",
   "execution_count": 60,
   "metadata": {
    "scrolled": true
   },
   "outputs": [
    {
     "data": {
      "text/plain": [
       "(1, 5, 7)"
      ]
     },
     "execution_count": 60,
     "metadata": {},
     "output_type": "execute_result"
    }
   ],
   "source": [
    "X_shift = np.repeat(Data_scaled[:, :, np.newaxis], time_shift, axis=2).reshape(1,time_shift,7)\n",
    "X_shift.shape"
   ]
  },
  {
   "cell_type": "code",
   "execution_count": 61,
   "metadata": {},
   "outputs": [
    {
     "name": "stdout",
     "output_type": "stream",
     "text": [
      "Predicted value : 0.10285255312919617\n",
      "Actual Value    : 0.020072\n"
     ]
    }
   ],
   "source": [
    "predicted_value = model.predict(X_shift)\n",
    "print('Predicted value : {}\\nActual Value    : {}' .format(predicted_value[0][0],test_target[0][0]))"
   ]
  },
  {
   "cell_type": "code",
   "execution_count": 62,
   "metadata": {},
   "outputs": [
    {
     "name": "stdout",
     "output_type": "stream",
     "text": [
      "0.006852619976375669\n"
     ]
    }
   ],
   "source": [
    "print(mean_squared_error(test_target,predicted_value))"
   ]
  },
  {
   "cell_type": "code",
   "execution_count": 63,
   "metadata": {},
   "outputs": [
    {
     "data": {
      "text/plain": [
       "array([[0.10285255]], dtype=float32)"
      ]
     },
     "execution_count": 63,
     "metadata": {},
     "output_type": "execute_result"
    }
   ],
   "source": [
    "predicted_value"
   ]
  },
  {
   "cell_type": "markdown",
   "metadata": {},
   "source": [
    "### Testing using 20 rows of inference data"
   ]
  },
  {
   "cell_type": "code",
   "execution_count": 64,
   "metadata": {},
   "outputs": [
    {
     "name": "stderr",
     "output_type": "stream",
     "text": [
      "C:\\ProgramData\\Anaconda3\\envs\\deep\\lib\\site-packages\\sklearn\\base.py:334: UserWarning: Trying to unpickle estimator MinMaxScaler from version 0.22.1 when using version 0.23.1. This might lead to breaking code or invalid results. Use at your own risk.\n",
      "  UserWarning)\n"
     ]
    }
   ],
   "source": [
    "scaler_filename = \"grab_msft_scaler.save\"\n",
    "scaler          = joblib.load(scaler_filename) \n",
    "Data_scaled = scaler.transform(test_data1)"
   ]
  },
  {
   "cell_type": "code",
   "execution_count": 65,
   "metadata": {
    "scrolled": true
   },
   "outputs": [],
   "source": [
    "Data_scaled = pd.DataFrame(Data_scaled)"
   ]
  },
  {
   "cell_type": "code",
   "execution_count": 66,
   "metadata": {
    "scrolled": true
   },
   "outputs": [
    {
     "data": {
      "text/html": [
       "<div>\n",
       "<style scoped>\n",
       "    .dataframe tbody tr th:only-of-type {\n",
       "        vertical-align: middle;\n",
       "    }\n",
       "\n",
       "    .dataframe tbody tr th {\n",
       "        vertical-align: top;\n",
       "    }\n",
       "\n",
       "    .dataframe thead th {\n",
       "        text-align: right;\n",
       "    }\n",
       "</style>\n",
       "<table border=\"1\" class=\"dataframe\">\n",
       "  <thead>\n",
       "    <tr style=\"text-align: right;\">\n",
       "      <th></th>\n",
       "      <th>0</th>\n",
       "      <th>1</th>\n",
       "      <th>2</th>\n",
       "      <th>3</th>\n",
       "      <th>4</th>\n",
       "      <th>5</th>\n",
       "      <th>6</th>\n",
       "    </tr>\n",
       "  </thead>\n",
       "  <tbody>\n",
       "    <tr>\n",
       "      <th>0</th>\n",
       "      <td>0.283333</td>\n",
       "      <td>0.869565</td>\n",
       "      <td>0.000000</td>\n",
       "      <td>0.666667</td>\n",
       "      <td>-0.004077</td>\n",
       "      <td>388.922224</td>\n",
       "      <td>315.748889</td>\n",
       "    </tr>\n",
       "    <tr>\n",
       "      <th>1</th>\n",
       "      <td>0.283333</td>\n",
       "      <td>0.869565</td>\n",
       "      <td>0.000000</td>\n",
       "      <td>0.666667</td>\n",
       "      <td>-0.004077</td>\n",
       "      <td>388.922224</td>\n",
       "      <td>315.748889</td>\n",
       "    </tr>\n",
       "    <tr>\n",
       "      <th>2</th>\n",
       "      <td>0.150000</td>\n",
       "      <td>0.608696</td>\n",
       "      <td>0.666667</td>\n",
       "      <td>0.500000</td>\n",
       "      <td>-0.004123</td>\n",
       "      <td>388.966667</td>\n",
       "      <td>8.873968</td>\n",
       "    </tr>\n",
       "    <tr>\n",
       "      <th>3</th>\n",
       "      <td>0.133333</td>\n",
       "      <td>0.260870</td>\n",
       "      <td>0.333333</td>\n",
       "      <td>0.333333</td>\n",
       "      <td>-0.004056</td>\n",
       "      <td>389.944444</td>\n",
       "      <td>2482.077778</td>\n",
       "    </tr>\n",
       "    <tr>\n",
       "      <th>4</th>\n",
       "      <td>0.516667</td>\n",
       "      <td>0.217391</td>\n",
       "      <td>0.000000</td>\n",
       "      <td>0.666667</td>\n",
       "      <td>-0.004077</td>\n",
       "      <td>389.322220</td>\n",
       "      <td>1577.056825</td>\n",
       "    </tr>\n",
       "    <tr>\n",
       "      <th>5</th>\n",
       "      <td>0.233333</td>\n",
       "      <td>0.173913</td>\n",
       "      <td>0.000000</td>\n",
       "      <td>0.166667</td>\n",
       "      <td>-0.004123</td>\n",
       "      <td>389.188887</td>\n",
       "      <td>955.505079</td>\n",
       "    </tr>\n",
       "    <tr>\n",
       "      <th>6</th>\n",
       "      <td>0.000000</td>\n",
       "      <td>0.521739</td>\n",
       "      <td>0.333333</td>\n",
       "      <td>0.166667</td>\n",
       "      <td>-0.004064</td>\n",
       "      <td>388.744444</td>\n",
       "      <td>253.333651</td>\n",
       "    </tr>\n",
       "    <tr>\n",
       "      <th>7</th>\n",
       "      <td>0.400000</td>\n",
       "      <td>0.130435</td>\n",
       "      <td>0.666667</td>\n",
       "      <td>0.666667</td>\n",
       "      <td>-0.004106</td>\n",
       "      <td>389.588887</td>\n",
       "      <td>1371.606667</td>\n",
       "    </tr>\n",
       "    <tr>\n",
       "      <th>8</th>\n",
       "      <td>0.833333</td>\n",
       "      <td>0.869565</td>\n",
       "      <td>1.000000</td>\n",
       "      <td>0.333333</td>\n",
       "      <td>-0.004119</td>\n",
       "      <td>388.833334</td>\n",
       "      <td>-53.541270</td>\n",
       "    </tr>\n",
       "    <tr>\n",
       "      <th>9</th>\n",
       "      <td>0.783333</td>\n",
       "      <td>0.260870</td>\n",
       "      <td>0.333333</td>\n",
       "      <td>1.000000</td>\n",
       "      <td>-0.004085</td>\n",
       "      <td>389.366667</td>\n",
       "      <td>-97.752063</td>\n",
       "    </tr>\n",
       "    <tr>\n",
       "      <th>10</th>\n",
       "      <td>0.050000</td>\n",
       "      <td>0.956522</td>\n",
       "      <td>0.333333</td>\n",
       "      <td>0.666667</td>\n",
       "      <td>-0.004115</td>\n",
       "      <td>389.011110</td>\n",
       "      <td>128.503175</td>\n",
       "    </tr>\n",
       "    <tr>\n",
       "      <th>11</th>\n",
       "      <td>0.733333</td>\n",
       "      <td>0.391304</td>\n",
       "      <td>0.333333</td>\n",
       "      <td>0.500000</td>\n",
       "      <td>-0.004115</td>\n",
       "      <td>389.988887</td>\n",
       "      <td>2263.624444</td>\n",
       "    </tr>\n",
       "    <tr>\n",
       "      <th>12</th>\n",
       "      <td>0.850000</td>\n",
       "      <td>0.478261</td>\n",
       "      <td>1.000000</td>\n",
       "      <td>0.500000</td>\n",
       "      <td>-0.004085</td>\n",
       "      <td>388.966667</td>\n",
       "      <td>177.915238</td>\n",
       "    </tr>\n",
       "    <tr>\n",
       "      <th>13</th>\n",
       "      <td>0.750000</td>\n",
       "      <td>0.521739</td>\n",
       "      <td>0.333333</td>\n",
       "      <td>0.666667</td>\n",
       "      <td>-0.004077</td>\n",
       "      <td>388.877777</td>\n",
       "      <td>310.547619</td>\n",
       "    </tr>\n",
       "    <tr>\n",
       "      <th>14</th>\n",
       "      <td>0.550000</td>\n",
       "      <td>0.608696</td>\n",
       "      <td>1.000000</td>\n",
       "      <td>1.000000</td>\n",
       "      <td>-0.004094</td>\n",
       "      <td>389.544444</td>\n",
       "      <td>1389.811111</td>\n",
       "    </tr>\n",
       "    <tr>\n",
       "      <th>15</th>\n",
       "      <td>0.650000</td>\n",
       "      <td>0.086957</td>\n",
       "      <td>0.666667</td>\n",
       "      <td>0.833333</td>\n",
       "      <td>-0.004131</td>\n",
       "      <td>389.455554</td>\n",
       "      <td>1015.319683</td>\n",
       "    </tr>\n",
       "    <tr>\n",
       "      <th>16</th>\n",
       "      <td>0.216667</td>\n",
       "      <td>0.608696</td>\n",
       "      <td>1.000000</td>\n",
       "      <td>0.000000</td>\n",
       "      <td>-0.004106</td>\n",
       "      <td>388.700000</td>\n",
       "      <td>-110.755238</td>\n",
       "    </tr>\n",
       "    <tr>\n",
       "      <th>17</th>\n",
       "      <td>0.433333</td>\n",
       "      <td>0.130435</td>\n",
       "      <td>0.666667</td>\n",
       "      <td>1.000000</td>\n",
       "      <td>-0.004052</td>\n",
       "      <td>389.455554</td>\n",
       "      <td>1655.075873</td>\n",
       "    </tr>\n",
       "    <tr>\n",
       "      <th>18</th>\n",
       "      <td>0.083333</td>\n",
       "      <td>1.000000</td>\n",
       "      <td>1.000000</td>\n",
       "      <td>1.000000</td>\n",
       "      <td>-0.004081</td>\n",
       "      <td>389.322220</td>\n",
       "      <td>-56.141905</td>\n",
       "    </tr>\n",
       "    <tr>\n",
       "      <th>19</th>\n",
       "      <td>0.783333</td>\n",
       "      <td>0.478261</td>\n",
       "      <td>0.666667</td>\n",
       "      <td>1.000000</td>\n",
       "      <td>-0.004106</td>\n",
       "      <td>388.744444</td>\n",
       "      <td>-105.553968</td>\n",
       "    </tr>\n",
       "  </tbody>\n",
       "</table>\n",
       "</div>"
      ],
      "text/plain": [
       "           0         1         2         3         4           5            6\n",
       "0   0.283333  0.869565  0.000000  0.666667 -0.004077  388.922224   315.748889\n",
       "1   0.283333  0.869565  0.000000  0.666667 -0.004077  388.922224   315.748889\n",
       "2   0.150000  0.608696  0.666667  0.500000 -0.004123  388.966667     8.873968\n",
       "3   0.133333  0.260870  0.333333  0.333333 -0.004056  389.944444  2482.077778\n",
       "4   0.516667  0.217391  0.000000  0.666667 -0.004077  389.322220  1577.056825\n",
       "5   0.233333  0.173913  0.000000  0.166667 -0.004123  389.188887   955.505079\n",
       "6   0.000000  0.521739  0.333333  0.166667 -0.004064  388.744444   253.333651\n",
       "7   0.400000  0.130435  0.666667  0.666667 -0.004106  389.588887  1371.606667\n",
       "8   0.833333  0.869565  1.000000  0.333333 -0.004119  388.833334   -53.541270\n",
       "9   0.783333  0.260870  0.333333  1.000000 -0.004085  389.366667   -97.752063\n",
       "10  0.050000  0.956522  0.333333  0.666667 -0.004115  389.011110   128.503175\n",
       "11  0.733333  0.391304  0.333333  0.500000 -0.004115  389.988887  2263.624444\n",
       "12  0.850000  0.478261  1.000000  0.500000 -0.004085  388.966667   177.915238\n",
       "13  0.750000  0.521739  0.333333  0.666667 -0.004077  388.877777   310.547619\n",
       "14  0.550000  0.608696  1.000000  1.000000 -0.004094  389.544444  1389.811111\n",
       "15  0.650000  0.086957  0.666667  0.833333 -0.004131  389.455554  1015.319683\n",
       "16  0.216667  0.608696  1.000000  0.000000 -0.004106  388.700000  -110.755238\n",
       "17  0.433333  0.130435  0.666667  1.000000 -0.004052  389.455554  1655.075873\n",
       "18  0.083333  1.000000  1.000000  1.000000 -0.004081  389.322220   -56.141905\n",
       "19  0.783333  0.478261  0.666667  1.000000 -0.004106  388.744444  -105.553968"
      ]
     },
     "execution_count": 66,
     "metadata": {},
     "output_type": "execute_result"
    }
   ],
   "source": [
    "Data_scaled"
   ]
  },
  {
   "cell_type": "code",
   "execution_count": 67,
   "metadata": {},
   "outputs": [
    {
     "data": {
      "text/plain": [
       "(20, 5, 7)"
      ]
     },
     "execution_count": 67,
     "metadata": {},
     "output_type": "execute_result"
    }
   ],
   "source": [
    "X_shift = []\n",
    "for i in range(time_shift):\n",
    "    X_shift.append(Data_scaled.shift(-1-i).fillna(-1).values)\n",
    "X_shift = np.array(X_shift)\n",
    "\n",
    "X_shift = X_shift.reshape(X_shift.shape[1],X_shift.shape[0],X_shift.shape[2])\n",
    "X_shift.shape"
   ]
  },
  {
   "cell_type": "code",
   "execution_count": 68,
   "metadata": {},
   "outputs": [
    {
     "name": "stdout",
     "output_type": "stream",
     "text": [
      "Predicted value : 0.10333111882209778\n",
      "Actual Value    : 0.020072\n"
     ]
    }
   ],
   "source": [
    "predicted_value = model.predict(X_shift)\n",
    "print('Predicted value : {}\\nActual Value    : {}' .format(predicted_value[0][0],test_target[0][0]))"
   ]
  },
  {
   "cell_type": "code",
   "execution_count": 69,
   "metadata": {},
   "outputs": [
    {
     "name": "stdout",
     "output_type": "stream",
     "text": [
      "0.016228401629106\n"
     ]
    }
   ],
   "source": [
    "print(mean_squared_error(test_target1,predicted_value))"
   ]
  },
  {
   "cell_type": "code",
   "execution_count": 70,
   "metadata": {},
   "outputs": [
    {
     "data": {
      "text/plain": [
       "array([[0.10333112],\n",
       "       [0.10367666],\n",
       "       [0.10284666],\n",
       "       [0.10334148],\n",
       "       [0.09845895],\n",
       "       [0.10614155],\n",
       "       [0.10352614],\n",
       "       [0.10517254],\n",
       "       [0.10315081],\n",
       "       [0.10358951],\n",
       "       [0.10405367],\n",
       "       [0.10357849],\n",
       "       [0.10316915],\n",
       "       [0.10252228],\n",
       "       [0.10569084],\n",
       "       [0.10358694],\n",
       "       [0.10406379],\n",
       "       [0.10304017],\n",
       "       [0.10580102],\n",
       "       [0.1031233 ]], dtype=float32)"
      ]
     },
     "execution_count": 70,
     "metadata": {},
     "output_type": "execute_result"
    }
   ],
   "source": [
    "predicted_value"
   ]
  },
  {
   "cell_type": "code",
   "execution_count": null,
   "metadata": {},
   "outputs": [],
   "source": []
  }
 ],
 "metadata": {
  "kernelspec": {
   "display_name": "Python 3",
   "language": "python",
   "name": "python3"
  },
  "language_info": {
   "codemirror_mode": {
    "name": "ipython",
    "version": 3
   },
   "file_extension": ".py",
   "mimetype": "text/x-python",
   "name": "python",
   "nbconvert_exporter": "python",
   "pygments_lexer": "ipython3",
   "version": "3.6.10"
  }
 },
 "nbformat": 4,
 "nbformat_minor": 4
}
