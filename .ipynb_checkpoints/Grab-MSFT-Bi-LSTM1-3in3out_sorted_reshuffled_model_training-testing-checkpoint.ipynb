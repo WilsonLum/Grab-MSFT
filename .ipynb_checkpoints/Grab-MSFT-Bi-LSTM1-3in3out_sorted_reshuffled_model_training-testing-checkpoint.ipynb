{
 "cells": [
  {
   "cell_type": "markdown",
   "metadata": {},
   "source": [
    "# Grab-Microsoft Challenge \n",
    "## Traffic Management\n",
    "\n",
    "- geohash6: geohash is a public domain geocoding system which encodes a geographic location into a short string of letters and digits with arbitrary precision. You are free to use any geohash library to encode/decode the geohashes into latitude and longitude or vice versa.(Examples:https://github.com/hkwi/python-geohash)\n",
    "- day: the value indicates the sequential order and not a particular day of the month\n",
    "- timestamp: start time of 15-minute intervals in the following format: <hour>:<minute>, where hour ranges from 0 to 23 and minute is either one of (0, 15, 30, 45)\n",
    "- demand: aggregated demand normalised to be in the range [0,1]\n",
    "    \n",
    "## Problem Statements:\n",
    "- Which areas have high / low traffic demand?\n",
    "- How does regional traffic demand change according to day / time?\n",
    "- Forecast the travel demand for next 15min / 1hour and predict areas with high travel demand"
   ]
  },
  {
   "cell_type": "markdown",
   "metadata": {},
   "source": [
    "### This is train LSTM model "
   ]
  },
  {
   "cell_type": "markdown",
   "metadata": {},
   "source": [
    "#### Import python library"
   ]
  },
  {
   "cell_type": "code",
   "execution_count": 34,
   "metadata": {},
   "outputs": [],
   "source": [
    "import numpy as np\n",
    "from numpy import array\n",
    "import pandas as pd\n",
    "import matplotlib.pyplot as plt\n",
    "\n",
    "# plot matplotlib graph\n",
    "%matplotlib inline\n",
    "\n",
    "#Import models from scikit learn module:\n",
    "from sklearn.metrics import mean_squared_error\n",
    "from tensorflow.keras.models import Sequential, load_model\n",
    "from tensorflow.keras.layers import Dense, Flatten, LSTM, BatchNormalization, Bidirectional\n",
    "from tensorflow.keras import regularizers\n",
    "from sklearn.model_selection import train_test_split\n",
    "\n",
    "import h5py\n",
    "import sklearn.metrics as metrics\n",
    "from tensorflow.keras.callbacks import ModelCheckpoint,CSVLogger\n",
    "from tensorflow.keras.models import Model\n",
    "from tensorflow.keras.layers import Input\n",
    "from tensorflow.keras.layers import LSTM\n",
    "from tensorflow.keras.utils import plot_model \n",
    "\n",
    "import pickle\n",
    "import joblib\n"
   ]
  },
  {
   "cell_type": "code",
   "execution_count": 35,
   "metadata": {},
   "outputs": [],
   "source": [
    "import os \n",
    "os.environ[\"CUDA_VISIBLE_DEVICES\"]=\"0\""
   ]
  },
  {
   "cell_type": "markdown",
   "metadata": {},
   "source": [
    "### Define Variables"
   ]
  },
  {
   "cell_type": "code",
   "execution_count": 36,
   "metadata": {},
   "outputs": [],
   "source": [
    "seed = 7\n",
    "np.random.seed(seed)\n",
    "modelname   = 'Bi-LSTM1-3in3out_sorted_resuffled_testing'\n",
    "batch_size  = 16384\n",
    "no_of_epoch = 20\n",
    "no_of_train = 0.8\n",
    "\n",
    "# choose a number of time steps\n",
    "n_steps_in, predict_next_no_of_output = 3, 3"
   ]
  },
  {
   "cell_type": "markdown",
   "metadata": {},
   "source": [
    "### Define Function"
   ]
  },
  {
   "cell_type": "code",
   "execution_count": 67,
   "metadata": {},
   "outputs": [],
   "source": [
    "def createModel(): \n",
    "    inputs  = Input(shape=(X_train.shape[1],X_train.shape[2]))\n",
    "    y = Bidirectional(LSTM(units=128, return_sequences=True, dropout=0.2, recurrent_dropout=0.2))(inputs)\n",
    "    y = BatchNormalization()(y)\n",
    "    y = Bidirectional(LSTM(units=128, dropout=0.3, recurrent_dropout=0.3))(y)\n",
    "    y = BatchNormalization()(y)\n",
    "    y = Dense(predict_next_no_of_output, activation='sigmoid')(y)\n",
    "  \n",
    "    model = Model(inputs=inputs,outputs=y)\n",
    "    model.compile(loss='mse',optimizer='adam', metrics=['mse', 'mae'])\n",
    "    return model\n",
    "\n",
    "# split a multivariate sequence into samples\n",
    "def split_sequences(sequences, n_steps_in, n_steps_out):\n",
    "    X, y = list(), list()\n",
    "    for i in range(len(sequences)):\n",
    "        # find the end of this pattern\n",
    "        end_ix = i + n_steps_in\n",
    "        out_end_ix = end_ix + n_steps_out-1\n",
    "        # check if we are beyond the dataset\n",
    "        if out_end_ix > len(sequences):\n",
    "            break\n",
    "        # gather input and output parts of the pattern\n",
    "        seq_x, seq_y = sequences[i:end_ix, :-1], sequences[end_ix-1:out_end_ix, -1]\n",
    "        X.append(seq_x)\n",
    "        y.append(seq_y)\n",
    "    return array(X), array(y)"
   ]
  },
  {
   "cell_type": "markdown",
   "metadata": {},
   "source": [
    "#### Reading from Preprocessed"
   ]
  },
  {
   "cell_type": "code",
   "execution_count": 38,
   "metadata": {},
   "outputs": [],
   "source": [
    "xls  = pd.ExcelFile('data/Dataset_feature_sorted.xlsx')\n",
    "data = pd.read_excel(xls, 'TrafficMgmt')"
   ]
  },
  {
   "cell_type": "code",
   "execution_count": 39,
   "metadata": {},
   "outputs": [],
   "source": [
    "predictor_var  = ['day', 'hour', 'min', 'lat', 'long']\n",
    "outcome_var    = 'demand'\n",
    "no_of_features = len(predictor_var)"
   ]
  },
  {
   "cell_type": "markdown",
   "metadata": {},
   "source": [
    "#### Prepare training & test data\n",
    "- Since this is a time series dataset, we can try using LSTM "
   ]
  },
  {
   "cell_type": "code",
   "execution_count": 40,
   "metadata": {},
   "outputs": [],
   "source": [
    "dataset = data.to_numpy()"
   ]
  },
  {
   "cell_type": "code",
   "execution_count": 41,
   "metadata": {},
   "outputs": [
    {
     "name": "stdout",
     "output_type": "stream",
     "text": [
      "(1048571, 3, 5) (1048571, 3)\n"
     ]
    }
   ],
   "source": [
    "# covert into input/output\n",
    "X, y = split_sequences(dataset, n_steps_in, predict_next_no_of_output)\n",
    "print(X.shape, y.shape)"
   ]
  },
  {
   "cell_type": "markdown",
   "metadata": {},
   "source": [
    "#### Train-test-val dataset split"
   ]
  },
  {
   "cell_type": "code",
   "execution_count": 42,
   "metadata": {},
   "outputs": [],
   "source": [
    "X_train, X_test, y_train, y_test = train_test_split(X, y, test_size=0.2, random_state=42,shuffle=True)\n",
    "\n",
    "X_train, X_val, y_train, y_val = train_test_split(X_train, y_train, test_size=0.2, random_state=42,shuffle=True)"
   ]
  },
  {
   "cell_type": "code",
   "execution_count": 43,
   "metadata": {},
   "outputs": [
    {
     "name": "stdout",
     "output_type": "stream",
     "text": [
      "(671084, 3, 5) (671084, 3) (209715, 3, 5) (209715, 3) (167772, 3, 5) (167772, 3)\n"
     ]
    }
   ],
   "source": [
    "print(X_train.shape, y_train.shape,X_test.shape, y_test.shape,X_val.shape, y_val.shape)"
   ]
  },
  {
   "cell_type": "markdown",
   "metadata": {},
   "source": [
    "<h2><center>Create Model and test</center><h2>"
   ]
  },
  {
   "cell_type": "markdown",
   "metadata": {},
   "source": [
    "<h3>LSTM<h3>"
   ]
  },
  {
   "cell_type": "code",
   "execution_count": 68,
   "metadata": {},
   "outputs": [
    {
     "name": "stdout",
     "output_type": "stream",
     "text": [
      "Model: \"model_2\"\n",
      "_________________________________________________________________\n",
      "Layer (type)                 Output Shape              Param #   \n",
      "=================================================================\n",
      "input_3 (InputLayer)         [(None, 3, 5)]            0         \n",
      "_________________________________________________________________\n",
      "bidirectional_2 (Bidirection (None, 3, 256)            137216    \n",
      "_________________________________________________________________\n",
      "batch_normalization_2 (Batch (None, 3, 256)            1024      \n",
      "_________________________________________________________________\n",
      "bidirectional_3 (Bidirection (None, 256)               394240    \n",
      "_________________________________________________________________\n",
      "batch_normalization_3 (Batch (None, 256)               1024      \n",
      "_________________________________________________________________\n",
      "dense_2 (Dense)              (None, 3)                 771       \n",
      "=================================================================\n",
      "Total params: 534,275\n",
      "Trainable params: 533,251\n",
      "Non-trainable params: 1,024\n",
      "_________________________________________________________________\n"
     ]
    }
   ],
   "source": [
    "model = createModel()\n",
    "model.summary()"
   ]
  },
  {
   "cell_type": "code",
   "execution_count": 69,
   "metadata": {},
   "outputs": [],
   "source": [
    "model.compile(loss='mse',optimizer='adam', metrics=['mse', 'mae'])"
   ]
  },
  {
   "cell_type": "code",
   "execution_count": 70,
   "metadata": {},
   "outputs": [],
   "source": [
    "# Create checkpoints to save model during training and save training data into csv\n",
    "# ‘monitor’ can be ‘val_acc’ or ‘val_loss’\n",
    "# When set to ‘val_acc’, ‘mode’ must be ‘max’; when set to ‘val_loss’, ‘mode’ must be ‘min’\n",
    "\n",
    "filepath       = modelname + \".hdf5\"\n",
    "checkpoint     = ModelCheckpoint(filepath, monitor='val_loss',verbose=0,save_best_only=True,mode='min') \n",
    "csv_logger     = CSVLogger(modelname + '.csv')\n",
    "callbacks_list = [checkpoint,csv_logger]"
   ]
  },
  {
   "cell_type": "code",
   "execution_count": null,
   "metadata": {},
   "outputs": [
    {
     "name": "stdout",
     "output_type": "stream",
     "text": [
      "Train on 671084 samples, validate on 167772 samples\n",
      "Epoch 1/20\n",
      "663552/671084 [============================>.] - ETA: 0s - loss: 0.1114 - mse: 0.1114 - mae: 0.2913"
     ]
    }
   ],
   "source": [
    "# The line for training\n",
    "history = model.fit(X_train, \n",
    "                     y_train, \n",
    "                     validation_data=(X_val, y_val), \n",
    "                     epochs=no_of_epoch, \n",
    "                     batch_size=batch_size,\n",
    "                     shuffle=True,\n",
    "                     callbacks=callbacks_list) "
   ]
  },
  {
   "cell_type": "markdown",
   "metadata": {},
   "source": [
    "### Test dataset test result"
   ]
  },
  {
   "cell_type": "code",
   "execution_count": 48,
   "metadata": {},
   "outputs": [
    {
     "name": "stdout",
     "output_type": "stream",
     "text": [
      "0.02510617305446497\n"
     ]
    }
   ],
   "source": [
    "predicted_value = model.predict(X_test)\n",
    "print(mean_squared_error(y_test,predicted_value))"
   ]
  },
  {
   "cell_type": "code",
   "execution_count": 49,
   "metadata": {},
   "outputs": [
    {
     "data": {
      "image/png": "[encoded data removed]",
      "text/plain": [
       "<Figure size 1080x720 with 1 Axes>"
      ]
     },
     "metadata": {
      "needs_background": "light"
     },
     "output_type": "display_data"
    }
   ],
   "source": [
    "records     = pd.read_csv(modelname +'.csv')\n",
    "plt.figure(figsize=(15,10))\n",
    "\n",
    "ax          = plt.gca()\n",
    "ax.set_xticklabels([])\n",
    "\n",
    "plt.plot(records['val_mae'],label=\"val_mae\")\n",
    "plt.plot(records['val_loss'],label=\"val_loss\")\n",
    "plt.plot(records['loss'],label=\"loss\")\n",
    "plt.title('MAE',fontsize=12)\n",
    "plt.legend(loc=\"upper left\",fontsize=15)\n",
    "\n",
    "plt.show()\n",
    "\n"
   ]
  },
  {
   "cell_type": "markdown",
   "metadata": {},
   "source": [
    "### Load save LSTM model"
   ]
  },
  {
   "cell_type": "code",
   "execution_count": 50,
   "metadata": {},
   "outputs": [],
   "source": [
    "# Load your own trained model\n",
    "model = load_model(filepath, compile = False)"
   ]
  },
  {
   "cell_type": "markdown",
   "metadata": {},
   "source": [
    "### Sample Testing "
   ]
  },
  {
   "cell_type": "code",
   "execution_count": 51,
   "metadata": {},
   "outputs": [],
   "source": [
    "scaler_filename = \"grab_msft_sorted_scaler.save\"\n",
    "scaler          = joblib.load(scaler_filename) "
   ]
  },
  {
   "cell_type": "markdown",
   "metadata": {},
   "source": [
    "#### First set of testdata"
   ]
  },
  {
   "cell_type": "code",
   "execution_count": 52,
   "metadata": {},
   "outputs": [],
   "source": [
    "xls  = pd.ExcelFile('data/test_sample_sorted_8000.xlsx')\n",
    "test_sample = pd.read_excel(xls, 'TrafficMgmt')\n",
    "\n",
    "# Apply Standardscalar to sample test data\n",
    "test_sample[predictor_var] = scaler.fit_transform(test_sample[predictor_var])"
   ]
  },
  {
   "cell_type": "code",
   "execution_count": 53,
   "metadata": {},
   "outputs": [
    {
     "name": "stdout",
     "output_type": "stream",
     "text": [
      "(17, 3, 5) (17, 3)\n"
     ]
    }
   ],
   "source": [
    "# covert into input/output\n",
    "test_sample_array = test_sample.to_numpy()\n",
    "X_sample, y_sample = split_sequences(test_sample_array, n_steps_in, predict_next_no_of_output)\n",
    "print(X_sample.shape, y_sample.shape)"
   ]
  },
  {
   "cell_type": "code",
   "execution_count": 54,
   "metadata": {},
   "outputs": [
    {
     "name": "stdout",
     "output_type": "stream",
     "text": [
      "Predicted value : [[0.06794386 0.07402699 0.07761125]\n",
      " [0.05556352 0.07762163 0.08182725]\n",
      " [0.088218   0.08593757 0.09431048]\n",
      " [0.08758841 0.09040324 0.09774011]\n",
      " [0.08422358 0.08735179 0.09218206]\n",
      " [0.08142359 0.0881984  0.09307969]\n",
      " [0.08142316 0.08708144 0.09142897]\n",
      " [0.07209332 0.08691123 0.08891039]\n",
      " [0.07681835 0.08816551 0.09015187]\n",
      " [0.06072465 0.08655761 0.08910187]\n",
      " [0.04986034 0.0832848  0.08782167]\n",
      " [0.05770064 0.08176817 0.08654371]\n",
      " [0.08120397 0.08846258 0.09651989]\n",
      " [0.05224157 0.08358448 0.08807949]\n",
      " [0.06418638 0.08377484 0.08983336]\n",
      " [0.07458393 0.08642848 0.09362938]\n",
      " [0.07309072 0.08507096 0.0889435 ]] \n",
      " Actual Value    : [[0.01799946 0.0531276  0.10812558]\n",
      " [0.0531276  0.10812558 0.03172353]\n",
      " [0.10812558 0.03172353 0.08252318]\n",
      " [0.03172353 0.08252318 0.64191406]\n",
      " [0.08252318 0.64191406 0.13738873]\n",
      " [0.64191406 0.13738873 0.20788158]\n",
      " [0.13738873 0.20788158 0.23219486]\n",
      " [0.20788158 0.23219486 0.00794347]\n",
      " [0.23219486 0.00794347 0.00706648]\n",
      " [0.00794347 0.00706648 0.28443333]\n",
      " [0.00706648 0.28443333 0.67788291]\n",
      " [0.28443333 0.67788291 0.15390443]\n",
      " [0.67788291 0.15390443 0.01326358]\n",
      " [0.15390443 0.01326358 0.06040241]\n",
      " [0.01326358 0.06040241 0.03081827]\n",
      " [0.06040241 0.03081827 0.04285664]\n",
      " [0.03081827 0.04285664 1.        ]]\n"
     ]
    }
   ],
   "source": [
    "predicted_value = model.predict(X_sample)\n",
    "print('Predicted value : {} \\n Actual Value    : {}' .format(predicted_value,y_sample))"
   ]
  },
  {
   "cell_type": "code",
   "execution_count": 55,
   "metadata": {},
   "outputs": [
    {
     "name": "stdout",
     "output_type": "stream",
     "text": [
      "0.06174397392433081\n"
     ]
    }
   ],
   "source": [
    "print(mean_squared_error(y_sample,predicted_value))"
   ]
  },
  {
   "cell_type": "markdown",
   "metadata": {},
   "source": [
    "### single sample test"
   ]
  },
  {
   "cell_type": "code",
   "execution_count": 56,
   "metadata": {},
   "outputs": [],
   "source": [
    "# Data input sequence format :\n",
    "test_data1  = [[0.14285714, 0.43478261, 0.66666667, 0.97435897,0.92307692],\n",
    "               [0.40816327, 0.04347826, 0.33333333, 0.76923077,0.46153846],\n",
    "               [0.06122449, 0.91304348, 0.66666667, 0.35897436,0.65384615]]\n",
    "test_data2  = [[0.40816327, 0.04347826, 0.33333333, 0.76923077,0.46153846],\n",
    "               [0.06122449, 0.91304348, 0.66666667, 0.35897436,0.65384615],\n",
    "               [0.97959184, 0.30434783, 0.33333333, 0.        ,0.07692308]]\n",
    "test_data3  = [[0.06122449, 0.91304348, 0.66666667, 0.35897436,0.65384615],\n",
    "               [0.97959184, 0.30434783, 0.33333333, 0.        ,0.07692308],\n",
    "               [0.6122449 , 0.34782609, 0.33333333, 0.46153846,0.23076923]]\n",
    "test_data4  = [[0.97959184, 0.30434783, 0.33333333, 0.        ,0.07692308],\n",
    "               [0.6122449 , 0.34782609, 0.33333333, 0.46153846,0.23076923],\n",
    "               [0.6122449 , 0.13043478, 0.        , 0.46153846,0.5       ]]\n",
    "test_data5  = [[0.6122449 , 0.34782609, 0.33333333, 0.46153846,0.23076923],\n",
    "               [0.6122449 , 0.13043478, 0.        , 0.46153846,0.5       ],\n",
    "               [0.71428571, 0.95652174, 0.66666667, 0.92307692,0.80769231]]\n",
    "test_data6  = [[0.6122449 , 0.13043478, 0.        , 0.46153846,0.5       ],\n",
    "               [0.71428571, 0.95652174, 0.66666667, 0.92307692,0.80769231],\n",
    "               [0.2244898 , 0.30434783, 0.        , 0.12820513,0.15384615]]\n",
    "test_data7  = [[0.71428571, 0.95652174, 0.66666667, 0.92307692,0.80769231],\n",
    "               [0.2244898 , 0.30434783, 0.        , 0.12820513,0.15384615],\n",
    "               [0.34693878, 0.30434783, 0.        , 0.79487179,1.        ]]\n",
    "test_data8  = [[0.2244898 , 0.30434783, 0.        , 0.12820513,0.15384615],\n",
    "               [0.34693878, 0.30434783, 0.        , 0.79487179,1.        ],\n",
    "               [0.32653061, 0.08695652, 0.        , 0.82051282,1.        ]]\n",
    "test_data9  = [[0.34693878, 0.30434783, 0.        , 0.79487179,1.        ],\n",
    "               [0.32653061, 0.08695652, 0.        , 0.82051282,1.        ],\n",
    "               [0.73469388, 0.30434783, 1.        , 0.28205128,0.73076923]]\n",
    "test_data10 = [[0.32653061, 0.08695652, 0.        , 0.82051282,1.        ],\n",
    "               [0.73469388, 0.30434783, 1.        , 0.28205128,0.73076923],\n",
    "               [0.6122449 , 0.        , 0.        , 0.28205128,0.        ]]\n",
    "\n",
    "test_data1  = np.expand_dims(test_data1, axis=0)\n",
    "test_data2  = np.expand_dims(test_data2, axis=0)\n",
    "test_data3  = np.expand_dims(test_data3, axis=0)\n",
    "test_data4  = np.expand_dims(test_data4, axis=0)\n",
    "test_data5  = np.expand_dims(test_data5, axis=0)\n",
    "test_data6  = np.expand_dims(test_data6, axis=0)\n",
    "test_data7  = np.expand_dims(test_data7, axis=0)\n",
    "test_data8  = np.expand_dims(test_data8, axis=0)\n",
    "test_data9  = np.expand_dims(test_data9, axis=0)\n",
    "test_data10 = np.expand_dims(test_data10, axis=0)\n",
    "\n",
    "test_target1  = [0.04113812, 0.06282991, 0.15961478]\n",
    "test_target2  = [0.06282991, 0.15961478, 0.90994164]\n",
    "test_target3  = [0.15961478, 0.90994163, 0.00090106]\n",
    "test_target4  = [0.90994163, 0.00090106, 0.13262154]\n",
    "test_target5  = [0.00090106, 0.13262155, 0.19313787]\n",
    "test_target6  = [0.13262155, 0.19313787, 0.04086969]\n",
    "test_target7  = [0.19313787, 0.04086969, 0.02042785]\n",
    "test_target8  = [0.04086969, 0.02042785, 0.06948841]\n",
    "test_target9  = [0.02042785, 0.06948841, 0.04174341]\n",
    "test_target10 = [0.06948841, 0.04174341, 0.19069707]"
   ]
  },
  {
   "cell_type": "code",
   "execution_count": 57,
   "metadata": {},
   "outputs": [
    {
     "name": "stdout",
     "output_type": "stream",
     "text": [
      "Predicted value : [[0.11760996 0.12965126 0.13252714]]\n",
      "Actual Value    : [0.04113812, 0.06282991, 0.15961478]\n"
     ]
    }
   ],
   "source": [
    "predicted_value = model.predict(test_data1)\n",
    "print('Predicted value : {}\\nActual Value    : {}' .format(predicted_value,test_target1))"
   ]
  },
  {
   "cell_type": "code",
   "execution_count": 58,
   "metadata": {},
   "outputs": [
    {
     "name": "stdout",
     "output_type": "stream",
     "text": [
      "Predicted value : [[0.07637645 0.11093754 0.11431848]]\n",
      "Actual Value    : [0.06282991, 0.15961478, 0.90994164]\n"
     ]
    }
   ],
   "source": [
    "predicted_value = model.predict(test_data2)\n",
    "print('Predicted value : {}\\nActual Value    : {}' .format(predicted_value,test_target2))"
   ]
  },
  {
   "cell_type": "code",
   "execution_count": 59,
   "metadata": {},
   "outputs": [
    {
     "name": "stdout",
     "output_type": "stream",
     "text": [
      "Predicted value : [[0.11207751 0.12152142 0.12821224]]\n",
      "Actual Value    : [0.15961478, 0.90994163, 0.00090106]\n"
     ]
    }
   ],
   "source": [
    "predicted_value = model.predict(test_data3)\n",
    "print('Predicted value : {}\\nActual Value    : {}' .format(predicted_value,test_target3))"
   ]
  },
  {
   "cell_type": "code",
   "execution_count": 60,
   "metadata": {},
   "outputs": [
    {
     "name": "stdout",
     "output_type": "stream",
     "text": [
      "Predicted value : [[0.13246004 0.12159523 0.12499994]]\n",
      "Actual Value    : [0.90994163, 0.00090106, 0.13262154]\n"
     ]
    }
   ],
   "source": [
    "predicted_value = model.predict(test_data4)\n",
    "print('Predicted value : {}\\nActual Value    : {}' .format(predicted_value,test_target4))"
   ]
  },
  {
   "cell_type": "code",
   "execution_count": 61,
   "metadata": {},
   "outputs": [
    {
     "name": "stdout",
     "output_type": "stream",
     "text": [
      "Predicted value : [[0.13310976 0.12977688 0.13299975]]\n",
      "Actual Value    : [0.00090106, 0.13262155, 0.19313787]\n"
     ]
    }
   ],
   "source": [
    "predicted_value = model.predict(test_data5)\n",
    "print('Predicted value : {}\\nActual Value    : {}' .format(predicted_value,test_target5))"
   ]
  },
  {
   "cell_type": "code",
   "execution_count": 62,
   "metadata": {},
   "outputs": [
    {
     "name": "stdout",
     "output_type": "stream",
     "text": [
      "Predicted value : [[0.10212009 0.11866894 0.11980698]]\n",
      "Actual Value    : [0.13262155, 0.19313787, 0.04086969]\n"
     ]
    }
   ],
   "source": [
    "predicted_value = model.predict(test_data6)\n",
    "print('Predicted value : {}\\nActual Value    : {}' .format(predicted_value,test_target6))"
   ]
  },
  {
   "cell_type": "code",
   "execution_count": 63,
   "metadata": {},
   "outputs": [
    {
     "name": "stdout",
     "output_type": "stream",
     "text": [
      "Predicted value : [[0.09391192 0.12548234 0.1232323 ]]\n",
      "Actual Value    : [0.19313787, 0.04086969, 0.02042785]\n"
     ]
    }
   ],
   "source": [
    "predicted_value = model.predict(test_data7)\n",
    "print('Predicted value : {}\\nActual Value    : {}' .format(predicted_value,test_target7))"
   ]
  },
  {
   "cell_type": "code",
   "execution_count": 64,
   "metadata": {},
   "outputs": [
    {
     "name": "stdout",
     "output_type": "stream",
     "text": [
      "Predicted value : [[0.08141021 0.10307641 0.10597866]]\n",
      "Actual Value    : [0.04086969, 0.02042785, 0.06948841]\n"
     ]
    }
   ],
   "source": [
    "predicted_value = model.predict(test_data8)\n",
    "print('Predicted value : {}\\nActual Value    : {}' .format(predicted_value,test_target8))"
   ]
  },
  {
   "cell_type": "code",
   "execution_count": 65,
   "metadata": {},
   "outputs": [
    {
     "name": "stdout",
     "output_type": "stream",
     "text": [
      "Predicted value : [[0.10262994 0.12020095 0.11966377]]\n",
      "Actual Value    : [0.02042785, 0.06948841, 0.04174341]\n"
     ]
    }
   ],
   "source": [
    "predicted_value = model.predict(test_data9)\n",
    "print('Predicted value : {}\\nActual Value    : {}' .format(predicted_value,test_target9))"
   ]
  },
  {
   "cell_type": "code",
   "execution_count": 66,
   "metadata": {},
   "outputs": [
    {
     "name": "stdout",
     "output_type": "stream",
     "text": [
      "Predicted value : [[0.10245015 0.10660085 0.1038072 ]]\n",
      "Actual Value    : [0.06948841, 0.04174341, 0.19069707]\n"
     ]
    }
   ],
   "source": [
    "predicted_value = model.predict(test_data10)\n",
    "print('Predicted value : {}\\nActual Value    : {}' .format(predicted_value,test_target10))"
   ]
  }
 ],
 "metadata": {
  "kernelspec": {
   "display_name": "Python 3",
   "language": "python",
   "name": "python3"
  },
  "language_info": {
   "codemirror_mode": {
    "name": "ipython",
    "version": 3
   },
   "file_extension": ".py",
   "mimetype": "text/x-python",
   "name": "python",
   "nbconvert_exporter": "python",
   "pygments_lexer": "ipython3",
   "version": "3.6.10"
  }
 },
 "nbformat": 4,
 "nbformat_minor": 4
}
