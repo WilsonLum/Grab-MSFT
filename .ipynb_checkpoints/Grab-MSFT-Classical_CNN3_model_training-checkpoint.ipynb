{
 "cells": [
  {
   "cell_type": "markdown",
   "metadata": {},
   "source": [
    "# Grab-Microsoft Challenge \n",
    "## Traffic Management\n",
    "\n",
    "- geohash6: geohash is a public domain geocoding system which encodes a geographic location into a short string of letters and digits with arbitrary precision. You are free to use any geohash library to encode/decode the geohashes into latitude and longitude or vice versa.(Examples:https://github.com/hkwi/python-geohash)\n",
    "- day: the value indicates the sequential order and not a particular day of the month\n",
    "- timestamp: start time of 15-minute intervals in the following format: <hour>:<minute>, where hour ranges from 0 to 23 and minute is either one of (0, 15, 30, 45)\n",
    "- demand: aggregated demand normalised to be in the range [0,1]\n",
    "    \n",
    "## Problem Statements:\n",
    "- Which areas have high / low traffic demand?\n",
    "- How does regional traffic demand change according to day / time?\n",
    "- Forecast the travel demand for next 15min / 1hour and predict areas with high travel demand"
   ]
  },
  {
   "cell_type": "markdown",
   "metadata": {},
   "source": [
    "### This is to train CNN model "
   ]
  },
  {
   "cell_type": "markdown",
   "metadata": {},
   "source": [
    "#### Import python library"
   ]
  },
  {
   "cell_type": "code",
   "execution_count": 1,
   "metadata": {},
   "outputs": [],
   "source": [
    "import numpy as np\n",
    "import pandas as pd\n",
    "import matplotlib.pyplot as plt\n",
    "\n",
    "# plot matplotlib graph\n",
    "%matplotlib inline\n",
    "\n",
    "#Import models from scikit learn module:\n",
    "from sklearn.metrics import mean_squared_error\n",
    "from sklearn.model_selection import train_test_split\n",
    "import sklearn.metrics as metrics\n",
    "\n",
    "# Import from tensorflow\n",
    "from tensorflow.keras.models import Sequential, load_model\n",
    "from tensorflow.keras.layers import Dense, Flatten, BatchNormalization\n",
    "from tensorflow.keras.layers import Dropout,Conv1D, MaxPooling1D,Activation\n",
    "from tensorflow.keras import regularizers\n",
    "import h5py\n",
    "from tensorflow.keras.callbacks import ModelCheckpoint,CSVLogger\n",
    "from tensorflow.keras.models import Model\n",
    "from tensorflow.keras.layers import Input\n",
    "from tensorflow.keras.layers import LSTM\n",
    "from tensorflow.keras.utils import plot_model \n",
    "\n",
    "# for saving trained model\n",
    "import pickle\n",
    "import joblib\n"
   ]
  },
  {
   "cell_type": "code",
   "execution_count": 2,
   "metadata": {},
   "outputs": [],
   "source": [
    "import os \n",
    "os.environ[\"CUDA_VISIBLE_DEVICES\"]=\"0\""
   ]
  },
  {
   "cell_type": "markdown",
   "metadata": {},
   "source": [
    "### Define Variables"
   ]
  },
  {
   "cell_type": "code",
   "execution_count": 3,
   "metadata": {},
   "outputs": [],
   "source": [
    "seed = 8\n",
    "np.random.seed(seed)\n",
    "modelname     = 'CNN3'\n",
    "batch_size    = 8192\n",
    "no_of_epoch   = 30\n",
    "optmz         = 'adam'    # optimizers.RMSprop(lr=0.0001)"
   ]
  },
  {
   "cell_type": "markdown",
   "metadata": {},
   "source": [
    "### Define Function"
   ]
  },
  {
   "cell_type": "code",
   "execution_count": 4,
   "metadata": {
    "code_folding": []
   },
   "outputs": [],
   "source": [
    "def createModel_CNN1(cols, channel=1):\n",
    "    \n",
    "  xin = Input(shape=(cols, channel))\n",
    "  \n",
    "  x = Conv1D(filters=128, kernel_size=3, padding='same',kernel_regularizer=regularizers.l2(0.001))(xin)\n",
    "  x = Activation('relu')(x)\n",
    "  x = MaxPooling1D(2)(x)\n",
    "  x = BatchNormalization()(x)\n",
    "\n",
    "  x = Conv1D(filters=256, kernel_size=3, padding='same',kernel_regularizer=regularizers.l2(0.001))(xin)\n",
    "  x = Activation('relu')(x)\n",
    "  x = MaxPooling1D(2)(x)\n",
    "  x = BatchNormalization()(x)\n",
    "\n",
    "  x = Flatten()(x)\n",
    "  x = Dense(256, activation='relu', kernel_regularizer=regularizers.l2(0.001))(x)\n",
    "  x = Dropout(0.4)(x)\n",
    "  x = BatchNormalization()(x)\n",
    "  x = Dense(128, activation='relu', kernel_regularizer=regularizers.l2(0.001))(x)\n",
    "  x = Dropout(0.4)(x)\n",
    "  x = BatchNormalization()(x)\n",
    "  x = Dense(64, activation='relu', kernel_regularizer=regularizers.l2(0.001))(x)\n",
    "  x = Dropout(0.5)(x)\n",
    "  x = BatchNormalization()(x)\n",
    "  x = Dense(32, activation='relu', kernel_regularizer=regularizers.l2(0.001))(x)\n",
    "  x = Dropout(0.5)(x)\n",
    "  x = BatchNormalization()(x)\n",
    "\n",
    "  x = Dense(1,activation='sigmoid',kernel_initializer='he_normal')(x)\n",
    "\n",
    "  model = Model(inputs=xin, outputs=x)\n",
    "  model.compile(loss='mse', optimizer=optmz , metrics=['mse', 'mae'])\n",
    "  \n",
    "  return model\n"
   ]
  },
  {
   "cell_type": "markdown",
   "metadata": {},
   "source": [
    "#### Reading from Preprocessed dataset"
   ]
  },
  {
   "cell_type": "code",
   "execution_count": 5,
   "metadata": {},
   "outputs": [
    {
     "data": {
      "text/html": [
       "<div>\n",
       "<style scoped>\n",
       "    .dataframe tbody tr th:only-of-type {\n",
       "        vertical-align: middle;\n",
       "    }\n",
       "\n",
       "    .dataframe tbody tr th {\n",
       "        vertical-align: top;\n",
       "    }\n",
       "\n",
       "    .dataframe thead th {\n",
       "        text-align: right;\n",
       "    }\n",
       "</style>\n",
       "<table border=\"1\" class=\"dataframe\">\n",
       "  <thead>\n",
       "    <tr style=\"text-align: right;\">\n",
       "      <th></th>\n",
       "      <th>day</th>\n",
       "      <th>demand</th>\n",
       "      <th>hour</th>\n",
       "      <th>min</th>\n",
       "      <th>dow</th>\n",
       "      <th>lat</th>\n",
       "      <th>long</th>\n",
       "    </tr>\n",
       "  </thead>\n",
       "  <tbody>\n",
       "    <tr>\n",
       "      <th>0</th>\n",
       "      <td>0.283333</td>\n",
       "      <td>0.020072</td>\n",
       "      <td>0.869565</td>\n",
       "      <td>0.000000</td>\n",
       "      <td>0.666667</td>\n",
       "      <td>0.533333</td>\n",
       "      <td>0.171429</td>\n",
       "    </tr>\n",
       "    <tr>\n",
       "      <th>1</th>\n",
       "      <td>0.150000</td>\n",
       "      <td>0.024721</td>\n",
       "      <td>0.608696</td>\n",
       "      <td>0.666667</td>\n",
       "      <td>0.500000</td>\n",
       "      <td>0.288889</td>\n",
       "      <td>0.200000</td>\n",
       "    </tr>\n",
       "    <tr>\n",
       "      <th>2</th>\n",
       "      <td>0.133333</td>\n",
       "      <td>0.102821</td>\n",
       "      <td>0.260870</td>\n",
       "      <td>0.333333</td>\n",
       "      <td>0.333333</td>\n",
       "      <td>0.644444</td>\n",
       "      <td>0.828571</td>\n",
       "    </tr>\n",
       "    <tr>\n",
       "      <th>3</th>\n",
       "      <td>0.516667</td>\n",
       "      <td>0.088755</td>\n",
       "      <td>0.217391</td>\n",
       "      <td>0.000000</td>\n",
       "      <td>0.666667</td>\n",
       "      <td>0.533333</td>\n",
       "      <td>0.428571</td>\n",
       "    </tr>\n",
       "    <tr>\n",
       "      <th>4</th>\n",
       "      <td>0.233333</td>\n",
       "      <td>0.074468</td>\n",
       "      <td>0.173913</td>\n",
       "      <td>0.000000</td>\n",
       "      <td>0.166667</td>\n",
       "      <td>0.288889</td>\n",
       "      <td>0.342857</td>\n",
       "    </tr>\n",
       "    <tr>\n",
       "      <th>...</th>\n",
       "      <td>...</td>\n",
       "      <td>...</td>\n",
       "      <td>...</td>\n",
       "      <td>...</td>\n",
       "      <td>...</td>\n",
       "      <td>...</td>\n",
       "      <td>...</td>\n",
       "    </tr>\n",
       "    <tr>\n",
       "      <th>1048570</th>\n",
       "      <td>0.083333</td>\n",
       "      <td>0.024022</td>\n",
       "      <td>0.347826</td>\n",
       "      <td>0.666667</td>\n",
       "      <td>1.000000</td>\n",
       "      <td>0.911111</td>\n",
       "      <td>0.771429</td>\n",
       "    </tr>\n",
       "    <tr>\n",
       "      <th>1048571</th>\n",
       "      <td>0.366667</td>\n",
       "      <td>0.005703</td>\n",
       "      <td>0.652174</td>\n",
       "      <td>0.666667</td>\n",
       "      <td>0.333333</td>\n",
       "      <td>0.111111</td>\n",
       "      <td>0.400000</td>\n",
       "    </tr>\n",
       "    <tr>\n",
       "      <th>1048572</th>\n",
       "      <td>0.683333</td>\n",
       "      <td>0.067131</td>\n",
       "      <td>0.652174</td>\n",
       "      <td>1.000000</td>\n",
       "      <td>0.000000</td>\n",
       "      <td>0.533333</td>\n",
       "      <td>0.200000</td>\n",
       "    </tr>\n",
       "    <tr>\n",
       "      <th>1048573</th>\n",
       "      <td>0.016667</td>\n",
       "      <td>0.151323</td>\n",
       "      <td>0.260870</td>\n",
       "      <td>0.666667</td>\n",
       "      <td>0.333333</td>\n",
       "      <td>0.711111</td>\n",
       "      <td>0.600000</td>\n",
       "    </tr>\n",
       "    <tr>\n",
       "      <th>1048574</th>\n",
       "      <td>0.066667</td>\n",
       "      <td>0.026007</td>\n",
       "      <td>0.434783</td>\n",
       "      <td>1.000000</td>\n",
       "      <td>0.833333</td>\n",
       "      <td>0.688889</td>\n",
       "      <td>0.800000</td>\n",
       "    </tr>\n",
       "  </tbody>\n",
       "</table>\n",
       "<p>1048575 rows × 7 columns</p>\n",
       "</div>"
      ],
      "text/plain": [
       "              day    demand      hour       min       dow       lat      long\n",
       "0        0.283333  0.020072  0.869565  0.000000  0.666667  0.533333  0.171429\n",
       "1        0.150000  0.024721  0.608696  0.666667  0.500000  0.288889  0.200000\n",
       "2        0.133333  0.102821  0.260870  0.333333  0.333333  0.644444  0.828571\n",
       "3        0.516667  0.088755  0.217391  0.000000  0.666667  0.533333  0.428571\n",
       "4        0.233333  0.074468  0.173913  0.000000  0.166667  0.288889  0.342857\n",
       "...           ...       ...       ...       ...       ...       ...       ...\n",
       "1048570  0.083333  0.024022  0.347826  0.666667  1.000000  0.911111  0.771429\n",
       "1048571  0.366667  0.005703  0.652174  0.666667  0.333333  0.111111  0.400000\n",
       "1048572  0.683333  0.067131  0.652174  1.000000  0.000000  0.533333  0.200000\n",
       "1048573  0.016667  0.151323  0.260870  0.666667  0.333333  0.711111  0.600000\n",
       "1048574  0.066667  0.026007  0.434783  1.000000  0.833333  0.688889  0.800000\n",
       "\n",
       "[1048575 rows x 7 columns]"
      ]
     },
     "execution_count": 5,
     "metadata": {},
     "output_type": "execute_result"
    }
   ],
   "source": [
    "xls  = pd.ExcelFile('data/Dataset_featurefor_CNN.xlsx')\n",
    "data = pd.read_excel(xls, 'TrafficMgmt')\n",
    "data"
   ]
  },
  {
   "cell_type": "code",
   "execution_count": 6,
   "metadata": {},
   "outputs": [],
   "source": [
    "predictor_var = ['day', 'hour', 'min', 'dow', 'lat', 'long']\n",
    "outcome_var   = 'demand'"
   ]
  },
  {
   "cell_type": "code",
   "execution_count": 7,
   "metadata": {},
   "outputs": [],
   "source": [
    "# Will be using 300k sample since executing full 1 millions dataset will not be able to run on the GPU of 8GB\n",
    "data_sample = data.sample(300000, random_state=seed)"
   ]
  },
  {
   "cell_type": "markdown",
   "metadata": {},
   "source": [
    "#### Prepare training & test data\n"
   ]
  },
  {
   "cell_type": "code",
   "execution_count": 8,
   "metadata": {},
   "outputs": [],
   "source": [
    "X = data.drop(outcome_var,axis=1)\n",
    "y = data.drop(predictor_var,axis=1)"
   ]
  },
  {
   "cell_type": "code",
   "execution_count": 9,
   "metadata": {
    "scrolled": true
   },
   "outputs": [
    {
     "data": {
      "text/html": [
       "<div>\n",
       "<style scoped>\n",
       "    .dataframe tbody tr th:only-of-type {\n",
       "        vertical-align: middle;\n",
       "    }\n",
       "\n",
       "    .dataframe tbody tr th {\n",
       "        vertical-align: top;\n",
       "    }\n",
       "\n",
       "    .dataframe thead th {\n",
       "        text-align: right;\n",
       "    }\n",
       "</style>\n",
       "<table border=\"1\" class=\"dataframe\">\n",
       "  <thead>\n",
       "    <tr style=\"text-align: right;\">\n",
       "      <th></th>\n",
       "      <th>day</th>\n",
       "      <th>hour</th>\n",
       "      <th>min</th>\n",
       "      <th>dow</th>\n",
       "      <th>lat</th>\n",
       "      <th>long</th>\n",
       "    </tr>\n",
       "  </thead>\n",
       "  <tbody>\n",
       "    <tr>\n",
       "      <th>0</th>\n",
       "      <td>0.283333</td>\n",
       "      <td>0.869565</td>\n",
       "      <td>0.000000</td>\n",
       "      <td>0.666667</td>\n",
       "      <td>0.533333</td>\n",
       "      <td>0.171429</td>\n",
       "    </tr>\n",
       "    <tr>\n",
       "      <th>1</th>\n",
       "      <td>0.150000</td>\n",
       "      <td>0.608696</td>\n",
       "      <td>0.666667</td>\n",
       "      <td>0.500000</td>\n",
       "      <td>0.288889</td>\n",
       "      <td>0.200000</td>\n",
       "    </tr>\n",
       "    <tr>\n",
       "      <th>2</th>\n",
       "      <td>0.133333</td>\n",
       "      <td>0.260870</td>\n",
       "      <td>0.333333</td>\n",
       "      <td>0.333333</td>\n",
       "      <td>0.644444</td>\n",
       "      <td>0.828571</td>\n",
       "    </tr>\n",
       "    <tr>\n",
       "      <th>3</th>\n",
       "      <td>0.516667</td>\n",
       "      <td>0.217391</td>\n",
       "      <td>0.000000</td>\n",
       "      <td>0.666667</td>\n",
       "      <td>0.533333</td>\n",
       "      <td>0.428571</td>\n",
       "    </tr>\n",
       "    <tr>\n",
       "      <th>4</th>\n",
       "      <td>0.233333</td>\n",
       "      <td>0.173913</td>\n",
       "      <td>0.000000</td>\n",
       "      <td>0.166667</td>\n",
       "      <td>0.288889</td>\n",
       "      <td>0.342857</td>\n",
       "    </tr>\n",
       "    <tr>\n",
       "      <th>...</th>\n",
       "      <td>...</td>\n",
       "      <td>...</td>\n",
       "      <td>...</td>\n",
       "      <td>...</td>\n",
       "      <td>...</td>\n",
       "      <td>...</td>\n",
       "    </tr>\n",
       "    <tr>\n",
       "      <th>1048570</th>\n",
       "      <td>0.083333</td>\n",
       "      <td>0.347826</td>\n",
       "      <td>0.666667</td>\n",
       "      <td>1.000000</td>\n",
       "      <td>0.911111</td>\n",
       "      <td>0.771429</td>\n",
       "    </tr>\n",
       "    <tr>\n",
       "      <th>1048571</th>\n",
       "      <td>0.366667</td>\n",
       "      <td>0.652174</td>\n",
       "      <td>0.666667</td>\n",
       "      <td>0.333333</td>\n",
       "      <td>0.111111</td>\n",
       "      <td>0.400000</td>\n",
       "    </tr>\n",
       "    <tr>\n",
       "      <th>1048572</th>\n",
       "      <td>0.683333</td>\n",
       "      <td>0.652174</td>\n",
       "      <td>1.000000</td>\n",
       "      <td>0.000000</td>\n",
       "      <td>0.533333</td>\n",
       "      <td>0.200000</td>\n",
       "    </tr>\n",
       "    <tr>\n",
       "      <th>1048573</th>\n",
       "      <td>0.016667</td>\n",
       "      <td>0.260870</td>\n",
       "      <td>0.666667</td>\n",
       "      <td>0.333333</td>\n",
       "      <td>0.711111</td>\n",
       "      <td>0.600000</td>\n",
       "    </tr>\n",
       "    <tr>\n",
       "      <th>1048574</th>\n",
       "      <td>0.066667</td>\n",
       "      <td>0.434783</td>\n",
       "      <td>1.000000</td>\n",
       "      <td>0.833333</td>\n",
       "      <td>0.688889</td>\n",
       "      <td>0.800000</td>\n",
       "    </tr>\n",
       "  </tbody>\n",
       "</table>\n",
       "<p>1048575 rows × 6 columns</p>\n",
       "</div>"
      ],
      "text/plain": [
       "              day      hour       min       dow       lat      long\n",
       "0        0.283333  0.869565  0.000000  0.666667  0.533333  0.171429\n",
       "1        0.150000  0.608696  0.666667  0.500000  0.288889  0.200000\n",
       "2        0.133333  0.260870  0.333333  0.333333  0.644444  0.828571\n",
       "3        0.516667  0.217391  0.000000  0.666667  0.533333  0.428571\n",
       "4        0.233333  0.173913  0.000000  0.166667  0.288889  0.342857\n",
       "...           ...       ...       ...       ...       ...       ...\n",
       "1048570  0.083333  0.347826  0.666667  1.000000  0.911111  0.771429\n",
       "1048571  0.366667  0.652174  0.666667  0.333333  0.111111  0.400000\n",
       "1048572  0.683333  0.652174  1.000000  0.000000  0.533333  0.200000\n",
       "1048573  0.016667  0.260870  0.666667  0.333333  0.711111  0.600000\n",
       "1048574  0.066667  0.434783  1.000000  0.833333  0.688889  0.800000\n",
       "\n",
       "[1048575 rows x 6 columns]"
      ]
     },
     "execution_count": 9,
     "metadata": {},
     "output_type": "execute_result"
    }
   ],
   "source": [
    "X"
   ]
  },
  {
   "cell_type": "code",
   "execution_count": 10,
   "metadata": {},
   "outputs": [
    {
     "data": {
      "text/plain": [
       "(1048575, 1)"
      ]
     },
     "execution_count": 10,
     "metadata": {},
     "output_type": "execute_result"
    }
   ],
   "source": [
    "y.shape"
   ]
  },
  {
   "cell_type": "code",
   "execution_count": 11,
   "metadata": {},
   "outputs": [
    {
     "data": {
      "text/plain": [
       "(1048575, 6)"
      ]
     },
     "execution_count": 11,
     "metadata": {},
     "output_type": "execute_result"
    }
   ],
   "source": [
    "X.shape"
   ]
  },
  {
   "cell_type": "markdown",
   "metadata": {},
   "source": [
    "#### Train-test-val dataset split"
   ]
  },
  {
   "cell_type": "code",
   "execution_count": 12,
   "metadata": {},
   "outputs": [],
   "source": [
    "X_train, X_test, y_train, y_test = train_test_split(X, y, test_size=0.3, random_state=seed,shuffle=True)\n",
    "\n",
    "X_train, X_val, y_train, y_val = train_test_split(X_train, y_train, test_size=0.3, random_state=seed,shuffle=True)"
   ]
  },
  {
   "cell_type": "code",
   "execution_count": 13,
   "metadata": {},
   "outputs": [
    {
     "data": {
      "text/plain": [
       "(513801, 6, 1)"
      ]
     },
     "execution_count": 13,
     "metadata": {},
     "output_type": "execute_result"
    }
   ],
   "source": [
    "X_train = np.expand_dims(X_train, axis=2) # reshape (513801, 6) to (513801, 6, 1) \n",
    "X_train.shape"
   ]
  },
  {
   "cell_type": "code",
   "execution_count": 14,
   "metadata": {},
   "outputs": [
    {
     "data": {
      "text/plain": [
       "(314573, 6, 1)"
      ]
     },
     "execution_count": 14,
     "metadata": {},
     "output_type": "execute_result"
    }
   ],
   "source": [
    "X_test = np.expand_dims(X_test, axis=2) # reshape (90000, 6) to (90000, 6, 1) \n",
    "X_test.shape"
   ]
  },
  {
   "cell_type": "code",
   "execution_count": 15,
   "metadata": {},
   "outputs": [
    {
     "data": {
      "text/plain": [
       "(220201, 6, 1)"
      ]
     },
     "execution_count": 15,
     "metadata": {},
     "output_type": "execute_result"
    }
   ],
   "source": [
    "X_val = np.expand_dims(X_val, axis=2) # reshape (63000, 6) to (63000, 6, 1) \n",
    "X_val.shape"
   ]
  },
  {
   "cell_type": "code",
   "execution_count": 16,
   "metadata": {
    "scrolled": true
   },
   "outputs": [],
   "source": [
    "X_train1 = np.asarray(X_train)\n",
    "y_train1 = np.asarray(y_train)\n",
    "X_test1  = np.asarray(X_test)\n",
    "y_test1  = np.asarray(y_test)\n",
    "X_val1   = np.asarray(X_val)\n",
    "y_val1   = np.asarray(y_val)"
   ]
  },
  {
   "cell_type": "code",
   "execution_count": 17,
   "metadata": {},
   "outputs": [
    {
     "data": {
      "text/plain": [
       "(314573, 6, 1)"
      ]
     },
     "execution_count": 17,
     "metadata": {},
     "output_type": "execute_result"
    }
   ],
   "source": [
    "X_test1.shape"
   ]
  },
  {
   "cell_type": "code",
   "execution_count": 18,
   "metadata": {},
   "outputs": [
    {
     "data": {
      "text/plain": [
       "(220201, 6, 1)"
      ]
     },
     "execution_count": 18,
     "metadata": {},
     "output_type": "execute_result"
    }
   ],
   "source": [
    "X_val1.shape"
   ]
  },
  {
   "cell_type": "code",
   "execution_count": 19,
   "metadata": {},
   "outputs": [
    {
     "data": {
      "text/plain": [
       "(513801, 6, 1)"
      ]
     },
     "execution_count": 19,
     "metadata": {},
     "output_type": "execute_result"
    }
   ],
   "source": [
    "X_train1.shape"
   ]
  },
  {
   "cell_type": "markdown",
   "metadata": {},
   "source": [
    "<h2><center>Create Model and test</center><h2>"
   ]
  },
  {
   "cell_type": "markdown",
   "metadata": {},
   "source": [
    "<h3>CNN<h3>"
   ]
  },
  {
   "cell_type": "code",
   "execution_count": 20,
   "metadata": {
    "scrolled": true
   },
   "outputs": [
    {
     "name": "stdout",
     "output_type": "stream",
     "text": [
      "Model: \"model\"\n",
      "_________________________________________________________________\n",
      "Layer (type)                 Output Shape              Param #   \n",
      "=================================================================\n",
      "input_1 (InputLayer)         [(None, 6, 1)]            0         \n",
      "_________________________________________________________________\n",
      "conv1d_1 (Conv1D)            (None, 6, 256)            1024      \n",
      "_________________________________________________________________\n",
      "activation_1 (Activation)    (None, 6, 256)            0         \n",
      "_________________________________________________________________\n",
      "max_pooling1d_1 (MaxPooling1 (None, 3, 256)            0         \n",
      "_________________________________________________________________\n",
      "batch_normalization_1 (Batch (None, 3, 256)            1024      \n",
      "_________________________________________________________________\n",
      "flatten (Flatten)            (None, 768)               0         \n",
      "_________________________________________________________________\n",
      "dense (Dense)                (None, 256)               196864    \n",
      "_________________________________________________________________\n",
      "dropout (Dropout)            (None, 256)               0         \n",
      "_________________________________________________________________\n",
      "batch_normalization_2 (Batch (None, 256)               1024      \n",
      "_________________________________________________________________\n",
      "dense_1 (Dense)              (None, 128)               32896     \n",
      "_________________________________________________________________\n",
      "dropout_1 (Dropout)          (None, 128)               0         \n",
      "_________________________________________________________________\n",
      "batch_normalization_3 (Batch (None, 128)               512       \n",
      "_________________________________________________________________\n",
      "dense_2 (Dense)              (None, 64)                8256      \n",
      "_________________________________________________________________\n",
      "dropout_2 (Dropout)          (None, 64)                0         \n",
      "_________________________________________________________________\n",
      "batch_normalization_4 (Batch (None, 64)                256       \n",
      "_________________________________________________________________\n",
      "dense_3 (Dense)              (None, 32)                2080      \n",
      "_________________________________________________________________\n",
      "dropout_3 (Dropout)          (None, 32)                0         \n",
      "_________________________________________________________________\n",
      "batch_normalization_5 (Batch (None, 32)                128       \n",
      "_________________________________________________________________\n",
      "dense_4 (Dense)              (None, 1)                 33        \n",
      "=================================================================\n",
      "Total params: 244,097\n",
      "Trainable params: 242,625\n",
      "Non-trainable params: 1,472\n",
      "_________________________________________________________________\n"
     ]
    }
   ],
   "source": [
    "model = createModel_CNN1(X_train1.shape[1])\n",
    "model.summary()"
   ]
  },
  {
   "cell_type": "code",
   "execution_count": 21,
   "metadata": {},
   "outputs": [],
   "source": [
    "# Create checkpoints to save model during training and save training data into csv\n",
    "# ‘monitor’ can be ‘val_acc’ or ‘val_loss’\n",
    "# When set to ‘val_acc’, ‘mode’ must be ‘max’; when set to ‘val_loss’, ‘mode’ must be ‘min’\n",
    "\n",
    "filepath       = modelname + \".hdf5\"\n",
    "checkpoint     = ModelCheckpoint(filepath, monitor='mse',verbose=0,save_best_only=True,mode='max') \n",
    "csv_logger     = CSVLogger(modelname + '.csv')\n",
    "callbacks_list = [checkpoint,csv_logger]"
   ]
  },
  {
   "cell_type": "code",
   "execution_count": 22,
   "metadata": {
    "scrolled": true
   },
   "outputs": [
    {
     "name": "stdout",
     "output_type": "stream",
     "text": [
      "Train on 513801 samples, validate on 220201 samples\n",
      "Epoch 1/30\n",
      "513801/513801 [==============================] - 6s 12us/sample - loss: 0.5291 - mse: 0.1471 - mae: 0.3272 - val_loss: 0.2275 - val_mse: 0.0607 - val_mae: 0.2283\n",
      "Epoch 2/30\n",
      "513801/513801 [==============================] - 2s 4us/sample - loss: 0.1500 - mse: 0.0581 - mae: 0.1995 - val_loss: 0.0789 - val_mse: 0.0326 - val_mae: 0.1477\n",
      "Epoch 3/30\n",
      "513801/513801 [==============================] - 2s 4us/sample - loss: 0.0642 - mse: 0.0340 - mae: 0.1404 - val_loss: 0.0456 - val_mse: 0.0264 - val_mae: 0.1141\n",
      "Epoch 4/30\n",
      "513801/513801 [==============================] - 2s 4us/sample - loss: 0.0419 - mse: 0.0271 - mae: 0.1132 - val_loss: 0.0368 - val_mse: 0.0255 - val_mae: 0.1028\n",
      "Epoch 5/30\n",
      "513801/513801 [==============================] - 2s 4us/sample - loss: 0.0342 - mse: 0.0248 - mae: 0.1013 - val_loss: 0.0330 - val_mse: 0.0253 - val_mae: 0.0977\n",
      "Epoch 6/30\n",
      "513801/513801 [==============================] - 2s 4us/sample - loss: 0.0318 - mse: 0.0241 - mae: 0.0968 - val_loss: 0.0320 - val_mse: 0.0253 - val_mae: 0.0957\n",
      "Epoch 7/30\n",
      "513801/513801 [==============================] - 2s 4us/sample - loss: 0.0291 - mse: 0.0229 - mae: 0.0928 - val_loss: 0.0307 - val_mse: 0.0250 - val_mae: 0.0941\n",
      "Epoch 8/30\n",
      "513801/513801 [==============================] - 2s 4us/sample - loss: 0.0271 - mse: 0.0220 - mae: 0.0909 - val_loss: 0.0294 - val_mse: 0.0246 - val_mae: 0.0964\n",
      "Epoch 9/30\n",
      "513801/513801 [==============================] - 2s 4us/sample - loss: 0.0262 - mse: 0.0217 - mae: 0.0895 - val_loss: 0.0279 - val_mse: 0.0239 - val_mae: 0.0966\n",
      "Epoch 10/30\n",
      "513801/513801 [==============================] - 2s 4us/sample - loss: 0.0246 - mse: 0.0208 - mae: 0.0872 - val_loss: 0.0270 - val_mse: 0.0236 - val_mae: 0.0961\n",
      "Epoch 11/30\n",
      "513801/513801 [==============================] - 2s 4us/sample - loss: 0.0238 - mse: 0.0203 - mae: 0.0861 - val_loss: 0.0262 - val_mse: 0.0229 - val_mae: 0.0938\n",
      "Epoch 12/30\n",
      "513801/513801 [==============================] - 2s 4us/sample - loss: 0.0231 - mse: 0.0201 - mae: 0.0853 - val_loss: 0.0256 - val_mse: 0.0228 - val_mae: 0.0928\n",
      "Epoch 13/30\n",
      "513801/513801 [==============================] - 2s 4us/sample - loss: 0.0224 - mse: 0.0197 - mae: 0.0844 - val_loss: 0.0249 - val_mse: 0.0225 - val_mae: 0.0907\n",
      "Epoch 14/30\n",
      "513801/513801 [==============================] - 2s 4us/sample - loss: 0.0219 - mse: 0.0194 - mae: 0.0840 - val_loss: 0.0231 - val_mse: 0.0207 - val_mae: 0.0827\n",
      "Epoch 15/30\n",
      "513801/513801 [==============================] - 2s 4us/sample - loss: 0.0214 - mse: 0.0191 - mae: 0.0834 - val_loss: 0.0223 - val_mse: 0.0200 - val_mae: 0.0816\n",
      "Epoch 16/30\n",
      "513801/513801 [==============================] - 2s 4us/sample - loss: 0.0210 - mse: 0.0189 - mae: 0.0833 - val_loss: 0.0225 - val_mse: 0.0204 - val_mae: 0.0804\n",
      "Epoch 17/30\n",
      "513801/513801 [==============================] - 2s 4us/sample - loss: 0.0208 - mse: 0.0189 - mae: 0.0829 - val_loss: 0.0230 - val_mse: 0.0212 - val_mae: 0.0782\n",
      "Epoch 18/30\n",
      "513801/513801 [==============================] - 2s 4us/sample - loss: 0.0203 - mse: 0.0185 - mae: 0.0824 - val_loss: 0.0208 - val_mse: 0.0190 - val_mae: 0.0784\n",
      "Epoch 19/30\n",
      "513801/513801 [==============================] - 2s 4us/sample - loss: 0.0204 - mse: 0.0186 - mae: 0.0823 - val_loss: 0.0230 - val_mse: 0.0212 - val_mae: 0.0807\n",
      "Epoch 20/30\n",
      "513801/513801 [==============================] - 2s 4us/sample - loss: 0.0201 - mse: 0.0183 - mae: 0.0816 - val_loss: 0.0227 - val_mse: 0.0209 - val_mae: 0.0777\n",
      "Epoch 21/30\n",
      "513801/513801 [==============================] - 2s 4us/sample - loss: 0.0199 - mse: 0.0182 - mae: 0.0812 - val_loss: 0.0204 - val_mse: 0.0187 - val_mae: 0.0747\n",
      "Epoch 22/30\n",
      "513801/513801 [==============================] - 2s 4us/sample - loss: 0.0198 - mse: 0.0181 - mae: 0.0812 - val_loss: 0.0209 - val_mse: 0.0192 - val_mae: 0.0752\n",
      "Epoch 23/30\n",
      "513801/513801 [==============================] - 2s 4us/sample - loss: 0.0196 - mse: 0.0179 - mae: 0.0807 - val_loss: 0.0210 - val_mse: 0.0193 - val_mae: 0.0781\n",
      "Epoch 24/30\n",
      "513801/513801 [==============================] - 2s 4us/sample - loss: 0.0195 - mse: 0.0179 - mae: 0.0809 - val_loss: 0.0206 - val_mse: 0.0190 - val_mae: 0.0756\n",
      "Epoch 25/30\n",
      "513801/513801 [==============================] - 2s 4us/sample - loss: 0.0195 - mse: 0.0179 - mae: 0.0809 - val_loss: 0.0219 - val_mse: 0.0203 - val_mae: 0.0773\n",
      "Epoch 26/30\n",
      "513801/513801 [==============================] - 2s 4us/sample - loss: 0.0191 - mse: 0.0176 - mae: 0.0801 - val_loss: 0.0200 - val_mse: 0.0185 - val_mae: 0.0763\n",
      "Epoch 27/30\n",
      "513801/513801 [==============================] - 2s 4us/sample - loss: 0.0192 - mse: 0.0177 - mae: 0.0802 - val_loss: 0.0207 - val_mse: 0.0192 - val_mae: 0.0761\n",
      "Epoch 28/30\n",
      "513801/513801 [==============================] - 2s 4us/sample - loss: 0.0192 - mse: 0.0177 - mae: 0.0802 - val_loss: 0.0193 - val_mse: 0.0178 - val_mae: 0.0732\n",
      "Epoch 29/30\n",
      "513801/513801 [==============================] - 2s 4us/sample - loss: 0.0190 - mse: 0.0175 - mae: 0.0798 - val_loss: 0.0183 - val_mse: 0.0168 - val_mae: 0.0762\n",
      "Epoch 30/30\n",
      "513801/513801 [==============================] - 2s 4us/sample - loss: 0.0189 - mse: 0.0174 - mae: 0.0796 - val_loss: 0.0210 - val_mse: 0.0195 - val_mae: 0.0791\n"
     ]
    },
    {
     "data": {
      "text/plain": [
       "<tensorflow.python.keras.callbacks.History at 0x2cdd96275c0>"
      ]
     },
     "execution_count": 22,
     "metadata": {},
     "output_type": "execute_result"
    }
   ],
   "source": [
    "# The line for training\n",
    "model.fit(X_train1, \n",
    "          y_train1, \n",
    "          validation_data=(X_val1, y_val1), \n",
    "            epochs=no_of_epoch, \n",
    "            batch_size=batch_size,\n",
    "            shuffle=True,\n",
    "            callbacks=callbacks_list) "
   ]
  },
  {
   "cell_type": "markdown",
   "metadata": {},
   "source": [
    "### validation dataset test result"
   ]
  },
  {
   "cell_type": "code",
   "execution_count": 23,
   "metadata": {},
   "outputs": [],
   "source": [
    "predicts = model.predict(X_val1)"
   ]
  },
  {
   "cell_type": "code",
   "execution_count": 24,
   "metadata": {},
   "outputs": [
    {
     "name": "stdout",
     "output_type": "stream",
     "text": [
      "0.019518233303926096\n"
     ]
    }
   ],
   "source": [
    "print(mean_squared_error(y_val1,predicts))"
   ]
  },
  {
   "cell_type": "markdown",
   "metadata": {},
   "source": [
    "### Test dataset test result"
   ]
  },
  {
   "cell_type": "code",
   "execution_count": 25,
   "metadata": {},
   "outputs": [
    {
     "name": "stdout",
     "output_type": "stream",
     "text": [
      "0.01956485007919394\n"
     ]
    }
   ],
   "source": [
    "predicted_value = model.predict(X_test1)\n",
    "print(mean_squared_error(y_test1,predicted_value))"
   ]
  },
  {
   "cell_type": "code",
   "execution_count": 26,
   "metadata": {},
   "outputs": [
    {
     "data": {
      "image/png": "[encoded data removed]",
      "text/plain": [
       "<Figure size 1440x720 with 2 Axes>"
      ]
     },
     "metadata": {
      "needs_background": "light"
     },
     "output_type": "display_data"
    }
   ],
   "source": [
    "records     = pd.read_csv(modelname +'.csv')\n",
    "plt.figure(figsize=(20,10))\n",
    "plt.subplot(211)\n",
    "plt.plot(records['val_loss'],label=\"val_loss\")\n",
    "plt.plot(records['val_mse'],label=\"val_mse\")\n",
    "plt.yticks([0.00,0.01,0.02,0.03])\n",
    "plt.title('MSE',fontsize=15)\n",
    "plt.legend(loc=\"upper left\",fontsize=15)\n",
    "\n",
    "ax          = plt.gca()\n",
    "ax.set_xticklabels([])\n",
    "\n",
    "plt.subplot(212)\n",
    "plt.plot(records['val_loss'],label=\"val_loss\")\n",
    "plt.plot(records['val_mae'],label=\"val_mae\")\n",
    "plt.yticks([0.00,0.01,0.05,0.1])\n",
    "plt.title('MAE',fontsize=15)\n",
    "plt.legend(loc=\"upper left\",fontsize=15)\n",
    "\n",
    "plt.show()\n"
   ]
  },
  {
   "cell_type": "markdown",
   "metadata": {},
   "source": [
    "### Testing using 1 row of inference data"
   ]
  },
  {
   "cell_type": "code",
   "execution_count": 27,
   "metadata": {},
   "outputs": [],
   "source": [
    "# Load your own trained model\n",
    "model = load_model(filepath, compile = False)"
   ]
  },
  {
   "cell_type": "code",
   "execution_count": 28,
   "metadata": {},
   "outputs": [],
   "source": [
    "# Data input sequence format :\n",
    "\n",
    "test_data1   = [[18,20, 0, 4, -5.353088, 90.653687]]\n",
    "test_data1   = pd.DataFrame(test_data1, columns = predictor_var)\n",
    "test_target1 = [0.020072]\n",
    "\n",
    "test_data2   = [[10,14,30, 3, -5.413513, 90.664673]]\n",
    "test_data2   = pd.DataFrame(test_data2, columns = predictor_var)\n",
    "test_target2 = [0.024721]\n",
    "\n",
    "test_data3   = [[ 9, 6,15, 2, -5.325623, 90.906372]]\n",
    "test_data3   = pd.DataFrame(test_data3, columns = predictor_var)\n",
    "test_target3 = [0.102821]\n",
    "\n",
    "test_data4   = [[32, 5, 0, 4, -5.353088, 90.752563]]\n",
    "test_data4   = pd.DataFrame(test_data4, columns = predictor_var)\n",
    "test_target4 = [0.088755]\n",
    "\n",
    "test_data5   = [[15, 4, 0, 1, -5.413513, 90.719604]]\n",
    "test_data5   = pd.DataFrame(test_data5, columns = predictor_var)\n",
    "test_target5 = [0.074468]"
   ]
  },
  {
   "cell_type": "code",
   "execution_count": 29,
   "metadata": {},
   "outputs": [
    {
     "name": "stderr",
     "output_type": "stream",
     "text": [
      "C:\\ProgramData\\Anaconda3\\envs\\deep\\lib\\site-packages\\sklearn\\base.py:334: UserWarning: Trying to unpickle estimator MinMaxScaler from version 0.22.1 when using version 0.23.1. This might lead to breaking code or invalid results. Use at your own risk.\n",
      "  UserWarning)\n"
     ]
    }
   ],
   "source": [
    "scaler_filename = \"grab_msft_cnn_scaler.save\"\n",
    "scaler          = joblib.load(scaler_filename) \n",
    "Data_scaled1    = scaler.transform(test_data1)\n",
    "Data_scaled2    = scaler.transform(test_data2)\n",
    "Data_scaled3    = scaler.transform(test_data3)\n",
    "Data_scaled4    = scaler.transform(test_data4)\n",
    "Data_scaled5    = scaler.transform(test_data5)"
   ]
  },
  {
   "cell_type": "code",
   "execution_count": 30,
   "metadata": {},
   "outputs": [
    {
     "data": {
      "text/plain": [
       "(1, 6, 1)"
      ]
     },
     "execution_count": 30,
     "metadata": {},
     "output_type": "execute_result"
    }
   ],
   "source": [
    "Data_scaled_reshape1 = np.expand_dims(Data_scaled1, axis=2) # reshape (1 6) to (1, 6, 1) \n",
    "Data_scaled_reshape2 = np.expand_dims(Data_scaled2, axis=2)\n",
    "Data_scaled_reshape3 = np.expand_dims(Data_scaled3, axis=2)\n",
    "Data_scaled_reshape4 = np.expand_dims(Data_scaled4, axis=2)\n",
    "Data_scaled_reshape5 = np.expand_dims(Data_scaled5, axis=2)\n",
    "Data_scaled_reshape1.shape"
   ]
  },
  {
   "cell_type": "code",
   "execution_count": 31,
   "metadata": {},
   "outputs": [
    {
     "name": "stdout",
     "output_type": "stream",
     "text": [
      "Predicted value : 0.2928200960159302\n",
      "Actual Value    : 0.020072\n",
      "MSE             : 0.07439152388031507\n"
     ]
    }
   ],
   "source": [
    "predicted_value1 = model.predict(Data_scaled_reshape1)\n",
    "print('Predicted value : {}\\nActual Value    : {}' .format(predicted_value1[0][0],test_target1[0]))\n",
    "print(\"MSE             :\", mean_squared_error(test_target1,predicted_value1))"
   ]
  },
  {
   "cell_type": "code",
   "execution_count": 32,
   "metadata": {},
   "outputs": [
    {
     "name": "stdout",
     "output_type": "stream",
     "text": [
      "Predicted value : 0.29283198714256287\n",
      "Actual Value    : 0.024721\n",
      "MSE             : 0.07188350142655951\n"
     ]
    }
   ],
   "source": [
    "predicted_value2 = model.predict(Data_scaled_reshape2)\n",
    "print('Predicted value : {}\\nActual Value    : {}' .format(predicted_value2[0][0],test_target2[0]))\n",
    "print(\"MSE             :\", mean_squared_error(test_target2,predicted_value2))"
   ]
  },
  {
   "cell_type": "code",
   "execution_count": 33,
   "metadata": {},
   "outputs": [
    {
     "name": "stdout",
     "output_type": "stream",
     "text": [
      "Predicted value : 0.2928382456302643\n",
      "Actual Value    : 0.102821\n",
      "MSE             : 0.03610655363691219\n"
     ]
    }
   ],
   "source": [
    "predicted_value3 = model.predict(Data_scaled_reshape3)\n",
    "print('Predicted value : {}\\nActual Value    : {}' .format(predicted_value3[0][0],test_target3[0]))\n",
    "print(\"MSE             :\", mean_squared_error(test_target3,predicted_value3))"
   ]
  },
  {
   "cell_type": "code",
   "execution_count": 34,
   "metadata": {},
   "outputs": [
    {
     "name": "stdout",
     "output_type": "stream",
     "text": [
      "Predicted value : 0.2928280532360077\n",
      "Actual Value    : 0.088755\n",
      "MSE             : 0.041645811057066426\n"
     ]
    }
   ],
   "source": [
    "predicted_value4 = model.predict(Data_scaled_reshape4)\n",
    "print('Predicted value : {}\\nActual Value    : {}' .format(predicted_value4[0][0],test_target4[0]))\n",
    "print(\"MSE             :\", mean_squared_error(test_target4,predicted_value4))"
   ]
  },
  {
   "cell_type": "code",
   "execution_count": 35,
   "metadata": {},
   "outputs": [
    {
     "name": "stdout",
     "output_type": "stream",
     "text": [
      "Predicted value : 0.29284146428108215\n",
      "Actual Value    : 0.074468\n",
      "MSE             : 0.04768696990212106\n"
     ]
    }
   ],
   "source": [
    "predicted_value5 = model.predict(Data_scaled_reshape5)\n",
    "print('Predicted value : {}\\nActual Value    : {}' .format(predicted_value5[0][0],test_target5[0]))\n",
    "print(\"MSE             :\", mean_squared_error(test_target5,predicted_value5))"
   ]
  },
  {
   "cell_type": "code",
   "execution_count": null,
   "metadata": {},
   "outputs": [],
   "source": []
  },
  {
   "cell_type": "code",
   "execution_count": null,
   "metadata": {},
   "outputs": [],
   "source": []
  }
 ],
 "metadata": {
  "kernelspec": {
   "display_name": "Python 3",
   "language": "python",
   "name": "python3"
  },
  "language_info": {
   "codemirror_mode": {
    "name": "ipython",
    "version": 3
   },
   "file_extension": ".py",
   "mimetype": "text/x-python",
   "name": "python",
   "nbconvert_exporter": "python",
   "pygments_lexer": "ipython3",
   "version": "3.6.10"
  }
 },
 "nbformat": 4,
 "nbformat_minor": 4
}
