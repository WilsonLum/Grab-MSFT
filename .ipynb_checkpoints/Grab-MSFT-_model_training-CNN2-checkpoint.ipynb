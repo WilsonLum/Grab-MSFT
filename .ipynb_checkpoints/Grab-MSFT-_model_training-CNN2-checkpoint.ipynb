{
 "cells": [
  {
   "cell_type": "markdown",
   "metadata": {},
   "source": [
    "# Grab-Microsoft Challenge \n",
    "## Traffic Management\n",
    "\n",
    "- geohash6: geohash is a public domain geocoding system which encodes a geographic location into a short string of letters and digits with arbitrary precision. You are free to use any geohash library to encode/decode the geohashes into latitude and longitude or vice versa.(Examples:https://github.com/hkwi/python-geohash)\n",
    "- day: the value indicates the sequential order and not a particular day of the month\n",
    "- timestamp: start time of 15-minute intervals in the following format: <hour>:<minute>, where hour ranges from 0 to 23 and minute is either one of (0, 15, 30, 45)\n",
    "- demand: aggregated demand normalised to be in the range [0,1]\n",
    "    \n",
    "## Problem Statements:\n",
    "- Which areas have high / low traffic demand?\n",
    "- How does regional traffic demand change according to day / time?\n",
    "- Forecast the travel demand for next 15min / 1hour and predict areas with high travel demand"
   ]
  },
  {
   "cell_type": "markdown",
   "metadata": {},
   "source": [
    "### This is for model training and testing"
   ]
  },
  {
   "cell_type": "markdown",
   "metadata": {},
   "source": [
    "#### Import python library"
   ]
  },
  {
   "cell_type": "code",
   "execution_count": 2,
   "metadata": {},
   "outputs": [],
   "source": [
    "import numpy as np\n",
    "from numpy import array\n",
    "import pandas as pd\n",
    "import matplotlib.pyplot as plt\n",
    "\n",
    "# plot matplotlib graph\n",
    "%matplotlib inline\n",
    "\n",
    "#Import models from scikit learn module:\n",
    "from sklearn.metrics import mean_squared_error\n",
    "from tensorflow.keras.models import load_model\n",
    "#from tensorflow.keras.layers import Dense, Flatten, LSTM, BatchNormalization\n",
    "#from tensorflow.keras import regularizers\n",
    "from sklearn.model_selection import train_test_split\n",
    "\n",
    "import h5py\n",
    "import sklearn.metrics as metrics\n",
    "from tensorflow.keras.callbacks import ModelCheckpoint,CSVLogger\n",
    "#from tensorflow.keras.models import Model\n",
    "#from tensorflow.keras.layers import Input\n",
    "\n",
    "import pickle\n",
    "import joblib\n",
    "import os\n",
    "\n",
    "from ModelDefinitions import createModel"
   ]
  },
  {
   "cell_type": "code",
   "execution_count": 3,
   "metadata": {},
   "outputs": [],
   "source": [
    "os.environ[\"CUDA_VISIBLE_DEVICES\"]=\"0\""
   ]
  },
  {
   "cell_type": "code",
   "execution_count": 19,
   "metadata": {},
   "outputs": [],
   "source": [
    "    #*********************************\n",
    "    # Index 00-10 is for LSTM Model\n",
    "    # Index 11-20 is for Bi-LSTM Model\n",
    "    # Index 21-30 is for CNN Model\n",
    "    #*********************************\n",
    "\n",
    "# choose a number of time steps\n",
    "n_steps_in, predict_next_no_of_output = 3, 2\n",
    "\n",
    "# ------ CHANGE THESE ------\n",
    "index = 22\n",
    "seed  = 7\n",
    "np.random.seed(seed)\n",
    "basemodelname = 'CNN2-' + str(n_steps_in) + 'in' + str(predict_next_no_of_output) + 'out'\n",
    "batch_size    = 16384\n",
    "no_of_epoch   = 20\n",
    "no_of_train   = 0.8\n",
    "# --------------------------\n",
    "\n",
    "modelname = basemodelname + \"_\" + str(index)\n",
    "filepath  = 'model/' + modelname + \".hdf5\""
   ]
  },
  {
   "cell_type": "markdown",
   "metadata": {},
   "source": [
    "## Define Functions"
   ]
  },
  {
   "cell_type": "code",
   "execution_count": 20,
   "metadata": {},
   "outputs": [],
   "source": [
    "# split a multivariate sequence into samples\n",
    "def split_sequences(sequences, n_steps_in, n_steps_out):\n",
    "    X, y = list(), list()\n",
    "    for i in range(len(sequences)):\n",
    "        # find the end of this pattern\n",
    "        end_ix = i + n_steps_in\n",
    "        out_end_ix = end_ix + n_steps_out-1\n",
    "        # check if we are beyond the dataset\n",
    "        if out_end_ix > len(sequences):\n",
    "            break\n",
    "        # gather input and output parts of the pattern\n",
    "        seq_x, seq_y = sequences[i:end_ix, :-1], sequences[end_ix-1:out_end_ix, -1]\n",
    "        X.append(seq_x)\n",
    "        y.append(seq_y)\n",
    "    return array(X), array(y)\n"
   ]
  },
  {
   "cell_type": "markdown",
   "metadata": {},
   "source": [
    "## Read in Dataset"
   ]
  },
  {
   "cell_type": "code",
   "execution_count": 6,
   "metadata": {},
   "outputs": [
    {
     "data": {
      "text/html": [
       "<div>\n",
       "<style scoped>\n",
       "    .dataframe tbody tr th:only-of-type {\n",
       "        vertical-align: middle;\n",
       "    }\n",
       "\n",
       "    .dataframe tbody tr th {\n",
       "        vertical-align: top;\n",
       "    }\n",
       "\n",
       "    .dataframe thead th {\n",
       "        text-align: right;\n",
       "    }\n",
       "</style>\n",
       "<table border=\"1\" class=\"dataframe\">\n",
       "  <thead>\n",
       "    <tr style=\"text-align: right;\">\n",
       "      <th></th>\n",
       "      <th>day</th>\n",
       "      <th>hour</th>\n",
       "      <th>min</th>\n",
       "      <th>dow</th>\n",
       "      <th>lat</th>\n",
       "      <th>long</th>\n",
       "      <th>demand</th>\n",
       "    </tr>\n",
       "  </thead>\n",
       "  <tbody>\n",
       "    <tr>\n",
       "      <th>0</th>\n",
       "      <td>0.283333</td>\n",
       "      <td>0.869565</td>\n",
       "      <td>0.000000</td>\n",
       "      <td>0.285714</td>\n",
       "      <td>0.533333</td>\n",
       "      <td>0.171429</td>\n",
       "      <td>0.020072</td>\n",
       "    </tr>\n",
       "    <tr>\n",
       "      <th>1</th>\n",
       "      <td>0.150000</td>\n",
       "      <td>0.608696</td>\n",
       "      <td>0.666667</td>\n",
       "      <td>0.285714</td>\n",
       "      <td>0.288889</td>\n",
       "      <td>0.200000</td>\n",
       "      <td>0.024721</td>\n",
       "    </tr>\n",
       "    <tr>\n",
       "      <th>2</th>\n",
       "      <td>0.133333</td>\n",
       "      <td>0.260870</td>\n",
       "      <td>0.333333</td>\n",
       "      <td>0.142857</td>\n",
       "      <td>0.644444</td>\n",
       "      <td>0.828571</td>\n",
       "      <td>0.102821</td>\n",
       "    </tr>\n",
       "    <tr>\n",
       "      <th>3</th>\n",
       "      <td>0.516667</td>\n",
       "      <td>0.217391</td>\n",
       "      <td>0.000000</td>\n",
       "      <td>0.000000</td>\n",
       "      <td>0.533333</td>\n",
       "      <td>0.428571</td>\n",
       "      <td>0.088755</td>\n",
       "    </tr>\n",
       "    <tr>\n",
       "      <th>4</th>\n",
       "      <td>0.233333</td>\n",
       "      <td>0.173913</td>\n",
       "      <td>0.000000</td>\n",
       "      <td>1.000000</td>\n",
       "      <td>0.288889</td>\n",
       "      <td>0.342857</td>\n",
       "      <td>0.074468</td>\n",
       "    </tr>\n",
       "    <tr>\n",
       "      <th>...</th>\n",
       "      <td>...</td>\n",
       "      <td>...</td>\n",
       "      <td>...</td>\n",
       "      <td>...</td>\n",
       "      <td>...</td>\n",
       "      <td>...</td>\n",
       "      <td>...</td>\n",
       "    </tr>\n",
       "    <tr>\n",
       "      <th>1048570</th>\n",
       "      <td>0.083333</td>\n",
       "      <td>0.347826</td>\n",
       "      <td>0.666667</td>\n",
       "      <td>0.857143</td>\n",
       "      <td>0.911111</td>\n",
       "      <td>0.771429</td>\n",
       "      <td>0.024022</td>\n",
       "    </tr>\n",
       "    <tr>\n",
       "      <th>1048571</th>\n",
       "      <td>0.366667</td>\n",
       "      <td>0.652174</td>\n",
       "      <td>0.666667</td>\n",
       "      <td>1.000000</td>\n",
       "      <td>0.111111</td>\n",
       "      <td>0.400000</td>\n",
       "      <td>0.005703</td>\n",
       "    </tr>\n",
       "    <tr>\n",
       "      <th>1048572</th>\n",
       "      <td>0.683333</td>\n",
       "      <td>0.652174</td>\n",
       "      <td>1.000000</td>\n",
       "      <td>0.285714</td>\n",
       "      <td>0.533333</td>\n",
       "      <td>0.200000</td>\n",
       "      <td>0.067131</td>\n",
       "    </tr>\n",
       "    <tr>\n",
       "      <th>1048573</th>\n",
       "      <td>0.016667</td>\n",
       "      <td>0.260870</td>\n",
       "      <td>0.666667</td>\n",
       "      <td>0.285714</td>\n",
       "      <td>0.711111</td>\n",
       "      <td>0.600000</td>\n",
       "      <td>0.151323</td>\n",
       "    </tr>\n",
       "    <tr>\n",
       "      <th>1048574</th>\n",
       "      <td>0.066667</td>\n",
       "      <td>0.434783</td>\n",
       "      <td>1.000000</td>\n",
       "      <td>0.714286</td>\n",
       "      <td>0.688889</td>\n",
       "      <td>0.800000</td>\n",
       "      <td>0.026007</td>\n",
       "    </tr>\n",
       "  </tbody>\n",
       "</table>\n",
       "<p>1048575 rows × 7 columns</p>\n",
       "</div>"
      ],
      "text/plain": [
       "              day      hour       min       dow       lat      long    demand\n",
       "0        0.283333  0.869565  0.000000  0.285714  0.533333  0.171429  0.020072\n",
       "1        0.150000  0.608696  0.666667  0.285714  0.288889  0.200000  0.024721\n",
       "2        0.133333  0.260870  0.333333  0.142857  0.644444  0.828571  0.102821\n",
       "3        0.516667  0.217391  0.000000  0.000000  0.533333  0.428571  0.088755\n",
       "4        0.233333  0.173913  0.000000  1.000000  0.288889  0.342857  0.074468\n",
       "...           ...       ...       ...       ...       ...       ...       ...\n",
       "1048570  0.083333  0.347826  0.666667  0.857143  0.911111  0.771429  0.024022\n",
       "1048571  0.366667  0.652174  0.666667  1.000000  0.111111  0.400000  0.005703\n",
       "1048572  0.683333  0.652174  1.000000  0.285714  0.533333  0.200000  0.067131\n",
       "1048573  0.016667  0.260870  0.666667  0.285714  0.711111  0.600000  0.151323\n",
       "1048574  0.066667  0.434783  1.000000  0.714286  0.688889  0.800000  0.026007\n",
       "\n",
       "[1048575 rows x 7 columns]"
      ]
     },
     "execution_count": 6,
     "metadata": {},
     "output_type": "execute_result"
    }
   ],
   "source": [
    "xls  = pd.ExcelFile('data/Dataset_feature.xlsx')\n",
    "data = pd.read_excel(xls, 'TrafficMgmt')\n",
    "data"
   ]
  },
  {
   "cell_type": "code",
   "execution_count": 7,
   "metadata": {},
   "outputs": [],
   "source": [
    "predictor_var = ['day','hour','min','dow','lat','long']\n",
    "outcome_var   = 'demand'\n",
    "no_of_features = len(predictor_var)"
   ]
  },
  {
   "cell_type": "markdown",
   "metadata": {},
   "source": [
    "#### Prepare training & test data"
   ]
  },
  {
   "cell_type": "code",
   "execution_count": 22,
   "metadata": {},
   "outputs": [],
   "source": [
    "# convert into input/output\n",
    "dataset = data.to_numpy()\n",
    "X, y = split_sequences(dataset, n_steps_in, predict_next_no_of_output)\n",
    "    \n",
    "# Train-test-val dataset split\n",
    "X_train1 = X[:int(no_of_train*len(X))]\n",
    "y_train1 = y[:int(no_of_train*len(X))]\n",
    "X_test  = X[int(no_of_train*len(X)):]\n",
    "y_test  = y[int(no_of_train*len(X)):]\n",
    "\n",
    "X_train = X_train1[:int(no_of_train*len(X_train1))]\n",
    "y_train = y_train1[:int(no_of_train*len(X_train1))]\n",
    "X_val   = X_train1[int(no_of_train*len(X_train1)):]\n",
    "y_val   = y_train1[int(no_of_train*len(X_train1)):]\n"
   ]
  },
  {
   "cell_type": "code",
   "execution_count": 23,
   "metadata": {},
   "outputs": [
    {
     "name": "stdout",
     "output_type": "stream",
     "text": [
      "(671085, 3, 6) (671085, 2) (209715, 3, 6) (209715, 2) (167772, 3, 6) (167772, 2)\n"
     ]
    }
   ],
   "source": [
    "print(X_train.shape, y_train.shape,X_test.shape, y_test.shape,X_val.shape, y_val.shape)"
   ]
  },
  {
   "cell_type": "markdown",
   "metadata": {},
   "source": [
    "### Main Program"
   ]
  },
  {
   "cell_type": "code",
   "execution_count": 24,
   "metadata": {},
   "outputs": [
    {
     "name": "stdout",
     "output_type": "stream",
     "text": [
      "Model: \"model_2\"\n",
      "_________________________________________________________________\n",
      "Layer (type)                 Output Shape              Param #   \n",
      "=================================================================\n",
      "input_3 (InputLayer)         [(None, 3, 6)]            0         \n",
      "_________________________________________________________________\n",
      "conv1d_6 (Conv1D)            (None, 3, 512)            9728      \n",
      "_________________________________________________________________\n",
      "activation_6 (Activation)    (None, 3, 512)            0         \n",
      "_________________________________________________________________\n",
      "dropout_8 (Dropout)          (None, 3, 512)            0         \n",
      "_________________________________________________________________\n",
      "batch_normalization_12 (Batc (None, 3, 512)            2048      \n",
      "_________________________________________________________________\n",
      "conv1d_7 (Conv1D)            (None, 3, 1024)           1573888   \n",
      "_________________________________________________________________\n",
      "activation_7 (Activation)    (None, 3, 1024)           0         \n",
      "_________________________________________________________________\n",
      "batch_normalization_13 (Batc (None, 3, 1024)           4096      \n",
      "_________________________________________________________________\n",
      "conv1d_8 (Conv1D)            (None, 3, 1024)           3146752   \n",
      "_________________________________________________________________\n",
      "activation_8 (Activation)    (None, 3, 1024)           0         \n",
      "_________________________________________________________________\n",
      "batch_normalization_14 (Batc (None, 3, 1024)           4096      \n",
      "_________________________________________________________________\n",
      "flatten_2 (Flatten)          (None, 3072)              0         \n",
      "_________________________________________________________________\n",
      "dense_8 (Dense)              (None, 512)               1573376   \n",
      "_________________________________________________________________\n",
      "dropout_9 (Dropout)          (None, 512)               0         \n",
      "_________________________________________________________________\n",
      "batch_normalization_15 (Batc (None, 512)               2048      \n",
      "_________________________________________________________________\n",
      "dense_9 (Dense)              (None, 256)               131328    \n",
      "_________________________________________________________________\n",
      "dropout_10 (Dropout)         (None, 256)               0         \n",
      "_________________________________________________________________\n",
      "batch_normalization_16 (Batc (None, 256)               1024      \n",
      "_________________________________________________________________\n",
      "dense_10 (Dense)             (None, 128)               32896     \n",
      "_________________________________________________________________\n",
      "dropout_11 (Dropout)         (None, 128)               0         \n",
      "_________________________________________________________________\n",
      "batch_normalization_17 (Batc (None, 128)               512       \n",
      "_________________________________________________________________\n",
      "dense_11 (Dense)             (None, 2)                 258       \n",
      "=================================================================\n",
      "Total params: 6,482,050\n",
      "Trainable params: 6,475,138\n",
      "Non-trainable params: 6,912\n",
      "_________________________________________________________________\n",
      "Train on 671085 samples, validate on 167772 samples\n",
      "Epoch 1/20\n",
      "671085/671085 [==============================] - 40s 59us/sample - loss: 1.2761 - mse: 0.1389 - mae: 0.3145 - val_loss: 0.2575 - val_mse: 0.0601 - val_mae: 0.2271\n",
      "Epoch 2/20\n",
      "671085/671085 [==============================] - 18s 27us/sample - loss: 0.1582 - mse: 0.0559 - mae: 0.1847 - val_loss: 0.0822 - val_mse: 0.0329 - val_mae: 0.1492\n",
      "Epoch 3/20\n",
      "671085/671085 [==============================] - 18s 27us/sample - loss: 0.0686 - mse: 0.0354 - mae: 0.1388 - val_loss: 0.0493 - val_mse: 0.0262 - val_mae: 0.1130\n",
      "Epoch 4/20\n",
      "671085/671085 [==============================] - 18s 27us/sample - loss: 0.0507 - mse: 0.0285 - mae: 0.1185 - val_loss: 0.0434 - val_mse: 0.0252 - val_mae: 0.0966\n",
      "Epoch 5/20\n",
      "671085/671085 [==============================] - 18s 27us/sample - loss: 0.0777 - mse: 0.0278 - mae: 0.1075 - val_loss: 0.0805 - val_mse: 0.0255 - val_mae: 0.0902\n",
      "Epoch 6/20\n",
      "671085/671085 [==============================] - 18s 27us/sample - loss: 0.1087 - mse: 0.0277 - mae: 0.1025 - val_loss: 0.1004 - val_mse: 0.0259 - val_mae: 0.0880\n",
      "Epoch 7/20\n",
      "671085/671085 [==============================] - 18s 27us/sample - loss: 0.0614 - mse: 0.0263 - mae: 0.0990 - val_loss: 0.0590 - val_mse: 0.0258 - val_mae: 0.1076\n",
      "Epoch 8/20\n",
      "671085/671085 [==============================] - 18s 27us/sample - loss: 0.0607 - mse: 0.0258 - mae: 0.0978 - val_loss: 0.0405 - val_mse: 0.0261 - val_mae: 0.0866\n",
      "Epoch 9/20\n",
      "671085/671085 [==============================] - 18s 27us/sample - loss: 0.0342 - mse: 0.0254 - mae: 0.0965 - val_loss: 0.0322 - val_mse: 0.0254 - val_mae: 0.0907\n",
      "Epoch 10/20\n",
      "671085/671085 [==============================] - 18s 27us/sample - loss: 0.0316 - mse: 0.0255 - mae: 0.0974 - val_loss: 0.0357 - val_mse: 0.0252 - val_mae: 0.0933\n",
      "Epoch 11/20\n",
      "671085/671085 [==============================] - 18s 27us/sample - loss: 0.0341 - mse: 0.0254 - mae: 0.0973 - val_loss: 0.0288 - val_mse: 0.0252 - val_mae: 0.0933\n",
      "Epoch 12/20\n",
      "671085/671085 [==============================] - 18s 27us/sample - loss: 0.0296 - mse: 0.0253 - mae: 0.0966 - val_loss: 0.0292 - val_mse: 0.0252 - val_mae: 0.0946\n",
      "Epoch 13/20\n",
      "671085/671085 [==============================] - 18s 27us/sample - loss: 0.0314 - mse: 0.0254 - mae: 0.0973 - val_loss: 0.0644 - val_mse: 0.0323 - val_mae: 0.0912\n",
      "Epoch 14/20\n",
      "671085/671085 [==============================] - 18s 27us/sample - loss: 0.0428 - mse: 0.0253 - mae: 0.0975 - val_loss: 0.0296 - val_mse: 0.0252 - val_mae: 0.0947\n",
      "Epoch 15/20\n",
      "671085/671085 [==============================] - 18s 27us/sample - loss: 0.0278 - mse: 0.0253 - mae: 0.0966 - val_loss: 0.0264 - val_mse: 0.0252 - val_mae: 0.0963\n",
      "Epoch 16/20\n",
      "671085/671085 [==============================] - 18s 27us/sample - loss: 0.0263 - mse: 0.0252 - mae: 0.0972 - val_loss: 0.0259 - val_mse: 0.0252 - val_mae: 0.0965\n",
      "Epoch 17/20\n",
      "671085/671085 [==============================] - 18s 26us/sample - loss: 0.0258 - mse: 0.0252 - mae: 0.0972 - val_loss: 0.0257 - val_mse: 0.0252 - val_mae: 0.0966\n",
      "Epoch 18/20\n",
      "671085/671085 [==============================] - 18s 26us/sample - loss: 0.0257 - mse: 0.0252 - mae: 0.0972 - val_loss: 0.0255 - val_mse: 0.0252 - val_mae: 0.0967\n",
      "Epoch 19/20\n",
      "671085/671085 [==============================] - 18s 26us/sample - loss: 0.0256 - mse: 0.0252 - mae: 0.0972 - val_loss: 0.0254 - val_mse: 0.0252 - val_mae: 0.0968\n",
      "Epoch 20/20\n",
      "671085/671085 [==============================] - 18s 26us/sample - loss: 0.0255 - mse: 0.0252 - mae: 0.0972 - val_loss: 0.0254 - val_mse: 0.0252 - val_mae: 0.0968\n"
     ]
    }
   ],
   "source": [
    "def main():\n",
    "    \n",
    "    #***********************************\n",
    "    # Index 00-10 is for LSTM Model\n",
    "    # Index 11-20 is for Bi-LSTM Model\n",
    "    # Index 21-30 is for CNN Model\n",
    "    # Index 31-40 is for CNN-LSTM Model\n",
    "    #***********************************\n",
    "\n",
    "    # Create model and summary\n",
    "    model = createModel(X_train, predict_next_no_of_output, index) #\n",
    "    model.summary()\n",
    "    \n",
    "    # Create checkpoint for the training\n",
    "    # This checkpoint performs model saving when\n",
    "    # an epoch gives highest testing accuracy  \n",
    "    checkpoint     = ModelCheckpoint(filepath, monitor='val_loss',verbose=0,save_best_only=True,mode='min') \n",
    "    \n",
    "    # Log the epoch detail into csv\n",
    "    csv_logger     = CSVLogger(modelname + '.csv')\n",
    "    callbacks_list = [checkpoint,csv_logger]\n",
    "\n",
    "    # steps_per_epoch = total training data across all classes / batch size\n",
    "    # validation_steps = number of batches in validation dataset defining 1 epoch\n",
    "    # The line for training\n",
    "    history = model.fit(X_train, \n",
    "                        y_train, \n",
    "                        validation_data=(X_val, y_val), \n",
    "                        epochs=no_of_epoch, \n",
    "                        batch_size=batch_size,\n",
    "                        shuffle=False,\n",
    "                        callbacks=callbacks_list) \n",
    "\n",
    "main()"
   ]
  },
  {
   "cell_type": "markdown",
   "metadata": {},
   "source": [
    "### Load saved trained model and scalar"
   ]
  },
  {
   "cell_type": "code",
   "execution_count": 25,
   "metadata": {},
   "outputs": [],
   "source": [
    "# Load your own trained model & scaler\n",
    "model           = load_model(filepath, compile = False)\n",
    "scaler_filename = \"grab_msft_scaler.save\"\n",
    "scaler          = joblib.load(scaler_filename) "
   ]
  },
  {
   "cell_type": "markdown",
   "metadata": {},
   "source": [
    "### Test dataset test result"
   ]
  },
  {
   "cell_type": "code",
   "execution_count": 26,
   "metadata": {},
   "outputs": [
    {
     "name": "stdout",
     "output_type": "stream",
     "text": [
      "0.15900216401963344\n"
     ]
    }
   ],
   "source": [
    "predicted_value = model.predict(X_test)\n",
    "print(np.sqrt(mean_squared_error(y_test,predicted_value)))"
   ]
  },
  {
   "cell_type": "code",
   "execution_count": 27,
   "metadata": {},
   "outputs": [
    {
     "data": {
      "image/png": "[encoded data removed]",
      "text/plain": [
       "<Figure size 1080x720 with 1 Axes>"
      ]
     },
     "metadata": {
      "needs_background": "light"
     },
     "output_type": "display_data"
    }
   ],
   "source": [
    "records     = pd.read_csv(modelname +'.csv')\n",
    "plt.figure(figsize=(15,10))\n",
    "\n",
    "ax          = plt.gca()\n",
    "ax.set_xticklabels([])\n",
    "\n",
    "plt.plot(records['val_mae'],label=\"val_mae\")\n",
    "plt.plot(records['val_loss'],label=\"val_loss\")\n",
    "plt.title('MSE-MAE',fontsize=12)\n",
    "plt.legend(loc=\"upper left\",fontsize=15)\n",
    "\n",
    "plt.show()"
   ]
  },
  {
   "cell_type": "markdown",
   "metadata": {},
   "source": [
    "### Sample Testing for LSTM or BiLSTM"
   ]
  },
  {
   "cell_type": "code",
   "execution_count": 28,
   "metadata": {},
   "outputs": [],
   "source": [
    "xls  = pd.ExcelFile('data/test_sample8000.xlsx')\n",
    "test_sample = pd.read_excel(xls, 'TrafficMgmt')\n",
    "\n",
    "# Apply Standardscalar to sample test data\n",
    "test_sample[predictor_var] = scaler.fit_transform(test_sample[predictor_var])"
   ]
  },
  {
   "cell_type": "code",
   "execution_count": 29,
   "metadata": {},
   "outputs": [
    {
     "name": "stdout",
     "output_type": "stream",
     "text": [
      "(17, 3, 6) (17, 2)\n"
     ]
    }
   ],
   "source": [
    "# covert into input/output\n",
    "test_sample_array = test_sample.to_numpy()\n",
    "X_sample, y_sample = split_sequences(test_sample_array, n_steps_in, predict_next_no_of_output)\n",
    "print(X_sample.shape, y_sample.shape)"
   ]
  },
  {
   "cell_type": "code",
   "execution_count": 30,
   "metadata": {},
   "outputs": [
    {
     "name": "stdout",
     "output_type": "stream",
     "text": [
      "Predicted value : [[0.10445157 0.10428987]\n",
      " [0.10445157 0.10428987]\n",
      " [0.10445157 0.10428987]\n",
      " [0.10445157 0.10428987]\n",
      " [0.10445157 0.10428987]\n",
      " [0.10445157 0.10428987]\n",
      " [0.10445157 0.10428987]\n",
      " [0.10445157 0.10428987]\n",
      " [0.10445157 0.10428987]\n",
      " [0.10445157 0.10428987]\n",
      " [0.10445157 0.10428987]\n",
      " [0.10445157 0.10428987]\n",
      " [0.10445157 0.10428987]\n",
      " [0.10445157 0.10428987]\n",
      " [0.10445157 0.10428987]\n",
      " [0.10445157 0.10428987]\n",
      " [0.10445157 0.10428987]] \n",
      " Actual Value    : [[4.11381160e-02 6.28299090e-02]\n",
      " [6.28299090e-02 1.59614780e-01]\n",
      " [1.59614780e-01 9.09941638e-01]\n",
      " [9.09941638e-01 9.01061000e-04]\n",
      " [9.01061000e-04 1.32621545e-01]\n",
      " [1.32621545e-01 1.93137866e-01]\n",
      " [1.93137866e-01 4.08696860e-02]\n",
      " [4.08696860e-02 2.04278450e-02]\n",
      " [2.04278450e-02 6.94884150e-02]\n",
      " [6.94884150e-02 4.17434120e-02]\n",
      " [4.17434120e-02 1.90697068e-01]\n",
      " [1.90697068e-01 2.86340264e-01]\n",
      " [2.86340264e-01 6.49010570e-02]\n",
      " [6.49010570e-02 9.24329596e-01]\n",
      " [9.24329596e-01 7.57118120e-02]\n",
      " [7.57118120e-02 5.34953510e-02]\n",
      " [5.34953510e-02 2.36560110e-02]]\n"
     ]
    }
   ],
   "source": [
    "predicted_value = model.predict(X_sample)\n",
    "print('Predicted value : {} \\n Actual Value    : {}' .format(predicted_value,y_sample))"
   ]
  },
  {
   "cell_type": "code",
   "execution_count": 31,
   "metadata": {},
   "outputs": [
    {
     "name": "stdout",
     "output_type": "stream",
     "text": [
      "0.28824458561168026\n"
     ]
    }
   ],
   "source": [
    "print(np.sqrt(mean_squared_error(y_sample,predicted_value)))"
   ]
  },
  {
   "cell_type": "code",
   "execution_count": null,
   "metadata": {},
   "outputs": [],
   "source": []
  }
 ],
 "metadata": {
  "kernelspec": {
   "display_name": "Python 3",
   "language": "python",
   "name": "python3"
  },
  "language_info": {
   "codemirror_mode": {
    "name": "ipython",
    "version": 3
   },
   "file_extension": ".py",
   "mimetype": "text/x-python",
   "name": "python",
   "nbconvert_exporter": "python",
   "pygments_lexer": "ipython3",
   "version": "3.6.10"
  }
 },
 "nbformat": 4,
 "nbformat_minor": 4
}
