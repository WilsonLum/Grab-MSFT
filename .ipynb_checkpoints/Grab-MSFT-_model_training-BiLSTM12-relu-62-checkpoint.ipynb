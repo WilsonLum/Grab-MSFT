{
 "cells": [
  {
   "cell_type": "markdown",
   "metadata": {},
   "source": [
    "# Grab-Microsoft Challenge \n",
    "## Traffic Management\n",
    "\n",
    "- geohash6: geohash is a public domain geocoding system which encodes a geographic location into a short string of letters and digits with arbitrary precision. You are free to use any geohash library to encode/decode the geohashes into latitude and longitude or vice versa.(Examples:https://github.com/hkwi/python-geohash)\n",
    "- day: the value indicates the sequential order and not a particular day of the month\n",
    "- timestamp: start time of 15-minute intervals in the following format: <hour>:<minute>, where hour ranges from 0 to 23 and minute is either one of (0, 15, 30, 45)\n",
    "- demand: aggregated demand normalised to be in the range [0,1]\n",
    "    \n",
    "## Problem Statements:\n",
    "- Which areas have high / low traffic demand?\n",
    "- How does regional traffic demand change according to day / time?\n",
    "- Forecast the travel demand for next 15min / 1hour and predict areas with high travel demand"
   ]
  },
  {
   "cell_type": "markdown",
   "metadata": {},
   "source": [
    "### This is for model training and testing"
   ]
  },
  {
   "cell_type": "markdown",
   "metadata": {},
   "source": [
    "#### Import python library"
   ]
  },
  {
   "cell_type": "code",
   "execution_count": 1,
   "metadata": {},
   "outputs": [],
   "source": [
    "import numpy as np\n",
    "from numpy import array\n",
    "import pandas as pd\n",
    "import matplotlib.pyplot as plt\n",
    "\n",
    "# plot matplotlib graph\n",
    "%matplotlib inline\n",
    "\n",
    "#Import models from scikit learn module:\n",
    "from sklearn.metrics import mean_squared_error\n",
    "from tensorflow.keras.models import load_model\n",
    "from sklearn.model_selection import train_test_split\n",
    "\n",
    "import h5py\n",
    "import sklearn.metrics as metrics\n",
    "from tensorflow.keras.callbacks import ModelCheckpoint,CSVLogger\n",
    "\n",
    "import pickle\n",
    "import joblib\n",
    "import os\n",
    "\n",
    "from ModelDefinitions import createModel"
   ]
  },
  {
   "cell_type": "code",
   "execution_count": 2,
   "metadata": {},
   "outputs": [],
   "source": [
    "os.environ[\"CUDA_VISIBLE_DEVICES\"]=\"0\""
   ]
  },
  {
   "cell_type": "code",
   "execution_count": 3,
   "metadata": {},
   "outputs": [],
   "source": [
    "    #***********************************\n",
    "    # Index 00-10 is for LSTM Model\n",
    "    # Index 11-20 is for Bi-LSTM Model\n",
    "    # Index 21-30 is for CNN Model\n",
    "    # Index 31-40 is for CNN-LSTM Model\n",
    "    #***********************************\n",
    "\n",
    "# choose a number of time steps\n",
    "n_steps_in, predict_next_no_of_output = 6, 2\n",
    "\n",
    "# ------ CHANGE THESE ------\n",
    "index = 32\n",
    "seed  = 7\n",
    "np.random.seed(seed)\n",
    "basemodelname = 'BiLSTM2-' + str(n_steps_in) + 'in' + str(predict_next_no_of_output) + 'out'\n",
    "batch_size    = 8192\n",
    "no_of_epoch   = 30\n",
    "no_of_train   = 0.8\n",
    "# --------------------------\n",
    "\n",
    "modelname = 'model/' + basemodelname + \"_\" + str(index)\n",
    "filepath  = modelname + \".hdf5\""
   ]
  },
  {
   "cell_type": "markdown",
   "metadata": {},
   "source": [
    "## Define Functions"
   ]
  },
  {
   "cell_type": "code",
   "execution_count": 4,
   "metadata": {},
   "outputs": [],
   "source": [
    "# split a multivariate sequence into samples\n",
    "def split_sequences(sequences, n_steps_in, n_steps_out):\n",
    "    X, y = list(), list()\n",
    "    for i in range(len(sequences)):\n",
    "        # find the end of this pattern\n",
    "        end_ix = i + n_steps_in\n",
    "        out_end_ix = end_ix + n_steps_out-1\n",
    "        # check if we are beyond the dataset\n",
    "        if out_end_ix > len(sequences):\n",
    "            break\n",
    "        # gather input and output parts of the pattern\n",
    "        seq_x, seq_y = sequences[i:end_ix, :-1], sequences[end_ix-1:out_end_ix, -1]\n",
    "        X.append(seq_x)\n",
    "        y.append(seq_y)\n",
    "    return array(X), array(y)\n"
   ]
  },
  {
   "cell_type": "markdown",
   "metadata": {},
   "source": [
    "## Read in Dataset"
   ]
  },
  {
   "cell_type": "code",
   "execution_count": 5,
   "metadata": {},
   "outputs": [
    {
     "data": {
      "text/html": [
       "<div>\n",
       "<style scoped>\n",
       "    .dataframe tbody tr th:only-of-type {\n",
       "        vertical-align: middle;\n",
       "    }\n",
       "\n",
       "    .dataframe tbody tr th {\n",
       "        vertical-align: top;\n",
       "    }\n",
       "\n",
       "    .dataframe thead th {\n",
       "        text-align: right;\n",
       "    }\n",
       "</style>\n",
       "<table border=\"1\" class=\"dataframe\">\n",
       "  <thead>\n",
       "    <tr style=\"text-align: right;\">\n",
       "      <th></th>\n",
       "      <th>day</th>\n",
       "      <th>hour</th>\n",
       "      <th>min</th>\n",
       "      <th>dow</th>\n",
       "      <th>lat</th>\n",
       "      <th>long</th>\n",
       "      <th>demand</th>\n",
       "    </tr>\n",
       "  </thead>\n",
       "  <tbody>\n",
       "    <tr>\n",
       "      <th>0</th>\n",
       "      <td>0.016667</td>\n",
       "      <td>0.173913</td>\n",
       "      <td>0.666667</td>\n",
       "      <td>0.285714</td>\n",
       "      <td>0.0</td>\n",
       "      <td>0.171429</td>\n",
       "      <td>0.011041</td>\n",
       "    </tr>\n",
       "    <tr>\n",
       "      <th>1</th>\n",
       "      <td>0.016667</td>\n",
       "      <td>0.956522</td>\n",
       "      <td>1.000000</td>\n",
       "      <td>0.285714</td>\n",
       "      <td>0.0</td>\n",
       "      <td>0.171429</td>\n",
       "      <td>0.031419</td>\n",
       "    </tr>\n",
       "    <tr>\n",
       "      <th>2</th>\n",
       "      <td>0.050000</td>\n",
       "      <td>0.173913</td>\n",
       "      <td>0.666667</td>\n",
       "      <td>0.571429</td>\n",
       "      <td>0.0</td>\n",
       "      <td>0.171429</td>\n",
       "      <td>0.057966</td>\n",
       "    </tr>\n",
       "    <tr>\n",
       "      <th>3</th>\n",
       "      <td>0.050000</td>\n",
       "      <td>0.260870</td>\n",
       "      <td>0.000000</td>\n",
       "      <td>0.571429</td>\n",
       "      <td>0.0</td>\n",
       "      <td>0.171429</td>\n",
       "      <td>0.044834</td>\n",
       "    </tr>\n",
       "    <tr>\n",
       "      <th>4</th>\n",
       "      <td>0.050000</td>\n",
       "      <td>0.260870</td>\n",
       "      <td>0.666667</td>\n",
       "      <td>0.571429</td>\n",
       "      <td>0.0</td>\n",
       "      <td>0.171429</td>\n",
       "      <td>0.007841</td>\n",
       "    </tr>\n",
       "    <tr>\n",
       "      <th>...</th>\n",
       "      <td>...</td>\n",
       "      <td>...</td>\n",
       "      <td>...</td>\n",
       "      <td>...</td>\n",
       "      <td>...</td>\n",
       "      <td>...</td>\n",
       "      <td>...</td>\n",
       "    </tr>\n",
       "    <tr>\n",
       "      <th>1048570</th>\n",
       "      <td>0.683333</td>\n",
       "      <td>0.347826</td>\n",
       "      <td>0.000000</td>\n",
       "      <td>0.285714</td>\n",
       "      <td>1.0</td>\n",
       "      <td>1.000000</td>\n",
       "      <td>0.004793</td>\n",
       "    </tr>\n",
       "    <tr>\n",
       "      <th>1048571</th>\n",
       "      <td>0.916667</td>\n",
       "      <td>0.434783</td>\n",
       "      <td>0.333333</td>\n",
       "      <td>0.000000</td>\n",
       "      <td>1.0</td>\n",
       "      <td>1.000000</td>\n",
       "      <td>0.016509</td>\n",
       "    </tr>\n",
       "    <tr>\n",
       "      <th>1048572</th>\n",
       "      <td>0.933333</td>\n",
       "      <td>0.434783</td>\n",
       "      <td>0.000000</td>\n",
       "      <td>0.142857</td>\n",
       "      <td>1.0</td>\n",
       "      <td>1.000000</td>\n",
       "      <td>0.015804</td>\n",
       "    </tr>\n",
       "    <tr>\n",
       "      <th>1048573</th>\n",
       "      <td>0.966667</td>\n",
       "      <td>0.391304</td>\n",
       "      <td>0.666667</td>\n",
       "      <td>0.428571</td>\n",
       "      <td>1.0</td>\n",
       "      <td>1.000000</td>\n",
       "      <td>0.012543</td>\n",
       "    </tr>\n",
       "    <tr>\n",
       "      <th>1048574</th>\n",
       "      <td>0.983333</td>\n",
       "      <td>0.478261</td>\n",
       "      <td>0.333333</td>\n",
       "      <td>0.571429</td>\n",
       "      <td>1.0</td>\n",
       "      <td>1.000000</td>\n",
       "      <td>0.029285</td>\n",
       "    </tr>\n",
       "  </tbody>\n",
       "</table>\n",
       "<p>1048575 rows × 7 columns</p>\n",
       "</div>"
      ],
      "text/plain": [
       "              day      hour       min       dow  lat      long    demand\n",
       "0        0.016667  0.173913  0.666667  0.285714  0.0  0.171429  0.011041\n",
       "1        0.016667  0.956522  1.000000  0.285714  0.0  0.171429  0.031419\n",
       "2        0.050000  0.173913  0.666667  0.571429  0.0  0.171429  0.057966\n",
       "3        0.050000  0.260870  0.000000  0.571429  0.0  0.171429  0.044834\n",
       "4        0.050000  0.260870  0.666667  0.571429  0.0  0.171429  0.007841\n",
       "...           ...       ...       ...       ...  ...       ...       ...\n",
       "1048570  0.683333  0.347826  0.000000  0.285714  1.0  1.000000  0.004793\n",
       "1048571  0.916667  0.434783  0.333333  0.000000  1.0  1.000000  0.016509\n",
       "1048572  0.933333  0.434783  0.000000  0.142857  1.0  1.000000  0.015804\n",
       "1048573  0.966667  0.391304  0.666667  0.428571  1.0  1.000000  0.012543\n",
       "1048574  0.983333  0.478261  0.333333  0.571429  1.0  1.000000  0.029285\n",
       "\n",
       "[1048575 rows x 7 columns]"
      ]
     },
     "execution_count": 5,
     "metadata": {},
     "output_type": "execute_result"
    }
   ],
   "source": [
    "xls  = pd.ExcelFile('data/Dataset_Sorted_feature.xlsx')\n",
    "data = pd.read_excel(xls, 'TrafficMgmt')\n",
    "data"
   ]
  },
  {
   "cell_type": "code",
   "execution_count": 6,
   "metadata": {},
   "outputs": [],
   "source": [
    "predictor_var = ['day','hour','min','dow','lat','long']\n",
    "outcome_var   = 'demand'\n",
    "no_of_features = len(predictor_var)"
   ]
  },
  {
   "cell_type": "markdown",
   "metadata": {},
   "source": [
    "#### Prepare training & test data"
   ]
  },
  {
   "cell_type": "code",
   "execution_count": 7,
   "metadata": {},
   "outputs": [],
   "source": [
    "# convert into input/output\n",
    "dataset = data.to_numpy()\n",
    "X, y = split_sequences(dataset, n_steps_in, predict_next_no_of_output)\n",
    "    \n",
    "# Train-test-val dataset split\n",
    "X_train1 = X[:int(no_of_train*len(X))]\n",
    "y_train1 = y[:int(no_of_train*len(X))]\n",
    "X_test  = X[int(no_of_train*len(X)):]\n",
    "y_test  = y[int(no_of_train*len(X)):]\n",
    "\n",
    "X_train = X_train1[:int(no_of_train*len(X_train1))]\n",
    "y_train = y_train1[:int(no_of_train*len(X_train1))]\n",
    "X_val   = X_train1[int(no_of_train*len(X_train1)):]\n",
    "y_val   = y_train1[int(no_of_train*len(X_train1)):]\n"
   ]
  },
  {
   "cell_type": "code",
   "execution_count": 8,
   "metadata": {},
   "outputs": [
    {
     "name": "stdout",
     "output_type": "stream",
     "text": [
      "(671084, 6, 6) (671084, 2) (209714, 6, 6) (209714, 2) (167771, 6, 6) (167771, 2)\n"
     ]
    }
   ],
   "source": [
    "print(X_train.shape, y_train.shape,X_test.shape, y_test.shape,X_val.shape, y_val.shape)"
   ]
  },
  {
   "cell_type": "markdown",
   "metadata": {},
   "source": [
    "### Main Program"
   ]
  },
  {
   "cell_type": "code",
   "execution_count": 9,
   "metadata": {
    "scrolled": false
   },
   "outputs": [
    {
     "name": "stdout",
     "output_type": "stream",
     "text": [
      "Model: \"model\"\n",
      "_________________________________________________________________\n",
      "Layer (type)                 Output Shape              Param #   \n",
      "=================================================================\n",
      "input_1 (InputLayer)         [(None, 6, 6)]            0         \n",
      "_________________________________________________________________\n",
      "conv1d (Conv1D)              (None, 5, 128)            1664      \n",
      "_________________________________________________________________\n",
      "dropout (Dropout)            (None, 5, 128)            0         \n",
      "_________________________________________________________________\n",
      "conv1d_1 (Conv1D)            (None, 4, 256)            65792     \n",
      "_________________________________________________________________\n",
      "dropout_1 (Dropout)          (None, 4, 256)            0         \n",
      "_________________________________________________________________\n",
      "max_pooling1d (MaxPooling1D) (None, 4, 256)            0         \n",
      "_________________________________________________________________\n",
      "conv1d_2 (Conv1D)            (None, 4, 512)            131584    \n",
      "_________________________________________________________________\n",
      "dropout_2 (Dropout)          (None, 4, 512)            0         \n",
      "_________________________________________________________________\n",
      "max_pooling1d_1 (MaxPooling1 (None, 4, 512)            0         \n",
      "_________________________________________________________________\n",
      "conv1d_3 (Conv1D)            (None, 4, 256)            131328    \n",
      "_________________________________________________________________\n",
      "dropout_3 (Dropout)          (None, 4, 256)            0         \n",
      "_________________________________________________________________\n",
      "conv1d_4 (Conv1D)            (None, 4, 128)            32896     \n",
      "_________________________________________________________________\n",
      "dropout_4 (Dropout)          (None, 4, 128)            0         \n",
      "_________________________________________________________________\n",
      "lstm (LSTM)                  (None, 4, 128)            131584    \n",
      "_________________________________________________________________\n",
      "lstm_1 (LSTM)                (None, 4, 256)            394240    \n",
      "_________________________________________________________________\n",
      "lstm_2 (LSTM)                (None, 4, 512)            1574912   \n",
      "_________________________________________________________________\n",
      "lstm_3 (LSTM)                (None, 4, 256)            787456    \n",
      "_________________________________________________________________\n",
      "lstm_4 (LSTM)                (None, 4, 128)            197120    \n",
      "_________________________________________________________________\n",
      "lstm_5 (LSTM)                (None, 64)                49408     \n",
      "_________________________________________________________________\n",
      "dense (Dense)                (None, 2)                 130       \n",
      "=================================================================\n",
      "Total params: 3,498,114\n",
      "Trainable params: 3,498,114\n",
      "Non-trainable params: 0\n",
      "_________________________________________________________________\n",
      "Train on 671084 samples, validate on 167771 samples\n",
      "Epoch 1/30\n",
      "671084/671084 [==============================] - 43s 64us/sample - loss: 0.0611 - mse: 0.0611 - mae: 0.1670 - val_loss: 0.0449 - val_mse: 0.0449 - val_mae: 0.1094\n",
      "Epoch 2/30\n",
      "671084/671084 [==============================] - 28s 42us/sample - loss: 0.0298 - mse: 0.0298 - mae: 0.0955 - val_loss: 0.0397 - val_mse: 0.0397 - val_mae: 0.1066\n",
      "Epoch 3/30\n",
      "671084/671084 [==============================] - 28s 42us/sample - loss: 0.0266 - mse: 0.0266 - mae: 0.0993 - val_loss: 0.0384 - val_mse: 0.0384 - val_mae: 0.1128\n",
      "Epoch 4/30\n",
      "671084/671084 [==============================] - 28s 42us/sample - loss: 0.0265 - mse: 0.0265 - mae: 0.1005 - val_loss: 0.0383 - val_mse: 0.0383 - val_mae: 0.1131\n",
      "Epoch 5/30\n",
      "671084/671084 [==============================] - 28s 42us/sample - loss: 0.0265 - mse: 0.0265 - mae: 0.1006 - val_loss: 0.0383 - val_mse: 0.0383 - val_mae: 0.1132\n",
      "Epoch 6/30\n",
      "671084/671084 [==============================] - 28s 42us/sample - loss: 0.0265 - mse: 0.0265 - mae: 0.1006 - val_loss: 0.0383 - val_mse: 0.0383 - val_mae: 0.1132\n",
      "Epoch 7/30\n",
      "671084/671084 [==============================] - 28s 42us/sample - loss: 0.0264 - mse: 0.0264 - mae: 0.1006 - val_loss: 0.0383 - val_mse: 0.0383 - val_mae: 0.1133\n",
      "Epoch 8/30\n",
      "671084/671084 [==============================] - 28s 42us/sample - loss: 0.0264 - mse: 0.0264 - mae: 0.1006 - val_loss: 0.0383 - val_mse: 0.0383 - val_mae: 0.1133\n",
      "Epoch 9/30\n",
      "671084/671084 [==============================] - 28s 42us/sample - loss: 0.0264 - mse: 0.0264 - mae: 0.1006 - val_loss: 0.0383 - val_mse: 0.0383 - val_mae: 0.1133\n",
      "Epoch 10/30\n",
      "671084/671084 [==============================] - 28s 42us/sample - loss: 0.0264 - mse: 0.0264 - mae: 0.1006 - val_loss: 0.0383 - val_mse: 0.0383 - val_mae: 0.1133\n",
      "Epoch 11/30\n",
      "671084/671084 [==============================] - 28s 42us/sample - loss: 0.0264 - mse: 0.0264 - mae: 0.1006 - val_loss: 0.0383 - val_mse: 0.0383 - val_mae: 0.1133\n",
      "Epoch 12/30\n",
      "671084/671084 [==============================] - 28s 42us/sample - loss: 0.0264 - mse: 0.0264 - mae: 0.1006 - val_loss: 0.0383 - val_mse: 0.0383 - val_mae: 0.1133\n",
      "Epoch 13/30\n",
      "671084/671084 [==============================] - 28s 42us/sample - loss: 0.0264 - mse: 0.0264 - mae: 0.1006 - val_loss: 0.0383 - val_mse: 0.0383 - val_mae: 0.1133\n",
      "Epoch 14/30\n",
      "671084/671084 [==============================] - 28s 42us/sample - loss: 0.0264 - mse: 0.0264 - mae: 0.1006 - val_loss: 0.0383 - val_mse: 0.0383 - val_mae: 0.1133\n",
      "Epoch 15/30\n",
      "671084/671084 [==============================] - 28s 42us/sample - loss: 0.0264 - mse: 0.0264 - mae: 0.1006 - val_loss: 0.0383 - val_mse: 0.0383 - val_mae: 0.1133\n",
      "Epoch 16/30\n",
      "671084/671084 [==============================] - 28s 42us/sample - loss: 0.0264 - mse: 0.0264 - mae: 0.1006 - val_loss: 0.0383 - val_mse: 0.0383 - val_mae: 0.1133\n",
      "Epoch 17/30\n",
      "671084/671084 [==============================] - 28s 42us/sample - loss: 0.0264 - mse: 0.0264 - mae: 0.1006 - val_loss: 0.0383 - val_mse: 0.0383 - val_mae: 0.1133\n",
      "Epoch 18/30\n",
      "671084/671084 [==============================] - 28s 42us/sample - loss: 0.0264 - mse: 0.0264 - mae: 0.1006 - val_loss: 0.0383 - val_mse: 0.0383 - val_mae: 0.1133\n",
      "Epoch 19/30\n",
      "671084/671084 [==============================] - 28s 42us/sample - loss: 0.0264 - mse: 0.0264 - mae: 0.1006 - val_loss: 0.0383 - val_mse: 0.0383 - val_mae: 0.1133\n",
      "Epoch 20/30\n",
      "671084/671084 [==============================] - 28s 42us/sample - loss: 0.0264 - mse: 0.0264 - mae: 0.1006 - val_loss: 0.0383 - val_mse: 0.0383 - val_mae: 0.1133\n",
      "Epoch 21/30\n",
      "671084/671084 [==============================] - 28s 42us/sample - loss: 0.0264 - mse: 0.0264 - mae: 0.1006 - val_loss: 0.0383 - val_mse: 0.0383 - val_mae: 0.1133\n",
      "Epoch 22/30\n",
      "671084/671084 [==============================] - 28s 42us/sample - loss: 0.0264 - mse: 0.0264 - mae: 0.1006 - val_loss: 0.0383 - val_mse: 0.0383 - val_mae: 0.1133\n",
      "Epoch 23/30\n",
      "671084/671084 [==============================] - 28s 42us/sample - loss: 0.0264 - mse: 0.0264 - mae: 0.1006 - val_loss: 0.0383 - val_mse: 0.0383 - val_mae: 0.1133\n",
      "Epoch 24/30\n",
      "671084/671084 [==============================] - 28s 42us/sample - loss: 0.0264 - mse: 0.0264 - mae: 0.1006 - val_loss: 0.0383 - val_mse: 0.0383 - val_mae: 0.1133\n",
      "Epoch 25/30\n",
      "671084/671084 [==============================] - 29s 43us/sample - loss: 0.0264 - mse: 0.0264 - mae: 0.1006 - val_loss: 0.0383 - val_mse: 0.0383 - val_mae: 0.1133\n",
      "Epoch 26/30\n",
      "671084/671084 [==============================] - 29s 43us/sample - loss: 0.0264 - mse: 0.0264 - mae: 0.1006 - val_loss: 0.0383 - val_mse: 0.0383 - val_mae: 0.1133\n",
      "Epoch 27/30\n",
      "671084/671084 [==============================] - 29s 43us/sample - loss: 0.0264 - mse: 0.0264 - mae: 0.1006 - val_loss: 0.0383 - val_mse: 0.0383 - val_mae: 0.1133\n",
      "Epoch 28/30\n",
      "671084/671084 [==============================] - 29s 43us/sample - loss: 0.0264 - mse: 0.0264 - mae: 0.1006 - val_loss: 0.0383 - val_mse: 0.0383 - val_mae: 0.1133\n",
      "Epoch 29/30\n",
      "671084/671084 [==============================] - 29s 43us/sample - loss: 0.0264 - mse: 0.0264 - mae: 0.1006 - val_loss: 0.0383 - val_mse: 0.0383 - val_mae: 0.1133\n",
      "Epoch 30/30\n"
     ]
    },
    {
     "name": "stdout",
     "output_type": "stream",
     "text": [
      "671084/671084 [==============================] - 29s 43us/sample - loss: 0.0264 - mse: 0.0264 - mae: 0.1006 - val_loss: 0.0383 - val_mse: 0.0383 - val_mae: 0.1133\n"
     ]
    }
   ],
   "source": [
    "def main():\n",
    "    \n",
    "    #***********************************\n",
    "    # Index 00-10 is for LSTM Model\n",
    "    # Index 11-20 is for Bi-LSTM Model\n",
    "    # Index 21-30 is for CNN Model\n",
    "    # Index 31-40 is for CNN-LSTM Model\n",
    "    #***********************************\n",
    "\n",
    "    # Create model and summary\n",
    "    model = createModel(X_train, predict_next_no_of_output, index) #\n",
    "    model.summary()\n",
    "    \n",
    "    # Create checkpoint for the training\n",
    "    # This checkpoint performs model saving when\n",
    "    # an epoch gives highest testing accuracy  \n",
    "    checkpoint     = ModelCheckpoint(filepath, monitor='val_loss',verbose=0,save_best_only=True,mode='min') \n",
    "    \n",
    "    # Log the epoch detail into csv\n",
    "    csv_logger     = CSVLogger(modelname + '.csv')\n",
    "    callbacks_list = [checkpoint,csv_logger]\n",
    "\n",
    "    # steps_per_epoch = total training data across all classes / batch size\n",
    "    # validation_steps = number of batches in validation dataset defining 1 epoch\n",
    "    # The line for training\n",
    "    history = model.fit(X_train, \n",
    "                        y_train, \n",
    "                        validation_data=(X_val, y_val), \n",
    "                        epochs=no_of_epoch, \n",
    "                        batch_size=batch_size,\n",
    "                        shuffle=False,\n",
    "                        callbacks=callbacks_list) \n",
    "\n",
    "main()"
   ]
  },
  {
   "cell_type": "markdown",
   "metadata": {},
   "source": [
    "### Load saved trained model and scalar"
   ]
  },
  {
   "cell_type": "code",
   "execution_count": 10,
   "metadata": {},
   "outputs": [],
   "source": [
    "# Load your own trained model & scaler\n",
    "model           = load_model(filepath, compile = False)\n",
    "scaler_filename = \"grab_msft_scaler.save\"\n",
    "scaler          = joblib.load(scaler_filename) "
   ]
  },
  {
   "cell_type": "markdown",
   "metadata": {},
   "source": [
    "### Test dataset test result"
   ]
  },
  {
   "cell_type": "code",
   "execution_count": 11,
   "metadata": {},
   "outputs": [
    {
     "name": "stdout",
     "output_type": "stream",
     "text": [
      "0.16165161708707013\n"
     ]
    }
   ],
   "source": [
    "predicted_value = model.predict(X_train)\n",
    "print(np.sqrt(mean_squared_error(y_train,predicted_value)))"
   ]
  },
  {
   "cell_type": "code",
   "execution_count": 12,
   "metadata": {
    "scrolled": true
   },
   "outputs": [
    {
     "name": "stdout",
     "output_type": "stream",
     "text": [
      "0.1957892157071316\n"
     ]
    }
   ],
   "source": [
    "predicted_value = model.predict(X_val)\n",
    "print(np.sqrt(mean_squared_error(y_val,predicted_value)))"
   ]
  },
  {
   "cell_type": "code",
   "execution_count": 13,
   "metadata": {
    "scrolled": false
   },
   "outputs": [
    {
     "name": "stdout",
     "output_type": "stream",
     "text": [
      "0.10954019481721723\n"
     ]
    }
   ],
   "source": [
    "predicted_value = model.predict(X_test)\n",
    "print(np.sqrt(mean_squared_error(y_test,predicted_value)))"
   ]
  },
  {
   "cell_type": "code",
   "execution_count": 14,
   "metadata": {
    "scrolled": false
   },
   "outputs": [
    {
     "data": {
      "image/png": "[encoded data removed]",
      "text/plain": [
       "<Figure size 1080x720 with 1 Axes>"
      ]
     },
     "metadata": {
      "needs_background": "light"
     },
     "output_type": "display_data"
    }
   ],
   "source": [
    "records     = pd.read_csv(modelname +'.csv')\n",
    "plt.figure(figsize=(15,10))\n",
    "\n",
    "plt.xticks(records['epoch'])\n",
    "\n",
    "plt.plot(records['mse'],label=\"mse\")\n",
    "plt.plot(records['val_mse'],label=\"val_mse\")\n",
    "plt.title('MSE-MAE',fontsize=12)\n",
    "plt.legend(loc=\"upper left\",fontsize=15)\n",
    "\n",
    "plt.show()"
   ]
  },
  {
   "cell_type": "markdown",
   "metadata": {},
   "source": [
    "### Sample Testing "
   ]
  },
  {
   "cell_type": "code",
   "execution_count": 15,
   "metadata": {},
   "outputs": [],
   "source": [
    "xls  = pd.ExcelFile('data/test_sorted_sample8000.xlsx')\n",
    "test_sample = pd.read_excel(xls, 'TrafficMgmt')\n",
    "\n",
    "# Apply Standardscalar to sample test data\n",
    "test_sample[predictor_var] = scaler.fit_transform(test_sample[predictor_var])"
   ]
  },
  {
   "cell_type": "code",
   "execution_count": 16,
   "metadata": {},
   "outputs": [
    {
     "name": "stdout",
     "output_type": "stream",
     "text": [
      "(17, 6, 6) (17, 2)\n"
     ]
    }
   ],
   "source": [
    "# covert into input/output\n",
    "test_sample_array = test_sample.to_numpy()\n",
    "X_sample, y_sample = split_sequences(test_sample_array, n_steps_in, predict_next_no_of_output)\n",
    "print(X_sample.shape, y_sample.shape)"
   ]
  },
  {
   "cell_type": "code",
   "execution_count": 17,
   "metadata": {},
   "outputs": [
    {
     "name": "stdout",
     "output_type": "stream",
     "text": [
      "Predicted value : [[0.10920452 0.1092095 ]\n",
      " [0.10920452 0.1092095 ]\n",
      " [0.10920452 0.10920948]\n",
      " [0.10920452 0.10920946]\n",
      " [0.10920449 0.1092095 ]\n",
      " [0.10920449 0.1092095 ]\n",
      " [0.10920452 0.1092095 ]\n",
      " [0.10920452 0.1092095 ]\n",
      " [0.10920449 0.1092095 ]\n",
      " [0.10920449 0.1092095 ]\n",
      " [0.10920452 0.10920939]\n",
      " [0.10920434 0.10920769]\n",
      " [0.10920452 0.10920937]\n",
      " [0.10920449 0.1092095 ]\n",
      " [0.10920449 0.1092095 ]\n",
      " [0.10920449 0.1092095 ]\n",
      " [0.10920449 0.1092095 ]] \n",
      " Actual Value    : [[0.09100098 0.01880612]\n",
      " [0.01880612 0.06147939]\n",
      " [0.06147939 0.12464705]\n",
      " [0.12464705 0.11530752]\n",
      " [0.11530752 0.06390945]\n",
      " [0.06390945 0.10923062]\n",
      " [0.10923062 0.02475105]\n",
      " [0.02475105 0.02004892]\n",
      " [0.02004892 0.00837382]\n",
      " [0.00837382 0.01617125]\n",
      " [0.01617125 0.02812034]\n",
      " [0.02812034 0.01977132]\n",
      " [0.01977132 0.0717735 ]\n",
      " [0.0717735  0.11524079]\n",
      " [0.11524079 0.01569192]\n",
      " [0.01569192 0.1113431 ]\n",
      " [0.1113431  0.07803006]]\n"
     ]
    }
   ],
   "source": [
    "predicted_value = model.predict(X_sample)\n",
    "print('Predicted value : {} \\n Actual Value    : {}' .format(predicted_value,y_sample))"
   ]
  },
  {
   "cell_type": "code",
   "execution_count": 18,
   "metadata": {},
   "outputs": [
    {
     "name": "stdout",
     "output_type": "stream",
     "text": [
      "0.0651222148948031\n"
     ]
    }
   ],
   "source": [
    "print(np.sqrt(mean_squared_error(y_sample,predicted_value)))"
   ]
  }
 ],
 "metadata": {
  "kernelspec": {
   "display_name": "Python 3",
   "language": "python",
   "name": "python3"
  },
  "language_info": {
   "codemirror_mode": {
    "name": "ipython",
    "version": 3
   },
   "file_extension": ".py",
   "mimetype": "text/x-python",
   "name": "python",
   "nbconvert_exporter": "python",
   "pygments_lexer": "ipython3",
   "version": "3.6.10"
  }
 },
 "nbformat": 4,
 "nbformat_minor": 4
}
