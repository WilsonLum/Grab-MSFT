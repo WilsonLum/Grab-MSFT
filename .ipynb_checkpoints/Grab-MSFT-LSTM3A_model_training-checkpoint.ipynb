{
 "cells": [
  {
   "cell_type": "markdown",
   "metadata": {},
   "source": [
    "# Grab-Microsoft Challenge \n",
    "## Traffic Management\n",
    "\n",
    "- geohash6: geohash is a public domain geocoding system which encodes a geographic location into a short string of letters and digits with arbitrary precision. You are free to use any geohash library to encode/decode the geohashes into latitude and longitude or vice versa.(Examples:https://github.com/hkwi/python-geohash)\n",
    "- day: the value indicates the sequential order and not a particular day of the month\n",
    "- timestamp: start time of 15-minute intervals in the following format: <hour>:<minute>, where hour ranges from 0 to 23 and minute is either one of (0, 15, 30, 45)\n",
    "- demand: aggregated demand normalised to be in the range [0,1]"
   ]
  },
  {
   "cell_type": "markdown",
   "metadata": {},
   "source": [
    "### This is train LSTM model "
   ]
  },
  {
   "cell_type": "markdown",
   "metadata": {},
   "source": [
    "#### Import python library"
   ]
  },
  {
   "cell_type": "code",
   "execution_count": 1,
   "metadata": {},
   "outputs": [],
   "source": [
    "import numpy as np\n",
    "import pandas as pd\n",
    "import matplotlib.pyplot as plt\n",
    "\n",
    "# plot matplotlib graph\n",
    "%matplotlib inline\n",
    "\n",
    "#Import models from scikit learn module:\n",
    "from sklearn.metrics import mean_squared_error\n",
    "from tensorflow.keras.models import Sequential, load_model\n",
    "from tensorflow.keras.layers import Dense, Flatten, LSTM, BatchNormalization\n",
    "from tensorflow.keras import regularizers\n",
    "from sklearn.model_selection import train_test_split\n",
    "\n",
    "import h5py\n",
    "import sklearn.metrics as metrics\n",
    "from tensorflow.keras.callbacks import ModelCheckpoint,CSVLogger\n",
    "from tensorflow.keras.models import Model\n",
    "from tensorflow.keras.layers import Input\n",
    "from tensorflow.keras.layers import LSTM\n",
    "from tensorflow.keras.utils import plot_model \n",
    "\n",
    "import pickle\n",
    "import joblib\n"
   ]
  },
  {
   "cell_type": "code",
   "execution_count": 2,
   "metadata": {},
   "outputs": [],
   "source": [
    "import os \n",
    "os.environ[\"CUDA_VISIBLE_DEVICES\"]=\"0\""
   ]
  },
  {
   "cell_type": "markdown",
   "metadata": {},
   "source": [
    "### Define Variables"
   ]
  },
  {
   "cell_type": "code",
   "execution_count": 3,
   "metadata": {},
   "outputs": [],
   "source": [
    "seed = 7\n",
    "np.random.seed(seed)\n",
    "modelname   = 'LSTM3'\n",
    "batch_size  = 8192\n",
    "no_of_epoch = 10\n",
    "time_shift  = 5\n"
   ]
  },
  {
   "cell_type": "markdown",
   "metadata": {},
   "source": [
    "### Define Function"
   ]
  },
  {
   "cell_type": "code",
   "execution_count": 4,
   "metadata": {},
   "outputs": [],
   "source": [
    "def createModel(): \n",
    "    inputs  = Input(shape=(X_train1.shape[1],X_train1.shape[2]))\n",
    "    y = LSTM(units=64, return_sequences=True, dropout=0.5, recurrent_dropout=0.2)(inputs)\n",
    "    y = BatchNormalization()(y)\n",
    "    y = LSTM(128, return_sequences=True, dropout=0.5, recurrent_dropout=0.2)(y)\n",
    "    y = BatchNormalization()(y)\n",
    "    y = LSTM(256, return_sequences=True, dropout=0.5, recurrent_dropout=0.3)(y)\n",
    "    y = BatchNormalization()(y)\n",
    "    y = LSTM(128, return_sequences=True, dropout=0.5, recurrent_dropout=0.4)(y)\n",
    "    y = BatchNormalization()(y)\n",
    "    y = LSTM(64, return_sequences=True, dropout=0.5,recurrent_dropout=0.5)(y)\n",
    "    y = BatchNormalization()(y)\n",
    "    y = LSTM(32, dropout=0.5,recurrent_dropout=0.5)(y)\n",
    "    y = BatchNormalization()(y)\n",
    "    y = Dense(1, activation='sigmoid')(y)\n",
    "  \n",
    "    model = Model(inputs=inputs,outputs=y)\n",
    "    model.compile(loss='mse',optimizer='adam', metrics=['mse', 'mae'])\n",
    "    return model"
   ]
  },
  {
   "cell_type": "markdown",
   "metadata": {},
   "source": [
    "#### Reading from Preprocessed dataset"
   ]
  },
  {
   "cell_type": "code",
   "execution_count": 5,
   "metadata": {},
   "outputs": [
    {
     "data": {
      "text/html": [
       "<div>\n",
       "<style scoped>\n",
       "    .dataframe tbody tr th:only-of-type {\n",
       "        vertical-align: middle;\n",
       "    }\n",
       "\n",
       "    .dataframe tbody tr th {\n",
       "        vertical-align: top;\n",
       "    }\n",
       "\n",
       "    .dataframe thead th {\n",
       "        text-align: right;\n",
       "    }\n",
       "</style>\n",
       "<table border=\"1\" class=\"dataframe\">\n",
       "  <thead>\n",
       "    <tr style=\"text-align: right;\">\n",
       "      <th></th>\n",
       "      <th>day</th>\n",
       "      <th>demand</th>\n",
       "      <th>hour</th>\n",
       "      <th>min</th>\n",
       "      <th>dow</th>\n",
       "      <th>lat</th>\n",
       "      <th>long</th>\n",
       "    </tr>\n",
       "  </thead>\n",
       "  <tbody>\n",
       "    <tr>\n",
       "      <th>0</th>\n",
       "      <td>0.283333</td>\n",
       "      <td>0.020072</td>\n",
       "      <td>0.869565</td>\n",
       "      <td>0.000000</td>\n",
       "      <td>0.666667</td>\n",
       "      <td>0.533333</td>\n",
       "      <td>0.171429</td>\n",
       "    </tr>\n",
       "    <tr>\n",
       "      <th>1</th>\n",
       "      <td>0.150000</td>\n",
       "      <td>0.024721</td>\n",
       "      <td>0.608696</td>\n",
       "      <td>0.666667</td>\n",
       "      <td>0.500000</td>\n",
       "      <td>0.288889</td>\n",
       "      <td>0.200000</td>\n",
       "    </tr>\n",
       "    <tr>\n",
       "      <th>2</th>\n",
       "      <td>0.133333</td>\n",
       "      <td>0.102821</td>\n",
       "      <td>0.260870</td>\n",
       "      <td>0.333333</td>\n",
       "      <td>0.333333</td>\n",
       "      <td>0.644444</td>\n",
       "      <td>0.828571</td>\n",
       "    </tr>\n",
       "    <tr>\n",
       "      <th>3</th>\n",
       "      <td>0.516667</td>\n",
       "      <td>0.088755</td>\n",
       "      <td>0.217391</td>\n",
       "      <td>0.000000</td>\n",
       "      <td>0.666667</td>\n",
       "      <td>0.533333</td>\n",
       "      <td>0.428571</td>\n",
       "    </tr>\n",
       "    <tr>\n",
       "      <th>4</th>\n",
       "      <td>0.233333</td>\n",
       "      <td>0.074468</td>\n",
       "      <td>0.173913</td>\n",
       "      <td>0.000000</td>\n",
       "      <td>0.166667</td>\n",
       "      <td>0.288889</td>\n",
       "      <td>0.342857</td>\n",
       "    </tr>\n",
       "    <tr>\n",
       "      <th>...</th>\n",
       "      <td>...</td>\n",
       "      <td>...</td>\n",
       "      <td>...</td>\n",
       "      <td>...</td>\n",
       "      <td>...</td>\n",
       "      <td>...</td>\n",
       "      <td>...</td>\n",
       "    </tr>\n",
       "    <tr>\n",
       "      <th>1048570</th>\n",
       "      <td>0.083333</td>\n",
       "      <td>0.024022</td>\n",
       "      <td>0.347826</td>\n",
       "      <td>0.666667</td>\n",
       "      <td>1.000000</td>\n",
       "      <td>0.911111</td>\n",
       "      <td>0.771429</td>\n",
       "    </tr>\n",
       "    <tr>\n",
       "      <th>1048571</th>\n",
       "      <td>0.366667</td>\n",
       "      <td>0.005703</td>\n",
       "      <td>0.652174</td>\n",
       "      <td>0.666667</td>\n",
       "      <td>0.333333</td>\n",
       "      <td>0.111111</td>\n",
       "      <td>0.400000</td>\n",
       "    </tr>\n",
       "    <tr>\n",
       "      <th>1048572</th>\n",
       "      <td>0.683333</td>\n",
       "      <td>0.067131</td>\n",
       "      <td>0.652174</td>\n",
       "      <td>1.000000</td>\n",
       "      <td>0.000000</td>\n",
       "      <td>0.533333</td>\n",
       "      <td>0.200000</td>\n",
       "    </tr>\n",
       "    <tr>\n",
       "      <th>1048573</th>\n",
       "      <td>0.016667</td>\n",
       "      <td>0.151323</td>\n",
       "      <td>0.260870</td>\n",
       "      <td>0.666667</td>\n",
       "      <td>0.333333</td>\n",
       "      <td>0.711111</td>\n",
       "      <td>0.600000</td>\n",
       "    </tr>\n",
       "    <tr>\n",
       "      <th>1048574</th>\n",
       "      <td>0.066667</td>\n",
       "      <td>0.026007</td>\n",
       "      <td>0.434783</td>\n",
       "      <td>1.000000</td>\n",
       "      <td>0.833333</td>\n",
       "      <td>0.688889</td>\n",
       "      <td>0.800000</td>\n",
       "    </tr>\n",
       "  </tbody>\n",
       "</table>\n",
       "<p>1048575 rows × 7 columns</p>\n",
       "</div>"
      ],
      "text/plain": [
       "              day    demand      hour       min       dow       lat      long\n",
       "0        0.283333  0.020072  0.869565  0.000000  0.666667  0.533333  0.171429\n",
       "1        0.150000  0.024721  0.608696  0.666667  0.500000  0.288889  0.200000\n",
       "2        0.133333  0.102821  0.260870  0.333333  0.333333  0.644444  0.828571\n",
       "3        0.516667  0.088755  0.217391  0.000000  0.666667  0.533333  0.428571\n",
       "4        0.233333  0.074468  0.173913  0.000000  0.166667  0.288889  0.342857\n",
       "...           ...       ...       ...       ...       ...       ...       ...\n",
       "1048570  0.083333  0.024022  0.347826  0.666667  1.000000  0.911111  0.771429\n",
       "1048571  0.366667  0.005703  0.652174  0.666667  0.333333  0.111111  0.400000\n",
       "1048572  0.683333  0.067131  0.652174  1.000000  0.000000  0.533333  0.200000\n",
       "1048573  0.016667  0.151323  0.260870  0.666667  0.333333  0.711111  0.600000\n",
       "1048574  0.066667  0.026007  0.434783  1.000000  0.833333  0.688889  0.800000\n",
       "\n",
       "[1048575 rows x 7 columns]"
      ]
     },
     "execution_count": 5,
     "metadata": {},
     "output_type": "execute_result"
    }
   ],
   "source": [
    "xls  = pd.ExcelFile('data/Dataset_featurefor_CNN.xlsx')\n",
    "data = pd.read_excel(xls, 'TrafficMgmt')\n",
    "data"
   ]
  },
  {
   "cell_type": "code",
   "execution_count": 6,
   "metadata": {},
   "outputs": [],
   "source": [
    "predictor_var = ['day', 'hour', 'min', 'dow', 'lat', 'long']\n",
    "outcome_var   = 'demand'"
   ]
  },
  {
   "cell_type": "markdown",
   "metadata": {},
   "source": [
    "#### Prepare training & test data\n",
    "- Since this is a time series dataset, we can try using LSTM \n",
    "- and create a time series of say 20"
   ]
  },
  {
   "cell_type": "code",
   "execution_count": 7,
   "metadata": {},
   "outputs": [],
   "source": [
    "data_X = data.drop(outcome_var,axis=1)\n",
    "y      = data.drop(predictor_var,axis=1)"
   ]
  },
  {
   "cell_type": "code",
   "execution_count": 8,
   "metadata": {},
   "outputs": [
    {
     "data": {
      "text/plain": [
       "(1048575, 5, 6)"
      ]
     },
     "execution_count": 8,
     "metadata": {},
     "output_type": "execute_result"
    }
   ],
   "source": [
    "X = []\n",
    "for i in range(time_shift):\n",
    "    X.append(data_X.shift(-1-i).fillna(-1).values)\n",
    "X = np.array(X)\n",
    "\n",
    "X = X.reshape(X.shape[1],X.shape[0],X.shape[2])\n",
    "X.shape"
   ]
  },
  {
   "cell_type": "code",
   "execution_count": 9,
   "metadata": {
    "scrolled": true
   },
   "outputs": [
    {
     "data": {
      "text/plain": [
       "array([[[ 0.15      ,  0.60869565,  0.66666667,  0.5       ,\n",
       "          0.28888889,  0.2       ],\n",
       "        [ 0.13333333,  0.26086957,  0.33333333,  0.33333333,\n",
       "          0.64444444,  0.82857143],\n",
       "        [ 0.51666667,  0.2173913 ,  0.        ,  0.66666667,\n",
       "          0.53333333,  0.42857143],\n",
       "        [ 0.23333333,  0.17391304,  0.        ,  0.16666667,\n",
       "          0.28888889,  0.34285714],\n",
       "        [ 0.        ,  0.52173913,  0.33333333,  0.16666667,\n",
       "          0.6       ,  0.05714286]],\n",
       "\n",
       "       [[ 0.4       ,  0.13043478,  0.66666667,  0.66666667,\n",
       "          0.37777778,  0.6       ],\n",
       "        [ 0.83333333,  0.86956522,  1.        ,  0.33333333,\n",
       "          0.31111111,  0.11428571],\n",
       "        [ 0.78333333,  0.26086957,  0.33333333,  1.        ,\n",
       "          0.48888889,  0.45714286],\n",
       "        [ 0.05      ,  0.95652174,  0.33333333,  0.66666667,\n",
       "          0.33333333,  0.22857143],\n",
       "        [ 0.73333333,  0.39130435,  0.33333333,  0.5       ,\n",
       "          0.33333333,  0.85714286]],\n",
       "\n",
       "       [[ 0.85      ,  0.47826087,  1.        ,  0.5       ,\n",
       "          0.48888889,  0.2       ],\n",
       "        [ 0.75      ,  0.52173913,  0.33333333,  0.66666667,\n",
       "          0.53333333,  0.14285714],\n",
       "        [ 0.55      ,  0.60869565,  1.        ,  1.        ,\n",
       "          0.44444444,  0.57142857],\n",
       "        [ 0.65      ,  0.08695652,  0.66666667,  0.83333333,\n",
       "          0.24444444,  0.51428571],\n",
       "        [ 0.21666667,  0.60869565,  1.        ,  0.        ,\n",
       "          0.37777778,  0.02857143]],\n",
       "\n",
       "       ...,\n",
       "\n",
       "       [[ 0.56666667,  0.43478261,  0.33333333,  0.        ,\n",
       "          0.42222222,  0.02857143],\n",
       "        [ 0.91666667,  0.08695652,  0.33333333,  0.        ,\n",
       "          0.28888889,  0.91428571],\n",
       "        [ 0.18333333,  0.        ,  0.66666667,  0.83333333,\n",
       "          0.75555556,  0.82857143],\n",
       "        [ 0.        ,  0.        ,  0.33333333,  0.16666667,\n",
       "          0.64444444,  0.11428571],\n",
       "        [ 0.8       ,  0.08695652,  0.        ,  0.        ,\n",
       "          0.17777778,  0.71428571]],\n",
       "\n",
       "       [[ 0.08333333,  0.34782609,  0.66666667,  1.        ,\n",
       "          0.91111111,  0.77142857],\n",
       "        [ 0.36666667,  0.65217391,  0.66666667,  0.33333333,\n",
       "          0.11111111,  0.4       ],\n",
       "        [ 0.68333333,  0.65217391,  1.        ,  0.        ,\n",
       "          0.53333333,  0.2       ],\n",
       "        [ 0.01666667,  0.26086957,  0.66666667,  0.33333333,\n",
       "          0.71111111,  0.6       ],\n",
       "        [ 0.06666667,  0.43478261,  1.        ,  0.83333333,\n",
       "          0.68888889,  0.8       ]],\n",
       "\n",
       "       [[-1.        , -1.        , -1.        , -1.        ,\n",
       "         -1.        , -1.        ],\n",
       "        [-1.        , -1.        , -1.        , -1.        ,\n",
       "         -1.        , -1.        ],\n",
       "        [-1.        , -1.        , -1.        , -1.        ,\n",
       "         -1.        , -1.        ],\n",
       "        [-1.        , -1.        , -1.        , -1.        ,\n",
       "         -1.        , -1.        ],\n",
       "        [-1.        , -1.        , -1.        , -1.        ,\n",
       "         -1.        , -1.        ]]])"
      ]
     },
     "execution_count": 9,
     "metadata": {},
     "output_type": "execute_result"
    }
   ],
   "source": [
    "X"
   ]
  },
  {
   "cell_type": "code",
   "execution_count": 10,
   "metadata": {},
   "outputs": [
    {
     "data": {
      "text/plain": [
       "(1048575, 1)"
      ]
     },
     "execution_count": 10,
     "metadata": {},
     "output_type": "execute_result"
    }
   ],
   "source": [
    "y.shape"
   ]
  },
  {
   "cell_type": "code",
   "execution_count": 11,
   "metadata": {},
   "outputs": [
    {
     "data": {
      "text/plain": [
       "(1048575, 5, 6)"
      ]
     },
     "execution_count": 11,
     "metadata": {},
     "output_type": "execute_result"
    }
   ],
   "source": [
    "X.shape"
   ]
  },
  {
   "cell_type": "markdown",
   "metadata": {},
   "source": [
    "#### Train-test-val dataset split"
   ]
  },
  {
   "cell_type": "code",
   "execution_count": 12,
   "metadata": {},
   "outputs": [],
   "source": [
    "X_train, X_test, y_train, y_test = train_test_split(X, y, test_size=0.2, random_state=42,shuffle=False)\n",
    "\n",
    "X_train, X_val, y_train, y_val = train_test_split(X_train, y_train, test_size=0.2, random_state=42,shuffle=False)"
   ]
  },
  {
   "cell_type": "code",
   "execution_count": 13,
   "metadata": {},
   "outputs": [
    {
     "data": {
      "text/plain": [
       "5"
      ]
     },
     "execution_count": 13,
     "metadata": {},
     "output_type": "execute_result"
    }
   ],
   "source": [
    "X_train.shape[1]"
   ]
  },
  {
   "cell_type": "code",
   "execution_count": 14,
   "metadata": {},
   "outputs": [
    {
     "data": {
      "text/plain": [
       "6"
      ]
     },
     "execution_count": 14,
     "metadata": {},
     "output_type": "execute_result"
    }
   ],
   "source": [
    "X_train.shape[2]"
   ]
  },
  {
   "cell_type": "code",
   "execution_count": 15,
   "metadata": {},
   "outputs": [
    {
     "data": {
      "text/plain": [
       "(209715, 5, 6)"
      ]
     },
     "execution_count": 15,
     "metadata": {},
     "output_type": "execute_result"
    }
   ],
   "source": [
    "X_test.shape"
   ]
  },
  {
   "cell_type": "code",
   "execution_count": 16,
   "metadata": {
    "scrolled": true
   },
   "outputs": [
    {
     "data": {
      "text/plain": [
       "array([[[ 0.        ,  0.52173913,  0.33333333,  0.16666667,\n",
       "          0.6       ,  0.05714286],\n",
       "        [ 0.4       ,  0.13043478,  0.66666667,  0.66666667,\n",
       "          0.37777778,  0.6       ],\n",
       "        [ 0.83333333,  0.86956522,  1.        ,  0.33333333,\n",
       "          0.31111111,  0.11428571],\n",
       "        [ 0.78333333,  0.26086957,  0.33333333,  1.        ,\n",
       "          0.48888889,  0.45714286],\n",
       "        [ 0.05      ,  0.95652174,  0.33333333,  0.66666667,\n",
       "          0.33333333,  0.22857143]],\n",
       "\n",
       "       [[ 0.73333333,  0.39130435,  0.33333333,  0.5       ,\n",
       "          0.33333333,  0.85714286],\n",
       "        [ 0.85      ,  0.47826087,  1.        ,  0.5       ,\n",
       "          0.48888889,  0.2       ],\n",
       "        [ 0.75      ,  0.52173913,  0.33333333,  0.66666667,\n",
       "          0.53333333,  0.14285714],\n",
       "        [ 0.55      ,  0.60869565,  1.        ,  1.        ,\n",
       "          0.44444444,  0.57142857],\n",
       "        [ 0.65      ,  0.08695652,  0.66666667,  0.83333333,\n",
       "          0.24444444,  0.51428571]],\n",
       "\n",
       "       [[ 0.21666667,  0.60869565,  1.        ,  0.        ,\n",
       "          0.37777778,  0.02857143],\n",
       "        [ 0.43333333,  0.13043478,  0.66666667,  1.        ,\n",
       "          0.66666667,  0.51428571],\n",
       "        [ 0.08333333,  1.        ,  1.        ,  1.        ,\n",
       "          0.51111111,  0.42857143],\n",
       "        [ 0.78333333,  0.47826087,  0.66666667,  1.        ,\n",
       "          0.37777778,  0.05714286],\n",
       "        [ 0.26666667,  1.        ,  1.        ,  0.5       ,\n",
       "          0.77777778,  0.62857143]],\n",
       "\n",
       "       ...,\n",
       "\n",
       "       [[ 0.56666667,  0.43478261,  0.33333333,  0.        ,\n",
       "          0.42222222,  0.02857143],\n",
       "        [ 0.91666667,  0.08695652,  0.33333333,  0.        ,\n",
       "          0.28888889,  0.91428571],\n",
       "        [ 0.18333333,  0.        ,  0.66666667,  0.83333333,\n",
       "          0.75555556,  0.82857143],\n",
       "        [ 0.        ,  0.        ,  0.33333333,  0.16666667,\n",
       "          0.64444444,  0.11428571],\n",
       "        [ 0.8       ,  0.08695652,  0.        ,  0.        ,\n",
       "          0.17777778,  0.71428571]],\n",
       "\n",
       "       [[ 0.08333333,  0.34782609,  0.66666667,  1.        ,\n",
       "          0.91111111,  0.77142857],\n",
       "        [ 0.36666667,  0.65217391,  0.66666667,  0.33333333,\n",
       "          0.11111111,  0.4       ],\n",
       "        [ 0.68333333,  0.65217391,  1.        ,  0.        ,\n",
       "          0.53333333,  0.2       ],\n",
       "        [ 0.01666667,  0.26086957,  0.66666667,  0.33333333,\n",
       "          0.71111111,  0.6       ],\n",
       "        [ 0.06666667,  0.43478261,  1.        ,  0.83333333,\n",
       "          0.68888889,  0.8       ]],\n",
       "\n",
       "       [[-1.        , -1.        , -1.        , -1.        ,\n",
       "         -1.        , -1.        ],\n",
       "        [-1.        , -1.        , -1.        , -1.        ,\n",
       "         -1.        , -1.        ],\n",
       "        [-1.        , -1.        , -1.        , -1.        ,\n",
       "         -1.        , -1.        ],\n",
       "        [-1.        , -1.        , -1.        , -1.        ,\n",
       "         -1.        , -1.        ],\n",
       "        [-1.        , -1.        , -1.        , -1.        ,\n",
       "         -1.        , -1.        ]]])"
      ]
     },
     "execution_count": 16,
     "metadata": {},
     "output_type": "execute_result"
    }
   ],
   "source": [
    "X_test"
   ]
  },
  {
   "cell_type": "code",
   "execution_count": 17,
   "metadata": {
    "scrolled": true
   },
   "outputs": [],
   "source": [
    "X_train1 = np.asarray(X_train)\n",
    "y_train1 = np.asarray(y_train)\n",
    "X_test1  = np.asarray(X_test)\n",
    "y_test1  = np.asarray(y_test)\n",
    "X_val1   = np.asarray(X_val)\n",
    "y_val1   = np.asarray(y_val)"
   ]
  },
  {
   "cell_type": "code",
   "execution_count": 18,
   "metadata": {},
   "outputs": [
    {
     "data": {
      "text/plain": [
       "(167772, 5, 6)"
      ]
     },
     "execution_count": 18,
     "metadata": {},
     "output_type": "execute_result"
    }
   ],
   "source": [
    "X_val1.shape"
   ]
  },
  {
   "cell_type": "code",
   "execution_count": 19,
   "metadata": {},
   "outputs": [
    {
     "data": {
      "text/plain": [
       "(167772, 1)"
      ]
     },
     "execution_count": 19,
     "metadata": {},
     "output_type": "execute_result"
    }
   ],
   "source": [
    "y_val1.shape"
   ]
  },
  {
   "cell_type": "markdown",
   "metadata": {},
   "source": [
    "<h2><center>Create Model and test</center><h2>"
   ]
  },
  {
   "cell_type": "markdown",
   "metadata": {},
   "source": [
    "<h3>LSTM<h3>"
   ]
  },
  {
   "cell_type": "code",
   "execution_count": 20,
   "metadata": {},
   "outputs": [
    {
     "name": "stdout",
     "output_type": "stream",
     "text": [
      "Model: \"model\"\n",
      "_________________________________________________________________\n",
      "Layer (type)                 Output Shape              Param #   \n",
      "=================================================================\n",
      "input_1 (InputLayer)         [(None, 5, 6)]            0         \n",
      "_________________________________________________________________\n",
      "lstm (LSTM)                  (None, 5, 64)             18176     \n",
      "_________________________________________________________________\n",
      "batch_normalization (BatchNo (None, 5, 64)             256       \n",
      "_________________________________________________________________\n",
      "lstm_1 (LSTM)                (None, 5, 128)            98816     \n",
      "_________________________________________________________________\n",
      "batch_normalization_1 (Batch (None, 5, 128)            512       \n",
      "_________________________________________________________________\n",
      "lstm_2 (LSTM)                (None, 5, 256)            394240    \n",
      "_________________________________________________________________\n",
      "batch_normalization_2 (Batch (None, 5, 256)            1024      \n",
      "_________________________________________________________________\n",
      "lstm_3 (LSTM)                (None, 5, 128)            197120    \n",
      "_________________________________________________________________\n",
      "batch_normalization_3 (Batch (None, 5, 128)            512       \n",
      "_________________________________________________________________\n",
      "lstm_4 (LSTM)                (None, 5, 64)             49408     \n",
      "_________________________________________________________________\n",
      "batch_normalization_4 (Batch (None, 5, 64)             256       \n",
      "_________________________________________________________________\n",
      "lstm_5 (LSTM)                (None, 32)                12416     \n",
      "_________________________________________________________________\n",
      "batch_normalization_5 (Batch (None, 32)                128       \n",
      "_________________________________________________________________\n",
      "dense (Dense)                (None, 1)                 33        \n",
      "=================================================================\n",
      "Total params: 772,897\n",
      "Trainable params: 771,553\n",
      "Non-trainable params: 1,344\n",
      "_________________________________________________________________\n"
     ]
    }
   ],
   "source": [
    "model = createModel()\n",
    "model.summary()"
   ]
  },
  {
   "cell_type": "code",
   "execution_count": 21,
   "metadata": {},
   "outputs": [],
   "source": [
    "model.compile(loss='mse',optimizer='adam', metrics=['mse', 'mae'])"
   ]
  },
  {
   "cell_type": "code",
   "execution_count": 22,
   "metadata": {},
   "outputs": [],
   "source": [
    "# Create checkpoints to save model during training and save training data into csv\n",
    "# ‘monitor’ can be ‘val_acc’ or ‘val_loss’\n",
    "# When set to ‘val_acc’, ‘mode’ must be ‘max’; when set to ‘val_loss’, ‘mode’ must be ‘min’\n",
    "\n",
    "filepath       = modelname + \".hdf5\"\n",
    "checkpoint     = ModelCheckpoint(filepath, monitor='val_loss',verbose=0,save_best_only=True,mode='min') \n",
    "csv_logger     = CSVLogger(modelname + '.csv')\n",
    "callbacks_list = [checkpoint,csv_logger]"
   ]
  },
  {
   "cell_type": "code",
   "execution_count": 23,
   "metadata": {},
   "outputs": [
    {
     "name": "stdout",
     "output_type": "stream",
     "text": [
      "Train on 671088 samples, validate on 167772 samples\n",
      "Epoch 1/10\n",
      "671088/671088 [==============================] - 25s 37us/sample - loss: 0.1607 - mse: 0.1607 - mae: 0.3562 - val_loss: 0.0809 - val_mse: 0.0809 - val_mae: 0.2693\n",
      "Epoch 2/10\n",
      "671088/671088 [==============================] - 13s 19us/sample - loss: 0.0630 - mse: 0.0630 - mae: 0.2133 - val_loss: 0.0315 - val_mse: 0.0315 - val_mae: 0.1432\n",
      "Epoch 3/10\n",
      "671088/671088 [==============================] - 13s 19us/sample - loss: 0.0295 - mse: 0.0295 - mae: 0.1261 - val_loss: 0.0262 - val_mse: 0.0262 - val_mae: 0.1131\n",
      "Epoch 4/10\n",
      "671088/671088 [==============================] - 13s 19us/sample - loss: 0.0260 - mse: 0.0260 - mae: 0.1052 - val_loss: 0.0253 - val_mse: 0.0253 - val_mae: 0.1018\n",
      "Epoch 5/10\n",
      "671088/671088 [==============================] - 13s 19us/sample - loss: 0.0256 - mse: 0.0256 - mae: 0.0995 - val_loss: 0.0252 - val_mse: 0.0252 - val_mae: 0.0976\n",
      "Epoch 6/10\n",
      "671088/671088 [==============================] - 13s 19us/sample - loss: 0.0255 - mse: 0.0255 - mae: 0.0978 - val_loss: 0.0252 - val_mse: 0.0252 - val_mae: 0.0997\n",
      "Epoch 7/10\n",
      "671088/671088 [==============================] - 13s 19us/sample - loss: 0.0254 - mse: 0.0254 - mae: 0.0972 - val_loss: 0.0252 - val_mse: 0.0252 - val_mae: 0.0992\n",
      "Epoch 8/10\n",
      "671088/671088 [==============================] - 13s 20us/sample - loss: 0.0254 - mse: 0.0254 - mae: 0.0971 - val_loss: 0.0252 - val_mse: 0.0252 - val_mae: 0.0970\n",
      "Epoch 9/10\n",
      "671088/671088 [==============================] - 13s 20us/sample - loss: 0.0254 - mse: 0.0254 - mae: 0.0972 - val_loss: 0.0252 - val_mse: 0.0252 - val_mae: 0.0981\n",
      "Epoch 10/10\n",
      "671088/671088 [==============================] - 13s 19us/sample - loss: 0.0253 - mse: 0.0253 - mae: 0.0971 - val_loss: 0.0252 - val_mse: 0.0252 - val_mae: 0.0973\n"
     ]
    }
   ],
   "source": [
    "# The line for training\n",
    "hisgtory = model.fit(X_train1, \n",
    "                     y_train1, \n",
    "                     validation_data=(X_val1, y_val1), \n",
    "                     epochs=no_of_epoch, \n",
    "                     batch_size=batch_size,\n",
    "                     shuffle=False,\n",
    "                     callbacks=callbacks_list) "
   ]
  },
  {
   "cell_type": "markdown",
   "metadata": {},
   "source": [
    "### validation dataset test result"
   ]
  },
  {
   "cell_type": "code",
   "execution_count": 24,
   "metadata": {},
   "outputs": [
    {
     "name": "stdout",
     "output_type": "stream",
     "text": [
      "0.025194245559938967\n"
     ]
    }
   ],
   "source": [
    "predicts = model.predict(X_val1)\n",
    "print(mean_squared_error(y_val1,predicts))"
   ]
  },
  {
   "cell_type": "markdown",
   "metadata": {},
   "source": [
    "### Test dataset test result"
   ]
  },
  {
   "cell_type": "code",
   "execution_count": 25,
   "metadata": {},
   "outputs": [
    {
     "name": "stdout",
     "output_type": "stream",
     "text": [
      "0.02530372625825459\n"
     ]
    }
   ],
   "source": [
    "predicted_value = model.predict(X_test1)\n",
    "print(mean_squared_error(y_test1,predicted_value))"
   ]
  },
  {
   "cell_type": "code",
   "execution_count": 26,
   "metadata": {},
   "outputs": [
    {
     "data": {
      "image/png": "[encoded data removed]",
      "text/plain": [
       "<Figure size 1080x720 with 2 Axes>"
      ]
     },
     "metadata": {
      "needs_background": "light"
     },
     "output_type": "display_data"
    }
   ],
   "source": [
    "records     = pd.read_csv(modelname +'.csv')\n",
    "plt.figure(figsize=(15,10))\n",
    "plt.subplot(211)\n",
    "plt.plot(records['val_mse'],label=\"val_mse\")\n",
    "plt.plot(records['val_loss'],label=\"val_loss\")\n",
    "plt.plot(records['loss'],label=\"loss\")\n",
    "plt.title('MSE',fontsize=12)\n",
    "plt.legend(loc=\"upper left\",fontsize=15)\n",
    "\n",
    "ax          = plt.gca()\n",
    "ax.set_xticklabels([])\n",
    "\n",
    "plt.subplot(212)\n",
    "plt.plot(records['val_mae'],label=\"val_mae\")\n",
    "plt.plot(records['val_loss'],label=\"val_loss\")\n",
    "plt.plot(records['loss'],label=\"loss\")\n",
    "plt.title('MAE',fontsize=12)\n",
    "plt.legend(loc=\"upper left\",fontsize=15)\n",
    "\n",
    "plt.show()\n",
    "\n"
   ]
  },
  {
   "cell_type": "code",
   "execution_count": 27,
   "metadata": {},
   "outputs": [],
   "source": [
    "# Load your own trained model\n",
    "model = load_model(filepath, compile = False)"
   ]
  },
  {
   "cell_type": "code",
   "execution_count": 28,
   "metadata": {
    "scrolled": true
   },
   "outputs": [
    {
     "data": {
      "text/html": [
       "<div>\n",
       "<style scoped>\n",
       "    .dataframe tbody tr th:only-of-type {\n",
       "        vertical-align: middle;\n",
       "    }\n",
       "\n",
       "    .dataframe tbody tr th {\n",
       "        vertical-align: top;\n",
       "    }\n",
       "\n",
       "    .dataframe thead th {\n",
       "        text-align: right;\n",
       "    }\n",
       "</style>\n",
       "<table border=\"1\" class=\"dataframe\">\n",
       "  <thead>\n",
       "    <tr style=\"text-align: right;\">\n",
       "      <th></th>\n",
       "      <th>day</th>\n",
       "      <th>hour</th>\n",
       "      <th>min</th>\n",
       "      <th>dow</th>\n",
       "      <th>lat</th>\n",
       "      <th>long</th>\n",
       "    </tr>\n",
       "  </thead>\n",
       "  <tbody>\n",
       "    <tr>\n",
       "      <th>0</th>\n",
       "      <td>18</td>\n",
       "      <td>20</td>\n",
       "      <td>0</td>\n",
       "      <td>4</td>\n",
       "      <td>-5.353088</td>\n",
       "      <td>90.653687</td>\n",
       "    </tr>\n",
       "    <tr>\n",
       "      <th>1</th>\n",
       "      <td>18</td>\n",
       "      <td>20</td>\n",
       "      <td>0</td>\n",
       "      <td>4</td>\n",
       "      <td>-5.353088</td>\n",
       "      <td>90.653687</td>\n",
       "    </tr>\n",
       "    <tr>\n",
       "      <th>2</th>\n",
       "      <td>10</td>\n",
       "      <td>14</td>\n",
       "      <td>30</td>\n",
       "      <td>3</td>\n",
       "      <td>-5.413513</td>\n",
       "      <td>90.664673</td>\n",
       "    </tr>\n",
       "    <tr>\n",
       "      <th>3</th>\n",
       "      <td>9</td>\n",
       "      <td>6</td>\n",
       "      <td>15</td>\n",
       "      <td>2</td>\n",
       "      <td>-5.325623</td>\n",
       "      <td>90.906372</td>\n",
       "    </tr>\n",
       "    <tr>\n",
       "      <th>4</th>\n",
       "      <td>32</td>\n",
       "      <td>5</td>\n",
       "      <td>0</td>\n",
       "      <td>4</td>\n",
       "      <td>-5.353088</td>\n",
       "      <td>90.752563</td>\n",
       "    </tr>\n",
       "    <tr>\n",
       "      <th>5</th>\n",
       "      <td>15</td>\n",
       "      <td>4</td>\n",
       "      <td>0</td>\n",
       "      <td>1</td>\n",
       "      <td>-5.413513</td>\n",
       "      <td>90.719604</td>\n",
       "    </tr>\n",
       "    <tr>\n",
       "      <th>6</th>\n",
       "      <td>1</td>\n",
       "      <td>12</td>\n",
       "      <td>15</td>\n",
       "      <td>1</td>\n",
       "      <td>-5.336609</td>\n",
       "      <td>90.609741</td>\n",
       "    </tr>\n",
       "    <tr>\n",
       "      <th>7</th>\n",
       "      <td>25</td>\n",
       "      <td>3</td>\n",
       "      <td>30</td>\n",
       "      <td>4</td>\n",
       "      <td>-5.391541</td>\n",
       "      <td>90.818481</td>\n",
       "    </tr>\n",
       "    <tr>\n",
       "      <th>8</th>\n",
       "      <td>51</td>\n",
       "      <td>20</td>\n",
       "      <td>45</td>\n",
       "      <td>2</td>\n",
       "      <td>-5.408020</td>\n",
       "      <td>90.631714</td>\n",
       "    </tr>\n",
       "    <tr>\n",
       "      <th>9</th>\n",
       "      <td>48</td>\n",
       "      <td>6</td>\n",
       "      <td>15</td>\n",
       "      <td>6</td>\n",
       "      <td>-5.364075</td>\n",
       "      <td>90.763550</td>\n",
       "    </tr>\n",
       "    <tr>\n",
       "      <th>10</th>\n",
       "      <td>4</td>\n",
       "      <td>22</td>\n",
       "      <td>15</td>\n",
       "      <td>4</td>\n",
       "      <td>-5.402527</td>\n",
       "      <td>90.675659</td>\n",
       "    </tr>\n",
       "    <tr>\n",
       "      <th>11</th>\n",
       "      <td>45</td>\n",
       "      <td>9</td>\n",
       "      <td>15</td>\n",
       "      <td>3</td>\n",
       "      <td>-5.402527</td>\n",
       "      <td>90.917358</td>\n",
       "    </tr>\n",
       "    <tr>\n",
       "      <th>12</th>\n",
       "      <td>52</td>\n",
       "      <td>11</td>\n",
       "      <td>45</td>\n",
       "      <td>3</td>\n",
       "      <td>-5.364075</td>\n",
       "      <td>90.664673</td>\n",
       "    </tr>\n",
       "    <tr>\n",
       "      <th>13</th>\n",
       "      <td>46</td>\n",
       "      <td>12</td>\n",
       "      <td>15</td>\n",
       "      <td>4</td>\n",
       "      <td>-5.353088</td>\n",
       "      <td>90.642700</td>\n",
       "    </tr>\n",
       "    <tr>\n",
       "      <th>14</th>\n",
       "      <td>34</td>\n",
       "      <td>14</td>\n",
       "      <td>45</td>\n",
       "      <td>6</td>\n",
       "      <td>-5.375061</td>\n",
       "      <td>90.807495</td>\n",
       "    </tr>\n",
       "    <tr>\n",
       "      <th>15</th>\n",
       "      <td>40</td>\n",
       "      <td>2</td>\n",
       "      <td>30</td>\n",
       "      <td>5</td>\n",
       "      <td>-5.424500</td>\n",
       "      <td>90.785522</td>\n",
       "    </tr>\n",
       "    <tr>\n",
       "      <th>16</th>\n",
       "      <td>14</td>\n",
       "      <td>14</td>\n",
       "      <td>45</td>\n",
       "      <td>0</td>\n",
       "      <td>-5.391541</td>\n",
       "      <td>90.598755</td>\n",
       "    </tr>\n",
       "    <tr>\n",
       "      <th>17</th>\n",
       "      <td>27</td>\n",
       "      <td>3</td>\n",
       "      <td>30</td>\n",
       "      <td>6</td>\n",
       "      <td>-5.320129</td>\n",
       "      <td>90.785522</td>\n",
       "    </tr>\n",
       "    <tr>\n",
       "      <th>18</th>\n",
       "      <td>6</td>\n",
       "      <td>23</td>\n",
       "      <td>45</td>\n",
       "      <td>6</td>\n",
       "      <td>-5.358582</td>\n",
       "      <td>90.752563</td>\n",
       "    </tr>\n",
       "    <tr>\n",
       "      <th>19</th>\n",
       "      <td>48</td>\n",
       "      <td>11</td>\n",
       "      <td>30</td>\n",
       "      <td>6</td>\n",
       "      <td>-5.391541</td>\n",
       "      <td>90.609741</td>\n",
       "    </tr>\n",
       "  </tbody>\n",
       "</table>\n",
       "</div>"
      ],
      "text/plain": [
       "    day  hour  min  dow       lat       long\n",
       "0    18    20    0    4 -5.353088  90.653687\n",
       "1    18    20    0    4 -5.353088  90.653687\n",
       "2    10    14   30    3 -5.413513  90.664673\n",
       "3     9     6   15    2 -5.325623  90.906372\n",
       "4    32     5    0    4 -5.353088  90.752563\n",
       "5    15     4    0    1 -5.413513  90.719604\n",
       "6     1    12   15    1 -5.336609  90.609741\n",
       "7    25     3   30    4 -5.391541  90.818481\n",
       "8    51    20   45    2 -5.408020  90.631714\n",
       "9    48     6   15    6 -5.364075  90.763550\n",
       "10    4    22   15    4 -5.402527  90.675659\n",
       "11   45     9   15    3 -5.402527  90.917358\n",
       "12   52    11   45    3 -5.364075  90.664673\n",
       "13   46    12   15    4 -5.353088  90.642700\n",
       "14   34    14   45    6 -5.375061  90.807495\n",
       "15   40     2   30    5 -5.424500  90.785522\n",
       "16   14    14   45    0 -5.391541  90.598755\n",
       "17   27     3   30    6 -5.320129  90.785522\n",
       "18    6    23   45    6 -5.358582  90.752563\n",
       "19   48    11   30    6 -5.391541  90.609741"
      ]
     },
     "execution_count": 28,
     "metadata": {},
     "output_type": "execute_result"
    }
   ],
   "source": [
    "# Data input sequence format :\n",
    "\n",
    "test_data   = [[18, 20, 0, 4, -5.353088, 90.653687]]\n",
    "test_data   = pd.DataFrame(test_data, columns = predictor_var)\n",
    "test_target = [[0.020072]]\n",
    "\n",
    "test_data1  = [[18,20, 0, 4, -5.353088, 90.653687],\n",
    "               [18,20, 0, 4, -5.353088, 90.653687],\n",
    "               [10,14,30, 3, -5.413513, 90.664673],\n",
    "               [ 9, 6,15, 2, -5.325623, 90.906372],\n",
    "               [32, 5, 0, 4, -5.353088, 90.752563],\n",
    "               [15, 4, 0, 1, -5.413513, 90.719604],\n",
    "               [ 1,12,15, 1, -5.336609, 90.609741],\n",
    "               [25, 3,30, 4, -5.391541, 90.818481],\n",
    "               [51,20,45, 2, -5.408020, 90.631714],\n",
    "               [48, 6,15, 6, -5.364075, 90.763550],\n",
    "               [ 4,22,15, 4, -5.402527, 90.675659],\n",
    "               [45, 9,15, 3, -5.402527, 90.917358],\n",
    "               [52,11,45, 3, -5.364075, 90.664673],\n",
    "               [46,12,15, 4, -5.353088, 90.642700],\n",
    "               [34,14,45, 6, -5.375061, 90.807495],\n",
    "               [40, 2,30, 5, -5.424500, 90.785522],\n",
    "               [14,14,45, 0, -5.391541, 90.598755],\n",
    "               [27, 3,30, 6, -5.320129, 90.785522],\n",
    "               [ 6,23,45, 6, -5.358582, 90.752563],\n",
    "               [48,11,30, 6, -5.391541, 90.609741]]\n",
    "\n",
    "test_data1   = pd.DataFrame(test_data1, columns = predictor_var)\n",
    "test_target1 = [[0.020072],[0.020072],[0.024721],[0.102821],[0.088755],[0.074468],[0.023843],[0.007460],\n",
    "                [0.000293],[0.054170],[0.123463],[0.026177],[0.359406],[0.514136],[0.059740], \n",
    "                [0.026409],[0.013998],[0.008414],[0.029400],[0.057255]]\n",
    "test_data1"
   ]
  },
  {
   "cell_type": "markdown",
   "metadata": {},
   "source": [
    "### Testing using 1 row of inference data"
   ]
  },
  {
   "cell_type": "code",
   "execution_count": 29,
   "metadata": {},
   "outputs": [
    {
     "data": {
      "text/plain": [
       "(1, 6)"
      ]
     },
     "execution_count": 29,
     "metadata": {},
     "output_type": "execute_result"
    }
   ],
   "source": [
    "test_data.shape"
   ]
  },
  {
   "cell_type": "code",
   "execution_count": 30,
   "metadata": {},
   "outputs": [
    {
     "name": "stderr",
     "output_type": "stream",
     "text": [
      "C:\\ProgramData\\Anaconda3\\envs\\deep\\lib\\site-packages\\sklearn\\base.py:334: UserWarning: Trying to unpickle estimator MinMaxScaler from version 0.22.1 when using version 0.23.1. This might lead to breaking code or invalid results. Use at your own risk.\n",
      "  UserWarning)\n"
     ]
    }
   ],
   "source": [
    "scaler_filename = \"grab_msft_cnn_scaler.save\"\n",
    "scaler          = joblib.load(scaler_filename) \n",
    "Data_scaled = scaler.transform(test_data)"
   ]
  },
  {
   "cell_type": "code",
   "execution_count": 31,
   "metadata": {},
   "outputs": [
    {
     "data": {
      "text/plain": [
       "array([[0.28333333, 0.86956522, 0.        , 0.66666667, 0.53333487,\n",
       "        0.17142981]])"
      ]
     },
     "execution_count": 31,
     "metadata": {},
     "output_type": "execute_result"
    }
   ],
   "source": [
    "Data_scaled"
   ]
  },
  {
   "cell_type": "code",
   "execution_count": 34,
   "metadata": {},
   "outputs": [],
   "source": [
    "Data_scaled = Data_scaled.reshape(1,1,6)"
   ]
  },
  {
   "cell_type": "code",
   "execution_count": 35,
   "metadata": {},
   "outputs": [
    {
     "data": {
      "text/plain": [
       "array([[[0.28333333, 0.86956522, 0.        , 0.66666667, 0.53333487,\n",
       "         0.17142981]]])"
      ]
     },
     "execution_count": 35,
     "metadata": {},
     "output_type": "execute_result"
    }
   ],
   "source": [
    "Data_scaled"
   ]
  },
  {
   "cell_type": "code",
   "execution_count": 37,
   "metadata": {
    "scrolled": true
   },
   "outputs": [
    {
     "data": {
      "text/plain": [
       "(1, 5, 6)"
      ]
     },
     "execution_count": 37,
     "metadata": {},
     "output_type": "execute_result"
    }
   ],
   "source": [
    "X_shift = np.repeat(Data_scaled[:, :, np.newaxis], time_shift, axis=2).reshape(1,time_shift,6)\n",
    "X_shift.shape"
   ]
  },
  {
   "cell_type": "code",
   "execution_count": 38,
   "metadata": {},
   "outputs": [
    {
     "name": "stdout",
     "output_type": "stream",
     "text": [
      "Predicted value : 0.10585516691207886\n",
      "Actual Value    : 0.020072\n"
     ]
    }
   ],
   "source": [
    "predicted_value = model.predict(X_shift)\n",
    "print('Predicted value : {}\\nActual Value    : {}' .format(predicted_value[0][0],test_target[0][0]))"
   ]
  },
  {
   "cell_type": "code",
   "execution_count": 39,
   "metadata": {},
   "outputs": [
    {
     "name": "stdout",
     "output_type": "stream",
     "text": [
      "0.00735875172546558\n"
     ]
    }
   ],
   "source": [
    "print(mean_squared_error(test_target,predicted_value))"
   ]
  },
  {
   "cell_type": "code",
   "execution_count": 40,
   "metadata": {},
   "outputs": [
    {
     "data": {
      "text/plain": [
       "array([[0.10585517]], dtype=float32)"
      ]
     },
     "execution_count": 40,
     "metadata": {},
     "output_type": "execute_result"
    }
   ],
   "source": [
    "predicted_value"
   ]
  },
  {
   "cell_type": "markdown",
   "metadata": {},
   "source": [
    "### Testing using 20 rows of inference data"
   ]
  },
  {
   "cell_type": "code",
   "execution_count": 41,
   "metadata": {},
   "outputs": [
    {
     "name": "stderr",
     "output_type": "stream",
     "text": [
      "C:\\ProgramData\\Anaconda3\\envs\\deep\\lib\\site-packages\\sklearn\\base.py:334: UserWarning: Trying to unpickle estimator MinMaxScaler from version 0.22.1 when using version 0.23.1. This might lead to breaking code or invalid results. Use at your own risk.\n",
      "  UserWarning)\n"
     ]
    }
   ],
   "source": [
    "scaler_filename = \"grab_msft_cnn_scaler.save\"\n",
    "scaler          = joblib.load(scaler_filename) \n",
    "Data_scaled = scaler.transform(test_data1)"
   ]
  },
  {
   "cell_type": "code",
   "execution_count": 42,
   "metadata": {
    "scrolled": true
   },
   "outputs": [],
   "source": [
    "Data_scaled = pd.DataFrame(Data_scaled)"
   ]
  },
  {
   "cell_type": "code",
   "execution_count": 43,
   "metadata": {
    "scrolled": true
   },
   "outputs": [
    {
     "data": {
      "text/html": [
       "<div>\n",
       "<style scoped>\n",
       "    .dataframe tbody tr th:only-of-type {\n",
       "        vertical-align: middle;\n",
       "    }\n",
       "\n",
       "    .dataframe tbody tr th {\n",
       "        vertical-align: top;\n",
       "    }\n",
       "\n",
       "    .dataframe thead th {\n",
       "        text-align: right;\n",
       "    }\n",
       "</style>\n",
       "<table border=\"1\" class=\"dataframe\">\n",
       "  <thead>\n",
       "    <tr style=\"text-align: right;\">\n",
       "      <th></th>\n",
       "      <th>0</th>\n",
       "      <th>1</th>\n",
       "      <th>2</th>\n",
       "      <th>3</th>\n",
       "      <th>4</th>\n",
       "      <th>5</th>\n",
       "    </tr>\n",
       "  </thead>\n",
       "  <tbody>\n",
       "    <tr>\n",
       "      <th>0</th>\n",
       "      <td>0.283333</td>\n",
       "      <td>0.869565</td>\n",
       "      <td>0.000000</td>\n",
       "      <td>0.666667</td>\n",
       "      <td>0.533335</td>\n",
       "      <td>0.171430</td>\n",
       "    </tr>\n",
       "    <tr>\n",
       "      <th>1</th>\n",
       "      <td>0.283333</td>\n",
       "      <td>0.869565</td>\n",
       "      <td>0.000000</td>\n",
       "      <td>0.666667</td>\n",
       "      <td>0.533335</td>\n",
       "      <td>0.171430</td>\n",
       "    </tr>\n",
       "    <tr>\n",
       "      <th>2</th>\n",
       "      <td>0.150000</td>\n",
       "      <td>0.608696</td>\n",
       "      <td>0.666667</td>\n",
       "      <td>0.500000</td>\n",
       "      <td>0.288890</td>\n",
       "      <td>0.200000</td>\n",
       "    </tr>\n",
       "    <tr>\n",
       "      <th>3</th>\n",
       "      <td>0.133333</td>\n",
       "      <td>0.260870</td>\n",
       "      <td>0.333333</td>\n",
       "      <td>0.333333</td>\n",
       "      <td>0.644443</td>\n",
       "      <td>0.828571</td>\n",
       "    </tr>\n",
       "    <tr>\n",
       "      <th>4</th>\n",
       "      <td>0.516667</td>\n",
       "      <td>0.217391</td>\n",
       "      <td>0.000000</td>\n",
       "      <td>0.666667</td>\n",
       "      <td>0.533335</td>\n",
       "      <td>0.428570</td>\n",
       "    </tr>\n",
       "    <tr>\n",
       "      <th>5</th>\n",
       "      <td>0.233333</td>\n",
       "      <td>0.173913</td>\n",
       "      <td>0.000000</td>\n",
       "      <td>0.166667</td>\n",
       "      <td>0.288890</td>\n",
       "      <td>0.342856</td>\n",
       "    </tr>\n",
       "    <tr>\n",
       "      <th>6</th>\n",
       "      <td>0.000000</td>\n",
       "      <td>0.521739</td>\n",
       "      <td>0.333333</td>\n",
       "      <td>0.166667</td>\n",
       "      <td>0.600000</td>\n",
       "      <td>0.057142</td>\n",
       "    </tr>\n",
       "    <tr>\n",
       "      <th>7</th>\n",
       "      <td>0.400000</td>\n",
       "      <td>0.130435</td>\n",
       "      <td>0.666667</td>\n",
       "      <td>0.666667</td>\n",
       "      <td>0.377776</td>\n",
       "      <td>0.599999</td>\n",
       "    </tr>\n",
       "    <tr>\n",
       "      <th>8</th>\n",
       "      <td>0.833333</td>\n",
       "      <td>0.869565</td>\n",
       "      <td>1.000000</td>\n",
       "      <td>0.333333</td>\n",
       "      <td>0.311111</td>\n",
       "      <td>0.114286</td>\n",
       "    </tr>\n",
       "    <tr>\n",
       "      <th>9</th>\n",
       "      <td>0.783333</td>\n",
       "      <td>0.260870</td>\n",
       "      <td>0.333333</td>\n",
       "      <td>1.000000</td>\n",
       "      <td>0.488888</td>\n",
       "      <td>0.457143</td>\n",
       "    </tr>\n",
       "    <tr>\n",
       "      <th>10</th>\n",
       "      <td>0.050000</td>\n",
       "      <td>0.956522</td>\n",
       "      <td>0.333333</td>\n",
       "      <td>0.666667</td>\n",
       "      <td>0.333333</td>\n",
       "      <td>0.228571</td>\n",
       "    </tr>\n",
       "    <tr>\n",
       "      <th>11</th>\n",
       "      <td>0.733333</td>\n",
       "      <td>0.391304</td>\n",
       "      <td>0.333333</td>\n",
       "      <td>0.500000</td>\n",
       "      <td>0.333333</td>\n",
       "      <td>0.857142</td>\n",
       "    </tr>\n",
       "    <tr>\n",
       "      <th>12</th>\n",
       "      <td>0.850000</td>\n",
       "      <td>0.478261</td>\n",
       "      <td>1.000000</td>\n",
       "      <td>0.500000</td>\n",
       "      <td>0.488888</td>\n",
       "      <td>0.200000</td>\n",
       "    </tr>\n",
       "    <tr>\n",
       "      <th>13</th>\n",
       "      <td>0.750000</td>\n",
       "      <td>0.521739</td>\n",
       "      <td>0.333333</td>\n",
       "      <td>0.666667</td>\n",
       "      <td>0.533335</td>\n",
       "      <td>0.142857</td>\n",
       "    </tr>\n",
       "    <tr>\n",
       "      <th>14</th>\n",
       "      <td>0.550000</td>\n",
       "      <td>0.608696</td>\n",
       "      <td>1.000000</td>\n",
       "      <td>1.000000</td>\n",
       "      <td>0.444445</td>\n",
       "      <td>0.571428</td>\n",
       "    </tr>\n",
       "    <tr>\n",
       "      <th>15</th>\n",
       "      <td>0.650000</td>\n",
       "      <td>0.086957</td>\n",
       "      <td>0.666667</td>\n",
       "      <td>0.833333</td>\n",
       "      <td>0.244442</td>\n",
       "      <td>0.514285</td>\n",
       "    </tr>\n",
       "    <tr>\n",
       "      <th>16</th>\n",
       "      <td>0.216667</td>\n",
       "      <td>0.608696</td>\n",
       "      <td>1.000000</td>\n",
       "      <td>0.000000</td>\n",
       "      <td>0.377776</td>\n",
       "      <td>0.028572</td>\n",
       "    </tr>\n",
       "    <tr>\n",
       "      <th>17</th>\n",
       "      <td>0.433333</td>\n",
       "      <td>0.130435</td>\n",
       "      <td>0.666667</td>\n",
       "      <td>1.000000</td>\n",
       "      <td>0.666668</td>\n",
       "      <td>0.514285</td>\n",
       "    </tr>\n",
       "    <tr>\n",
       "      <th>18</th>\n",
       "      <td>0.083333</td>\n",
       "      <td>1.000000</td>\n",
       "      <td>1.000000</td>\n",
       "      <td>1.000000</td>\n",
       "      <td>0.511109</td>\n",
       "      <td>0.428570</td>\n",
       "    </tr>\n",
       "    <tr>\n",
       "      <th>19</th>\n",
       "      <td>0.783333</td>\n",
       "      <td>0.478261</td>\n",
       "      <td>0.666667</td>\n",
       "      <td>1.000000</td>\n",
       "      <td>0.377776</td>\n",
       "      <td>0.057142</td>\n",
       "    </tr>\n",
       "  </tbody>\n",
       "</table>\n",
       "</div>"
      ],
      "text/plain": [
       "           0         1         2         3         4         5\n",
       "0   0.283333  0.869565  0.000000  0.666667  0.533335  0.171430\n",
       "1   0.283333  0.869565  0.000000  0.666667  0.533335  0.171430\n",
       "2   0.150000  0.608696  0.666667  0.500000  0.288890  0.200000\n",
       "3   0.133333  0.260870  0.333333  0.333333  0.644443  0.828571\n",
       "4   0.516667  0.217391  0.000000  0.666667  0.533335  0.428570\n",
       "5   0.233333  0.173913  0.000000  0.166667  0.288890  0.342856\n",
       "6   0.000000  0.521739  0.333333  0.166667  0.600000  0.057142\n",
       "7   0.400000  0.130435  0.666667  0.666667  0.377776  0.599999\n",
       "8   0.833333  0.869565  1.000000  0.333333  0.311111  0.114286\n",
       "9   0.783333  0.260870  0.333333  1.000000  0.488888  0.457143\n",
       "10  0.050000  0.956522  0.333333  0.666667  0.333333  0.228571\n",
       "11  0.733333  0.391304  0.333333  0.500000  0.333333  0.857142\n",
       "12  0.850000  0.478261  1.000000  0.500000  0.488888  0.200000\n",
       "13  0.750000  0.521739  0.333333  0.666667  0.533335  0.142857\n",
       "14  0.550000  0.608696  1.000000  1.000000  0.444445  0.571428\n",
       "15  0.650000  0.086957  0.666667  0.833333  0.244442  0.514285\n",
       "16  0.216667  0.608696  1.000000  0.000000  0.377776  0.028572\n",
       "17  0.433333  0.130435  0.666667  1.000000  0.666668  0.514285\n",
       "18  0.083333  1.000000  1.000000  1.000000  0.511109  0.428570\n",
       "19  0.783333  0.478261  0.666667  1.000000  0.377776  0.057142"
      ]
     },
     "execution_count": 43,
     "metadata": {},
     "output_type": "execute_result"
    }
   ],
   "source": [
    "Data_scaled"
   ]
  },
  {
   "cell_type": "code",
   "execution_count": 44,
   "metadata": {},
   "outputs": [
    {
     "data": {
      "text/plain": [
       "(20, 5, 6)"
      ]
     },
     "execution_count": 44,
     "metadata": {},
     "output_type": "execute_result"
    }
   ],
   "source": [
    "X_shift = []\n",
    "for i in range(time_shift):\n",
    "    X_shift.append(Data_scaled.shift(-1-i).fillna(-1).values)\n",
    "X_shift = np.array(X_shift)\n",
    "\n",
    "X_shift = X_shift.reshape(X_shift.shape[1],X_shift.shape[0],X_shift.shape[2])\n",
    "X_shift.shape"
   ]
  },
  {
   "cell_type": "code",
   "execution_count": 45,
   "metadata": {},
   "outputs": [
    {
     "name": "stdout",
     "output_type": "stream",
     "text": [
      "Predicted value : 0.10649005323648453\n",
      "Actual Value    : 0.020072\n"
     ]
    }
   ],
   "source": [
    "predicted_value = model.predict(X_shift)\n",
    "print('Predicted value : {}\\nActual Value    : {}' .format(predicted_value[0][0],test_target[0][0]))"
   ]
  },
  {
   "cell_type": "code",
   "execution_count": 46,
   "metadata": {},
   "outputs": [
    {
     "name": "stdout",
     "output_type": "stream",
     "text": [
      "0.016209949016580787\n"
     ]
    }
   ],
   "source": [
    "print(mean_squared_error(test_target1,predicted_value))"
   ]
  },
  {
   "cell_type": "code",
   "execution_count": 47,
   "metadata": {},
   "outputs": [
    {
     "data": {
      "text/plain": [
       "array([[0.10649005],\n",
       "       [0.10606881],\n",
       "       [0.10942161],\n",
       "       [0.10521423],\n",
       "       [0.10759213],\n",
       "       [0.10698597],\n",
       "       [0.10456961],\n",
       "       [0.10528734],\n",
       "       [0.1096395 ],\n",
       "       [0.10715638],\n",
       "       [0.10700148],\n",
       "       [0.10820101],\n",
       "       [0.10938454],\n",
       "       [0.1102941 ],\n",
       "       [0.10434612],\n",
       "       [0.10929459],\n",
       "       [0.10938644],\n",
       "       [0.11398955],\n",
       "       [0.10344037],\n",
       "       [0.10928672]], dtype=float32)"
      ]
     },
     "execution_count": 47,
     "metadata": {},
     "output_type": "execute_result"
    }
   ],
   "source": [
    "predicted_value"
   ]
  },
  {
   "cell_type": "code",
   "execution_count": null,
   "metadata": {},
   "outputs": [],
   "source": []
  }
 ],
 "metadata": {
  "kernelspec": {
   "display_name": "Python 3",
   "language": "python",
   "name": "python3"
  },
  "language_info": {
   "codemirror_mode": {
    "name": "ipython",
    "version": 3
   },
   "file_extension": ".py",
   "mimetype": "text/x-python",
   "name": "python",
   "nbconvert_exporter": "python",
   "pygments_lexer": "ipython3",
   "version": "3.6.10"
  }
 },
 "nbformat": 4,
 "nbformat_minor": 4
}
