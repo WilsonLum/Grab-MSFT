{
 "cells": [
  {
   "cell_type": "markdown",
   "metadata": {},
   "source": [
    "# Grab-Microsoft Challenge \n",
    "## Traffic Management\n",
    "\n",
    "- geohash6: geohash is a public domain geocoding system which encodes a geographic location into a short string of letters and digits with arbitrary precision. You are free to use any geohash library to encode/decode the geohashes into latitude and longitude or vice versa.(Examples:https://github.com/hkwi/python-geohash)\n",
    "- day: the value indicates the sequential order and not a particular day of the month\n",
    "- timestamp: start time of 15-minute intervals in the following format: <hour>:<minute>, where hour ranges from 0 to 23 and minute is either one of (0, 15, 30, 45)\n",
    "- demand: aggregated demand normalised to be in the range [0,1]\n",
    "    \n",
    "## Problem Statements:\n",
    "- Which areas have high / low traffic demand?\n",
    "- How does regional traffic demand change according to day / time?\n",
    "- Forecast the travel demand for next 15min / 1hour and predict areas with high travel demand"
   ]
  },
  {
   "cell_type": "markdown",
   "metadata": {},
   "source": [
    "### This is for model training and testing"
   ]
  },
  {
   "cell_type": "markdown",
   "metadata": {},
   "source": [
    "#### Import python library"
   ]
  },
  {
   "cell_type": "code",
   "execution_count": 1,
   "metadata": {},
   "outputs": [],
   "source": [
    "import numpy as np\n",
    "from numpy import array\n",
    "import pandas as pd\n",
    "import matplotlib.pyplot as plt\n",
    "\n",
    "# plot matplotlib graph\n",
    "%matplotlib inline\n",
    "\n",
    "#Import models from scikit learn module:\n",
    "from sklearn.metrics import mean_squared_error\n",
    "from tensorflow.keras.models import load_model\n",
    "from sklearn.model_selection import train_test_split\n",
    "\n",
    "import h5py\n",
    "import sklearn.metrics as metrics\n",
    "from tensorflow.keras.callbacks import ModelCheckpoint,CSVLogger\n",
    "\n",
    "import pickle\n",
    "import joblib\n",
    "import os\n",
    "\n",
    "from ModelDefinitions import createModel"
   ]
  },
  {
   "cell_type": "code",
   "execution_count": 2,
   "metadata": {},
   "outputs": [],
   "source": [
    "os.environ[\"CUDA_VISIBLE_DEVICES\"]=\"0\""
   ]
  },
  {
   "cell_type": "code",
   "execution_count": 20,
   "metadata": {},
   "outputs": [],
   "source": [
    "    #***********************************\n",
    "    # Index 00-10 is for LSTM Model\n",
    "    # Index 11-20 is for Bi-LSTM Model\n",
    "    # Index 21-30 is for CNN Model\n",
    "    # Index 31-40 is for CNN-LSTM Model\n",
    "    #***********************************\n",
    "\n",
    "# choose a number of time steps\n",
    "n_steps_in, predict_next_no_of_output = 3, 2\n",
    "\n",
    "# ------ CHANGE THESE ------\n",
    "index = 3\n",
    "seed  = 7\n",
    "np.random.seed(seed)\n",
    "basemodelname = 'LSTM3-' + str(n_steps_in) + 'in' + str(predict_next_no_of_output) + 'out'\n",
    "batch_size    = 4096\n",
    "no_of_epoch   = 30\n",
    "no_of_train   = 0.8\n",
    "# --------------------------\n",
    "\n",
    "modelname = 'model/' + basemodelname + \"_\" + str(index)\n",
    "filepath  = modelname + \".hdf5\""
   ]
  },
  {
   "cell_type": "markdown",
   "metadata": {},
   "source": [
    "## Define Functions"
   ]
  },
  {
   "cell_type": "code",
   "execution_count": 4,
   "metadata": {},
   "outputs": [],
   "source": [
    "# split a multivariate sequence into samples\n",
    "def split_sequences(sequences, n_steps_in, n_steps_out):\n",
    "    X, y = list(), list()\n",
    "    for i in range(len(sequences)):\n",
    "        # find the end of this pattern\n",
    "        end_ix = i + n_steps_in\n",
    "        out_end_ix = end_ix + n_steps_out-1\n",
    "        # check if we are beyond the dataset\n",
    "        if out_end_ix > len(sequences):\n",
    "            break\n",
    "        # gather input and output parts of the pattern\n",
    "        seq_x, seq_y = sequences[i:end_ix, :-1], sequences[end_ix-1:out_end_ix, -1]\n",
    "        X.append(seq_x)\n",
    "        y.append(seq_y)\n",
    "    return array(X), array(y)\n"
   ]
  },
  {
   "cell_type": "markdown",
   "metadata": {},
   "source": [
    "## Read in Dataset"
   ]
  },
  {
   "cell_type": "code",
   "execution_count": 5,
   "metadata": {},
   "outputs": [
    {
     "data": {
      "text/html": [
       "<div>\n",
       "<style scoped>\n",
       "    .dataframe tbody tr th:only-of-type {\n",
       "        vertical-align: middle;\n",
       "    }\n",
       "\n",
       "    .dataframe tbody tr th {\n",
       "        vertical-align: top;\n",
       "    }\n",
       "\n",
       "    .dataframe thead th {\n",
       "        text-align: right;\n",
       "    }\n",
       "</style>\n",
       "<table border=\"1\" class=\"dataframe\">\n",
       "  <thead>\n",
       "    <tr style=\"text-align: right;\">\n",
       "      <th></th>\n",
       "      <th>day</th>\n",
       "      <th>hour</th>\n",
       "      <th>min</th>\n",
       "      <th>dow</th>\n",
       "      <th>lat</th>\n",
       "      <th>long</th>\n",
       "      <th>demand</th>\n",
       "    </tr>\n",
       "  </thead>\n",
       "  <tbody>\n",
       "    <tr>\n",
       "      <th>0</th>\n",
       "      <td>0.016667</td>\n",
       "      <td>0.173913</td>\n",
       "      <td>0.666667</td>\n",
       "      <td>0.285714</td>\n",
       "      <td>0.0</td>\n",
       "      <td>0.171429</td>\n",
       "      <td>0.011041</td>\n",
       "    </tr>\n",
       "    <tr>\n",
       "      <th>1</th>\n",
       "      <td>0.016667</td>\n",
       "      <td>0.956522</td>\n",
       "      <td>1.000000</td>\n",
       "      <td>0.285714</td>\n",
       "      <td>0.0</td>\n",
       "      <td>0.171429</td>\n",
       "      <td>0.031419</td>\n",
       "    </tr>\n",
       "    <tr>\n",
       "      <th>2</th>\n",
       "      <td>0.050000</td>\n",
       "      <td>0.173913</td>\n",
       "      <td>0.666667</td>\n",
       "      <td>0.571429</td>\n",
       "      <td>0.0</td>\n",
       "      <td>0.171429</td>\n",
       "      <td>0.057966</td>\n",
       "    </tr>\n",
       "    <tr>\n",
       "      <th>3</th>\n",
       "      <td>0.050000</td>\n",
       "      <td>0.260870</td>\n",
       "      <td>0.000000</td>\n",
       "      <td>0.571429</td>\n",
       "      <td>0.0</td>\n",
       "      <td>0.171429</td>\n",
       "      <td>0.044834</td>\n",
       "    </tr>\n",
       "    <tr>\n",
       "      <th>4</th>\n",
       "      <td>0.050000</td>\n",
       "      <td>0.260870</td>\n",
       "      <td>0.666667</td>\n",
       "      <td>0.571429</td>\n",
       "      <td>0.0</td>\n",
       "      <td>0.171429</td>\n",
       "      <td>0.007841</td>\n",
       "    </tr>\n",
       "    <tr>\n",
       "      <th>...</th>\n",
       "      <td>...</td>\n",
       "      <td>...</td>\n",
       "      <td>...</td>\n",
       "      <td>...</td>\n",
       "      <td>...</td>\n",
       "      <td>...</td>\n",
       "      <td>...</td>\n",
       "    </tr>\n",
       "    <tr>\n",
       "      <th>1048570</th>\n",
       "      <td>0.683333</td>\n",
       "      <td>0.347826</td>\n",
       "      <td>0.000000</td>\n",
       "      <td>0.285714</td>\n",
       "      <td>1.0</td>\n",
       "      <td>1.000000</td>\n",
       "      <td>0.004793</td>\n",
       "    </tr>\n",
       "    <tr>\n",
       "      <th>1048571</th>\n",
       "      <td>0.916667</td>\n",
       "      <td>0.434783</td>\n",
       "      <td>0.333333</td>\n",
       "      <td>0.000000</td>\n",
       "      <td>1.0</td>\n",
       "      <td>1.000000</td>\n",
       "      <td>0.016509</td>\n",
       "    </tr>\n",
       "    <tr>\n",
       "      <th>1048572</th>\n",
       "      <td>0.933333</td>\n",
       "      <td>0.434783</td>\n",
       "      <td>0.000000</td>\n",
       "      <td>0.142857</td>\n",
       "      <td>1.0</td>\n",
       "      <td>1.000000</td>\n",
       "      <td>0.015804</td>\n",
       "    </tr>\n",
       "    <tr>\n",
       "      <th>1048573</th>\n",
       "      <td>0.966667</td>\n",
       "      <td>0.391304</td>\n",
       "      <td>0.666667</td>\n",
       "      <td>0.428571</td>\n",
       "      <td>1.0</td>\n",
       "      <td>1.000000</td>\n",
       "      <td>0.012543</td>\n",
       "    </tr>\n",
       "    <tr>\n",
       "      <th>1048574</th>\n",
       "      <td>0.983333</td>\n",
       "      <td>0.478261</td>\n",
       "      <td>0.333333</td>\n",
       "      <td>0.571429</td>\n",
       "      <td>1.0</td>\n",
       "      <td>1.000000</td>\n",
       "      <td>0.029285</td>\n",
       "    </tr>\n",
       "  </tbody>\n",
       "</table>\n",
       "<p>1048575 rows × 7 columns</p>\n",
       "</div>"
      ],
      "text/plain": [
       "              day      hour       min       dow  lat      long    demand\n",
       "0        0.016667  0.173913  0.666667  0.285714  0.0  0.171429  0.011041\n",
       "1        0.016667  0.956522  1.000000  0.285714  0.0  0.171429  0.031419\n",
       "2        0.050000  0.173913  0.666667  0.571429  0.0  0.171429  0.057966\n",
       "3        0.050000  0.260870  0.000000  0.571429  0.0  0.171429  0.044834\n",
       "4        0.050000  0.260870  0.666667  0.571429  0.0  0.171429  0.007841\n",
       "...           ...       ...       ...       ...  ...       ...       ...\n",
       "1048570  0.683333  0.347826  0.000000  0.285714  1.0  1.000000  0.004793\n",
       "1048571  0.916667  0.434783  0.333333  0.000000  1.0  1.000000  0.016509\n",
       "1048572  0.933333  0.434783  0.000000  0.142857  1.0  1.000000  0.015804\n",
       "1048573  0.966667  0.391304  0.666667  0.428571  1.0  1.000000  0.012543\n",
       "1048574  0.983333  0.478261  0.333333  0.571429  1.0  1.000000  0.029285\n",
       "\n",
       "[1048575 rows x 7 columns]"
      ]
     },
     "execution_count": 5,
     "metadata": {},
     "output_type": "execute_result"
    }
   ],
   "source": [
    "xls  = pd.ExcelFile('data/Dataset_Sorted_feature.xlsx')\n",
    "data = pd.read_excel(xls, 'TrafficMgmt')\n",
    "data"
   ]
  },
  {
   "cell_type": "code",
   "execution_count": 6,
   "metadata": {},
   "outputs": [],
   "source": [
    "predictor_var = ['day','hour','min','dow','lat','long']\n",
    "outcome_var   = 'demand'\n",
    "no_of_features = len(predictor_var)"
   ]
  },
  {
   "cell_type": "markdown",
   "metadata": {},
   "source": [
    "#### Prepare training & test data"
   ]
  },
  {
   "cell_type": "code",
   "execution_count": 7,
   "metadata": {},
   "outputs": [],
   "source": [
    "# convert into input/output\n",
    "dataset = data.to_numpy()\n",
    "X, y = split_sequences(dataset, n_steps_in, predict_next_no_of_output)\n",
    "    \n",
    "# Train-test-val dataset split\n",
    "X_train1 = X[:int(no_of_train*len(X))]\n",
    "y_train1 = y[:int(no_of_train*len(X))]\n",
    "X_test  = X[int(no_of_train*len(X)):]\n",
    "y_test  = y[int(no_of_train*len(X)):]\n",
    "\n",
    "X_train = X_train1[:int(no_of_train*len(X_train1))]\n",
    "y_train = y_train1[:int(no_of_train*len(X_train1))]\n",
    "X_val   = X_train1[int(no_of_train*len(X_train1)):]\n",
    "y_val   = y_train1[int(no_of_train*len(X_train1)):]\n"
   ]
  },
  {
   "cell_type": "code",
   "execution_count": 8,
   "metadata": {},
   "outputs": [
    {
     "name": "stdout",
     "output_type": "stream",
     "text": [
      "(671085, 3, 6) (671085, 2) (209715, 3, 6) (209715, 2) (167772, 3, 6) (167772, 2)\n"
     ]
    }
   ],
   "source": [
    "print(X_train.shape, y_train.shape,X_test.shape, y_test.shape,X_val.shape, y_val.shape)"
   ]
  },
  {
   "cell_type": "markdown",
   "metadata": {},
   "source": [
    "### Main Program"
   ]
  },
  {
   "cell_type": "code",
   "execution_count": 21,
   "metadata": {
    "scrolled": true
   },
   "outputs": [
    {
     "name": "stdout",
     "output_type": "stream",
     "text": [
      "Model: \"model_6\"\n",
      "_________________________________________________________________\n",
      "Layer (type)                 Output Shape              Param #   \n",
      "=================================================================\n",
      "input_7 (InputLayer)         [(None, 3, 6)]            0         \n",
      "_________________________________________________________________\n",
      "lstm_12 (LSTM)               (None, 3, 1024)           4222976   \n",
      "_________________________________________________________________\n",
      "batch_normalization_12 (Batc (None, 3, 1024)           4096      \n",
      "_________________________________________________________________\n",
      "lstm_13 (LSTM)               (None, 1024)              8392704   \n",
      "_________________________________________________________________\n",
      "batch_normalization_13 (Batc (None, 1024)              4096      \n",
      "_________________________________________________________________\n",
      "dense_6 (Dense)              (None, 2)                 2050      \n",
      "=================================================================\n",
      "Total params: 12,625,922\n",
      "Trainable params: 12,621,826\n",
      "Non-trainable params: 4,096\n",
      "_________________________________________________________________\n",
      "Train on 671085 samples, validate on 167772 samples\n",
      "Epoch 1/30\n",
      "671085/671085 [==============================] - 46s 68us/sample - loss: 0.1426 - mse: 0.0719 - mae: 0.1426 - val_loss: 0.1030 - val_mse: 0.0465 - val_mae: 0.1030\n",
      "Epoch 2/30\n",
      "671085/671085 [==============================] - 42s 62us/sample - loss: 0.0888 - mse: 0.0290 - mae: 0.0888 - val_loss: 0.1051 - val_mse: 0.0392 - val_mae: 0.1051\n",
      "Epoch 3/30\n",
      "671085/671085 [==============================] - 42s 63us/sample - loss: 0.0887 - mse: 0.0289 - mae: 0.0887 - val_loss: 0.1358 - val_mse: 0.0397 - val_mae: 0.1358\n",
      "Epoch 4/30\n",
      "671085/671085 [==============================] - 42s 63us/sample - loss: 0.0887 - mse: 0.0288 - mae: 0.0887 - val_loss: 0.1439 - val_mse: 0.0402 - val_mae: 0.1439\n",
      "Epoch 5/30\n",
      "671085/671085 [==============================] - 42s 63us/sample - loss: 0.0887 - mse: 0.0288 - mae: 0.0887 - val_loss: 0.1543 - val_mse: 0.0426 - val_mae: 0.1543\n",
      "Epoch 6/30\n",
      "671085/671085 [==============================] - 42s 63us/sample - loss: 0.0885 - mse: 0.0286 - mae: 0.0885 - val_loss: 0.2098 - val_mse: 0.0579 - val_mae: 0.2098\n",
      "Epoch 7/30\n",
      "671085/671085 [==============================] - 42s 63us/sample - loss: 0.0885 - mse: 0.0286 - mae: 0.0885 - val_loss: 0.3414 - val_mse: 0.1290 - val_mae: 0.3414\n",
      "Epoch 8/30\n",
      "671085/671085 [==============================] - 43s 63us/sample - loss: 0.0882 - mse: 0.0285 - mae: 0.0882 - val_loss: 0.3595 - val_mse: 0.1555 - val_mae: 0.3595\n",
      "Epoch 9/30\n",
      "671085/671085 [==============================] - 42s 63us/sample - loss: 0.0881 - mse: 0.0285 - mae: 0.0881 - val_loss: 0.1155 - val_mse: 0.0384 - val_mae: 0.1155\n",
      "Epoch 10/30\n",
      "671085/671085 [==============================] - 43s 63us/sample - loss: 0.0879 - mse: 0.0283 - mae: 0.0879 - val_loss: 0.1394 - val_mse: 0.0452 - val_mae: 0.1394\n",
      "Epoch 11/30\n",
      "671085/671085 [==============================] - 43s 64us/sample - loss: 0.0876 - mse: 0.0283 - mae: 0.0876 - val_loss: 0.1052 - val_mse: 0.0399 - val_mae: 0.1052\n",
      "Epoch 12/30\n",
      "671085/671085 [==============================] - 43s 64us/sample - loss: 0.0876 - mse: 0.0282 - mae: 0.0876 - val_loss: 0.1633 - val_mse: 0.0449 - val_mae: 0.1633\n",
      "Epoch 13/30\n",
      "671085/671085 [==============================] - 43s 64us/sample - loss: 0.0878 - mse: 0.0284 - mae: 0.0878 - val_loss: 0.1132 - val_mse: 0.0388 - val_mae: 0.1132\n",
      "Epoch 14/30\n",
      "671085/671085 [==============================] - 43s 64us/sample - loss: 0.0879 - mse: 0.0284 - mae: 0.0879 - val_loss: 0.1211 - val_mse: 0.0387 - val_mae: 0.1211\n",
      "Epoch 15/30\n",
      "671085/671085 [==============================] - 43s 64us/sample - loss: 0.0876 - mse: 0.0283 - mae: 0.0876 - val_loss: 0.1042 - val_mse: 0.0395 - val_mae: 0.1042\n",
      "Epoch 16/30\n",
      "671085/671085 [==============================] - 43s 65us/sample - loss: 0.0876 - mse: 0.0283 - mae: 0.0876 - val_loss: 0.1020 - val_mse: 0.0402 - val_mae: 0.1020\n",
      "Epoch 17/30\n",
      "671085/671085 [==============================] - 43s 65us/sample - loss: 0.0875 - mse: 0.0283 - mae: 0.0875 - val_loss: 0.1013 - val_mse: 0.0433 - val_mae: 0.1013\n",
      "Epoch 18/30\n",
      "671085/671085 [==============================] - 43s 64us/sample - loss: 0.0877 - mse: 0.0282 - mae: 0.0877 - val_loss: 0.1060 - val_mse: 0.0413 - val_mae: 0.1060\n",
      "Epoch 19/30\n",
      "671085/671085 [==============================] - 43s 65us/sample - loss: 0.0878 - mse: 0.0284 - mae: 0.0878 - val_loss: 0.1006 - val_mse: 0.0424 - val_mae: 0.1006\n",
      "Epoch 20/30\n",
      "671085/671085 [==============================] - 43s 64us/sample - loss: 0.0876 - mse: 0.0284 - mae: 0.0876 - val_loss: 0.1053 - val_mse: 0.0475 - val_mae: 0.1053\n",
      "Epoch 21/30\n",
      "671085/671085 [==============================] - 43s 64us/sample - loss: 0.0874 - mse: 0.0283 - mae: 0.0874 - val_loss: 0.0994 - val_mse: 0.0416 - val_mae: 0.0994\n",
      "Epoch 22/30\n",
      "671085/671085 [==============================] - 43s 64us/sample - loss: 0.0874 - mse: 0.0281 - mae: 0.0874 - val_loss: 0.1039 - val_mse: 0.0433 - val_mae: 0.1039\n",
      "Epoch 23/30\n",
      "671085/671085 [==============================] - 43s 64us/sample - loss: 0.0884 - mse: 0.0285 - mae: 0.0884 - val_loss: 0.1004 - val_mse: 0.0436 - val_mae: 0.1004\n",
      "Epoch 24/30\n",
      "671085/671085 [==============================] - 43s 64us/sample - loss: 0.0871 - mse: 0.0284 - mae: 0.0871 - val_loss: 0.1085 - val_mse: 0.0489 - val_mae: 0.1085\n",
      "Epoch 25/30\n",
      "671085/671085 [==============================] - 43s 64us/sample - loss: 0.0875 - mse: 0.0282 - mae: 0.0875 - val_loss: 0.1006 - val_mse: 0.0424 - val_mae: 0.1006\n",
      "Epoch 26/30\n",
      "671085/671085 [==============================] - 43s 64us/sample - loss: 0.0882 - mse: 0.0283 - mae: 0.0882 - val_loss: 0.1188 - val_mse: 0.0523 - val_mae: 0.1188\n",
      "Epoch 27/30\n",
      "671085/671085 [==============================] - 43s 64us/sample - loss: 0.0872 - mse: 0.0284 - mae: 0.0872 - val_loss: 0.1045 - val_mse: 0.0448 - val_mae: 0.1045\n",
      "Epoch 28/30\n",
      "671085/671085 [==============================] - 43s 64us/sample - loss: 0.0881 - mse: 0.0281 - mae: 0.0881 - val_loss: 0.2162 - val_mse: 0.0686 - val_mae: 0.2162\n",
      "Epoch 29/30\n",
      "671085/671085 [==============================] - 43s 64us/sample - loss: 0.0875 - mse: 0.0282 - mae: 0.0875 - val_loss: 0.1149 - val_mse: 0.0388 - val_mae: 0.1149\n",
      "Epoch 30/30\n",
      "671085/671085 [==============================] - 43s 64us/sample - loss: 0.0873 - mse: 0.0281 - mae: 0.0873 - val_loss: 0.1023 - val_mse: 0.0412 - val_mae: 0.1023\n"
     ]
    }
   ],
   "source": [
    "def main():\n",
    "    \n",
    "    #***********************************\n",
    "    # Index 00-10 is for LSTM Model\n",
    "    # Index 11-20 is for Bi-LSTM Model\n",
    "    # Index 21-30 is for CNN Model\n",
    "    # Index 31-40 is for CNN-LSTM Model\n",
    "    #***********************************\n",
    "\n",
    "    # Create model and summary\n",
    "    model = createModel(X_train, predict_next_no_of_output, index) #\n",
    "    model.summary()\n",
    "    \n",
    "    # Create checkpoint for the training\n",
    "    # This checkpoint performs model saving when\n",
    "    # an epoch gives highest testing accuracy  \n",
    "    checkpoint     = ModelCheckpoint(filepath, monitor='val_loss',verbose=0,save_best_only=True,mode='min') \n",
    "    \n",
    "    # Log the epoch detail into csv\n",
    "    csv_logger     = CSVLogger(modelname + '.csv')\n",
    "    callbacks_list = [checkpoint,csv_logger]\n",
    "\n",
    "    # steps_per_epoch = total training data across all classes / batch size\n",
    "    # validation_steps = number of batches in validation dataset defining 1 epoch\n",
    "    # The line for training\n",
    "    history = model.fit(X_train, \n",
    "                        y_train, \n",
    "                        validation_data=(X_val, y_val), \n",
    "                        epochs=no_of_epoch, \n",
    "                        batch_size=batch_size,\n",
    "                        shuffle=False,\n",
    "                        callbacks=callbacks_list) \n",
    "\n",
    "main()"
   ]
  },
  {
   "cell_type": "markdown",
   "metadata": {},
   "source": [
    "### Load saved trained model and scalar"
   ]
  },
  {
   "cell_type": "code",
   "execution_count": 22,
   "metadata": {},
   "outputs": [],
   "source": [
    "# Load your own trained model & scaler\n",
    "model           = load_model(filepath, compile = False)\n",
    "scaler_filename = \"grab_msft_scaler.save\"\n",
    "scaler          = joblib.load(scaler_filename) "
   ]
  },
  {
   "cell_type": "markdown",
   "metadata": {},
   "source": [
    "### Test dataset test result"
   ]
  },
  {
   "cell_type": "code",
   "execution_count": 23,
   "metadata": {},
   "outputs": [
    {
     "name": "stdout",
     "output_type": "stream",
     "text": [
      "0.16877759309370483\n"
     ]
    }
   ],
   "source": [
    "predicted_value = model.predict(X_train)\n",
    "print(np.sqrt(mean_squared_error(y_train,predicted_value)))"
   ]
  },
  {
   "cell_type": "code",
   "execution_count": 24,
   "metadata": {},
   "outputs": [
    {
     "name": "stdout",
     "output_type": "stream",
     "text": [
      "0.20404250969490692\n"
     ]
    }
   ],
   "source": [
    "predicted_value = model.predict(X_val)\n",
    "print(np.sqrt(mean_squared_error(y_val,predicted_value)))"
   ]
  },
  {
   "cell_type": "code",
   "execution_count": 25,
   "metadata": {
    "scrolled": true
   },
   "outputs": [
    {
     "name": "stdout",
     "output_type": "stream",
     "text": [
      "0.10363599786867318\n"
     ]
    }
   ],
   "source": [
    "predicted_value = model.predict(X_test)\n",
    "print(np.sqrt(mean_squared_error(y_test,predicted_value)))"
   ]
  },
  {
   "cell_type": "code",
   "execution_count": 30,
   "metadata": {
    "scrolled": false
   },
   "outputs": [
    {
     "data": {
      "image/png": "[encoded data removed]",
      "text/plain": [
       "<Figure size 1080x720 with 1 Axes>"
      ]
     },
     "metadata": {
      "needs_background": "light"
     },
     "output_type": "display_data"
    }
   ],
   "source": [
    "records     = pd.read_csv(modelname +'.csv')\n",
    "plt.figure(figsize=(15,10))\n",
    "#plt.figure()\n",
    "ax          = plt.gca()\n",
    "ax.set_xticklabels(records['epoch'])\n",
    "\n",
    "plt.plot(records['mse'],label=\"mse\")\n",
    "plt.plot(records['val_mse'],label=\"val_mse\")\n",
    "plt.title('MSE-MAE',fontsize=12)\n",
    "plt.legend(loc=\"upper left\",fontsize=15)\n",
    "\n",
    "plt.show()"
   ]
  },
  {
   "cell_type": "markdown",
   "metadata": {},
   "source": [
    "### Sample Testing "
   ]
  },
  {
   "cell_type": "code",
   "execution_count": 31,
   "metadata": {},
   "outputs": [],
   "source": [
    "xls  = pd.ExcelFile('data/test_sorted_sample8000.xlsx')\n",
    "test_sample = pd.read_excel(xls, 'TrafficMgmt')\n",
    "\n",
    "# Apply Standardscalar to sample test data\n",
    "test_sample[predictor_var] = scaler.fit_transform(test_sample[predictor_var])"
   ]
  },
  {
   "cell_type": "code",
   "execution_count": 32,
   "metadata": {},
   "outputs": [
    {
     "name": "stdout",
     "output_type": "stream",
     "text": [
      "(20, 3, 6) (20, 2)\n"
     ]
    }
   ],
   "source": [
    "# covert into input/output\n",
    "test_sample_array = test_sample.to_numpy()\n",
    "X_sample, y_sample = split_sequences(test_sample_array, n_steps_in, predict_next_no_of_output)\n",
    "print(X_sample.shape, y_sample.shape)"
   ]
  },
  {
   "cell_type": "code",
   "execution_count": 33,
   "metadata": {},
   "outputs": [
    {
     "name": "stdout",
     "output_type": "stream",
     "text": [
      "Predicted value : [[0.06293966 0.08273251]\n",
      " [0.06593578 0.09473524]\n",
      " [0.06748044 0.08049119]\n",
      " [0.0667383  0.09737107]\n",
      " [0.06707031 0.08820153]\n",
      " [0.06802619 0.07637566]\n",
      " [0.06701464 0.08272346]\n",
      " [0.06586569 0.08569307]\n",
      " [0.06421661 0.083758  ]\n",
      " [0.05995154 0.06733413]\n",
      " [0.05958455 0.07610146]\n",
      " [0.06174802 0.07980752]\n",
      " [0.01711895 0.03550133]\n",
      " [0.04458847 0.0564684 ]\n",
      " [0.06711955 0.10159659]\n",
      " [0.06690051 0.10287207]\n",
      " [0.06754404 0.09356766]\n",
      " [0.06713223 0.10159418]\n",
      " [0.06734389 0.09450353]\n",
      " [0.06690581 0.09924844]] \n",
      " Actual Value    : [[0.04488184 0.06866237]\n",
      " [0.06866237 0.04424022]\n",
      " [0.04424022 0.09100098]\n",
      " [0.09100098 0.01880612]\n",
      " [0.01880612 0.06147939]\n",
      " [0.06147939 0.12464705]\n",
      " [0.12464705 0.11530752]\n",
      " [0.11530752 0.06390945]\n",
      " [0.06390945 0.10923062]\n",
      " [0.10923062 0.02475105]\n",
      " [0.02475105 0.02004892]\n",
      " [0.02004892 0.00837382]\n",
      " [0.00837382 0.01617125]\n",
      " [0.01617125 0.02812034]\n",
      " [0.02812034 0.01977132]\n",
      " [0.01977132 0.0717735 ]\n",
      " [0.0717735  0.11524079]\n",
      " [0.11524079 0.01569192]\n",
      " [0.01569192 0.1113431 ]\n",
      " [0.1113431  0.07803006]]\n"
     ]
    }
   ],
   "source": [
    "predicted_value = model.predict(X_sample)\n",
    "print('Predicted value : {} \\n Actual Value    : {}' .format(predicted_value,y_sample))"
   ]
  },
  {
   "cell_type": "code",
   "execution_count": 34,
   "metadata": {},
   "outputs": [
    {
     "name": "stdout",
     "output_type": "stream",
     "text": [
      "0.04132877619875503\n"
     ]
    }
   ],
   "source": [
    "print(np.sqrt(mean_squared_error(y_sample,predicted_value)))"
   ]
  },
  {
   "cell_type": "code",
   "execution_count": null,
   "metadata": {},
   "outputs": [],
   "source": []
  }
 ],
 "metadata": {
  "kernelspec": {
   "display_name": "Python 3",
   "language": "python",
   "name": "python3"
  },
  "language_info": {
   "codemirror_mode": {
    "name": "ipython",
    "version": 3
   },
   "file_extension": ".py",
   "mimetype": "text/x-python",
   "name": "python",
   "nbconvert_exporter": "python",
   "pygments_lexer": "ipython3",
   "version": "3.6.10"
  }
 },
 "nbformat": 4,
 "nbformat_minor": 4
}
