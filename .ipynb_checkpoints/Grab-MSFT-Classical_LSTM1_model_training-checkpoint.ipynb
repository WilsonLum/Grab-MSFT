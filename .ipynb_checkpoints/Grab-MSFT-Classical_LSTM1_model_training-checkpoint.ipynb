{
 "cells": [
  {
   "cell_type": "markdown",
   "metadata": {},
   "source": [
    "# Grab-Microsoft Challenge \n",
    "## Traffic Management\n",
    "\n",
    "- geohash6: geohash is a public domain geocoding system which encodes a geographic location into a short string of letters and digits with arbitrary precision. You are free to use any geohash library to encode/decode the geohashes into latitude and longitude or vice versa.(Examples:https://github.com/hkwi/python-geohash)\n",
    "- day: the value indicates the sequential order and not a particular day of the month\n",
    "- timestamp: start time of 15-minute intervals in the following format: <hour>:<minute>, where hour ranges from 0 to 23 and minute is either one of (0, 15, 30, 45)\n",
    "- demand: aggregated demand normalised to be in the range [0,1]"
   ]
  },
  {
   "cell_type": "markdown",
   "metadata": {},
   "source": [
    "### This is train LSTM model "
   ]
  },
  {
   "cell_type": "markdown",
   "metadata": {},
   "source": [
    "#### Import python library"
   ]
  },
  {
   "cell_type": "code",
   "execution_count": 2,
   "metadata": {},
   "outputs": [],
   "source": [
    "import numpy as np\n",
    "import pandas as pd\n",
    "import matplotlib.pyplot as plt\n",
    "\n",
    "# plot matplotlib graph\n",
    "%matplotlib inline\n",
    "\n",
    "#Import models from scikit learn module:\n",
    "from sklearn.metrics import mean_squared_error\n",
    "from tensorflow.keras.models import Sequential, load_model\n",
    "from tensorflow.keras.layers import Dense, Flatten, LSTM, BatchNormalization\n",
    "from tensorflow.keras import regularizers\n",
    "from sklearn.model_selection import train_test_split\n",
    "\n",
    "import pickle\n",
    "from sklearn.externals import joblib\n"
   ]
  },
  {
   "cell_type": "code",
   "execution_count": 21,
   "metadata": {},
   "outputs": [],
   "source": [
    "import os \n",
    "os.environ[\"CUDA_VISIBLE_DEVICES\"]=\"0\""
   ]
  },
  {
   "cell_type": "markdown",
   "metadata": {},
   "source": [
    "#### Reading from Preprocessed dataset"
   ]
  },
  {
   "cell_type": "code",
   "execution_count": 3,
   "metadata": {},
   "outputs": [
    {
     "data": {
      "text/html": [
       "<div>\n",
       "<style scoped>\n",
       "    .dataframe tbody tr th:only-of-type {\n",
       "        vertical-align: middle;\n",
       "    }\n",
       "\n",
       "    .dataframe tbody tr th {\n",
       "        vertical-align: top;\n",
       "    }\n",
       "\n",
       "    .dataframe thead th {\n",
       "        text-align: right;\n",
       "    }\n",
       "</style>\n",
       "<table border=\"1\" class=\"dataframe\">\n",
       "  <thead>\n",
       "    <tr style=\"text-align: right;\">\n",
       "      <th></th>\n",
       "      <th>day</th>\n",
       "      <th>demand</th>\n",
       "      <th>hour</th>\n",
       "      <th>min</th>\n",
       "      <th>dow</th>\n",
       "      <th>lat</th>\n",
       "      <th>long</th>\n",
       "      <th>geo_labelencoded</th>\n",
       "    </tr>\n",
       "  </thead>\n",
       "  <tbody>\n",
       "    <tr>\n",
       "      <th>0</th>\n",
       "      <td>0.283333</td>\n",
       "      <td>0.020072</td>\n",
       "      <td>0.869565</td>\n",
       "      <td>0.000000</td>\n",
       "      <td>0.666667</td>\n",
       "      <td>0.533333</td>\n",
       "      <td>0.171429</td>\n",
       "      <td>0.161462</td>\n",
       "    </tr>\n",
       "    <tr>\n",
       "      <th>1</th>\n",
       "      <td>0.150000</td>\n",
       "      <td>0.024721</td>\n",
       "      <td>0.608696</td>\n",
       "      <td>0.666667</td>\n",
       "      <td>0.500000</td>\n",
       "      <td>0.288889</td>\n",
       "      <td>0.200000</td>\n",
       "      <td>0.071592</td>\n",
       "    </tr>\n",
       "    <tr>\n",
       "      <th>2</th>\n",
       "      <td>0.133333</td>\n",
       "      <td>0.102821</td>\n",
       "      <td>0.260870</td>\n",
       "      <td>0.333333</td>\n",
       "      <td>0.333333</td>\n",
       "      <td>0.644444</td>\n",
       "      <td>0.828571</td>\n",
       "      <td>0.795887</td>\n",
       "    </tr>\n",
       "    <tr>\n",
       "      <th>3</th>\n",
       "      <td>0.516667</td>\n",
       "      <td>0.088755</td>\n",
       "      <td>0.217391</td>\n",
       "      <td>0.000000</td>\n",
       "      <td>0.666667</td>\n",
       "      <td>0.533333</td>\n",
       "      <td>0.428571</td>\n",
       "      <td>0.530845</td>\n",
       "    </tr>\n",
       "    <tr>\n",
       "      <th>4</th>\n",
       "      <td>0.233333</td>\n",
       "      <td>0.074468</td>\n",
       "      <td>0.173913</td>\n",
       "      <td>0.000000</td>\n",
       "      <td>0.166667</td>\n",
       "      <td>0.288889</td>\n",
       "      <td>0.342857</td>\n",
       "      <td>0.348819</td>\n",
       "    </tr>\n",
       "    <tr>\n",
       "      <th>...</th>\n",
       "      <td>...</td>\n",
       "      <td>...</td>\n",
       "      <td>...</td>\n",
       "      <td>...</td>\n",
       "      <td>...</td>\n",
       "      <td>...</td>\n",
       "      <td>...</td>\n",
       "      <td>...</td>\n",
       "    </tr>\n",
       "    <tr>\n",
       "      <th>1048570</th>\n",
       "      <td>0.083333</td>\n",
       "      <td>0.024022</td>\n",
       "      <td>0.347826</td>\n",
       "      <td>0.666667</td>\n",
       "      <td>1.000000</td>\n",
       "      <td>0.911111</td>\n",
       "      <td>0.771429</td>\n",
       "      <td>0.956588</td>\n",
       "    </tr>\n",
       "    <tr>\n",
       "      <th>1048571</th>\n",
       "      <td>0.366667</td>\n",
       "      <td>0.005703</td>\n",
       "      <td>0.652174</td>\n",
       "      <td>0.666667</td>\n",
       "      <td>0.333333</td>\n",
       "      <td>0.111111</td>\n",
       "      <td>0.400000</td>\n",
       "      <td>0.297030</td>\n",
       "    </tr>\n",
       "    <tr>\n",
       "      <th>1048572</th>\n",
       "      <td>0.683333</td>\n",
       "      <td>0.067131</td>\n",
       "      <td>0.652174</td>\n",
       "      <td>1.000000</td>\n",
       "      <td>0.000000</td>\n",
       "      <td>0.533333</td>\n",
       "      <td>0.200000</td>\n",
       "      <td>0.178218</td>\n",
       "    </tr>\n",
       "    <tr>\n",
       "      <th>1048573</th>\n",
       "      <td>0.016667</td>\n",
       "      <td>0.151323</td>\n",
       "      <td>0.260870</td>\n",
       "      <td>0.666667</td>\n",
       "      <td>0.333333</td>\n",
       "      <td>0.711111</td>\n",
       "      <td>0.600000</td>\n",
       "      <td>0.648134</td>\n",
       "    </tr>\n",
       "    <tr>\n",
       "      <th>1048574</th>\n",
       "      <td>0.066667</td>\n",
       "      <td>0.026007</td>\n",
       "      <td>0.434783</td>\n",
       "      <td>1.000000</td>\n",
       "      <td>0.833333</td>\n",
       "      <td>0.688889</td>\n",
       "      <td>0.800000</td>\n",
       "      <td>0.821021</td>\n",
       "    </tr>\n",
       "  </tbody>\n",
       "</table>\n",
       "<p>1048575 rows × 8 columns</p>\n",
       "</div>"
      ],
      "text/plain": [
       "              day    demand      hour       min       dow       lat      long  \\\n",
       "0        0.283333  0.020072  0.869565  0.000000  0.666667  0.533333  0.171429   \n",
       "1        0.150000  0.024721  0.608696  0.666667  0.500000  0.288889  0.200000   \n",
       "2        0.133333  0.102821  0.260870  0.333333  0.333333  0.644444  0.828571   \n",
       "3        0.516667  0.088755  0.217391  0.000000  0.666667  0.533333  0.428571   \n",
       "4        0.233333  0.074468  0.173913  0.000000  0.166667  0.288889  0.342857   \n",
       "...           ...       ...       ...       ...       ...       ...       ...   \n",
       "1048570  0.083333  0.024022  0.347826  0.666667  1.000000  0.911111  0.771429   \n",
       "1048571  0.366667  0.005703  0.652174  0.666667  0.333333  0.111111  0.400000   \n",
       "1048572  0.683333  0.067131  0.652174  1.000000  0.000000  0.533333  0.200000   \n",
       "1048573  0.016667  0.151323  0.260870  0.666667  0.333333  0.711111  0.600000   \n",
       "1048574  0.066667  0.026007  0.434783  1.000000  0.833333  0.688889  0.800000   \n",
       "\n",
       "         geo_labelencoded  \n",
       "0                0.161462  \n",
       "1                0.071592  \n",
       "2                0.795887  \n",
       "3                0.530845  \n",
       "4                0.348819  \n",
       "...                   ...  \n",
       "1048570          0.956588  \n",
       "1048571          0.297030  \n",
       "1048572          0.178218  \n",
       "1048573          0.648134  \n",
       "1048574          0.821021  \n",
       "\n",
       "[1048575 rows x 8 columns]"
      ]
     },
     "execution_count": 3,
     "metadata": {},
     "output_type": "execute_result"
    }
   ],
   "source": [
    "xls  = pd.ExcelFile('data/Dataset_feature1.xlsx')\n",
    "data = pd.read_excel(xls, 'TrafficMgmt')\n",
    "data"
   ]
  },
  {
   "cell_type": "code",
   "execution_count": 4,
   "metadata": {},
   "outputs": [],
   "source": [
    "predictor_var = ['day', 'hour', 'min', 'dow', 'lat', 'long','geo_labelencoded']\n",
    "outcome_var   = 'demand'"
   ]
  },
  {
   "cell_type": "markdown",
   "metadata": {},
   "source": [
    "#### Prepare training & test data\n",
    "- Since this is a time series dataset, we can try using LSTM \n",
    "- and create a time series of say 20"
   ]
  },
  {
   "cell_type": "code",
   "execution_count": 11,
   "metadata": {},
   "outputs": [],
   "source": [
    "data_X = data.drop(outcome_var,axis=1)\n",
    "y      = data.drop(predictor_var,axis=1)"
   ]
  },
  {
   "cell_type": "code",
   "execution_count": 12,
   "metadata": {},
   "outputs": [
    {
     "data": {
      "text/plain": [
       "(1048575, 20, 7)"
      ]
     },
     "execution_count": 12,
     "metadata": {},
     "output_type": "execute_result"
    }
   ],
   "source": [
    "X = []\n",
    "for i in range(20):\n",
    "    X.append(data_X.shift(-1-i).fillna(-1).values)\n",
    "X = np.array(X)\n",
    "\n",
    "X = X.reshape(X.shape[1],X.shape[0],X.shape[2])\n",
    "X.shape"
   ]
  },
  {
   "cell_type": "code",
   "execution_count": 13,
   "metadata": {
    "scrolled": true
   },
   "outputs": [
    {
     "data": {
      "text/plain": [
       "array([[[ 0.15      ,  0.60869565,  0.66666667, ...,  0.28888889,\n",
       "          0.2       ,  0.07159177],\n",
       "        [ 0.13333333,  0.26086957,  0.33333333, ...,  0.64444444,\n",
       "          0.82857143,  0.79588728],\n",
       "        [ 0.51666667,  0.2173913 ,  0.        , ...,  0.53333333,\n",
       "          0.42857143,  0.53084539],\n",
       "        ...,\n",
       "        [ 0.78333333,  0.47826087,  0.66666667, ...,  0.37777778,\n",
       "          0.05714286,  0.03808073],\n",
       "        [ 0.26666667,  1.        ,  1.        , ...,  0.77777778,\n",
       "          0.62857143,  0.65955826],\n",
       "        [ 0.91666667,  0.43478261,  0.        , ...,  0.28888889,\n",
       "          0.48571429,  0.36785986]],\n",
       "\n",
       "       [[ 0.85      ,  0.47826087,  0.        , ...,  1.        ,\n",
       "          0.82857143,  0.97258187],\n",
       "        [ 0.93333333,  0.7826087 ,  0.66666667, ...,  0.77777778,\n",
       "          0.62857143,  0.65955826],\n",
       "        [ 0.33333333,  0.26086957,  0.        , ...,  0.77777778,\n",
       "          0.54285714,  0.65346535],\n",
       "        ...,\n",
       "        [ 0.8       ,  0.2173913 ,  0.33333333, ...,  0.24444444,\n",
       "          0.57142857,  0.42650419],\n",
       "        [ 0.58333333,  0.2173913 ,  0.        , ...,  0.73333333,\n",
       "          0.37142857,  0.56054836],\n",
       "        [ 0.4       ,  0.13043478,  0.33333333, ...,  0.62222222,\n",
       "          0.11428571,  0.16755522]],\n",
       "\n",
       "       [[ 0.86666667,  0.26086957,  0.33333333, ...,  0.97777778,\n",
       "          0.31428571,  0.88880427],\n",
       "        [ 0.83333333,  0.        ,  0.33333333, ...,  0.37777778,\n",
       "          0.48571429,  0.39908606],\n",
       "        [ 0.63333333,  0.69565217,  0.66666667, ...,  0.48888889,\n",
       "          0.85714286,  0.74562072],\n",
       "        ...,\n",
       "        [ 0.83333333,  0.47826087,  0.33333333, ...,  0.71111111,\n",
       "          0.08571429,  0.20258949],\n",
       "        [ 0.18333333,  0.95652174,  1.        , ...,  1.        ,\n",
       "          0.94285714,  0.99390708],\n",
       "        [ 0.06666667,  0.86956522,  0.66666667, ...,  0.51111111,\n",
       "          0.94285714,  0.80426504]],\n",
       "\n",
       "       ...,\n",
       "\n",
       "       [[ 0.65      ,  0.43478261,  1.        , ...,  0.33333333,\n",
       "          0.02857143,  0.03351104],\n",
       "        [ 0.13333333,  1.        ,  1.        , ...,  0.6       ,\n",
       "          0.22857143,  0.19116527],\n",
       "        [ 0.83333333,  0.47826087,  0.33333333, ...,  0.4       ,\n",
       "          0.02857143,  0.03731912],\n",
       "        ...,\n",
       "        [ 0.65      ,  0.17391304,  0.66666667, ...,  0.82222222,\n",
       "          0.17142857,  0.22239147],\n",
       "        [ 0.65      ,  0.43478261,  0.        , ...,  0.08888889,\n",
       "          0.4       ,  0.29474486],\n",
       "        [ 0.6       ,  0.04347826,  1.        , ...,  0.64444444,\n",
       "          0.45714286,  0.5468393 ]],\n",
       "\n",
       "       [[ 0.43333333,  1.        ,  0.33333333, ...,  0.66666667,\n",
       "          0.91428571,  0.81340442],\n",
       "        [ 0.66666667,  0.        ,  1.        , ...,  0.77777778,\n",
       "          0.54285714,  0.65346535],\n",
       "        [ 0.68333333,  0.52173913,  0.66666667, ...,  0.35555556,\n",
       "          0.65714286,  0.48667174],\n",
       "        ...,\n",
       "        [ 0.68333333,  0.65217391,  1.        , ...,  0.53333333,\n",
       "          0.2       ,  0.17821782],\n",
       "        [ 0.01666667,  0.26086957,  0.66666667, ...,  0.71111111,\n",
       "          0.6       ,  0.64813404],\n",
       "        [ 0.06666667,  0.43478261,  1.        , ...,  0.68888889,\n",
       "          0.8       ,  0.82102056]],\n",
       "\n",
       "       [[-1.        , -1.        , -1.        , ..., -1.        ,\n",
       "         -1.        , -1.        ],\n",
       "        [-1.        , -1.        , -1.        , ..., -1.        ,\n",
       "         -1.        , -1.        ],\n",
       "        [-1.        , -1.        , -1.        , ..., -1.        ,\n",
       "         -1.        , -1.        ],\n",
       "        ...,\n",
       "        [-1.        , -1.        , -1.        , ..., -1.        ,\n",
       "         -1.        , -1.        ],\n",
       "        [-1.        , -1.        , -1.        , ..., -1.        ,\n",
       "         -1.        , -1.        ],\n",
       "        [-1.        , -1.        , -1.        , ..., -1.        ,\n",
       "         -1.        , -1.        ]]])"
      ]
     },
     "execution_count": 13,
     "metadata": {},
     "output_type": "execute_result"
    }
   ],
   "source": [
    "X"
   ]
  },
  {
   "cell_type": "code",
   "execution_count": 14,
   "metadata": {},
   "outputs": [
    {
     "data": {
      "text/plain": [
       "(1048575, 1)"
      ]
     },
     "execution_count": 14,
     "metadata": {},
     "output_type": "execute_result"
    }
   ],
   "source": [
    "y.shape"
   ]
  },
  {
   "cell_type": "code",
   "execution_count": 15,
   "metadata": {},
   "outputs": [
    {
     "data": {
      "text/plain": [
       "(1048575, 20, 7)"
      ]
     },
     "execution_count": 15,
     "metadata": {},
     "output_type": "execute_result"
    }
   ],
   "source": [
    "X.shape"
   ]
  },
  {
   "cell_type": "code",
   "execution_count": 16,
   "metadata": {},
   "outputs": [
    {
     "data": {
      "text/plain": [
       "demand    1048575\n",
       "dtype: int64"
      ]
     },
     "execution_count": 16,
     "metadata": {},
     "output_type": "execute_result"
    }
   ],
   "source": [
    "y.count()"
   ]
  },
  {
   "cell_type": "markdown",
   "metadata": {},
   "source": [
    "#### Train-test-val dataset split"
   ]
  },
  {
   "cell_type": "code",
   "execution_count": 17,
   "metadata": {},
   "outputs": [],
   "source": [
    "X_train, X_test, y_train, y_test = train_test_split(X, y, test_size=0.2, random_state=42,shuffle=True)\n",
    "\n",
    "X_train, X_val, y_train, y_val = train_test_split(X_train, y_train, test_size=0.2, random_state=42,shuffle=True)"
   ]
  },
  {
   "cell_type": "code",
   "execution_count": 24,
   "metadata": {},
   "outputs": [
    {
     "data": {
      "text/plain": [
       "20"
      ]
     },
     "execution_count": 24,
     "metadata": {},
     "output_type": "execute_result"
    }
   ],
   "source": [
    "X_train.shape[1]"
   ]
  },
  {
   "cell_type": "code",
   "execution_count": 25,
   "metadata": {},
   "outputs": [
    {
     "data": {
      "text/plain": [
       "7"
      ]
     },
     "execution_count": 25,
     "metadata": {},
     "output_type": "execute_result"
    }
   ],
   "source": [
    "X_train.shape[2]"
   ]
  },
  {
   "cell_type": "code",
   "execution_count": 32,
   "metadata": {
    "scrolled": true
   },
   "outputs": [],
   "source": [
    "X_train1 = np.asarray(X_train)\n",
    "y_train1 = np.asarray(y_train)\n",
    "X_test1  = np.asarray(X_test)\n",
    "y_test1  = np.asarray(y_test)"
   ]
  },
  {
   "cell_type": "markdown",
   "metadata": {},
   "source": [
    "<h2><center>Create Model and test</center><h2>"
   ]
  },
  {
   "cell_type": "markdown",
   "metadata": {},
   "source": [
    "<h3>LSTM<h3>"
   ]
  },
  {
   "cell_type": "code",
   "execution_count": 22,
   "metadata": {
    "scrolled": true
   },
   "outputs": [
    {
     "name": "stdout",
     "output_type": "stream",
     "text": [
      "Model: \"sequential\"\n",
      "_________________________________________________________________\n",
      "Layer (type)                 Output Shape              Param #   \n",
      "=================================================================\n",
      "lstm (LSTM)                  (None, 20, 32)            5120      \n",
      "_________________________________________________________________\n",
      "batch_normalization (BatchNo (None, 20, 32)            128       \n",
      "_________________________________________________________________\n",
      "lstm_1 (LSTM)                (None, 20, 32)            8320      \n",
      "_________________________________________________________________\n",
      "batch_normalization_1 (Batch (None, 20, 32)            128       \n",
      "_________________________________________________________________\n",
      "lstm_2 (LSTM)                (None, 32)                8320      \n",
      "_________________________________________________________________\n",
      "batch_normalization_2 (Batch (None, 32)                128       \n",
      "_________________________________________________________________\n",
      "dense (Dense)                (None, 1)                 33        \n",
      "=================================================================\n",
      "Total params: 22,177\n",
      "Trainable params: 21,985\n",
      "Non-trainable params: 192\n",
      "_________________________________________________________________\n",
      "None\n"
     ]
    }
   ],
   "source": [
    "model = Sequential()\n",
    "model.add(LSTM(units=32, return_sequences=True, input_shape=(X_train1.shape[1],X_train1.shape[2])))\n",
    "model.add(BatchNormalization())\n",
    "model.add(LSTM(units=32, return_sequences=True))\n",
    "model.add(BatchNormalization())\n",
    "model.add(LSTM(units=32))\n",
    "model.add(BatchNormalization())\n",
    "model.add(Dense(units=1))\n",
    "\n",
    "print(model.summary())"
   ]
  },
  {
   "cell_type": "code",
   "execution_count": 33,
   "metadata": {},
   "outputs": [
    {
     "name": "stdout",
     "output_type": "stream",
     "text": [
      "Train on 671088 samples\n",
      "Epoch 1/5\n",
      "671088/671088 - 668s - loss: 0.0260 - mse: 0.0260 - mae: 0.0987\n",
      "Epoch 2/5\n",
      "671088/671088 - 655s - loss: 0.0251 - mse: 0.0251 - mae: 0.0969\n",
      "Epoch 3/5\n",
      "671088/671088 - 654s - loss: 0.0251 - mse: 0.0251 - mae: 0.0969\n",
      "Epoch 4/5\n",
      "671088/671088 - 654s - loss: 0.0251 - mse: 0.0251 - mae: 0.0969\n",
      "Epoch 5/5\n",
      "671088/671088 - 653s - loss: 0.0251 - mse: 0.0251 - mae: 0.0968\n",
      "0.025327611485106736\n"
     ]
    }
   ],
   "source": [
    "model.compile(optimizer='adam', loss='mse', metrics=['mse', 'mae'])\n",
    "\n",
    "model.fit(X_train1, y_train1, epochs=5, batch_size=10, verbose=2)\n",
    "\n",
    "model.save('lstm1_model.h5')\n",
    "\n",
    "predicted_value = model.predict(X_test1)\n",
    "\n",
    "print(mean_squared_error(y_test1,predicted_value))"
   ]
  },
  {
   "cell_type": "code",
   "execution_count": 34,
   "metadata": {},
   "outputs": [
    {
     "name": "stdout",
     "output_type": "stream",
     "text": [
      "0.025327611485106736\n"
     ]
    }
   ],
   "source": [
    "print(mean_squared_error(y_test1,predicted_value))"
   ]
  },
  {
   "cell_type": "code",
   "execution_count": null,
   "metadata": {},
   "outputs": [],
   "source": []
  }
 ],
 "metadata": {
  "kernelspec": {
   "display_name": "Python 3",
   "language": "python",
   "name": "python3"
  },
  "language_info": {
   "codemirror_mode": {
    "name": "ipython",
    "version": 3
   },
   "file_extension": ".py",
   "mimetype": "text/x-python",
   "name": "python",
   "nbconvert_exporter": "python",
   "pygments_lexer": "ipython3",
   "version": "3.7.6"
  }
 },
 "nbformat": 4,
 "nbformat_minor": 4
}
