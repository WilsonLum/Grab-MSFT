{
 "cells": [
  {
   "cell_type": "markdown",
   "metadata": {},
   "source": [
    "# Grab-Microsoft Challenge \n",
    "## Traffic Management\n",
    "\n",
    "- geohash6: geohash is a public domain geocoding system which encodes a geographic location into a short string of letters and digits with arbitrary precision. You are free to use any geohash library to encode/decode the geohashes into latitude and longitude or vice versa.(Examples:https://github.com/hkwi/python-geohash)\n",
    "- day: the value indicates the sequential order and not a particular day of the month\n",
    "- timestamp: start time of 15-minute intervals in the following format: <hour>:<minute>, where hour ranges from 0 to 23 and minute is either one of (0, 15, 30, 45)\n",
    "- demand: aggregated demand normalised to be in the range [0,1]\n",
    "    \n",
    "## Problem Statements:\n",
    "- Which areas have high / low traffic demand?\n",
    "- How does regional traffic demand change according to day / time?\n",
    "- Forecast the travel demand for next 15min / 1hour and predict areas with high travel demand"
   ]
  },
  {
   "cell_type": "markdown",
   "metadata": {},
   "source": [
    "### This is for model training and testing"
   ]
  },
  {
   "cell_type": "markdown",
   "metadata": {},
   "source": [
    "#### Import python library"
   ]
  },
  {
   "cell_type": "code",
   "execution_count": 1,
   "metadata": {},
   "outputs": [],
   "source": [
    "import numpy as np\n",
    "from numpy import array\n",
    "import pandas as pd\n",
    "import matplotlib.pyplot as plt\n",
    "\n",
    "# plot matplotlib graph\n",
    "%matplotlib inline\n",
    "\n",
    "#Import models from scikit learn module:\n",
    "from sklearn.metrics import mean_squared_error\n",
    "from tensorflow.keras.models import load_model\n",
    "from sklearn.model_selection import train_test_split\n",
    "\n",
    "import h5py\n",
    "import sklearn.metrics as metrics\n",
    "from tensorflow.keras.callbacks import ModelCheckpoint,CSVLogger\n",
    "\n",
    "import pickle\n",
    "import joblib\n",
    "import os\n",
    "\n",
    "from ModelDefinitions import createModel"
   ]
  },
  {
   "cell_type": "code",
   "execution_count": 2,
   "metadata": {},
   "outputs": [],
   "source": [
    "os.environ[\"CUDA_VISIBLE_DEVICES\"]=\"0\""
   ]
  },
  {
   "cell_type": "code",
   "execution_count": 3,
   "metadata": {},
   "outputs": [],
   "source": [
    "    #***********************************\n",
    "    # Index 00-10 is for LSTM Model\n",
    "    # Index 11-20 is for Bi-LSTM Model\n",
    "    # Index 21-30 is for CNN Model\n",
    "    # Index 31-40 is for CNN-LSTM Model\n",
    "    #***********************************\n",
    "\n",
    "# choose a number of time steps\n",
    "n_steps_in, predict_next_no_of_output = 6, 2\n",
    "\n",
    "# ------ CHANGE THESE ------\n",
    "index = 21\n",
    "seed  = 7\n",
    "np.random.seed(seed)\n",
    "basemodelname = 'CNN1-' + str(n_steps_in) + 'in' + str(predict_next_no_of_output) + 'out'\n",
    "batch_size    = 4096\n",
    "no_of_epoch   = 30\n",
    "no_of_train   = 0.8\n",
    "# --------------------------\n",
    "\n",
    "modelname = 'model/' + basemodelname + \"_\" + str(index)\n",
    "filepath  = modelname + \".hdf5\""
   ]
  },
  {
   "cell_type": "markdown",
   "metadata": {},
   "source": [
    "## Define Functions"
   ]
  },
  {
   "cell_type": "code",
   "execution_count": 4,
   "metadata": {},
   "outputs": [],
   "source": [
    "# split a multivariate sequence into samples\n",
    "def split_sequences(sequences, n_steps_in, n_steps_out):\n",
    "    X, y = list(), list()\n",
    "    for i in range(len(sequences)):\n",
    "        # find the end of this pattern\n",
    "        end_ix = i + n_steps_in\n",
    "        out_end_ix = end_ix + n_steps_out-1\n",
    "        # check if we are beyond the dataset\n",
    "        if out_end_ix > len(sequences):\n",
    "            break\n",
    "        # gather input and output parts of the pattern\n",
    "        seq_x, seq_y = sequences[i:end_ix, :-1], sequences[end_ix-1:out_end_ix, -1]\n",
    "        X.append(seq_x)\n",
    "        y.append(seq_y)\n",
    "    return array(X), array(y)\n"
   ]
  },
  {
   "cell_type": "markdown",
   "metadata": {},
   "source": [
    "## Read in Dataset"
   ]
  },
  {
   "cell_type": "code",
   "execution_count": 5,
   "metadata": {},
   "outputs": [
    {
     "data": {
      "text/html": [
       "<div>\n",
       "<style scoped>\n",
       "    .dataframe tbody tr th:only-of-type {\n",
       "        vertical-align: middle;\n",
       "    }\n",
       "\n",
       "    .dataframe tbody tr th {\n",
       "        vertical-align: top;\n",
       "    }\n",
       "\n",
       "    .dataframe thead th {\n",
       "        text-align: right;\n",
       "    }\n",
       "</style>\n",
       "<table border=\"1\" class=\"dataframe\">\n",
       "  <thead>\n",
       "    <tr style=\"text-align: right;\">\n",
       "      <th></th>\n",
       "      <th>day</th>\n",
       "      <th>hour</th>\n",
       "      <th>min</th>\n",
       "      <th>dow</th>\n",
       "      <th>lat</th>\n",
       "      <th>long</th>\n",
       "      <th>demand</th>\n",
       "    </tr>\n",
       "  </thead>\n",
       "  <tbody>\n",
       "    <tr>\n",
       "      <th>0</th>\n",
       "      <td>0.016667</td>\n",
       "      <td>0.173913</td>\n",
       "      <td>0.666667</td>\n",
       "      <td>0.285714</td>\n",
       "      <td>0.0</td>\n",
       "      <td>0.171429</td>\n",
       "      <td>0.011041</td>\n",
       "    </tr>\n",
       "    <tr>\n",
       "      <th>1</th>\n",
       "      <td>0.016667</td>\n",
       "      <td>0.956522</td>\n",
       "      <td>1.000000</td>\n",
       "      <td>0.285714</td>\n",
       "      <td>0.0</td>\n",
       "      <td>0.171429</td>\n",
       "      <td>0.031419</td>\n",
       "    </tr>\n",
       "    <tr>\n",
       "      <th>2</th>\n",
       "      <td>0.050000</td>\n",
       "      <td>0.173913</td>\n",
       "      <td>0.666667</td>\n",
       "      <td>0.571429</td>\n",
       "      <td>0.0</td>\n",
       "      <td>0.171429</td>\n",
       "      <td>0.057966</td>\n",
       "    </tr>\n",
       "    <tr>\n",
       "      <th>3</th>\n",
       "      <td>0.050000</td>\n",
       "      <td>0.260870</td>\n",
       "      <td>0.000000</td>\n",
       "      <td>0.571429</td>\n",
       "      <td>0.0</td>\n",
       "      <td>0.171429</td>\n",
       "      <td>0.044834</td>\n",
       "    </tr>\n",
       "    <tr>\n",
       "      <th>4</th>\n",
       "      <td>0.050000</td>\n",
       "      <td>0.260870</td>\n",
       "      <td>0.666667</td>\n",
       "      <td>0.571429</td>\n",
       "      <td>0.0</td>\n",
       "      <td>0.171429</td>\n",
       "      <td>0.007841</td>\n",
       "    </tr>\n",
       "    <tr>\n",
       "      <th>...</th>\n",
       "      <td>...</td>\n",
       "      <td>...</td>\n",
       "      <td>...</td>\n",
       "      <td>...</td>\n",
       "      <td>...</td>\n",
       "      <td>...</td>\n",
       "      <td>...</td>\n",
       "    </tr>\n",
       "    <tr>\n",
       "      <th>1048570</th>\n",
       "      <td>0.683333</td>\n",
       "      <td>0.347826</td>\n",
       "      <td>0.000000</td>\n",
       "      <td>0.285714</td>\n",
       "      <td>1.0</td>\n",
       "      <td>1.000000</td>\n",
       "      <td>0.004793</td>\n",
       "    </tr>\n",
       "    <tr>\n",
       "      <th>1048571</th>\n",
       "      <td>0.916667</td>\n",
       "      <td>0.434783</td>\n",
       "      <td>0.333333</td>\n",
       "      <td>0.000000</td>\n",
       "      <td>1.0</td>\n",
       "      <td>1.000000</td>\n",
       "      <td>0.016509</td>\n",
       "    </tr>\n",
       "    <tr>\n",
       "      <th>1048572</th>\n",
       "      <td>0.933333</td>\n",
       "      <td>0.434783</td>\n",
       "      <td>0.000000</td>\n",
       "      <td>0.142857</td>\n",
       "      <td>1.0</td>\n",
       "      <td>1.000000</td>\n",
       "      <td>0.015804</td>\n",
       "    </tr>\n",
       "    <tr>\n",
       "      <th>1048573</th>\n",
       "      <td>0.966667</td>\n",
       "      <td>0.391304</td>\n",
       "      <td>0.666667</td>\n",
       "      <td>0.428571</td>\n",
       "      <td>1.0</td>\n",
       "      <td>1.000000</td>\n",
       "      <td>0.012543</td>\n",
       "    </tr>\n",
       "    <tr>\n",
       "      <th>1048574</th>\n",
       "      <td>0.983333</td>\n",
       "      <td>0.478261</td>\n",
       "      <td>0.333333</td>\n",
       "      <td>0.571429</td>\n",
       "      <td>1.0</td>\n",
       "      <td>1.000000</td>\n",
       "      <td>0.029285</td>\n",
       "    </tr>\n",
       "  </tbody>\n",
       "</table>\n",
       "<p>1048575 rows × 7 columns</p>\n",
       "</div>"
      ],
      "text/plain": [
       "              day      hour       min       dow  lat      long    demand\n",
       "0        0.016667  0.173913  0.666667  0.285714  0.0  0.171429  0.011041\n",
       "1        0.016667  0.956522  1.000000  0.285714  0.0  0.171429  0.031419\n",
       "2        0.050000  0.173913  0.666667  0.571429  0.0  0.171429  0.057966\n",
       "3        0.050000  0.260870  0.000000  0.571429  0.0  0.171429  0.044834\n",
       "4        0.050000  0.260870  0.666667  0.571429  0.0  0.171429  0.007841\n",
       "...           ...       ...       ...       ...  ...       ...       ...\n",
       "1048570  0.683333  0.347826  0.000000  0.285714  1.0  1.000000  0.004793\n",
       "1048571  0.916667  0.434783  0.333333  0.000000  1.0  1.000000  0.016509\n",
       "1048572  0.933333  0.434783  0.000000  0.142857  1.0  1.000000  0.015804\n",
       "1048573  0.966667  0.391304  0.666667  0.428571  1.0  1.000000  0.012543\n",
       "1048574  0.983333  0.478261  0.333333  0.571429  1.0  1.000000  0.029285\n",
       "\n",
       "[1048575 rows x 7 columns]"
      ]
     },
     "execution_count": 5,
     "metadata": {},
     "output_type": "execute_result"
    }
   ],
   "source": [
    "xls  = pd.ExcelFile('data/Dataset_Sorted_feature.xlsx')\n",
    "data = pd.read_excel(xls, 'TrafficMgmt')\n",
    "data"
   ]
  },
  {
   "cell_type": "code",
   "execution_count": 6,
   "metadata": {},
   "outputs": [],
   "source": [
    "predictor_var = ['day','hour','min','dow','lat','long']\n",
    "outcome_var   = 'demand'\n",
    "no_of_features = len(predictor_var)"
   ]
  },
  {
   "cell_type": "markdown",
   "metadata": {},
   "source": [
    "#### Prepare training & test data"
   ]
  },
  {
   "cell_type": "code",
   "execution_count": 7,
   "metadata": {},
   "outputs": [],
   "source": [
    "# convert into input/output\n",
    "dataset = data.to_numpy()\n",
    "X, y = split_sequences(dataset, n_steps_in, predict_next_no_of_output)\n",
    "    \n",
    "# Train-test-val dataset split\n",
    "X_train1 = X[:int(no_of_train*len(X))]\n",
    "y_train1 = y[:int(no_of_train*len(X))]\n",
    "X_test  = X[int(no_of_train*len(X)):]\n",
    "y_test  = y[int(no_of_train*len(X)):]\n",
    "\n",
    "X_train = X_train1[:int(no_of_train*len(X_train1))]\n",
    "y_train = y_train1[:int(no_of_train*len(X_train1))]\n",
    "X_val   = X_train1[int(no_of_train*len(X_train1)):]\n",
    "y_val   = y_train1[int(no_of_train*len(X_train1)):]\n"
   ]
  },
  {
   "cell_type": "code",
   "execution_count": 8,
   "metadata": {},
   "outputs": [
    {
     "name": "stdout",
     "output_type": "stream",
     "text": [
      "(671084, 6, 6) (671084, 2) (209714, 6, 6) (209714, 2) (167771, 6, 6) (167771, 2)\n"
     ]
    }
   ],
   "source": [
    "print(X_train.shape, y_train.shape,X_test.shape, y_test.shape,X_val.shape, y_val.shape)"
   ]
  },
  {
   "cell_type": "markdown",
   "metadata": {},
   "source": [
    "### Main Program"
   ]
  },
  {
   "cell_type": "code",
   "execution_count": 9,
   "metadata": {
    "scrolled": false
   },
   "outputs": [
    {
     "name": "stdout",
     "output_type": "stream",
     "text": [
      "Model: \"model\"\n",
      "_________________________________________________________________\n",
      "Layer (type)                 Output Shape              Param #   \n",
      "=================================================================\n",
      "input_1 (InputLayer)         [(None, 6, 6)]            0         \n",
      "_________________________________________________________________\n",
      "conv1d (Conv1D)              (None, 6, 512)            9728      \n",
      "_________________________________________________________________\n",
      "activation (Activation)      (None, 6, 512)            0         \n",
      "_________________________________________________________________\n",
      "max_pooling1d (MaxPooling1D) (None, 6, 512)            0         \n",
      "_________________________________________________________________\n",
      "dropout (Dropout)            (None, 6, 512)            0         \n",
      "_________________________________________________________________\n",
      "batch_normalization (BatchNo (None, 6, 512)            2048      \n",
      "_________________________________________________________________\n",
      "conv1d_1 (Conv1D)            (None, 6, 1024)           1573888   \n",
      "_________________________________________________________________\n",
      "activation_1 (Activation)    (None, 6, 1024)           0         \n",
      "_________________________________________________________________\n",
      "max_pooling1d_1 (MaxPooling1 (None, 6, 1024)           0         \n",
      "_________________________________________________________________\n",
      "batch_normalization_1 (Batch (None, 6, 1024)           4096      \n",
      "_________________________________________________________________\n",
      "conv1d_2 (Conv1D)            (None, 6, 1024)           3146752   \n",
      "_________________________________________________________________\n",
      "activation_2 (Activation)    (None, 6, 1024)           0         \n",
      "_________________________________________________________________\n",
      "max_pooling1d_2 (MaxPooling1 (None, 6, 1024)           0         \n",
      "_________________________________________________________________\n",
      "batch_normalization_2 (Batch (None, 6, 1024)           4096      \n",
      "_________________________________________________________________\n",
      "flatten (Flatten)            (None, 6144)              0         \n",
      "_________________________________________________________________\n",
      "dense (Dense)                (None, 512)               3146240   \n",
      "_________________________________________________________________\n",
      "dropout_1 (Dropout)          (None, 512)               0         \n",
      "_________________________________________________________________\n",
      "batch_normalization_3 (Batch (None, 512)               2048      \n",
      "_________________________________________________________________\n",
      "dense_1 (Dense)              (None, 256)               131328    \n",
      "_________________________________________________________________\n",
      "dropout_2 (Dropout)          (None, 256)               0         \n",
      "_________________________________________________________________\n",
      "batch_normalization_4 (Batch (None, 256)               1024      \n",
      "_________________________________________________________________\n",
      "dense_2 (Dense)              (None, 128)               32896     \n",
      "_________________________________________________________________\n",
      "dropout_3 (Dropout)          (None, 128)               0         \n",
      "_________________________________________________________________\n",
      "batch_normalization_5 (Batch (None, 128)               512       \n",
      "_________________________________________________________________\n",
      "dense_3 (Dense)              (None, 2)                 258       \n",
      "=================================================================\n",
      "Total params: 8,054,914\n",
      "Trainable params: 8,048,002\n",
      "Non-trainable params: 6,912\n",
      "_________________________________________________________________\n",
      "Train on 671084 samples, validate on 167771 samples\n",
      "Epoch 1/30\n",
      "671084/671084 [==============================] - 57s 85us/sample - loss: 0.4715 - mse: 0.0736 - mae: 0.2012 - val_loss: 0.0798 - val_mse: 0.0382 - val_mae: 0.1207\n",
      "Epoch 2/30\n",
      "671084/671084 [==============================] - 47s 70us/sample - loss: 0.0834 - mse: 0.0298 - mae: 0.1118 - val_loss: 0.0771 - val_mse: 0.0393 - val_mae: 0.1052\n",
      "Epoch 3/30\n",
      "671084/671084 [==============================] - 47s 70us/sample - loss: 0.0841 - mse: 0.0304 - mae: 0.1070 - val_loss: 0.1894 - val_mse: 0.0975 - val_mae: 0.2306\n",
      "Epoch 4/30\n",
      "671084/671084 [==============================] - 48s 71us/sample - loss: 0.0595 - mse: 0.0282 - mae: 0.1006 - val_loss: 0.0595 - val_mse: 0.0384 - val_mae: 0.1133\n",
      "Epoch 5/30\n",
      "671084/671084 [==============================] - 48s 71us/sample - loss: 0.0392 - mse: 0.0269 - mae: 0.0983 - val_loss: 0.0509 - val_mse: 0.0388 - val_mae: 0.1095\n",
      "Epoch 6/30\n",
      "671084/671084 [==============================] - 48s 71us/sample - loss: 0.0368 - mse: 0.0261 - mae: 0.0994 - val_loss: 0.0504 - val_mse: 0.0385 - val_mae: 0.1212\n",
      "Epoch 7/30\n",
      "671084/671084 [==============================] - 47s 71us/sample - loss: 0.0465 - mse: 0.0265 - mae: 0.0991 - val_loss: 0.0446 - val_mse: 0.0387 - val_mae: 0.1084\n",
      "Epoch 8/30\n",
      "671084/671084 [==============================] - 47s 71us/sample - loss: 0.0408 - mse: 0.0259 - mae: 0.0978 - val_loss: 0.0464 - val_mse: 0.0388 - val_mae: 0.1117\n",
      "Epoch 9/30\n",
      "671084/671084 [==============================] - 47s 71us/sample - loss: 0.0416 - mse: 0.0254 - mae: 0.0977 - val_loss: 0.0652 - val_mse: 0.0469 - val_mae: 0.1111\n",
      "Epoch 10/30\n",
      "671084/671084 [==============================] - 47s 70us/sample - loss: 0.0356 - mse: 0.0257 - mae: 0.0970 - val_loss: 0.0465 - val_mse: 0.0402 - val_mae: 0.1121\n",
      "Epoch 11/30\n",
      "671084/671084 [==============================] - 47s 70us/sample - loss: 0.0498 - mse: 0.0265 - mae: 0.0984 - val_loss: 0.0507 - val_mse: 0.0385 - val_mae: 0.1069\n",
      "Epoch 12/30\n",
      "671084/671084 [==============================] - 47s 70us/sample - loss: 0.0409 - mse: 0.0260 - mae: 0.0978 - val_loss: 0.0477 - val_mse: 0.0385 - val_mae: 0.1109\n",
      "Epoch 13/30\n",
      "671084/671084 [==============================] - 47s 71us/sample - loss: 0.0446 - mse: 0.0257 - mae: 0.0981 - val_loss: 0.0787 - val_mse: 0.0486 - val_mae: 0.1155\n",
      "Epoch 14/30\n",
      "671084/671084 [==============================] - 47s 70us/sample - loss: 0.0394 - mse: 0.0260 - mae: 0.0992 - val_loss: 0.0466 - val_mse: 0.0392 - val_mae: 0.1078\n",
      "Epoch 15/30\n",
      "671084/671084 [==============================] - 47s 71us/sample - loss: 0.0406 - mse: 0.0258 - mae: 0.0977 - val_loss: 0.0584 - val_mse: 0.0381 - val_mae: 0.1205\n",
      "Epoch 16/30\n",
      "671084/671084 [==============================] - 47s 70us/sample - loss: 0.0421 - mse: 0.0256 - mae: 0.0978 - val_loss: 0.0572 - val_mse: 0.0387 - val_mae: 0.1223\n",
      "Epoch 17/30\n",
      "671084/671084 [==============================] - 47s 70us/sample - loss: 0.0386 - mse: 0.0256 - mae: 0.0979 - val_loss: 0.0508 - val_mse: 0.0382 - val_mae: 0.1181\n",
      "Epoch 18/30\n",
      "671084/671084 [==============================] - 47s 70us/sample - loss: 0.0463 - mse: 0.0255 - mae: 0.0982 - val_loss: 0.0517 - val_mse: 0.0384 - val_mae: 0.1144\n",
      "Epoch 19/30\n",
      "671084/671084 [==============================] - 47s 70us/sample - loss: 0.0382 - mse: 0.0259 - mae: 0.0978 - val_loss: 0.0474 - val_mse: 0.0385 - val_mae: 0.1128\n",
      "Epoch 20/30\n",
      "671084/671084 [==============================] - 47s 70us/sample - loss: 0.0389 - mse: 0.0259 - mae: 0.0967 - val_loss: 0.0548 - val_mse: 0.0400 - val_mae: 0.1079\n",
      "Epoch 21/30\n",
      "671084/671084 [==============================] - 47s 70us/sample - loss: 0.0365 - mse: 0.0258 - mae: 0.0992 - val_loss: 0.0446 - val_mse: 0.0382 - val_mae: 0.1153\n",
      "Epoch 22/30\n",
      "671084/671084 [==============================] - 47s 70us/sample - loss: 0.0365 - mse: 0.0259 - mae: 0.0988 - val_loss: 0.0500 - val_mse: 0.0390 - val_mae: 0.1138\n",
      "Epoch 23/30\n",
      "671084/671084 [==============================] - 47s 70us/sample - loss: 0.0362 - mse: 0.0260 - mae: 0.0996 - val_loss: 0.0480 - val_mse: 0.0387 - val_mae: 0.1185\n",
      "Epoch 24/30\n",
      "671084/671084 [==============================] - 47s 70us/sample - loss: 0.0316 - mse: 0.0257 - mae: 0.0959 - val_loss: 0.0404 - val_mse: 0.0389 - val_mae: 0.1314\n",
      "Epoch 25/30\n",
      "671084/671084 [==============================] - 47s 70us/sample - loss: 0.0274 - mse: 0.0261 - mae: 0.0985 - val_loss: 0.0396 - val_mse: 0.0389 - val_mae: 0.1324\n",
      "Epoch 26/30\n",
      "671084/671084 [==============================] - 47s 70us/sample - loss: 0.0271 - mse: 0.0262 - mae: 0.0994 - val_loss: 0.0396 - val_mse: 0.0391 - val_mae: 0.1336\n"
     ]
    },
    {
     "name": "stdout",
     "output_type": "stream",
     "text": [
      "Epoch 27/30\n",
      "671084/671084 [==============================] - 47s 70us/sample - loss: 0.0269 - mse: 0.0263 - mae: 0.0998 - val_loss: 0.0395 - val_mse: 0.0390 - val_mae: 0.1295\n",
      "Epoch 28/30\n",
      "671084/671084 [==============================] - 47s 70us/sample - loss: 0.0269 - mse: 0.0262 - mae: 0.0993 - val_loss: 0.0390 - val_mse: 0.0385 - val_mae: 0.1221\n",
      "Epoch 29/30\n",
      "671084/671084 [==============================] - 47s 70us/sample - loss: 0.0269 - mse: 0.0263 - mae: 0.0996 - val_loss: 0.0389 - val_mse: 0.0385 - val_mae: 0.1170\n",
      "Epoch 30/30\n",
      "671084/671084 [==============================] - 47s 70us/sample - loss: 0.0275 - mse: 0.0263 - mae: 0.0996 - val_loss: 0.0392 - val_mse: 0.0384 - val_mae: 0.1212\n"
     ]
    }
   ],
   "source": [
    "def main():\n",
    "    \n",
    "    #***********************************\n",
    "    # Index 00-10 is for LSTM Model\n",
    "    # Index 11-20 is for Bi-LSTM Model\n",
    "    # Index 21-30 is for CNN Model\n",
    "    # Index 31-40 is for CNN-LSTM Model\n",
    "    #***********************************\n",
    "\n",
    "    # Create model and summary\n",
    "    model = createModel(X_train, predict_next_no_of_output, index) #\n",
    "    model.summary()\n",
    "    \n",
    "    # Create checkpoint for the training\n",
    "    # This checkpoint performs model saving when\n",
    "    # an epoch gives highest testing accuracy  \n",
    "    checkpoint     = ModelCheckpoint(filepath, monitor='val_loss',verbose=0,save_best_only=True,mode='min') \n",
    "    \n",
    "    # Log the epoch detail into csv\n",
    "    csv_logger     = CSVLogger(modelname + '.csv')\n",
    "    callbacks_list = [checkpoint,csv_logger]\n",
    "\n",
    "    # steps_per_epoch = total training data across all classes / batch size\n",
    "    # validation_steps = number of batches in validation dataset defining 1 epoch\n",
    "    # The line for training\n",
    "    history = model.fit(X_train, \n",
    "                        y_train, \n",
    "                        validation_data=(X_val, y_val), \n",
    "                        epochs=no_of_epoch, \n",
    "                        batch_size=batch_size,\n",
    "                        shuffle=False,\n",
    "                        callbacks=callbacks_list) \n",
    "\n",
    "main()"
   ]
  },
  {
   "cell_type": "markdown",
   "metadata": {},
   "source": [
    "### Load saved trained model and scalar"
   ]
  },
  {
   "cell_type": "code",
   "execution_count": 10,
   "metadata": {},
   "outputs": [],
   "source": [
    "# Load your own trained model & scaler\n",
    "model           = load_model(filepath, compile = False)\n",
    "scaler_filename = \"grab_msft_scaler.save\"\n",
    "scaler          = joblib.load(scaler_filename) "
   ]
  },
  {
   "cell_type": "markdown",
   "metadata": {},
   "source": [
    "### Test dataset test result"
   ]
  },
  {
   "cell_type": "code",
   "execution_count": 11,
   "metadata": {},
   "outputs": [
    {
     "name": "stdout",
     "output_type": "stream",
     "text": [
      "0.16111726899131712\n"
     ]
    }
   ],
   "source": [
    "predicted_value = model.predict(X_train)\n",
    "print(np.sqrt(mean_squared_error(y_train,predicted_value)))"
   ]
  },
  {
   "cell_type": "code",
   "execution_count": 12,
   "metadata": {
    "scrolled": true
   },
   "outputs": [
    {
     "name": "stdout",
     "output_type": "stream",
     "text": [
      "0.19617357231815713\n"
     ]
    }
   ],
   "source": [
    "predicted_value = model.predict(X_val)\n",
    "print(np.sqrt(mean_squared_error(y_val,predicted_value)))"
   ]
  },
  {
   "cell_type": "code",
   "execution_count": 13,
   "metadata": {
    "scrolled": false
   },
   "outputs": [
    {
     "name": "stdout",
     "output_type": "stream",
     "text": [
      "0.11270128145052395\n"
     ]
    }
   ],
   "source": [
    "predicted_value = model.predict(X_test)\n",
    "print(np.sqrt(mean_squared_error(y_test,predicted_value)))"
   ]
  },
  {
   "cell_type": "code",
   "execution_count": 14,
   "metadata": {
    "scrolled": false
   },
   "outputs": [
    {
     "data": {
      "image/png": "[encoded data removed]",
      "text/plain": [
       "<Figure size 1080x720 with 1 Axes>"
      ]
     },
     "metadata": {
      "needs_background": "light"
     },
     "output_type": "display_data"
    }
   ],
   "source": [
    "records     = pd.read_csv(modelname +'.csv')\n",
    "plt.figure(figsize=(15,10))\n",
    "\n",
    "plt.xticks(records['epoch'])\n",
    "\n",
    "plt.plot(records['mse'],label=\"mse\")\n",
    "plt.plot(records['val_mse'],label=\"val_mse\")\n",
    "plt.title('MSE-MAE',fontsize=12)\n",
    "plt.legend(loc=\"upper left\",fontsize=15)\n",
    "\n",
    "plt.show()"
   ]
  },
  {
   "cell_type": "markdown",
   "metadata": {},
   "source": [
    "### Sample Testing "
   ]
  },
  {
   "cell_type": "code",
   "execution_count": 15,
   "metadata": {},
   "outputs": [],
   "source": [
    "xls  = pd.ExcelFile('data/test_sorted_sample8000.xlsx')\n",
    "test_sample = pd.read_excel(xls, 'TrafficMgmt')\n",
    "\n",
    "# Apply Standardscalar to sample test data\n",
    "test_sample[predictor_var] = scaler.fit_transform(test_sample[predictor_var])"
   ]
  },
  {
   "cell_type": "code",
   "execution_count": 16,
   "metadata": {},
   "outputs": [
    {
     "name": "stdout",
     "output_type": "stream",
     "text": [
      "(17, 6, 6) (17, 2)\n"
     ]
    }
   ],
   "source": [
    "# covert into input/output\n",
    "test_sample_array = test_sample.to_numpy()\n",
    "X_sample, y_sample = split_sequences(test_sample_array, n_steps_in, predict_next_no_of_output)\n",
    "print(X_sample.shape, y_sample.shape)"
   ]
  },
  {
   "cell_type": "code",
   "execution_count": 17,
   "metadata": {},
   "outputs": [
    {
     "name": "stdout",
     "output_type": "stream",
     "text": [
      "Predicted value : [[0.11828714 0.11807956]\n",
      " [0.11141762 0.11145142]\n",
      " [0.09881282 0.09924057]\n",
      " [0.08635321 0.08712345]\n",
      " [0.0787876  0.07973947]\n",
      " [0.07617557 0.077185  ]\n",
      " [0.07536212 0.07638896]\n",
      " [0.07508256 0.07611536]\n",
      " [0.07470307 0.07574398]\n",
      " [0.07600863 0.07702183]\n",
      " [0.07805049 0.07901894]\n",
      " [0.07887968 0.07982937]\n",
      " [0.07969207 0.08062322]\n",
      " [0.0942948  0.09485243]\n",
      " [0.1026419  0.10295467]\n",
      " [0.08998928 0.09066482]\n",
      " [0.08159749 0.08248443]] \n",
      " Actual Value    : [[0.09100098 0.01880612]\n",
      " [0.01880612 0.06147939]\n",
      " [0.06147939 0.12464705]\n",
      " [0.12464705 0.11530752]\n",
      " [0.11530752 0.06390945]\n",
      " [0.06390945 0.10923062]\n",
      " [0.10923062 0.02475105]\n",
      " [0.02475105 0.02004892]\n",
      " [0.02004892 0.00837382]\n",
      " [0.00837382 0.01617125]\n",
      " [0.01617125 0.02812034]\n",
      " [0.02812034 0.01977132]\n",
      " [0.01977132 0.0717735 ]\n",
      " [0.0717735  0.11524079]\n",
      " [0.11524079 0.01569192]\n",
      " [0.01569192 0.1113431 ]\n",
      " [0.1113431  0.07803006]]\n"
     ]
    }
   ],
   "source": [
    "predicted_value = model.predict(X_sample)\n",
    "print('Predicted value : {} \\n Actual Value    : {}' .format(predicted_value,y_sample))"
   ]
  },
  {
   "cell_type": "code",
   "execution_count": 18,
   "metadata": {},
   "outputs": [
    {
     "name": "stdout",
     "output_type": "stream",
     "text": [
      "0.050249269921422986\n"
     ]
    }
   ],
   "source": [
    "print(np.sqrt(mean_squared_error(y_sample,predicted_value)))"
   ]
  }
 ],
 "metadata": {
  "kernelspec": {
   "display_name": "Python 3",
   "language": "python",
   "name": "python3"
  },
  "language_info": {
   "codemirror_mode": {
    "name": "ipython",
    "version": 3
   },
   "file_extension": ".py",
   "mimetype": "text/x-python",
   "name": "python",
   "nbconvert_exporter": "python",
   "pygments_lexer": "ipython3",
   "version": "3.6.10"
  }
 },
 "nbformat": 4,
 "nbformat_minor": 4
}
