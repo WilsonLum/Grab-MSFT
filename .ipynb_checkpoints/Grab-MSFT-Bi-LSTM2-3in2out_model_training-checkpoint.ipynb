{
 "cells": [
  {
   "cell_type": "markdown",
   "metadata": {},
   "source": [
    "# Grab-Microsoft Challenge \n",
    "## Traffic Management\n",
    "\n",
    "- geohash6: geohash is a public domain geocoding system which encodes a geographic location into a short string of letters and digits with arbitrary precision. You are free to use any geohash library to encode/decode the geohashes into latitude and longitude or vice versa.(Examples:https://github.com/hkwi/python-geohash)\n",
    "- day: the value indicates the sequential order and not a particular day of the month\n",
    "- timestamp: start time of 15-minute intervals in the following format: <hour>:<minute>, where hour ranges from 0 to 23 and minute is either one of (0, 15, 30, 45)\n",
    "- demand: aggregated demand normalised to be in the range [0,1]\n",
    "    \n",
    "## Problem Statements:\n",
    "- Which areas have high / low traffic demand?\n",
    "- How does regional traffic demand change according to day / time?\n",
    "- Forecast the travel demand for next 15min / 1hour and predict areas with high travel demand"
   ]
  },
  {
   "cell_type": "markdown",
   "metadata": {},
   "source": [
    "### This is train LSTM model "
   ]
  },
  {
   "cell_type": "markdown",
   "metadata": {},
   "source": [
    "#### Import python library"
   ]
  },
  {
   "cell_type": "code",
   "execution_count": 1,
   "metadata": {},
   "outputs": [],
   "source": [
    "import numpy as np\n",
    "from numpy import array\n",
    "import pandas as pd\n",
    "import matplotlib.pyplot as plt\n",
    "\n",
    "# plot matplotlib graph\n",
    "%matplotlib inline\n",
    "\n",
    "#Import models from scikit learn module:\n",
    "from sklearn.metrics import mean_squared_error\n",
    "from tensorflow.keras.models import Sequential, load_model\n",
    "from tensorflow.keras.layers import Dense, Flatten, LSTM, BatchNormalization, Bidirectional\n",
    "from tensorflow.keras import regularizers\n",
    "from sklearn.model_selection import train_test_split\n",
    "\n",
    "import h5py\n",
    "import sklearn.metrics as metrics\n",
    "from tensorflow.keras.callbacks import ModelCheckpoint,CSVLogger\n",
    "from tensorflow.keras.models import Model\n",
    "from tensorflow.keras.layers import Input\n",
    "from tensorflow.keras.layers import LSTM\n",
    "from tensorflow.keras.utils import plot_model \n",
    "\n",
    "import pickle\n",
    "import joblib\n"
   ]
  },
  {
   "cell_type": "code",
   "execution_count": 2,
   "metadata": {},
   "outputs": [],
   "source": [
    "import os \n",
    "os.environ[\"CUDA_VISIBLE_DEVICES\"]=\"0\""
   ]
  },
  {
   "cell_type": "markdown",
   "metadata": {},
   "source": [
    "### Define Variables"
   ]
  },
  {
   "cell_type": "code",
   "execution_count": 2,
   "metadata": {},
   "outputs": [],
   "source": [
    "seed = 7\n",
    "np.random.seed(seed)\n",
    "modelname   = 'Bi-LSTM2-3in2out'\n",
    "batch_size  = 8192\n",
    "no_of_epoch = 20\n",
    "no_of_train = 0.8\n",
    "\n",
    "# choose a number of time steps\n",
    "n_steps_in, predict_next_no_of_output = 3, 2"
   ]
  },
  {
   "cell_type": "markdown",
   "metadata": {},
   "source": [
    "### Define Function"
   ]
  },
  {
   "cell_type": "code",
   "execution_count": 106,
   "metadata": {},
   "outputs": [],
   "source": [
    "def createModel(): \n",
    "    inputs  = Input(shape=(X_train.shape[1],X_train.shape[2]))\n",
    "    y = Bidirectional(LSTM(units=128, return_sequences=True, dropout=0.2, recurrent_dropout=0.2))(inputs)\n",
    "    y = BatchNormalization()(y)\n",
    "    y = Bidirectional(LSTM(units=256, return_sequences=True, dropout=0.3, recurrent_dropout=0.3))(y)\n",
    "    y = BatchNormalization()(y)\n",
    "    y = Bidirectional(LSTM(units=256, return_sequences=True, dropout=0.4, recurrent_dropout=0.4))(y)\n",
    "    y = BatchNormalization()(y)\n",
    "    y = Bidirectional(LSTM(units=128, dropout=0.5, recurrent_dropout=0.5))(y)\n",
    "    y = BatchNormalization()(y)\n",
    "    y = Dense(predict_next_no_of_output, activation='sigmoid')(y)\n",
    "  \n",
    "    model = Model(inputs=inputs,outputs=y)\n",
    "    model.compile(loss='mse',optimizer='adam', metrics=['mse', 'mae'])\n",
    "    return model\n",
    "\n",
    "# split a multivariate sequence into samples\n",
    "def split_sequences(sequences, n_steps_in, n_steps_out):\n",
    "    X, y = list(), list()\n",
    "    for i in range(len(sequences)):\n",
    "        # find the end of this pattern\n",
    "        end_ix = i + n_steps_in\n",
    "        out_end_ix = end_ix + n_steps_out-1\n",
    "        # check if we are beyond the dataset\n",
    "        if out_end_ix > len(sequences):\n",
    "            break\n",
    "        # gather input and output parts of the pattern\n",
    "        seq_x, seq_y = sequences[i:end_ix, :-1], sequences[end_ix-1:out_end_ix, -1]\n",
    "        X.append(seq_x)\n",
    "        y.append(seq_y)\n",
    "    return array(X), array(y)"
   ]
  },
  {
   "cell_type": "markdown",
   "metadata": {},
   "source": [
    "#### Reading from Preprocessed"
   ]
  },
  {
   "cell_type": "code",
   "execution_count": 6,
   "metadata": {},
   "outputs": [],
   "source": [
    "xls  = pd.ExcelFile('data/Dataset_feature.xlsx')\n",
    "data = pd.read_excel(xls, 'TrafficMgmt')"
   ]
  },
  {
   "cell_type": "code",
   "execution_count": 7,
   "metadata": {},
   "outputs": [],
   "source": [
    "predictor_var = ['day', 'hour', 'min', 'dow', 'lat', 'long']\n",
    "outcome_var   = 'demand'"
   ]
  },
  {
   "cell_type": "markdown",
   "metadata": {},
   "source": [
    "#### Prepare training & test data\n",
    "- Since this is a time series dataset, we can try using LSTM "
   ]
  },
  {
   "cell_type": "code",
   "execution_count": 8,
   "metadata": {},
   "outputs": [],
   "source": [
    "dataset = data.to_numpy()"
   ]
  },
  {
   "cell_type": "code",
   "execution_count": 9,
   "metadata": {},
   "outputs": [
    {
     "name": "stdout",
     "output_type": "stream",
     "text": [
      "(1048572, 3, 6) (1048572, 2)\n"
     ]
    }
   ],
   "source": [
    "# covert into input/output\n",
    "X, y = split_sequences(dataset, n_steps_in, predict_next_no_of_output)\n",
    "print(X.shape, y.shape)"
   ]
  },
  {
   "cell_type": "markdown",
   "metadata": {},
   "source": [
    "#### Train-test-val dataset split"
   ]
  },
  {
   "cell_type": "code",
   "execution_count": 10,
   "metadata": {},
   "outputs": [],
   "source": [
    "X_train1 = X[:int(no_of_train*len(X))]\n",
    "y_train1 = y[:int(no_of_train*len(X))]\n",
    "X_test  = X[int(no_of_train*len(X)):]\n",
    "y_test  = y[int(no_of_train*len(X)):]\n",
    "\n",
    "X_train = X_train1[:int(no_of_train*len(X_train1))]\n",
    "y_train = y_train1[:int(no_of_train*len(X_train1))]\n",
    "X_val   = X_train1[int(no_of_train*len(X_train1)):]\n",
    "y_val   = y_train1[int(no_of_train*len(X_train1)):]"
   ]
  },
  {
   "cell_type": "code",
   "execution_count": 11,
   "metadata": {},
   "outputs": [
    {
     "name": "stdout",
     "output_type": "stream",
     "text": [
      "(671085, 3, 6) (671085, 2) (209715, 3, 6) (209715, 2) (167772, 3, 6) (167772, 2)\n"
     ]
    }
   ],
   "source": [
    "print(X_train.shape, y_train.shape,X_test.shape, y_test.shape,X_val.shape, y_val.shape)"
   ]
  },
  {
   "cell_type": "markdown",
   "metadata": {},
   "source": [
    "<h2><center>Create Model and test</center><h2>"
   ]
  },
  {
   "cell_type": "markdown",
   "metadata": {},
   "source": [
    "<h3>LSTM<h3>"
   ]
  },
  {
   "cell_type": "code",
   "execution_count": 107,
   "metadata": {},
   "outputs": [
    {
     "name": "stdout",
     "output_type": "stream",
     "text": [
      "Model: \"model_6\"\n",
      "_________________________________________________________________\n",
      "Layer (type)                 Output Shape              Param #   \n",
      "=================================================================\n",
      "input_7 (InputLayer)         [(None, 3, 6)]            0         \n",
      "_________________________________________________________________\n",
      "bidirectional_15 (Bidirectio (None, 3, 256)            138240    \n",
      "_________________________________________________________________\n",
      "batch_normalization_13 (Batc (None, 3, 256)            1024      \n",
      "_________________________________________________________________\n",
      "bidirectional_16 (Bidirectio (None, 3, 512)            1050624   \n",
      "_________________________________________________________________\n",
      "batch_normalization_14 (Batc (None, 3, 512)            2048      \n",
      "_________________________________________________________________\n",
      "bidirectional_17 (Bidirectio (None, 3, 512)            1574912   \n",
      "_________________________________________________________________\n",
      "batch_normalization_15 (Batc (None, 3, 512)            2048      \n",
      "_________________________________________________________________\n",
      "bidirectional_18 (Bidirectio (None, 256)               656384    \n",
      "_________________________________________________________________\n",
      "batch_normalization_16 (Batc (None, 256)               1024      \n",
      "_________________________________________________________________\n",
      "dense_6 (Dense)              (None, 2)                 514       \n",
      "=================================================================\n",
      "Total params: 3,426,818\n",
      "Trainable params: 3,423,746\n",
      "Non-trainable params: 3,072\n",
      "_________________________________________________________________\n"
     ]
    }
   ],
   "source": [
    "model = createModel()\n",
    "model.summary()"
   ]
  },
  {
   "cell_type": "code",
   "execution_count": 108,
   "metadata": {},
   "outputs": [],
   "source": [
    "model.compile(loss='mse',optimizer='adam', metrics=['mse', 'mae'])"
   ]
  },
  {
   "cell_type": "code",
   "execution_count": 109,
   "metadata": {},
   "outputs": [],
   "source": [
    "# Create checkpoints to save model during training and save training data into csv\n",
    "# ‘monitor’ can be ‘val_acc’ or ‘val_loss’\n",
    "# When set to ‘val_acc’, ‘mode’ must be ‘max’; when set to ‘val_loss’, ‘mode’ must be ‘min’\n",
    "\n",
    "filepath       = modelname + \".hdf5\"\n",
    "checkpoint     = ModelCheckpoint(filepath, monitor='val_loss',verbose=0,save_best_only=True,mode='min') \n",
    "csv_logger     = CSVLogger(modelname + '.csv')\n",
    "callbacks_list = [checkpoint,csv_logger]"
   ]
  },
  {
   "cell_type": "code",
   "execution_count": 110,
   "metadata": {},
   "outputs": [
    {
     "name": "stdout",
     "output_type": "stream",
     "text": [
      "Train on 671085 samples, validate on 167772 samples\n",
      "Epoch 1/20\n",
      "671085/671085 [==============================] - 39s 58us/sample - loss: 0.1156 - mse: 0.1156 - mae: 0.2826 - val_loss: 0.0268 - val_mse: 0.0268 - val_mae: 0.1180\n",
      "Epoch 2/20\n",
      "671085/671085 [==============================] - 23s 34us/sample - loss: 0.0280 - mse: 0.0280 - mae: 0.1050 - val_loss: 0.0255 - val_mse: 0.0255 - val_mae: 0.0897\n",
      "Epoch 3/20\n",
      "671085/671085 [==============================] - 23s 34us/sample - loss: 0.0261 - mse: 0.0261 - mae: 0.0962 - val_loss: 0.0255 - val_mse: 0.0255 - val_mae: 0.0905\n",
      "Epoch 4/20\n",
      "671085/671085 [==============================] - 23s 34us/sample - loss: 0.0257 - mse: 0.0257 - mae: 0.0967 - val_loss: 0.0254 - val_mse: 0.0254 - val_mae: 0.0917\n",
      "Epoch 5/20\n",
      "671085/671085 [==============================] - 23s 34us/sample - loss: 0.0256 - mse: 0.0256 - mae: 0.0969 - val_loss: 0.0252 - val_mse: 0.0252 - val_mae: 0.0945\n",
      "Epoch 6/20\n",
      "671085/671085 [==============================] - 23s 35us/sample - loss: 0.0255 - mse: 0.0255 - mae: 0.0970 - val_loss: 0.0251 - val_mse: 0.0251 - val_mae: 0.0970\n",
      "Epoch 7/20\n",
      "671085/671085 [==============================] - 23s 35us/sample - loss: 0.0254 - mse: 0.0254 - mae: 0.0969 - val_loss: 0.0251 - val_mse: 0.0251 - val_mae: 0.0977\n",
      "Epoch 8/20\n",
      "671085/671085 [==============================] - 23s 34us/sample - loss: 0.0253 - mse: 0.0253 - mae: 0.0969 - val_loss: 0.0252 - val_mse: 0.0252 - val_mae: 0.1022\n",
      "Epoch 9/20\n",
      "671085/671085 [==============================] - 23s 34us/sample - loss: 0.0252 - mse: 0.0252 - mae: 0.0968 - val_loss: 0.0251 - val_mse: 0.0251 - val_mae: 0.1008\n",
      "Epoch 10/20\n",
      "671085/671085 [==============================] - 23s 34us/sample - loss: 0.0252 - mse: 0.0252 - mae: 0.0967 - val_loss: 0.0251 - val_mse: 0.0251 - val_mae: 0.1010\n",
      "Epoch 11/20\n",
      "671085/671085 [==============================] - 23s 35us/sample - loss: 0.0251 - mse: 0.0251 - mae: 0.0965 - val_loss: 0.0250 - val_mse: 0.0250 - val_mae: 0.0990\n",
      "Epoch 12/20\n",
      "671085/671085 [==============================] - 23s 34us/sample - loss: 0.0249 - mse: 0.0249 - mae: 0.0960 - val_loss: 0.0250 - val_mse: 0.0250 - val_mae: 0.0973\n",
      "Epoch 13/20\n",
      "671085/671085 [==============================] - 23s 35us/sample - loss: 0.0247 - mse: 0.0247 - mae: 0.0954 - val_loss: 0.0250 - val_mse: 0.0250 - val_mae: 0.0976\n",
      "Epoch 14/20\n",
      "671085/671085 [==============================] - 23s 35us/sample - loss: 0.0245 - mse: 0.0245 - mae: 0.0949 - val_loss: 0.0252 - val_mse: 0.0252 - val_mae: 0.1004\n",
      "Epoch 15/20\n",
      "671085/671085 [==============================] - 23s 35us/sample - loss: 0.0243 - mse: 0.0243 - mae: 0.0944 - val_loss: 0.0252 - val_mse: 0.0252 - val_mae: 0.0992\n",
      "Epoch 16/20\n",
      "671085/671085 [==============================] - 23s 35us/sample - loss: 0.0241 - mse: 0.0241 - mae: 0.0941 - val_loss: 0.0254 - val_mse: 0.0254 - val_mae: 0.0992\n",
      "Epoch 17/20\n",
      "671085/671085 [==============================] - 23s 35us/sample - loss: 0.0239 - mse: 0.0239 - mae: 0.0937 - val_loss: 0.0253 - val_mse: 0.0253 - val_mae: 0.0988\n",
      "Epoch 18/20\n",
      "671085/671085 [==============================] - 23s 35us/sample - loss: 0.0237 - mse: 0.0237 - mae: 0.0932 - val_loss: 0.0255 - val_mse: 0.0255 - val_mae: 0.0980\n",
      "Epoch 19/20\n",
      "671085/671085 [==============================] - 23s 35us/sample - loss: 0.0234 - mse: 0.0234 - mae: 0.0925 - val_loss: 0.0254 - val_mse: 0.0254 - val_mae: 0.0961\n",
      "Epoch 20/20\n",
      "671085/671085 [==============================] - 24s 35us/sample - loss: 0.0231 - mse: 0.0231 - mae: 0.0919 - val_loss: 0.0260 - val_mse: 0.0260 - val_mae: 0.0982\n"
     ]
    }
   ],
   "source": [
    "# The line for training\n",
    "hisgtory = model.fit(X_train, \n",
    "                     y_train, \n",
    "                     validation_data=(X_val, y_val), \n",
    "                     epochs=no_of_epoch, \n",
    "                     batch_size=batch_size,\n",
    "                     shuffle=False,\n",
    "                     callbacks=callbacks_list) "
   ]
  },
  {
   "cell_type": "markdown",
   "metadata": {},
   "source": [
    "### Test dataset test result"
   ]
  },
  {
   "cell_type": "code",
   "execution_count": 112,
   "metadata": {},
   "outputs": [
    {
     "name": "stdout",
     "output_type": "stream",
     "text": [
      "0.026118055723552552\n"
     ]
    }
   ],
   "source": [
    "predicted_value = model.predict(X_test)\n",
    "print(mean_squared_error(y_test,predicted_value))"
   ]
  },
  {
   "cell_type": "code",
   "execution_count": 3,
   "metadata": {},
   "outputs": [
    {
     "data": {
      "image/png": "[encoded data removed]",
      "text/plain": [
       "<Figure size 1080x720 with 1 Axes>"
      ]
     },
     "metadata": {
      "needs_background": "light"
     },
     "output_type": "display_data"
    }
   ],
   "source": [
    "records     = pd.read_csv(modelname +'.csv')\n",
    "plt.figure(figsize=(15,10))\n",
    "\n",
    "ax          = plt.gca()\n",
    "ax.set_xticklabels([])\n",
    "\n",
    "plt.plot(records['val_mae'],label=\"val_mae\")\n",
    "plt.plot(records['val_loss'],label=\"val_loss\")\n",
    "plt.plot(records['loss'],label=\"loss\")\n",
    "plt.title('MAE',fontsize=12)\n",
    "plt.legend(loc=\"upper left\",fontsize=15)\n",
    "\n",
    "plt.show()\n",
    "\n"
   ]
  },
  {
   "cell_type": "markdown",
   "metadata": {},
   "source": [
    "### Load save LSTM model"
   ]
  },
  {
   "cell_type": "code",
   "execution_count": 114,
   "metadata": {},
   "outputs": [],
   "source": [
    "# Load your own trained model\n",
    "model = load_model(filepath, compile = False)"
   ]
  },
  {
   "cell_type": "markdown",
   "metadata": {},
   "source": [
    "### Sample Testing "
   ]
  },
  {
   "cell_type": "code",
   "execution_count": 115,
   "metadata": {},
   "outputs": [],
   "source": [
    "scaler_filename = \"grab_msft_scaler.save\"\n",
    "scaler          = joblib.load(scaler_filename) "
   ]
  },
  {
   "cell_type": "markdown",
   "metadata": {},
   "source": [
    "#### First set of testdata"
   ]
  },
  {
   "cell_type": "code",
   "execution_count": 116,
   "metadata": {},
   "outputs": [],
   "source": [
    "xls  = pd.ExcelFile('data/test_sample_sorted_8000.xlsx')\n",
    "test_sample = pd.read_excel(xls, 'TrafficMgmt')\n",
    "\n",
    "# Apply Standardscalar to sample test data\n",
    "test_sample[predictor_var] = scaler.fit_transform(test_sample[predictor_var])"
   ]
  },
  {
   "cell_type": "code",
   "execution_count": 117,
   "metadata": {},
   "outputs": [
    {
     "name": "stdout",
     "output_type": "stream",
     "text": [
      "(18, 3, 6) (18, 2)\n"
     ]
    }
   ],
   "source": [
    "# covert into input/output\n",
    "test_sample_array = test_sample.to_numpy()\n",
    "X_sample, y_sample = split_sequences(test_sample_array, n_steps_in, predict_next_no_of_output)\n",
    "print(X_sample.shape, y_sample.shape)"
   ]
  },
  {
   "cell_type": "code",
   "execution_count": 118,
   "metadata": {},
   "outputs": [
    {
     "name": "stdout",
     "output_type": "stream",
     "text": [
      "Predicted value : [[0.09827931 0.09735668]\n",
      " [0.11135075 0.10634144]\n",
      " [0.11818533 0.10657392]\n",
      " [0.11263762 0.09812218]\n",
      " [0.11516893 0.1022993 ]\n",
      " [0.12103716 0.10077855]\n",
      " [0.12042014 0.09737506]\n",
      " [0.13012351 0.10322507]\n",
      " [0.13923311 0.10609739]\n",
      " [0.14041808 0.1028425 ]\n",
      " [0.10392541 0.09623118]\n",
      " [0.06879215 0.10313424]\n",
      " [0.14727296 0.09753627]\n",
      " [0.09970151 0.09383249]\n",
      " [0.11066755 0.09986254]\n",
      " [0.10465256 0.10008479]\n",
      " [0.10170099 0.09940694]\n",
      " [0.10051353 0.10723869]] \n",
      " Actual Value    : [[0.30144827 0.01222179]\n",
      " [0.01222179 0.3412908 ]\n",
      " [0.3412908  0.36364563]\n",
      " [0.36364563 0.00339634]\n",
      " [0.00339634 0.17591761]\n",
      " [0.17591761 0.22734446]\n",
      " [0.22734446 0.03213684]\n",
      " [0.03213684 0.0148439 ]\n",
      " [0.0148439  0.10047717]\n",
      " [0.10047717 0.21478451]\n",
      " [0.21478451 0.00904605]\n",
      " [0.00904605 0.03513281]\n",
      " [0.03513281 0.00620095]\n",
      " [0.00620095 0.03977563]\n",
      " [0.03977563 0.03086107]\n",
      " [0.03086107 0.02183922]\n",
      " [0.02183922 0.01137701]\n",
      " [0.01137701 0.17868729]]\n"
     ]
    }
   ],
   "source": [
    "predicted_value = model.predict(X_sample)\n",
    "print('Predicted value : {} \\n Actual Value    : {}' .format(predicted_value,y_sample))"
   ]
  },
  {
   "cell_type": "code",
   "execution_count": 119,
   "metadata": {},
   "outputs": [
    {
     "name": "stdout",
     "output_type": "stream",
     "text": [
      "0.014174096083440973\n"
     ]
    }
   ],
   "source": [
    "print(mean_squared_error(y_sample,predicted_value))"
   ]
  },
  {
   "cell_type": "markdown",
   "metadata": {},
   "source": [
    "### single sample test"
   ]
  },
  {
   "cell_type": "code",
   "execution_count": 120,
   "metadata": {},
   "outputs": [],
   "source": [
    "# Data input sequence format :\n",
    "test_data1  = [[18,20, 0, 4, -5.353088, 90.653687],\n",
    "               [10,14,30, 3, -5.413513, 90.664673],\n",
    "               [ 9, 6,15, 2, -5.325623, 90.906372]]\n",
    "test_data2  = [[32, 5, 0, 4, -5.353088, 90.752563],\n",
    "               [15, 4, 0, 1, -5.413513, 90.719604],\n",
    "               [ 1,12,15, 1, -5.336609, 90.609741]]\n",
    "test_data3  = [[25, 3,30, 4, -5.391541, 90.818481],\n",
    "               [51,20,45, 2, -5.408020, 90.631714],\n",
    "               [48, 6,15, 6, -5.364075, 90.763550]]\n",
    "test_data4  = [[ 4,22,15, 4, -5.402527, 90.675659],\n",
    "               [45, 9,15, 3, -5.402527, 90.917358],\n",
    "               [52,11,45, 3, -5.364075, 90.664673]]\n",
    "test_data5  = [[46,12,15, 4, -5.353088, 90.642700],\n",
    "               [34,14,45, 6, -5.375061, 90.807495],\n",
    "               [40, 2,30, 5, -5.424500, 90.785522]]\n",
    "test_data6  = [[14,14,45, 0, -5.391541, 90.598755],\n",
    "               [27, 3,30, 6, -5.320129, 90.785522],\n",
    "               [ 6,23,45, 6, -5.358582, 90.752563]]\n",
    "test_data7  = [[48,11,30, 6, -5.391541, 90.609741],\n",
    "                [17,23,45, 3, -5.292664, 90.829468],\n",
    "                [56,10, 0, 0, -5.413513, 90.774536]]\n",
    "\n",
    "test_target1 = [[0.102821],[0.088755]]\n",
    "test_target2 = [[0.023843],[0.007460]]\n",
    "test_target3 = [[0.054170],[0.123463]]\n",
    "test_target4 = [[0.359406],[0.514136]]\n",
    "test_target5 = [[0.026409],[0.013998]]\n",
    "test_target6 = [[0.029400],[0.057255]]\n",
    "test_target7 = [[0.008772],[0.119240]]"
   ]
  },
  {
   "cell_type": "code",
   "execution_count": 121,
   "metadata": {},
   "outputs": [
    {
     "name": "stdout",
     "output_type": "stream",
     "text": [
      "Predicted value : [[0.03967184 0.10444435]]\n",
      "Actual Value    : [[0.102821], [0.088755]]\n"
     ]
    }
   ],
   "source": [
    "Data_scaled = scaler.transform(test_data1)\n",
    "Data_scaled = Data_scaled.reshape(1,n_steps_in,6)\n",
    "predicted_value = model.predict(Data_scaled)\n",
    "print('Predicted value : {}\\nActual Value    : {}' .format(predicted_value,test_target1))"
   ]
  },
  {
   "cell_type": "code",
   "execution_count": 122,
   "metadata": {},
   "outputs": [
    {
     "name": "stdout",
     "output_type": "stream",
     "text": [
      "Predicted value : [[0.04256883 0.0999309 ]]\n",
      "Actual Value    : [[0.023843], [0.00746]]\n"
     ]
    }
   ],
   "source": [
    "Data_scaled = scaler.transform(test_data2)\n",
    "Data_scaled = Data_scaled.reshape(1,n_steps_in,6)\n",
    "predicted_value = model.predict(Data_scaled)\n",
    "print('Predicted value : {}\\nActual Value    : {}' .format(predicted_value,test_target2))"
   ]
  },
  {
   "cell_type": "code",
   "execution_count": 123,
   "metadata": {},
   "outputs": [
    {
     "name": "stdout",
     "output_type": "stream",
     "text": [
      "Predicted value : [[0.03776584 0.10767212]]\n",
      "Actual Value    : [[0.05417], [0.123463]]\n"
     ]
    }
   ],
   "source": [
    "Data_scaled = scaler.transform(test_data3)\n",
    "Data_scaled = Data_scaled.reshape(1,n_steps_in,6)\n",
    "predicted_value = model.predict(Data_scaled)\n",
    "print('Predicted value : {}\\nActual Value    : {}' .format(predicted_value,test_target3))"
   ]
  },
  {
   "cell_type": "code",
   "execution_count": 124,
   "metadata": {},
   "outputs": [
    {
     "name": "stdout",
     "output_type": "stream",
     "text": [
      "Predicted value : [[0.03629833 0.10052735]]\n",
      "Actual Value    : [[0.359406], [0.514136]]\n"
     ]
    }
   ],
   "source": [
    "Data_scaled = scaler.transform(test_data4)\n",
    "Data_scaled = Data_scaled.reshape(1,n_steps_in,6)\n",
    "predicted_value = model.predict(Data_scaled)\n",
    "print('Predicted value : {}\\nActual Value    : {}' .format(predicted_value,test_target4))"
   ]
  },
  {
   "cell_type": "code",
   "execution_count": 125,
   "metadata": {},
   "outputs": [
    {
     "name": "stdout",
     "output_type": "stream",
     "text": [
      "Predicted value : [[0.04020238 0.10803305]]\n",
      "Actual Value    : [[0.026409], [0.013998]]\n"
     ]
    }
   ],
   "source": [
    "Data_scaled = scaler.transform(test_data5)\n",
    "Data_scaled = Data_scaled.reshape(1,n_steps_in,6)\n",
    "predicted_value = model.predict(Data_scaled)\n",
    "print('Predicted value : {}\\nActual Value    : {}' .format(predicted_value,test_target5))"
   ]
  },
  {
   "cell_type": "code",
   "execution_count": 126,
   "metadata": {},
   "outputs": [
    {
     "name": "stdout",
     "output_type": "stream",
     "text": [
      "Predicted value : [[0.05625914 0.11004811]]\n",
      "Actual Value    : [[0.0294], [0.057255]]\n"
     ]
    }
   ],
   "source": [
    "Data_scaled = scaler.transform(test_data6)\n",
    "Data_scaled = Data_scaled.reshape(1,n_steps_in,6)\n",
    "predicted_value = model.predict(Data_scaled)\n",
    "print('Predicted value : {}\\nActual Value    : {}' .format(predicted_value,test_target6))"
   ]
  },
  {
   "cell_type": "code",
   "execution_count": 127,
   "metadata": {},
   "outputs": [
    {
     "name": "stdout",
     "output_type": "stream",
     "text": [
      "Predicted value : [[0.03915436 0.10218645]]\n",
      "Actual Value    : [[0.008772], [0.11924]]\n"
     ]
    }
   ],
   "source": [
    "Data_scaled = scaler.transform(test_data7)\n",
    "Data_scaled = Data_scaled.reshape(1,n_steps_in,6)\n",
    "predicted_value = model.predict(Data_scaled)\n",
    "print('Predicted value : {}\\nActual Value    : {}' .format(predicted_value,test_target7))"
   ]
  }
 ],
 "metadata": {
  "kernelspec": {
   "display_name": "Python 3",
   "language": "python",
   "name": "python3"
  },
  "language_info": {
   "codemirror_mode": {
    "name": "ipython",
    "version": 3
   },
   "file_extension": ".py",
   "mimetype": "text/x-python",
   "name": "python",
   "nbconvert_exporter": "python",
   "pygments_lexer": "ipython3",
   "version": "3.6.10"
  }
 },
 "nbformat": 4,
 "nbformat_minor": 4
}
