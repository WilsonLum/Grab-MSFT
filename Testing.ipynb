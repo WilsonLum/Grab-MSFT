{
  "cells": [
    {
      "metadata": {
        "trusted": true
      },
      "cell_type": "code",
      "source": "print(\"hello world\")",
      "execution_count": 1,
      "outputs": [
        {
          "output_type": "stream",
          "text": "hello world\n",
          "name": "stdout"
        }
      ]
    },
    {
      "metadata": {
        "trusted": true
      },
      "cell_type": "code",
      "source": "!type -a python",
      "execution_count": 2,
      "outputs": [
        {
          "output_type": "stream",
          "text": "-a: not found\r\npython is /home/nbuser/anaconda3_501/bin/python\r\n",
          "name": "stdout"
        }
      ]
    },
    {
      "metadata": {
        "trusted": true
      },
      "cell_type": "code",
      "source": "import numpy\nnumpy.__path__",
      "execution_count": 3,
      "outputs": [
        {
          "output_type": "execute_result",
          "execution_count": 3,
          "data": {
            "text/plain": "['/home/nbuser/anaconda3_501/lib/python3.6/site-packages/numpy']"
          },
          "metadata": {}
        }
      ]
    },
    {
      "metadata": {
        "trusted": true
      },
      "cell_type": "code",
      "source": "paths = !type -a python\nfor path in set(paths):\n    path = path.split()[-1]\n    print(path)\n    !{path} -c \"import sys; print(sys.path)\"\n    print()",
      "execution_count": 4,
      "outputs": [
        {
          "output_type": "stream",
          "text": "/usr/bin/python\n['', '/home/nbuser/library', '/usr/lib/python2.7', '/usr/lib/python2.7/plat-x86_64-linux-gnu', '/usr/lib/python2.7/lib-tk', '/usr/lib/python2.7/lib-old', '/usr/lib/python2.7/lib-dynload', '/home/nbuser/.local/lib/python2.7/site-packages', '/usr/local/lib/python2.7/dist-packages', '/usr/lib/python2.7/dist-packages']\n\n/home/nbuser/anaconda3_501/bin/python\n['', '/home/nbuser/library', '/home/nbuser/anaconda3_501/lib/python36.zip', '/home/nbuser/anaconda3_501/lib/python3.6', '/home/nbuser/anaconda3_501/lib/python3.6/lib-dynload', '/home/nbuser/.local/lib/python3.6/site-packages', '/home/nbuser/anaconda3_501/lib/python3.6/site-packages']\n\n",
          "name": "stdout"
        }
      ]
    },
    {
      "metadata": {
        "trusted": true
      },
      "cell_type": "code",
      "source": "!conda env list",
      "execution_count": 5,
      "outputs": [
        {
          "output_type": "stream",
          "text": "# conda environments:\r\n#\r\n                         /home/nbuser/anaconda2_501\r\nbase                  *  /home/nbuser/anaconda3_501\r\n\r\n",
          "name": "stdout"
        }
      ]
    },
    {
      "metadata": {
        "trusted": true
      },
      "cell_type": "code",
      "source": "!jupyter kernelspec list",
      "execution_count": 6,
      "outputs": [
        {
          "output_type": "stream",
          "text": "Available kernels:\r\n  ifsharp     /home/nbuser/.local/share/jupyter/kernels/ifsharp\r\n  python2     /home/nbuser/.local/share/jupyter/kernels/python2\r\n  python3     /home/nbuser/.local/share/jupyter/kernels/python3\r\n  python36    /home/nbuser/.local/share/jupyter/kernels/python36\r\n  r           /home/nbuser/.local/share/jupyter/kernels/r\r\n",
          "name": "stdout"
        }
      ]
    },
    {
      "metadata": {
        "trusted": true
      },
      "cell_type": "code",
      "source": "!type python",
      "execution_count": 7,
      "outputs": [
        {
          "output_type": "stream",
          "text": "python is /home/nbuser/anaconda3_501/bin/python\r\n",
          "name": "stdout"
        }
      ]
    },
    {
      "metadata": {
        "trusted": true
      },
      "cell_type": "code",
      "source": "import sys\nsys.executable",
      "execution_count": 9,
      "outputs": [
        {
          "output_type": "execute_result",
          "execution_count": 9,
          "data": {
            "text/plain": "'/home/nbuser/anaconda3_501/bin/python'"
          },
          "metadata": {}
        }
      ]
    },
    {
      "metadata": {
        "trusted": true
      },
      "cell_type": "code",
      "source": "",
      "execution_count": null,
      "outputs": []
    }
  ],
  "metadata": {
    "kernelspec": {
      "name": "python36",
      "display_name": "Python 3.6",
      "language": "python"
    },
    "language_info": {
      "mimetype": "text/x-python",
      "nbconvert_exporter": "python",
      "name": "python",
      "pygments_lexer": "ipython3",
      "version": "3.6.6",
      "file_extension": ".py",
      "codemirror_mode": {
        "version": 3,
        "name": "ipython"
      }
    }
  },
  "nbformat": 4,
  "nbformat_minor": 2
}